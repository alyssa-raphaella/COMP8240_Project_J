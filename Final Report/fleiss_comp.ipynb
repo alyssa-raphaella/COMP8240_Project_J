{
 "cells": [
  {
   "cell_type": "code",
   "execution_count": 3,
   "metadata": {},
   "outputs": [],
   "source": [
    "import pandas as pd\n",
    "import numpy as np\n",
    "\n",
    "from statsmodels.stats.inter_rater import fleiss_kappa"
   ]
  },
  {
   "cell_type": "code",
   "execution_count": 24,
   "metadata": {},
   "outputs": [
    {
     "name": "stderr",
     "output_type": "stream",
     "text": [
      "/Users/jan/anaconda3/lib/python3.7/site-packages/ipykernel_launcher.py:5: SettingWithCopyWarning: \n",
      "A value is trying to be set on a copy of a slice from a DataFrame.\n",
      "Try using .loc[row_indexer,col_indexer] = value instead\n",
      "\n",
      "See the caveats in the documentation: http://pandas.pydata.org/pandas-docs/stable/indexing.html#indexing-view-versus-copy\n",
      "  \"\"\"\n",
      "/Users/jan/anaconda3/lib/python3.7/site-packages/ipykernel_launcher.py:6: SettingWithCopyWarning: \n",
      "A value is trying to be set on a copy of a slice from a DataFrame.\n",
      "Try using .loc[row_indexer,col_indexer] = value instead\n",
      "\n",
      "See the caveats in the documentation: http://pandas.pydata.org/pandas-docs/stable/indexing.html#indexing-view-versus-copy\n",
      "  \n",
      "/Users/jan/anaconda3/lib/python3.7/site-packages/ipykernel_launcher.py:7: SettingWithCopyWarning: \n",
      "A value is trying to be set on a copy of a slice from a DataFrame.\n",
      "Try using .loc[row_indexer,col_indexer] = value instead\n",
      "\n",
      "See the caveats in the documentation: http://pandas.pydata.org/pandas-docs/stable/indexing.html#indexing-view-versus-copy\n",
      "  import sys\n",
      "/Users/jan/anaconda3/lib/python3.7/site-packages/ipykernel_launcher.py:8: SettingWithCopyWarning: \n",
      "A value is trying to be set on a copy of a slice from a DataFrame.\n",
      "Try using .loc[row_indexer,col_indexer] = value instead\n",
      "\n",
      "See the caveats in the documentation: http://pandas.pydata.org/pandas-docs/stable/indexing.html#indexing-view-versus-copy\n",
      "  \n",
      "/Users/jan/anaconda3/lib/python3.7/site-packages/ipykernel_launcher.py:9: SettingWithCopyWarning: \n",
      "A value is trying to be set on a copy of a slice from a DataFrame.\n",
      "Try using .loc[row_indexer,col_indexer] = value instead\n",
      "\n",
      "See the caveats in the documentation: http://pandas.pydata.org/pandas-docs/stable/indexing.html#indexing-view-versus-copy\n",
      "  if __name__ == '__main__':\n"
     ]
    }
   ],
   "source": [
    "df = pd.read_csv('processed_trans_label.csv', header=None)\n",
    "\n",
    "df_yt = df.dropna()\n",
    "\n",
    "df_yt['cat1'] = (df_yt.iloc[:,6:9]==-1).sum(axis=1)\n",
    "df_yt['cat2'] = (df_yt.iloc[:,6:9]==0).sum(axis=1)\n",
    "df_yt['cat3'] = (df_yt.iloc[:,6:9]==1).sum(axis=1)\n",
    "df_yt['cat4'] = (df_yt.iloc[:,6:9]==2).sum(axis=1)\n",
    "df_yt['cat5'] = (df_yt.iloc[:,6:9]==3).sum(axis=1)"
   ]
  },
  {
   "cell_type": "code",
   "execution_count": 25,
   "metadata": {},
   "outputs": [],
   "source": [
    "df_dy = df_yt[df_yt.iloc[:,0]=='DY'].reset_index(drop=True)\n",
    "df_ro = df_yt[df_yt.iloc[:,0]=='RO'].reset_index(drop=True)\n",
    "df_rp = df_yt[df_yt.iloc[:,0]=='RP'].reset_index(drop=True)"
   ]
  },
  {
   "cell_type": "code",
   "execution_count": 27,
   "metadata": {},
   "outputs": [
    {
     "name": "stdout",
     "output_type": "stream",
     "text": [
      "Dying Young Fleiss's Kappa: 0.39717425431711134\n",
      "Romantic Trailers Fleiss's Kappa: 0.44559221063157267\n",
      "RuPaul Fleiss's Kappa: 0.35940109415490945\n",
      "Overall Fleiss's Kappa: 0.43588984946671105\n"
     ]
    }
   ],
   "source": [
    "print('Dying Young Fleiss\\'s Kappa:',fleiss_kappa(df_dy.iloc[:,9:], method='fleiss'))\n",
    "print('Romantic Trailers Fleiss\\'s Kappa:',fleiss_kappa(df_ro.iloc[:,9:], method='fleiss'))\n",
    "print('RuPaul Fleiss\\'s Kappa:',fleiss_kappa(df_rp.iloc[:,9:], method='fleiss'))\n",
    "print('Overall Fleiss\\'s Kappa:',fleiss_kappa(df_yt.iloc[:,9:], method='fleiss'))"
   ]
  },
  {
   "cell_type": "code",
   "execution_count": null,
   "metadata": {},
   "outputs": [],
   "source": []
  }
 ],
 "metadata": {
  "kernelspec": {
   "display_name": "Python 3",
   "language": "python",
   "name": "python3"
  },
  "language_info": {
   "codemirror_mode": {
    "name": "ipython",
    "version": 3
   },
   "file_extension": ".py",
   "mimetype": "text/x-python",
   "name": "python",
   "nbconvert_exporter": "python",
   "pygments_lexer": "ipython3",
   "version": "3.7.3"
  }
 },
 "nbformat": 4,
 "nbformat_minor": 2
}
