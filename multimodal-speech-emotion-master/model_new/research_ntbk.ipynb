{
  "nbformat": 4,
  "nbformat_minor": 0,
  "metadata": {
    "colab": {
      "name": "research_ntbk.ipynb",
      "provenance": [],
      "collapsed_sections": []
    },
    "kernelspec": {
      "name": "python2",
      "display_name": "Python 2"
    }
  },
  "cells": [
    {
      "cell_type": "code",
      "metadata": {
        "id": "l10wCmUh5IN6",
        "outputId": "ab9f64e2-aecb-474a-e49a-065af8901cd1",
        "colab": {
          "base_uri": "https://localhost:8080/"
        }
      },
      "source": [
        "!pip install -q tensorflow==1.4"
      ],
      "execution_count": null,
      "outputs": [
        {
          "output_type": "stream",
          "text": [
            "\u001b[K     |████████████████████████████████| 40.8MB 97kB/s \n",
            "\u001b[K     |████████████████████████████████| 1.7MB 47.8MB/s \n",
            "\u001b[K     |████████████████████████████████| 890kB 42.8MB/s \n",
            "\u001b[?25h  Building wheel for html5lib (setup.py) ... \u001b[?25l\u001b[?25hdone\n",
            "\u001b[31mERROR: fastai 0.7.0 has requirement torch<0.4, but you'll have torch 1.4.0 which is incompatible.\u001b[0m\n"
          ],
          "name": "stdout"
        }
      ]
    },
    {
      "cell_type": "code",
      "metadata": {
        "id": "P8OWgzD6F5G-",
        "outputId": "c02a2690-847b-4c6d-c751-571c2d899000",
        "colab": {
          "base_uri": "https://localhost:8080/"
        }
      },
      "source": [
        "from google.colab import drive\n",
        "from google.colab import files\n",
        "import subprocess\n",
        "\n",
        "drive.mount('/content/gdrive', force_remount=True)\n",
        "root_path = 'gdrive/My Drive/Macquarie_University/Units/COMP8240_ApplicationsOfDataScience/PROJECT'\n",
        "model_path = root_path + '/model/'\n",
        "\n",
        "folder = [\"audio_woZ_set01\", \"audio_woZ_set02\", \"audio_woZ_set03\", \"audio_woZ_set04\", \"audio_woZ_set05\"]\n",
        "\n",
        "for path in folder:\n",
        "  data_path = root_path + '/processed/IEMOCAP/four_category/' + path + '/'\n",
        "\n",
        "  #!CUDA_VISIBLE_DEVICES=1 python \"$model_path/train_text.py\" --batch_size 128 --encoder_size 128 --num_layer 1 --hidden_dim 200 --lr=0.001 --num_train_steps 10000 --is_save 0 --dr 0.3 --use_glove 1 --graph_prefix 'SE_nlp' --data_path '$data_path'\n",
        "  #!CUDA_VISIBLE_DEVICES=1 python \"$model_path/train_audio.py\" --batch_size 128 --encoder_size 750 --num_layer 1 --hidden_dim 200 --lr=0.001 --num_train_steps 10000 --is_save 0 --dr 0.7 --graph_prefix '$path' --data_path '$data_path'\n",
        "  #!CUDA_VISIBLE_DEVICES=1 python \"$model_path/train_multi.py\" --batch_size 128 --lr=0.001 --encoder_size_audio 750 --num_layer_audio 1 --hidden_dim_audio 200 --dr_audio 0.7 --encoder_size_text 128 --num_layer_text 1 --hidden_dim_text 200 --dr_text 0.3 --num_train_steps 10000 --is_save 0  --use_glove 1 --graph_prefix 'SE_multi_$path' --data_path '$data_path'\n",
        "  !CUDA_VISIBLE_DEVICES=1 python \"$model_path/train_multi_attn.py\" --batch_size 128 --lr=0.001 --encoder_size_audio 750 --num_layer_audio 1 --hidden_dim_audio 200 --dr_audio 0.7 --encoder_size_text 128 --num_layer_text 1 --hidden_dim_text 200 --dr_text 0.3 --num_train_steps 10000 --is_save 0  --use_glove 1 --graph_prefix 'SE_multi_attn_prosody_$path' --data_path '$data_path'"
      ],
      "execution_count": null,
      "outputs": [
        {
          "output_type": "stream",
          "text": [
            "Mounted at /content/gdrive\n",
            "load data : train_audio_mfcc.npy train_seqN.npy train_audio_prosody.npy train_nlp_trans.npy train_label.npy\n",
            "[completed] load data\n",
            "load data : dev_audio_mfcc.npy dev_seqN.npy dev_audio_prosody.npy dev_nlp_trans.npy dev_label.npy\n",
            "[completed] load data\n",
            "load data : test_youtube/test_audio_mfcc.npy test_youtube/test_seqN.npy test_youtube/test_audio_prosody.npy test_youtube/test_nlp_trans.npy test_youtube/test_label.npy\n",
            "tcmalloc: large alloc 1294254080 bytes == 0x559983afa000 @  0x7f7d30ab81e7 0x7f7d2e566771 0x7f7d2e5d044f 0x7f7d2e5d0fee 0x7f7d2e669b00 0x55993c13eac8 0x55993c134e0a 0x55993c13c92e 0x55993c134e0a 0x55993c13c92e 0x55993c13c556 0x55993c134e0a 0x55993c1506a9 0x55993c168e1e 0x55993c12070e 0x55993c153e5f 0x55993c13c750 0x55993c134e0a 0x55993c13cf53 0x55993c134e0a 0x55993c134879 0x55993c164f5f 0x55993c160222 0x55993c15fc4d 0x55993c10ea86 0x7f7d306b5b97 0x55993c10e37a\n",
            "[completed] load data\n",
            "[launch-multi] create audio model\n",
            "[launch-audio] placeholders\n",
            "[launch-audio] create gru cell\n",
            "[launch-audio] add prosody feature, dim: 35\n",
            "[launch-multi] create text model\n",
            "[launch-text] placeholders\n",
            "[launch-text] create embedding\n",
            "[launch-text] use pre-trained embedding\n",
            "[launch-text] create gru cell\n",
            "[launch-multi] placeholders\n",
            "[launch-multi] create attention module\n",
            "[launch-multi] create output projection layer from (text_final_dim(==audio) + text_final_dim)\n",
            "[launch-multi] create optimizer\n",
            "[launch-multi] create summary\n",
            "[Info] Valid Freq = 11\n",
            "2020-11-02 14:49:44.458851: I tensorflow/core/platform/cpu_feature_guard.cc:137] Your CPU supports instructions that this TensorFlow binary was not compiled to use: SSE4.1 SSE4.2 AVX AVX2 FMA\n",
            "[completed] loading pre-trained embedding vector to placeholder\n",
            "2 mins step/seen/itr: 11/ 1408/0.32\tdev: 0.315  test: 0.355  loss: 4280.46\n",
            "4 mins step/seen/itr: 22/ 2816/0.64\tdev: 0.370  test: 0.321  loss: 3725.32\n",
            "6 mins step/seen/itr: 33/ 4224/0.95\tdev: 0.359  test: 0.328  loss: 2281.91\n",
            "8 mins step/seen/itr: 44/ 5632/1.27\tdev: 0.376  test: 0.309  loss: 1854.40\n",
            "11 mins step/seen/itr: 55/ 7040/1.59\tdev: 0.335  test: 0.237  loss: 1592.07\n",
            "13 mins step/seen/itr: 66/ 8448/1.91\tdev: 0.324  test: 0.000  loss: 1742.63\n",
            "15 mins step/seen/itr: 77/ 9856/2.22\tdev: 0.379  test: 0.244  loss: 1286.99\n",
            "17 mins step/seen/itr: 88/ 11264/2.54\tdev: 0.402  test: 0.218  loss: 1233.95\n",
            "20 mins step/seen/itr: 99/ 12672/2.86\tdev: 0.420  test: 0.214  loss: 1050.14\n",
            "22 mins step/seen/itr: 110/ 14080/3.18\tdev: 0.388  test: 0.000  loss: 1176.32\n",
            "24 mins step/seen/itr: 121/ 15488/3.49\tdev: 0.388  test: 0.000  loss: 1107.62\n",
            "26 mins step/seen/itr: 132/ 16896/3.81\tdev: 0.373  test: 0.000  loss: 1072.61\n",
            "28 mins step/seen/itr: 143/ 18304/4.13\tdev: 0.391  test: 0.000  loss: 1141.05\n",
            "30 mins step/seen/itr: 154/ 19712/4.45\tdev: 0.382  test: 0.221  loss: 1041.74\n",
            "32 mins step/seen/itr: 165/ 21120/4.77\tdev: 0.405  test: 0.240  loss: 1005.40\n",
            "35 mins step/seen/itr: 176/ 22528/5.08\tdev: 0.414  test: 0.000  loss: 1115.57\n",
            "37 mins step/seen/itr: 187/ 23936/5.4\tdev: 0.443  test: 0.237  loss: 952.55\n",
            "39 mins step/seen/itr: 198/ 25344/5.72\tdev: 0.464  test: 0.221  loss: 815.20\n",
            "41 mins step/seen/itr: 209/ 26752/6.04\tdev: 0.408  test: 0.000  loss: 1331.39\n",
            "43 mins step/seen/itr: 220/ 28160/6.35\tdev: 0.469  test: 0.000  loss: 847.62\n",
            "45 mins step/seen/itr: 231/ 29568/6.67\tdev: 0.402  test: 0.000  loss: 928.96\n",
            "47 mins step/seen/itr: 242/ 30976/6.99\tdev: 0.434  test: 0.000  loss: 966.62\n",
            "50 mins step/seen/itr: 253/ 32384/7.31\tdev: 0.376  test: 0.000  loss: 1059.68\n",
            "52 mins step/seen/itr: 264/ 33792/7.62\tdev: 0.490  test: 0.221  loss: 753.03\n",
            "54 mins step/seen/itr: 275/ 35200/7.94\tdev: 0.461  test: 0.000  loss: 916.44\n",
            "56 mins step/seen/itr: 286/ 36608/8.26\tdev: 0.484  test: 0.000  loss: 796.30\n",
            "58 mins step/seen/itr: 297/ 38016/8.58\tdev: 0.434  test: 0.000  loss: 993.64\n",
            "60 mins step/seen/itr: 308/ 39424/8.9\tdev: 0.449  test: 0.000  loss: 835.98\n",
            "62 mins step/seen/itr: 319/ 40832/9.21\tdev: 0.394  test: 0.000  loss: 916.09\n",
            "64 mins step/seen/itr: 330/ 42240/9.53\tdev: 0.434  test: 0.000  loss: 987.82\n",
            "66 mins step/seen/itr: 341/ 43648/9.85\tdev: 0.458  test: 0.237  loss: 749.98\n",
            "68 mins step/seen/itr: 352/ 45056/10.17\tdev: 0.437  test: 0.000  loss: 902.15\n",
            "70 mins step/seen/itr: 363/ 46464/10.48\tdev: 0.417  test: 0.000  loss: 866.53\n",
            "72 mins step/seen/itr: 374/ 47872/10.8\tdev: 0.446  test: 0.240  loss: 704.50\n",
            "74 mins step/seen/itr: 385/ 49280/11.12\tdev: 0.501  test: 0.244  loss: 697.97\n",
            "77 mins step/seen/itr: 396/ 50688/11.44\tdev: 0.478  test: 0.000  loss: 752.84\n",
            "79 mins step/seen/itr: 407/ 52096/11.75\tdev: 0.411  test: 0.000  loss: 976.61\n",
            "81 mins step/seen/itr: 418/ 53504/12.07\tdev: 0.504  test: 0.000  loss: 785.59\n",
            "83 mins step/seen/itr: 429/ 54912/12.39\tdev: 0.443  test: 0.000  loss: 928.34\n",
            "85 mins step/seen/itr: 440/ 56320/12.71\tdev: 0.429  test: 0.000  loss: 915.65\n",
            "87 mins step/seen/itr: 451/ 57728/13.03\tdev: 0.481  test: 0.000  loss: 846.45\n",
            "89 mins step/seen/itr: 462/ 59136/13.34\tdev: 0.437  test: 0.000  loss: 1176.56\n",
            "early stopped\n",
            "Total steps : 473\n",
            "load data : train_audio_mfcc.npy train_seqN.npy train_audio_prosody.npy train_nlp_trans.npy train_label.npy\n",
            "[completed] load data\n",
            "load data : dev_audio_mfcc.npy dev_seqN.npy dev_audio_prosody.npy dev_nlp_trans.npy dev_label.npy\n",
            "[completed] load data\n",
            "load data : test_youtube/test_audio_mfcc.npy test_youtube/test_seqN.npy test_youtube/test_audio_prosody.npy test_youtube/test_nlp_trans.npy test_youtube/test_label.npy\n",
            "tcmalloc: large alloc 1294254080 bytes == 0x5599203c4000 @  0x7f6f271f61e7 0x7f6f24ca4771 0x7f6f24d0e44f 0x7f6f24d0efee 0x7f6f24da7b00 0x5598d6ea6ac8 0x5598d6e9ce0a 0x5598d6ea492e 0x5598d6e9ce0a 0x5598d6ea492e 0x5598d6ea4556 0x5598d6e9ce0a 0x5598d6eb86a9 0x5598d6ed0e1e 0x5598d6e8870e 0x5598d6ebbe5f 0x5598d6ea4750 0x5598d6e9ce0a 0x5598d6ea4f53 0x5598d6e9ce0a 0x5598d6e9c879 0x5598d6eccf5f 0x5598d6ec8222 0x5598d6ec7c4d 0x5598d6e76a86 0x7f6f26df3b97 0x5598d6e7637a\n",
            "[completed] load data\n",
            "[launch-multi] create audio model\n",
            "[launch-audio] placeholders\n",
            "[launch-audio] create gru cell\n",
            "[launch-audio] add prosody feature, dim: 35\n",
            "[launch-multi] create text model\n",
            "[launch-text] placeholders\n",
            "[launch-text] create embedding\n",
            "[launch-text] use pre-trained embedding\n",
            "[launch-text] create gru cell\n",
            "[launch-multi] placeholders\n",
            "[launch-multi] create attention module\n",
            "[launch-multi] create output projection layer from (text_final_dim(==audio) + text_final_dim)\n",
            "[launch-multi] create optimizer\n",
            "[launch-multi] create summary\n",
            "[Info] Valid Freq = 11\n",
            "2020-11-02 16:21:51.287198: I tensorflow/core/platform/cpu_feature_guard.cc:137] Your CPU supports instructions that this TensorFlow binary was not compiled to use: SSE4.1 SSE4.2 AVX AVX2 FMA\n",
            "[completed] loading pre-trained embedding vector to placeholder\n",
            "2 mins step/seen/itr: 11/ 1408/0.31\tdev: 0.218  test: 0.229  loss: 14816.13\n",
            "4 mins step/seen/itr: 22/ 2816/0.63\tdev: 0.176  test: 0.218  loss: 7406.58\n",
            "6 mins step/seen/itr: 33/ 4224/0.94\tdev: 0.300  test: 0.260  loss: 4462.56\n",
            "8 mins step/seen/itr: 44/ 5632/1.26\tdev: 0.345  test: 0.252  loss: 3094.06\n",
            "10 mins step/seen/itr: 55/ 7040/1.57\tdev: 0.394  test: 0.198  loss: 2223.37\n",
            "13 mins step/seen/itr: 66/ 8448/1.89\tdev: 0.410  test: 0.225  loss: 1819.50\n",
            "15 mins step/seen/itr: 77/ 9856/2.2\tdev: 0.397  test: 0.233  loss: 1745.37\n",
            "17 mins step/seen/itr: 88/ 11264/2.52\tdev: 0.420  test: 0.260  loss: 1549.66\n",
            "19 mins step/seen/itr: 99/ 12672/2.83\tdev: 0.430  test: 0.000  loss: 1703.56\n",
            "21 mins step/seen/itr: 110/ 14080/3.15\tdev: 0.414  test: 0.225  loss: 1518.91\n",
            "24 mins step/seen/itr: 121/ 15488/3.46\tdev: 0.381  test: 0.275  loss: 1401.02\n",
            "26 mins step/seen/itr: 132/ 16896/3.78\tdev: 0.446  test: 0.210  loss: 1353.98\n",
            "28 mins step/seen/itr: 143/ 18304/4.09\tdev: 0.394  test: 0.252  loss: 1234.63\n",
            "30 mins step/seen/itr: 154/ 19712/4.41\tdev: 0.417  test: 0.275  loss: 1171.55\n",
            "32 mins step/seen/itr: 165/ 21120/4.72\tdev: 0.362  test: 0.000  loss: 1491.95\n",
            "34 mins step/seen/itr: 176/ 22528/5.04\tdev: 0.446  test: 0.313  loss: 1104.80\n",
            "37 mins step/seen/itr: 187/ 23936/5.35\tdev: 0.404  test: 0.000  loss: 1343.16\n",
            "39 mins step/seen/itr: 198/ 25344/5.66\tdev: 0.427  test: 0.294  loss: 961.11\n",
            "41 mins step/seen/itr: 209/ 26752/5.98\tdev: 0.436  test: 0.279  loss: 892.91\n",
            "43 mins step/seen/itr: 220/ 28160/6.29\tdev: 0.446  test: 0.000  loss: 970.30\n",
            "45 mins step/seen/itr: 231/ 29568/6.61\tdev: 0.430  test: 0.000  loss: 945.69\n",
            "47 mins step/seen/itr: 242/ 30976/6.92\tdev: 0.384  test: 0.000  loss: 933.98\n",
            "49 mins step/seen/itr: 253/ 32384/7.24\tdev: 0.469  test: 0.233  loss: 876.84\n",
            "52 mins step/seen/itr: 264/ 33792/7.55\tdev: 0.384  test: 0.000  loss: 916.50\n",
            "54 mins step/seen/itr: 275/ 35200/7.87\tdev: 0.339  test: 0.000  loss: 1061.60\n",
            "56 mins step/seen/itr: 286/ 36608/8.18\tdev: 0.391  test: 0.286  loss: 871.49\n",
            "58 mins step/seen/itr: 297/ 38016/8.5\tdev: 0.472  test: 0.252  loss: 795.53\n",
            "60 mins step/seen/itr: 308/ 39424/8.81\tdev: 0.469  test: 0.252  loss: 679.89\n",
            "62 mins step/seen/itr: 319/ 40832/9.13\tdev: 0.384  test: 0.000  loss: 862.90\n",
            "64 mins step/seen/itr: 330/ 42240/9.44\tdev: 0.459  test: 0.000  loss: 731.17\n",
            "66 mins step/seen/itr: 341/ 43648/9.76\tdev: 0.446  test: 0.000  loss: 735.71\n",
            "68 mins step/seen/itr: 352/ 45056/10.07\tdev: 0.433  test: 0.000  loss: 725.48\n",
            "70 mins step/seen/itr: 363/ 46464/10.39\tdev: 0.476  test: 0.000  loss: 696.79\n",
            "73 mins step/seen/itr: 374/ 47872/10.7\tdev: 0.446  test: 0.000  loss: 769.92\n",
            "75 mins step/seen/itr: 385/ 49280/11.01\tdev: 0.459  test: 0.000  loss: 976.00\n",
            "early stopped\n",
            "Total steps : 396\n"
          ],
          "name": "stdout"
        }
      ]
    },
    {
      "cell_type": "code",
      "metadata": {
        "id": "5RXBd45ZJTXu"
      },
      "source": [
        "!cp /content/TEST_run_result.txt \"$root_path/\""
      ],
      "execution_count": null,
      "outputs": []
    }
  ]
}