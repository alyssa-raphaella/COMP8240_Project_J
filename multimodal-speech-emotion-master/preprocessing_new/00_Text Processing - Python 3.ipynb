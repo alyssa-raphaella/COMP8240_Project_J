{
 "cells": [
  {
   "cell_type": "code",
   "execution_count": 9,
   "metadata": {},
   "outputs": [],
   "source": [
    "import os\n",
    "import sys\n",
    "import csv\n",
    "import pickle\n",
    "import numpy as np\n",
    "from nlp_util import *\n",
    "from nltk.tokenize import word_tokenize"
   ]
  },
  {
   "cell_type": "code",
   "execution_count": 10,
   "metadata": {},
   "outputs": [
    {
     "name": "stdout",
     "output_type": "stream",
     "text": [
      "128\n",
      "1\n",
      "13.272079174704352\n",
      "11.863284268797985\n"
     ]
    }
   ],
   "source": [
    "lines = []\n",
    "with open('../data/processed/YouTube/processed_trans_all.csv') as f:\n",
    "# with open('../data/processed/IEMOCAP/processed_tran_fromG.csv') as f:\n",
    "    read = csv.reader(f)\n",
    "    lines = [ x[1] for x in read]\n",
    "    \n",
    "token_lines = [ word_tokenize(x) for x in lines]\n",
    "token_lines_lower = [ [t.lower() for t in x] for x in token_lines]\n",
    "\n",
    "sent_len = [ len(x) for x in token_lines]\n",
    "print (np.max(sent_len))\n",
    "print (np.min(sent_len))\n",
    "print (np.mean(sent_len))\n",
    "print (np.std(sent_len))"
   ]
  },
  {
   "cell_type": "code",
   "execution_count": 11,
   "metadata": {},
   "outputs": [],
   "source": [
    "def read_data(dic, lines):\n",
    "\n",
    "    for tokens in lines:\n",
    "        \n",
    "        for token in tokens:\n",
    "            token = token.lower()\n",
    "            \n",
    "            if token in dic :\n",
    "                dic[token] += 1\n",
    "            else:\n",
    "                dic[token] = 1\n",
    "        \n",
    "    return dic"
   ]
  },
  {
   "cell_type": "code",
   "execution_count": 12,
   "metadata": {},
   "outputs": [
    {
     "name": "stdout",
     "output_type": "stream",
     "text": [
      "dic size : 3994\n"
     ]
    }
   ],
   "source": [
    "dic_count = {}\n",
    "dic_count = read_data(dic_count, token_lines_lower)\n",
    "print ('dic size : ' + str(len(dic_count)))"
   ]
  },
  {
   "cell_type": "code",
   "execution_count": 13,
   "metadata": {},
   "outputs": [
    {
     "name": "stdout",
     "output_type": "stream",
     "text": [
      "3996\n",
      "0\n"
     ]
    }
   ],
   "source": [
    "dic = {}\n",
    "dic['_PAD_'] = len(dic)\n",
    "dic['_UNK_'] = len(dic)\n",
    "\n",
    "for word in dic_count.keys():\n",
    "    dic[word] = len(dic)    \n",
    "print (len(dic))\n",
    "print (dic['_PAD_'])\n",
    "\n",
    "# with open('../data/processed/YouTube/dic3.pkl', 'wb') as f:\n",
    "# with open('../data/processed/IEMOCAP/dic_G.pkl', 'w') as f:\n",
    "#    pickle.dump( dic, f, protocol=2)"
   ]
  },
  {
   "cell_type": "code",
   "execution_count": 14,
   "metadata": {},
   "outputs": [
    {
     "name": "stdout",
     "output_type": "stream",
     "text": [
      "78\n",
      "2\n",
      "11.066901408450704\n",
      "8.292990607472785\n"
     ]
    }
   ],
   "source": [
    "lines = []\n",
    "with open('../data/processed/YouTube/processed_trans.csv') as f:\n",
    "# with open('../data/processed/IEMOCAP/processed_tran_fromG.csv') as f:\n",
    "    read = csv.reader(f)\n",
    "    lines = [ x[1] for x in read]\n",
    "    \n",
    "token_lines = [ word_tokenize(x) for x in lines]\n",
    "token_lines_lower = [ [t.lower() for t in x] for x in token_lines]\n",
    "\n",
    "sent_len = [ len(x) for x in token_lines]\n",
    "print (np.max(sent_len))\n",
    "print (np.min(sent_len))\n",
    "print (np.mean(sent_len))\n",
    "print (np.std(sent_len))"
   ]
  },
  {
   "cell_type": "code",
   "execution_count": 15,
   "metadata": {},
   "outputs": [],
   "source": [
    "# convert to index\n",
    "index_lines = [ [ dic[t] for t in x ] for x in token_lines_lower ]"
   ]
  },
  {
   "cell_type": "code",
   "execution_count": null,
   "metadata": {},
   "outputs": [],
   "source": []
  },
  {
   "cell_type": "code",
   "execution_count": 16,
   "metadata": {},
   "outputs": [
    {
     "data": {
      "text/plain": [
       "(284, 128)"
      ]
     },
     "execution_count": 16,
     "metadata": {},
     "output_type": "execute_result"
    }
   ],
   "source": [
    "np_trans = np.zeros( [284, 128], dtype=np.int)\n",
    "np.shape(np_trans)"
   ]
  },
  {
   "cell_type": "code",
   "execution_count": 15,
   "metadata": {},
   "outputs": [],
   "source": [
    "for i in range( len(index_lines) ):\n",
    "    \n",
    "    if len( index_lines[i] ) > 127:\n",
    "        np_trans[i][:] = index_lines[i][:128]\n",
    "    else:\n",
    "        np_trans[i][:len(index_lines[i])] = index_lines[i][:]"
   ]
  },
  {
   "cell_type": "code",
   "execution_count": 16,
   "metadata": {},
   "outputs": [],
   "source": [
    "np.save('../data/processed/YouTube/processed_trans.npy', np_trans)"
   ]
  },
  {
   "cell_type": "code",
   "execution_count": 17,
   "metadata": {},
   "outputs": [
    {
     "data": {
      "text/plain": [
       "(284, 128)"
      ]
     },
     "execution_count": 17,
     "metadata": {},
     "output_type": "execute_result"
    }
   ],
   "source": [
    "np.shape(np_trans)"
   ]
  },
  {
   "cell_type": "code",
   "execution_count": 18,
   "metadata": {},
   "outputs": [
    {
     "data": {
      "text/plain": [
       "array([  26, 3837, 3838,   76,   21, 3885,  134,  459,    3,    4,    0,\n",
       "          0,    0,    0,    0,    0,    0,    0,    0,    0,    0,    0,\n",
       "          0,    0,    0,    0,    0,    0,    0,    0,    0,    0,    0,\n",
       "          0,    0,    0,    0,    0,    0,    0,    0,    0,    0,    0,\n",
       "          0,    0,    0,    0,    0,    0,    0,    0,    0,    0,    0,\n",
       "          0,    0,    0,    0,    0,    0,    0,    0,    0,    0,    0,\n",
       "          0,    0,    0,    0,    0,    0,    0,    0,    0,    0,    0,\n",
       "          0,    0,    0,    0,    0,    0,    0,    0,    0,    0,    0,\n",
       "          0,    0,    0,    0,    0,    0,    0,    0,    0,    0,    0,\n",
       "          0,    0,    0,    0,    0,    0,    0,    0,    0,    0,    0,\n",
       "          0,    0,    0,    0,    0,    0,    0,    0,    0,    0,    0,\n",
       "          0,    0,    0,    0,    0,    0,    0])"
      ]
     },
     "execution_count": 18,
     "metadata": {},
     "output_type": "execute_result"
    }
   ],
   "source": [
    "np_trans[283]"
   ]
  },
  {
   "cell_type": "code",
   "execution_count": null,
   "metadata": {},
   "outputs": [],
   "source": []
  }
 ],
 "metadata": {
  "kernelspec": {
   "display_name": "Python 3",
   "language": "python",
   "name": "python3"
  },
  "language_info": {
   "codemirror_mode": {
    "name": "ipython",
    "version": 3
   },
   "file_extension": ".py",
   "mimetype": "text/x-python",
   "name": "python",
   "nbconvert_exporter": "python",
   "pygments_lexer": "ipython3",
   "version": "3.7.3"
  }
 },
 "nbformat": 4,
 "nbformat_minor": 2
}
