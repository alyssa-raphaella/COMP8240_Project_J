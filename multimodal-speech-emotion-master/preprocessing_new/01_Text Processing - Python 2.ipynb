{
 "cells": [
  {
   "cell_type": "code",
   "execution_count": 1,
   "metadata": {
    "colab": {
     "base_uri": "https://localhost:8080/",
     "height": 34
    },
    "executionInfo": {
     "elapsed": 22447,
     "status": "ok",
     "timestamp": 1603689205766,
     "user": {
      "displayName": "Jan Arvin Viloria Lapuz",
      "photoUrl": "https://lh3.googleusercontent.com/a-/AOh14GhYNum1g2jwsdnqNXkSp0e_eMYWpBjLCCjIxtVi=s64",
      "userId": "18328436879861494624"
     },
     "user_tz": -660
    },
    "id": "a5n7OItNTyBj",
    "outputId": "cb5d4c6e-7e80-4be4-db6d-6ffbb7369003"
   },
   "outputs": [
    {
     "name": "stdout",
     "output_type": "stream",
     "text": [
      "Mounted at /gdrive\n"
     ]
    }
   ],
   "source": [
    "from google.colab import drive\n",
    "drive.mount('/gdrive')"
   ]
  },
  {
   "cell_type": "code",
   "execution_count": 2,
   "metadata": {
    "colab": {
     "base_uri": "https://localhost:8080/",
     "height": 34
    },
    "executionInfo": {
     "elapsed": 1564,
     "status": "ok",
     "timestamp": 1603689210698,
     "user": {
      "displayName": "Jan Arvin Viloria Lapuz",
      "photoUrl": "https://lh3.googleusercontent.com/a-/AOh14GhYNum1g2jwsdnqNXkSp0e_eMYWpBjLCCjIxtVi=s64",
      "userId": "18328436879861494624"
     },
     "user_tz": -660
    },
    "id": "1SgEC_ROUU-i",
    "outputId": "6f627dc6-404f-417c-8013-7b110971c98e"
   },
   "outputs": [
    {
     "name": "stdout",
     "output_type": "stream",
     "text": [
      "/gdrive/My Drive/Macquarie University/Classes/2020 Session 2/COMP8240 Applications of Data Science/Major Project/multimodal-speech-emotion-master\n"
     ]
    }
   ],
   "source": [
    "%cd '/gdrive/My Drive/Macquarie University/Classes/2020 Session 2/COMP8240 Applications of Data Science/Major Project/multimodal-speech-emotion-master'"
   ]
  },
  {
   "cell_type": "code",
   "execution_count": null,
   "metadata": {},
   "outputs": [],
   "source": [
    "import os\n",
    "import sys\n",
    "import csv\n",
    "import pickle\n",
    "import numpy as np\n",
    "from nlp_util import *\n",
    "from nltk.tokenize import word_tokenize\n",
    "from file_util import *"
   ]
  },
  {
   "cell_type": "code",
   "execution_count": null,
   "metadata": {},
   "outputs": [],
   "source": [
    "lines = []\n",
    "with open('../data/processed/IEMOCAP/label.csv') as f :\n",
    "    csv_reader = csv.reader(f)\n",
    "    lines = [x for x in csv_reader]"
   ]
  },
  {
   "cell_type": "code",
   "execution_count": null,
   "metadata": {},
   "outputs": [],
   "source": []
  },
  {
   "cell_type": "code",
   "execution_count": null,
   "metadata": {},
   "outputs": [],
   "source": []
  },
  {
   "cell_type": "code",
   "execution_count": null,
   "metadata": {},
   "outputs": [],
   "source": []
  },
  {
   "cell_type": "code",
   "execution_count": null,
   "metadata": {},
   "outputs": [],
   "source": []
  },
  {
   "cell_type": "code",
   "execution_count": null,
   "metadata": {},
   "outputs": [],
   "source": []
  },
  {
   "cell_type": "markdown",
   "metadata": {},
   "source": [
    "## Remove IDs from other category"
   ]
  },
  {
   "cell_type": "code",
   "execution_count": 1,
   "metadata": {
    "executionInfo": {
     "elapsed": 787,
     "status": "ok",
     "timestamp": 1603689761109,
     "user": {
      "displayName": "Jan Arvin Viloria Lapuz",
      "photoUrl": "https://lh3.googleusercontent.com/a-/AOh14GhYNum1g2jwsdnqNXkSp0e_eMYWpBjLCCjIxtVi=s64",
      "userId": "18328436879861494624"
     },
     "user_tz": -660
    },
    "id": "Snp_ERhSW0f7"
   },
   "outputs": [],
   "source": [
    "target_path = 'final'"
   ]
  },
  {
   "cell_type": "code",
   "execution_count": 3,
   "metadata": {
    "executionInfo": {
     "elapsed": 1479,
     "status": "ok",
     "timestamp": 1603689781280,
     "user": {
      "displayName": "Jan Arvin Viloria Lapuz",
      "photoUrl": "https://lh3.googleusercontent.com/a-/AOh14GhYNum1g2jwsdnqNXkSp0e_eMYWpBjLCCjIxtVi=s64",
      "userId": "18328436879861494624"
     },
     "user_tz": -660
    },
    "id": "Fe2R5bZHUthE"
   },
   "outputs": [],
   "source": [
    "full_label = []\n",
    "with open('../data/processed/YouTube/processed_label.txt') as f:\n",
    "    full_label = f.readlines()\n",
    "full_label = [ x.strip() for x in full_label ]    "
   ]
  },
  {
   "cell_type": "code",
   "execution_count": 4,
   "metadata": {
    "executionInfo": {
     "elapsed": 953,
     "status": "ok",
     "timestamp": 1603689786400,
     "user": {
      "displayName": "Jan Arvin Viloria Lapuz",
      "photoUrl": "https://lh3.googleusercontent.com/a-/AOh14GhYNum1g2jwsdnqNXkSp0e_eMYWpBjLCCjIxtVi=s64",
      "userId": "18328436879861494624"
     },
     "user_tz": -660
    },
    "id": "_YFZunikVMXi"
   },
   "outputs": [],
   "source": [
    "import csv\n",
    "tmp_ids = []\n",
    "with open('../data/processed/YouTube/label.csv') as f:\n",
    "    csv_reader = csv.reader(f)\n",
    "    tmp_ids = [x for x in csv_reader]\n",
    "    tmp_ids = [x[0] for x in tmp_ids]"
   ]
  },
  {
   "cell_type": "code",
   "execution_count": 5,
   "metadata": {
    "executionInfo": {
     "elapsed": 780,
     "status": "ok",
     "timestamp": 1603689839913,
     "user": {
      "displayName": "Jan Arvin Viloria Lapuz",
      "photoUrl": "https://lh3.googleusercontent.com/a-/AOh14GhYNum1g2jwsdnqNXkSp0e_eMYWpBjLCCjIxtVi=s64",
      "userId": "18328436879861494624"
     },
     "user_tz": -660
    },
    "id": "Dl6a-nZbXCgM"
   },
   "outputs": [],
   "source": [
    "with open('../data/processed/YouTube/ordered_ids.txt', 'w') as f:\n",
    "    for _id in tmp_ids:\n",
    "        f.write(_id+'\\n')"
   ]
  },
  {
   "cell_type": "code",
   "execution_count": 6,
   "metadata": {
    "executionInfo": {
     "elapsed": 710,
     "status": "ok",
     "timestamp": 1603689952904,
     "user": {
      "displayName": "Jan Arvin Viloria Lapuz",
      "photoUrl": "https://lh3.googleusercontent.com/a-/AOh14GhYNum1g2jwsdnqNXkSp0e_eMYWpBjLCCjIxtVi=s64",
      "userId": "18328436879861494624"
     },
     "user_tz": -660
    },
    "id": "15vOllgpXH_E"
   },
   "outputs": [],
   "source": [
    "data = []\n",
    "with open('../data/processed/YouTube/ordered_ids.txt') as f:\n",
    "    data = f.readlines()"
   ]
  },
  {
   "cell_type": "code",
   "execution_count": 7,
   "metadata": {
    "colab": {
     "base_uri": "https://localhost:8080/",
     "height": 317
    },
    "executionInfo": {
     "elapsed": 645,
     "status": "error",
     "timestamp": 1603690056199,
     "user": {
      "displayName": "Jan Arvin Viloria Lapuz",
      "photoUrl": "https://lh3.googleusercontent.com/a-/AOh14GhYNum1g2jwsdnqNXkSp0e_eMYWpBjLCCjIxtVi=s64",
      "userId": "18328436879861494624"
     },
     "user_tz": -660
    },
    "id": "z7h9IyXRXZfe",
    "outputId": "7b86d91d-a968-4e1a-ebf4-76704cd0252e"
   },
   "outputs": [],
   "source": [
    "from file_util import *\n",
    "create_folder('../data/processed/YouTube/'+target_path)"
   ]
  },
  {
   "cell_type": "code",
   "execution_count": 8,
   "metadata": {
    "id": "dXZ6Vk0ZXiHJ"
   },
   "outputs": [],
   "source": [
    "with open('../data/processed/YouTube/' + target_path + '/final_ordered_ids.txt', 'w') as f:\n",
    "    for i, label in enumerate(full_label):\n",
    "        if label != '-1':\n",
    "            f.write( data[i] )"
   ]
  },
  {
   "cell_type": "markdown",
   "metadata": {},
   "source": [
    "## Remove labels"
   ]
  },
  {
   "cell_type": "code",
   "execution_count": 13,
   "metadata": {},
   "outputs": [],
   "source": [
    "data = []\n",
    "with open('../data/processed/YouTube/processed_label.txt') as f:\n",
    "    data = f.readlines()"
   ]
  },
  {
   "cell_type": "code",
   "execution_count": 14,
   "metadata": {},
   "outputs": [],
   "source": [
    "with open('../data/processed/YouTube/' + target_path + '/final_label.txt', 'w') as f:\n",
    "    for i, label in enumerate(full_label):\n",
    "        if label != '-1':            \n",
    "            f.write( data[i] )"
   ]
  },
  {
   "cell_type": "markdown",
   "metadata": {},
   "source": [
    "## Remove transcription"
   ]
  },
  {
   "cell_type": "code",
   "execution_count": 15,
   "metadata": {},
   "outputs": [
    {
     "data": {
      "text/plain": [
       "285"
      ]
     },
     "execution_count": 15,
     "metadata": {},
     "output_type": "execute_result"
    }
   ],
   "source": [
    "import csv\n",
    "\n",
    "data = []\n",
    "with open('../data/processed/YouTube/processed_trans.csv') as f:\n",
    "    csv_reader = csv.reader(f)\n",
    "    data = [ x[1] for x in csv_reader ]\n",
    "len(data) "
   ]
  },
  {
   "cell_type": "code",
   "execution_count": 16,
   "metadata": {},
   "outputs": [],
   "source": [
    "with open('../data/processed/YouTube/' + target_path + '/final_trans.txt', 'w') as f:\n",
    "    for i, label in enumerate(full_label):\n",
    "        if label != '-1':\n",
    "            f.write( data[i] + '\\n')"
   ]
  },
  {
   "cell_type": "markdown",
   "metadata": {},
   "source": [
    "## Transcription to numpy"
   ]
  },
  {
   "cell_type": "code",
   "execution_count": 17,
   "metadata": {},
   "outputs": [
    {
     "ename": "IOError",
     "evalue": "[Errno 2] No such file or directory: '../data/processed/YouTube/processed_trans.npy'",
     "output_type": "error",
     "traceback": [
      "\u001b[0;31m---------------------------------------------------------------------------\u001b[0m",
      "\u001b[0;31mIOError\u001b[0m                                   Traceback (most recent call last)",
      "\u001b[0;32m<ipython-input-17-c217874d629b>\u001b[0m in \u001b[0;36m<module>\u001b[0;34m()\u001b[0m\n\u001b[1;32m      3\u001b[0m \u001b[0;32mimport\u001b[0m \u001b[0mpickle\u001b[0m\u001b[0;34m\u001b[0m\u001b[0m\n\u001b[1;32m      4\u001b[0m \u001b[0;34m\u001b[0m\u001b[0m\n\u001b[0;32m----> 5\u001b[0;31m \u001b[0mdata\u001b[0m \u001b[0;34m=\u001b[0m \u001b[0mnp\u001b[0m\u001b[0;34m.\u001b[0m\u001b[0mload\u001b[0m\u001b[0;34m(\u001b[0m\u001b[0;34m'../data/processed/YouTube/processed_trans.npy'\u001b[0m\u001b[0;34m)\u001b[0m\u001b[0;34m\u001b[0m\u001b[0m\n\u001b[0m\u001b[1;32m      6\u001b[0m \u001b[0mnp\u001b[0m\u001b[0;34m.\u001b[0m\u001b[0mshape\u001b[0m\u001b[0;34m(\u001b[0m\u001b[0mdata\u001b[0m\u001b[0;34m)\u001b[0m\u001b[0;34m\u001b[0m\u001b[0m\n",
      "\u001b[0;32m/Library/Frameworks/Python.framework/Versions/2.7/lib/python2.7/site-packages/numpy/lib/npyio.pyc\u001b[0m in \u001b[0;36mload\u001b[0;34m(file, mmap_mode, allow_pickle, fix_imports, encoding)\u001b[0m\n\u001b[1;32m    420\u001b[0m         \u001b[0mown_fid\u001b[0m \u001b[0;34m=\u001b[0m \u001b[0mFalse\u001b[0m\u001b[0;34m\u001b[0m\u001b[0m\n\u001b[1;32m    421\u001b[0m     \u001b[0;32melse\u001b[0m\u001b[0;34m:\u001b[0m\u001b[0;34m\u001b[0m\u001b[0m\n\u001b[0;32m--> 422\u001b[0;31m         \u001b[0mfid\u001b[0m \u001b[0;34m=\u001b[0m \u001b[0mopen\u001b[0m\u001b[0;34m(\u001b[0m\u001b[0mos_fspath\u001b[0m\u001b[0;34m(\u001b[0m\u001b[0mfile\u001b[0m\u001b[0;34m)\u001b[0m\u001b[0;34m,\u001b[0m \u001b[0;34m\"rb\"\u001b[0m\u001b[0;34m)\u001b[0m\u001b[0;34m\u001b[0m\u001b[0m\n\u001b[0m\u001b[1;32m    423\u001b[0m         \u001b[0mown_fid\u001b[0m \u001b[0;34m=\u001b[0m \u001b[0mTrue\u001b[0m\u001b[0;34m\u001b[0m\u001b[0m\n\u001b[1;32m    424\u001b[0m \u001b[0;34m\u001b[0m\u001b[0m\n",
      "\u001b[0;31mIOError\u001b[0m: [Errno 2] No such file or directory: '../data/processed/YouTube/processed_trans.npy'"
     ]
    }
   ],
   "source": [
    "import numpy as np\n",
    "from nlp_util import *\n",
    "import pickle\n",
    "\n",
    "data = np.load('../data/processed/YouTube/processed_trans.npy')\n",
    "np.shape(data)"
   ]
  },
  {
   "cell_type": "code",
   "execution_count": null,
   "metadata": {},
   "outputs": [],
   "source": []
  }
 ],
 "metadata": {
  "colab": {
   "authorship_tag": "ABX9TyP5c3D5V/O66tOpiXwp/Rvq",
   "collapsed_sections": [],
   "name": "Text Preprocessing",
   "provenance": [
    {
     "file_id": "1OW1eH6PLHhA7XgYE3TOedeKpu_PDAO-r",
     "timestamp": 1603688940458
    }
   ]
  },
  "kernelspec": {
   "display_name": "Python 2",
   "language": "python",
   "name": "python2"
  },
  "language_info": {
   "codemirror_mode": {
    "name": "ipython",
    "version": 2
   },
   "file_extension": ".py",
   "mimetype": "text/x-python",
   "name": "python",
   "nbconvert_exporter": "python",
   "pygments_lexer": "ipython2",
   "version": "2.7.18"
  }
 },
 "nbformat": 4,
 "nbformat_minor": 1
}
