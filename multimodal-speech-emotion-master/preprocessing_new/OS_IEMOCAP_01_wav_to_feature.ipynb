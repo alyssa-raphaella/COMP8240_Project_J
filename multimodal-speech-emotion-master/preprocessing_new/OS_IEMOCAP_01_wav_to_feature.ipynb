{
  "nbformat": 4,
  "nbformat_minor": 0,
  "metadata": {
    "colab": {
      "name": "OS_IEMOCAP_01_wav_to_feature.ipynb",
      "provenance": [],
      "collapsed_sections": [
        "_Vp_jf0XQmFb",
        "x-yx4TW1StdC",
        "_5SoDjUzRoNv"
      ],
      "toc_visible": true
    },
    "kernelspec": {
      "name": "python2",
      "display_name": "Python 2"
    },
    "accelerator": "GPU"
  },
  "cells": [
    {
      "cell_type": "markdown",
      "metadata": {
        "id": "x2e-PFs6lMbt"
      },
      "source": [
        "# EDIT PATHS BEFORE EXECUTING"
      ]
    },
    {
      "cell_type": "markdown",
      "metadata": {
        "id": "_Vp_jf0XQmFb"
      },
      "source": [
        "## SET UP / IMPORTS"
      ]
    },
    {
      "cell_type": "code",
      "metadata": {
        "id": "ItcarrRPbnrv",
        "outputId": "1b8a9005-d5a5-4c42-9b3a-4fac7207270e",
        "colab": {
          "base_uri": "https://localhost:8080/",
          "height": 33
        }
      },
      "source": [
        "from google.colab import drive\n",
        "from google.colab import files\n",
        "\n",
        "drive.mount('/content/gdrive', force_remount=True)\n",
        "root_path = 'gdrive/My Drive/Macquarie_University/Units/COMP8240_ApplicationsOfDataScience/PROJECT'\n",
        "#model_path = '/content/gdrive/My Drive/Macquarie_University/Units/COMP8240_ApplicationsOfDataScience/PROJECT/model/'  \n"
      ],
      "execution_count": 1,
      "outputs": [
        {
          "output_type": "stream",
          "text": [
            "Mounted at /content/gdrive\n"
          ],
          "name": "stdout"
        }
      ]
    },
    {
      "cell_type": "code",
      "metadata": {
        "id": "NOa_Oy-YwOGu"
      },
      "source": [
        "!cp '$root_path/opensmile_installer/'* .\n",
        "!cp '$root_path/multimodal-speech-emotion-master/util/file_util.py' ."
      ],
      "execution_count": 2,
      "outputs": []
    },
    {
      "cell_type": "code",
      "metadata": {
        "id": "-ZTfXtsgYAf1"
      },
      "source": [
        "import os\n",
        "import sys\n",
        "import csv\n",
        "import subprocess\n",
        "from file_util import *\n",
        "\n",
        "import re\n",
        "import numpy as np"
      ],
      "execution_count": 3,
      "outputs": []
    },
    {
      "cell_type": "markdown",
      "metadata": {
        "id": "t2Iy8-ehQtbG"
      },
      "source": [
        "## OPENSMILE INSTALLATION"
      ]
    },
    {
      "cell_type": "code",
      "metadata": {
        "id": "0WgMBc3jltZ1",
        "outputId": "0c1aac71-256d-4c3f-bfe3-d2b6d3f4c227",
        "colab": {
          "base_uri": "https://localhost:8080/",
          "height": 1000
        }
      },
      "source": [
        "%%bash\n",
        "# Install Ruby\n",
        "apt-get install ruby ruby-dev > /dev/null\n",
        "# Install Homebrew\n",
        "useradd linuxbrew\n",
        "mkdir -p /home/linuxbrew/\n",
        "chown linuxbrew /home/linuxbrew\n",
        "su linuxbrew\n",
        "/bin/bash -c \"$(curl -fsSL \\\n",
        "  https://raw.githubusercontent.com/Homebrew/install/master/install.sh)\""
      ],
      "execution_count": 4,
      "outputs": [
        {
          "output_type": "stream",
          "text": [
            "==> This script will install:\n",
            "/home/linuxbrew/.linuxbrew/bin/brew\n",
            "/home/linuxbrew/.linuxbrew/share/doc/homebrew\n",
            "/home/linuxbrew/.linuxbrew/share/man/man1/brew.1\n",
            "/home/linuxbrew/.linuxbrew/share/zsh/site-functions/_brew\n",
            "/home/linuxbrew/.linuxbrew/etc/bash_completion.d/brew\n",
            "/home/linuxbrew/.linuxbrew/Homebrew\n",
            "==> The following new directories will be created:\n",
            "/home/linuxbrew/.linuxbrew/bin\n",
            "/home/linuxbrew/.linuxbrew/etc\n",
            "/home/linuxbrew/.linuxbrew/include\n",
            "/home/linuxbrew/.linuxbrew/lib\n",
            "/home/linuxbrew/.linuxbrew/sbin\n",
            "/home/linuxbrew/.linuxbrew/share\n",
            "/home/linuxbrew/.linuxbrew/var\n",
            "/home/linuxbrew/.linuxbrew/opt\n",
            "/home/linuxbrew/.linuxbrew/share/zsh\n",
            "/home/linuxbrew/.linuxbrew/share/zsh/site-functions\n",
            "/home/linuxbrew/.linuxbrew/var/homebrew\n",
            "/home/linuxbrew/.linuxbrew/var/homebrew/linked\n",
            "/home/linuxbrew/.linuxbrew/Cellar\n",
            "/home/linuxbrew/.linuxbrew/Caskroom\n",
            "/home/linuxbrew/.linuxbrew/Homebrew\n",
            "/home/linuxbrew/.linuxbrew/Frameworks\n",
            "==> /bin/mkdir -p /home/linuxbrew/.linuxbrew\n",
            "==> /bin/chown linuxbrew:linuxbrew /home/linuxbrew/.linuxbrew\n",
            "==> /bin/mkdir -p /home/linuxbrew/.linuxbrew/bin /home/linuxbrew/.linuxbrew/etc /home/linuxbrew/.linuxbrew/include /home/linuxbrew/.linuxbrew/lib /home/linuxbrew/.linuxbrew/sbin /home/linuxbrew/.linuxbrew/share /home/linuxbrew/.linuxbrew/var /home/linuxbrew/.linuxbrew/opt /home/linuxbrew/.linuxbrew/share/zsh /home/linuxbrew/.linuxbrew/share/zsh/site-functions /home/linuxbrew/.linuxbrew/var/homebrew /home/linuxbrew/.linuxbrew/var/homebrew/linked /home/linuxbrew/.linuxbrew/Cellar /home/linuxbrew/.linuxbrew/Caskroom /home/linuxbrew/.linuxbrew/Homebrew /home/linuxbrew/.linuxbrew/Frameworks\n",
            "==> /bin/chmod g+rwx /home/linuxbrew/.linuxbrew/bin /home/linuxbrew/.linuxbrew/etc /home/linuxbrew/.linuxbrew/include /home/linuxbrew/.linuxbrew/lib /home/linuxbrew/.linuxbrew/sbin /home/linuxbrew/.linuxbrew/share /home/linuxbrew/.linuxbrew/var /home/linuxbrew/.linuxbrew/opt /home/linuxbrew/.linuxbrew/share/zsh /home/linuxbrew/.linuxbrew/share/zsh/site-functions /home/linuxbrew/.linuxbrew/var/homebrew /home/linuxbrew/.linuxbrew/var/homebrew/linked /home/linuxbrew/.linuxbrew/Cellar /home/linuxbrew/.linuxbrew/Caskroom /home/linuxbrew/.linuxbrew/Homebrew /home/linuxbrew/.linuxbrew/Frameworks\n",
            "==> /bin/chown linuxbrew /home/linuxbrew/.linuxbrew/bin /home/linuxbrew/.linuxbrew/etc /home/linuxbrew/.linuxbrew/include /home/linuxbrew/.linuxbrew/lib /home/linuxbrew/.linuxbrew/sbin /home/linuxbrew/.linuxbrew/share /home/linuxbrew/.linuxbrew/var /home/linuxbrew/.linuxbrew/opt /home/linuxbrew/.linuxbrew/share/zsh /home/linuxbrew/.linuxbrew/share/zsh/site-functions /home/linuxbrew/.linuxbrew/var/homebrew /home/linuxbrew/.linuxbrew/var/homebrew/linked /home/linuxbrew/.linuxbrew/Cellar /home/linuxbrew/.linuxbrew/Caskroom /home/linuxbrew/.linuxbrew/Homebrew /home/linuxbrew/.linuxbrew/Frameworks\n",
            "==> /bin/chgrp linuxbrew /home/linuxbrew/.linuxbrew/bin /home/linuxbrew/.linuxbrew/etc /home/linuxbrew/.linuxbrew/include /home/linuxbrew/.linuxbrew/lib /home/linuxbrew/.linuxbrew/sbin /home/linuxbrew/.linuxbrew/share /home/linuxbrew/.linuxbrew/var /home/linuxbrew/.linuxbrew/opt /home/linuxbrew/.linuxbrew/share/zsh /home/linuxbrew/.linuxbrew/share/zsh/site-functions /home/linuxbrew/.linuxbrew/var/homebrew /home/linuxbrew/.linuxbrew/var/homebrew/linked /home/linuxbrew/.linuxbrew/Cellar /home/linuxbrew/.linuxbrew/Caskroom /home/linuxbrew/.linuxbrew/Homebrew /home/linuxbrew/.linuxbrew/Frameworks\n",
            "==> Downloading and installing Homebrew...\n",
            "HEAD is now at e1b988770 Merge pull request #9000 from miccal/shared-audits-update\n",
            "==> Homebrew is run entirely by unpaid volunteers. Please consider donating:\n",
            "  https://github.com/Homebrew/brew#donations\n",
            "Already up-to-date.\n",
            "Warning: /home/linuxbrew/.linuxbrew/bin is not in your PATH.\n",
            "==> Installation successful!\n",
            "\n",
            "==> Homebrew has enabled anonymous aggregate formulae and cask analytics.\n",
            "Read the analytics documentation (and how to opt-out) here:\n",
            "  https://docs.brew.sh/Analytics\n",
            "No analytics data has been sent yet (or will be during this `install` run).\n",
            "\n",
            "==> Homebrew is run entirely by unpaid volunteers. Please consider donating:\n",
            "  https://github.com/Homebrew/brew#donations\n",
            "\n",
            "==> Next steps:\n",
            "- Run `brew help` to get started\n",
            "- Further documentation: \n",
            "    https://docs.brew.sh\n",
            "- Install the Homebrew dependencies if you have sudo access:\n",
            "    sudo apt-get install build-essential\n",
            "    See https://docs.brew.sh/linux for more information\n",
            "- Add Homebrew to your PATH in /home/linuxbrew/.profile:\n",
            "    echo 'eval $(/home/linuxbrew/.linuxbrew/bin/brew shellenv)' >> /home/linuxbrew/.profile\n",
            "    eval $(/home/linuxbrew/.linuxbrew/bin/brew shellenv)\n",
            "- We recommend that you install GCC:\n",
            "    brew install gcc\n",
            "\n"
          ],
          "name": "stdout"
        },
        {
          "output_type": "stream",
          "text": [
            "/usr/bin/ldd: line 41: printf: write error: Broken pipe\n",
            "/usr/bin/ldd: line 43: printf: write error: Broken pipe\n",
            "From https://github.com/Homebrew/brew\n",
            " * [new branch]      dependabot/bundler/Library/Homebrew/sorbet-0.5.6001 -> origin/dependabot/bundler/Library/Homebrew/sorbet-0.5.6001\n",
            " * [new branch]      dependabot/bundler/Library/Homebrew/sorbet-runtime-0.5.5981 -> origin/dependabot/bundler/Library/Homebrew/sorbet-runtime-0.5.5981\n",
            " * [new branch]      master     -> origin/master\n",
            " * [new tag]             0.1        -> 0.1\n",
            " * [new tag]             0.2        -> 0.2\n",
            " * [new tag]             0.3        -> 0.3\n",
            " * [new tag]             0.4        -> 0.4\n",
            " * [new tag]             0.5        -> 0.5\n",
            " * [new tag]             0.6        -> 0.6\n",
            " * [new tag]             0.7        -> 0.7\n",
            " * [new tag]             0.7.1      -> 0.7.1\n",
            " * [new tag]             0.8        -> 0.8\n",
            " * [new tag]             0.8.1      -> 0.8.1\n",
            " * [new tag]             0.9        -> 0.9\n",
            " * [new tag]             0.9.1      -> 0.9.1\n",
            " * [new tag]             0.9.2      -> 0.9.2\n",
            " * [new tag]             0.9.3      -> 0.9.3\n",
            " * [new tag]             0.9.4      -> 0.9.4\n",
            " * [new tag]             0.9.5      -> 0.9.5\n",
            " * [new tag]             0.9.8      -> 0.9.8\n",
            " * [new tag]             0.9.9      -> 0.9.9\n",
            " * [new tag]             1.0.0      -> 1.0.0\n",
            " * [new tag]             1.0.1      -> 1.0.1\n",
            " * [new tag]             1.0.2      -> 1.0.2\n",
            " * [new tag]             1.0.3      -> 1.0.3\n",
            " * [new tag]             1.0.4      -> 1.0.4\n",
            " * [new tag]             1.0.5      -> 1.0.5\n",
            " * [new tag]             1.0.6      -> 1.0.6\n",
            " * [new tag]             1.0.7      -> 1.0.7\n",
            " * [new tag]             1.0.8      -> 1.0.8\n",
            " * [new tag]             1.0.9      -> 1.0.9\n",
            " * [new tag]             1.1.0      -> 1.1.0\n",
            " * [new tag]             1.1.1      -> 1.1.1\n",
            " * [new tag]             1.1.10     -> 1.1.10\n",
            " * [new tag]             1.1.11     -> 1.1.11\n",
            " * [new tag]             1.1.12     -> 1.1.12\n",
            " * [new tag]             1.1.13     -> 1.1.13\n",
            " * [new tag]             1.1.2      -> 1.1.2\n",
            " * [new tag]             1.1.3      -> 1.1.3\n",
            " * [new tag]             1.1.4      -> 1.1.4\n",
            " * [new tag]             1.1.5      -> 1.1.5\n",
            " * [new tag]             1.1.6      -> 1.1.6\n",
            " * [new tag]             1.1.7      -> 1.1.7\n",
            " * [new tag]             1.1.8      -> 1.1.8\n",
            " * [new tag]             1.1.9      -> 1.1.9\n",
            " * [new tag]             1.2.0      -> 1.2.0\n",
            " * [new tag]             1.2.1      -> 1.2.1\n",
            " * [new tag]             1.2.2      -> 1.2.2\n",
            " * [new tag]             1.2.3      -> 1.2.3\n",
            " * [new tag]             1.2.4      -> 1.2.4\n",
            " * [new tag]             1.2.5      -> 1.2.5\n",
            " * [new tag]             1.2.6      -> 1.2.6\n",
            " * [new tag]             1.3.0      -> 1.3.0\n",
            " * [new tag]             1.3.1      -> 1.3.1\n",
            " * [new tag]             1.3.2      -> 1.3.2\n",
            " * [new tag]             1.3.3      -> 1.3.3\n",
            " * [new tag]             1.3.4      -> 1.3.4\n",
            " * [new tag]             1.3.5      -> 1.3.5\n",
            " * [new tag]             1.3.6      -> 1.3.6\n",
            " * [new tag]             1.3.7      -> 1.3.7\n",
            " * [new tag]             1.3.8      -> 1.3.8\n",
            " * [new tag]             1.3.9      -> 1.3.9\n",
            " * [new tag]             1.4.0      -> 1.4.0\n",
            " * [new tag]             1.4.1      -> 1.4.1\n",
            " * [new tag]             1.4.2      -> 1.4.2\n",
            " * [new tag]             1.4.3      -> 1.4.3\n",
            " * [new tag]             1.5.0      -> 1.5.0\n",
            " * [new tag]             1.5.1      -> 1.5.1\n",
            " * [new tag]             1.5.10     -> 1.5.10\n",
            " * [new tag]             1.5.11     -> 1.5.11\n",
            " * [new tag]             1.5.12     -> 1.5.12\n",
            " * [new tag]             1.5.13     -> 1.5.13\n",
            " * [new tag]             1.5.14     -> 1.5.14\n",
            " * [new tag]             1.5.2      -> 1.5.2\n",
            " * [new tag]             1.5.3      -> 1.5.3\n",
            " * [new tag]             1.5.4      -> 1.5.4\n",
            " * [new tag]             1.5.5      -> 1.5.5\n",
            " * [new tag]             1.5.6      -> 1.5.6\n",
            " * [new tag]             1.5.7      -> 1.5.7\n",
            " * [new tag]             1.5.8      -> 1.5.8\n",
            " * [new tag]             1.5.9      -> 1.5.9\n",
            " * [new tag]             1.6.0      -> 1.6.0\n",
            " * [new tag]             1.6.1      -> 1.6.1\n",
            " * [new tag]             1.6.10     -> 1.6.10\n",
            " * [new tag]             1.6.11     -> 1.6.11\n",
            " * [new tag]             1.6.12     -> 1.6.12\n",
            " * [new tag]             1.6.13     -> 1.6.13\n",
            " * [new tag]             1.6.14     -> 1.6.14\n",
            " * [new tag]             1.6.15     -> 1.6.15\n",
            " * [new tag]             1.6.16     -> 1.6.16\n",
            " * [new tag]             1.6.17     -> 1.6.17\n",
            " * [new tag]             1.6.2      -> 1.6.2\n",
            " * [new tag]             1.6.3      -> 1.6.3\n",
            " * [new tag]             1.6.4      -> 1.6.4\n",
            " * [new tag]             1.6.5      -> 1.6.5\n",
            " * [new tag]             1.6.6      -> 1.6.6\n",
            " * [new tag]             1.6.7      -> 1.6.7\n",
            " * [new tag]             1.6.8      -> 1.6.8\n",
            " * [new tag]             1.6.9      -> 1.6.9\n",
            " * [new tag]             1.7.0      -> 1.7.0\n",
            " * [new tag]             1.7.1      -> 1.7.1\n",
            " * [new tag]             1.7.2      -> 1.7.2\n",
            " * [new tag]             1.7.3      -> 1.7.3\n",
            " * [new tag]             1.7.4      -> 1.7.4\n",
            " * [new tag]             1.7.5      -> 1.7.5\n",
            " * [new tag]             1.7.6      -> 1.7.6\n",
            " * [new tag]             1.7.7      -> 1.7.7\n",
            " * [new tag]             1.8.0      -> 1.8.0\n",
            " * [new tag]             1.8.1      -> 1.8.1\n",
            " * [new tag]             1.8.2      -> 1.8.2\n",
            " * [new tag]             1.8.3      -> 1.8.3\n",
            " * [new tag]             1.8.4      -> 1.8.4\n",
            " * [new tag]             1.8.5      -> 1.8.5\n",
            " * [new tag]             1.8.6      -> 1.8.6\n",
            " * [new tag]             1.9.0      -> 1.9.0\n",
            " * [new tag]             1.9.1      -> 1.9.1\n",
            " * [new tag]             1.9.2      -> 1.9.2\n",
            " * [new tag]             1.9.3      -> 1.9.3\n",
            " * [new tag]             2.0.0      -> 2.0.0\n",
            " * [new tag]             2.0.1      -> 2.0.1\n",
            " * [new tag]             2.0.2      -> 2.0.2\n",
            " * [new tag]             2.0.3      -> 2.0.3\n",
            " * [new tag]             2.0.4      -> 2.0.4\n",
            " * [new tag]             2.0.5      -> 2.0.5\n",
            " * [new tag]             2.0.6      -> 2.0.6\n",
            " * [new tag]             2.1.0      -> 2.1.0\n",
            " * [new tag]             2.1.1      -> 2.1.1\n",
            " * [new tag]             2.1.10     -> 2.1.10\n",
            " * [new tag]             2.1.11     -> 2.1.11\n",
            " * [new tag]             2.1.12     -> 2.1.12\n",
            " * [new tag]             2.1.13     -> 2.1.13\n",
            " * [new tag]             2.1.14     -> 2.1.14\n",
            " * [new tag]             2.1.15     -> 2.1.15\n",
            " * [new tag]             2.1.16     -> 2.1.16\n",
            " * [new tag]             2.1.2      -> 2.1.2\n",
            " * [new tag]             2.1.3      -> 2.1.3\n",
            " * [new tag]             2.1.4      -> 2.1.4\n",
            " * [new tag]             2.1.5      -> 2.1.5\n",
            " * [new tag]             2.1.6      -> 2.1.6\n",
            " * [new tag]             2.1.7      -> 2.1.7\n",
            " * [new tag]             2.1.8      -> 2.1.8\n",
            " * [new tag]             2.1.9      -> 2.1.9\n",
            " * [new tag]             2.2.0      -> 2.2.0\n",
            " * [new tag]             2.2.1      -> 2.2.1\n",
            " * [new tag]             2.2.10     -> 2.2.10\n",
            " * [new tag]             2.2.11     -> 2.2.11\n",
            " * [new tag]             2.2.12     -> 2.2.12\n",
            " * [new tag]             2.2.13     -> 2.2.13\n",
            " * [new tag]             2.2.14     -> 2.2.14\n",
            " * [new tag]             2.2.15     -> 2.2.15\n",
            " * [new tag]             2.2.16     -> 2.2.16\n",
            " * [new tag]             2.2.17     -> 2.2.17\n",
            " * [new tag]             2.2.2      -> 2.2.2\n",
            " * [new tag]             2.2.3      -> 2.2.3\n",
            " * [new tag]             2.2.4      -> 2.2.4\n",
            " * [new tag]             2.2.5      -> 2.2.5\n",
            " * [new tag]             2.2.6      -> 2.2.6\n",
            " * [new tag]             2.2.7      -> 2.2.7\n",
            " * [new tag]             2.2.8      -> 2.2.8\n",
            " * [new tag]             2.2.9      -> 2.2.9\n",
            " * [new tag]             2.3.0      -> 2.3.0\n",
            " * [new tag]             2.4.0      -> 2.4.0\n",
            " * [new tag]             2.4.1      -> 2.4.1\n",
            " * [new tag]             2.4.10     -> 2.4.10\n",
            " * [new tag]             2.4.11     -> 2.4.11\n",
            " * [new tag]             2.4.12     -> 2.4.12\n",
            " * [new tag]             2.4.13     -> 2.4.13\n",
            " * [new tag]             2.4.14     -> 2.4.14\n",
            " * [new tag]             2.4.15     -> 2.4.15\n",
            " * [new tag]             2.4.16     -> 2.4.16\n",
            " * [new tag]             2.4.2      -> 2.4.2\n",
            " * [new tag]             2.4.3      -> 2.4.3\n",
            " * [new tag]             2.4.4      -> 2.4.4\n",
            " * [new tag]             2.4.5      -> 2.4.5\n",
            " * [new tag]             2.4.6      -> 2.4.6\n",
            " * [new tag]             2.4.7      -> 2.4.7\n",
            " * [new tag]             2.4.8      -> 2.4.8\n",
            " * [new tag]             2.4.9      -> 2.4.9\n",
            " * [new tag]             2.5.0      -> 2.5.0\n",
            " * [new tag]             2.5.1      -> 2.5.1\n",
            " * [new tag]             2.5.2      -> 2.5.2\n",
            " * [new tag]             2.5.3      -> 2.5.3\n",
            " * [new tag]             2.5.4      -> 2.5.4\n",
            " * [new tag]             2.5.5      -> 2.5.5\n",
            " * [new tag]             2.5.6      -> 2.5.6\n",
            " * [new tag]             2.5.7      -> 2.5.7\n",
            "==> Downloading https://linuxbrew.bintray.com/bottles-portable-ruby/portable-ruby-2.6.3_2.x86_64_linux.bottle.tar.gz\n",
            "#=#=#                                                                         \r##O#- #                                                                       \r\r######################################################                    75.7%\r######################################################################## 100.0%\n",
            "==> Pouring portable-ruby-2.6.3_2.x86_64_linux.bottle.tar.gz\n",
            "==> Tapping homebrew/core\n",
            "Cloning into '/home/linuxbrew/.linuxbrew/Homebrew/Library/Taps/homebrew/homebrew-core'...\n",
            "Tapped 2 commands and 5349 formulae (5,633 files, 391.0MB).\n"
          ],
          "name": "stderr"
        }
      ]
    },
    {
      "cell_type": "code",
      "metadata": {
        "id": "LLAORqrBYSFQ",
        "outputId": "cfaaa2c5-8b8c-452c-824e-9b9e898f378f",
        "colab": {
          "base_uri": "https://localhost:8080/",
          "height": 1000
        }
      },
      "source": [
        "%%bash\n",
        "export PATH=$PATH:/home/linuxbrew/.linuxbrew/bin/\n",
        "\n",
        "brew install autoconf automake libtool m4 gcc\n",
        "tar -zxvf opensmile-2.3.0.tar.gz\n",
        "cd opensmile-2.3.0\n",
        "bash autogen.sh"
      ],
      "execution_count": 5,
      "outputs": [
        {
          "output_type": "stream",
          "text": [
            "==> Homebrew is run entirely by unpaid volunteers. Please consider donating:\n",
            "  https://github.com/Homebrew/brew#donations\n",
            "==> Downloading https://linuxbrew.bintray.com/bottles/patchelf-0.11.x86_64_linux.bottle.tar.gz\n",
            "==> Downloading from https://akamai.bintray.com/73/7396e6cf5dbe62fae0e7fcba57f88586359561824df9cfe1127b4d88dd6f2a5a?__gda__=exp=1603855103~hmac=bea00e97d6bcdc436936e37cefda70de5e27f1554e1aba3dc95c23ea0063afa1&response-content-disposition=attachment%3Bfilename%3D%22patchelf-0.11.x86_64_linux.bottle.tar.gz%22&response-content-type=application%2Fgzip&requestInfo=U2FsdGVkX18BWgdKCV-tzjuhzHaMlFf63pT5g2zkcY4hV66EHiEbbJ-PBSL-MAuJUgefMg3WHK999c3frZUK2n7MrSt7azQ5Gg2DmIL_LV13MtiW2Tjs-jqh5ziOdvUg7UoNro-vb961ljfhal5JBQ&response-X-Checksum-Sha1=7d5b50b2eccd15ef89ec1ae2046a6f851e019f8d&response-X-Checksum-Sha2=7396e6cf5dbe62fae0e7fcba57f88586359561824df9cfe1127b4d88dd6f2a5a\n",
            "==> Downloading https://linuxbrew.bintray.com/bottles/m4-1.4.18.x86_64_linux.bottle.tar.gz\n",
            "==> Downloading from https://akamai.bintray.com/5a/5a2327087fb76145b4d0fb23acc244115adc3ced14ffc2a6231159a4f16c8a7f?__gda__=exp=1603855103~hmac=aaba258b0c81ecfb9b30662d81eb83a43c5f7aeb3ece2fcbcdbe0966331c0c25&response-content-disposition=attachment%3Bfilename%3D%22m4-1.4.18.x86_64_linux.bottle.tar.gz%22&response-content-type=application%2Fgzip&requestInfo=U2FsdGVkX18iI32GAG0xsq3NjVImG3wGeBJFCC0mLbxnR_Yb147h4jPwxP185mWQU0mWbOBqMhZG-3jE8F_cfjYErDuP0MeUSSC6jERqyRA12z2XO85ngaeuNZxCbC6Ue62ZxSnTaSvV4Z-yhNtDLg&response-X-Checksum-Sha1=34bf87548742c188550282c7a159172fcd97b590&response-X-Checksum-Sha2=5a2327087fb76145b4d0fb23acc244115adc3ced14ffc2a6231159a4f16c8a7f\n",
            "==> Downloading https://linuxbrew.bintray.com/bottles/libbsd-0.10.0.x86_64_linux.bottle.tar.gz\n",
            "==> Downloading from https://akamai.bintray.com/68/68ac94cf2b7530dcb4b678402d37d7fce907cd628821d5b7549b644146947951?__gda__=exp=1603855103~hmac=ec604920cf0187369a1c527275f35df2620b350dae9c15db986d09d896c7339b&response-content-disposition=attachment%3Bfilename%3D%22libbsd-0.10.0.x86_64_linux.bottle.tar.gz%22&response-content-type=application%2Fgzip&requestInfo=U2FsdGVkX1-zijiLTq4i5losDW_KMtT4BDjK-zIq5bGnS2_KvHafx4Dg4TAaQOtwhAq2Pwt50sLP-mfjx7Xv7IztelfqyEy50tQ-ghzBNqfYe2xZdHSkhb6QChN_htxzeA0DxnFDimST3w4GDcuH8w&response-X-Checksum-Sha1=4968469a8513cacb641104c9e3a610f60e512e38&response-X-Checksum-Sha2=68ac94cf2b7530dcb4b678402d37d7fce907cd628821d5b7549b644146947951\n",
            "==> Downloading https://linuxbrew.bintray.com/bottles/expat-2.2.10.x86_64_linux.bottle.tar.gz\n",
            "==> Downloading from https://akamai.bintray.com/83/838fc570ed11945abbb0ac7c663b0d3730d27952a479d2f730e5bbac1cbbad1f?__gda__=exp=1603855104~hmac=a58ac4a8eeeb52b3d8fef5c086adeb94260ddfdd020b929a78ef25171a9f6396&response-content-disposition=attachment%3Bfilename%3D%22expat-2.2.10.x86_64_linux.bottle.tar.gz%22&response-content-type=application%2Fgzip&requestInfo=U2FsdGVkX1-Pcdl2Vm5KJH6FQOxqeuNkhVAKZgWN2UmQWZ6M83TnuFFU3UnIJCV0aAKw3KCI2JXkUq-lPskD821b5QpzsFCp-nhh_xh46mCpGx3LUAqSOoVAexnJJwYOKWyYxwCd_6h_-XvQspgb0g&response-X-Checksum-Sha1=6597ff7a5745bffdebfbf36d15f6deb0514e4171&response-X-Checksum-Sha2=838fc570ed11945abbb0ac7c663b0d3730d27952a479d2f730e5bbac1cbbad1f\n",
            "==> Downloading https://linuxbrew.bintray.com/bottles/gdbm-1.18.1_1.x86_64_linux.bottle.tar.gz\n",
            "==> Downloading from https://akamai.bintray.com/dd/dd00a26fa20413f81477af032587de19bb620eef352a6d8dd3d9c3a176f6bd5a?__gda__=exp=1603855104~hmac=4ad3ce7354463bc2bb403e4e790fc0cba32d707366920104be724015d7e5723c&response-content-disposition=attachment%3Bfilename%3D%22gdbm-1.18.1_1.x86_64_linux.bottle.tar.gz%22&response-content-type=application%2Fgzip&requestInfo=U2FsdGVkX192jRMgPYGBpffRoUJ0tUHiJneXXFFD-kp5KbxyUbdWTujInvP4fhA6g0kUvCwArNKXycwmsqWO1UPxWjZH8BxjzFi9swgudf2GNs40WqTMmqRcQl1bj5eDmThYI6wXXRGHQgcY2cyIwA&response-X-Checksum-Sha1=421e4e7acd07c314a794a64c86875ce877a17e30&response-X-Checksum-Sha2=dd00a26fa20413f81477af032587de19bb620eef352a6d8dd3d9c3a176f6bd5a\n",
            "==> Downloading https://linuxbrew.bintray.com/bottles/openssl%401.1-1.1.1h.x86_64_linux.bottle.tar.gz\n",
            "==> Downloading from https://akamai.bintray.com/61/61bf82b4b62e07589dec1fdc9eb9eb053da01565581fb18dd5df6232182238ec?__gda__=exp=1603855104~hmac=abebc8d9290aa0c0dce9ee9ef09e4d7e8e25d10db68866d238b150c9ea85e727&response-content-disposition=attachment%3Bfilename%3D%22openssl%401.1-1.1.1h.x86_64_linux.bottle.tar.gz%22&response-content-type=application%2Fgzip&requestInfo=U2FsdGVkX1_St3_8XOSj738LYWjBQyiBpf_oANUw29vk_bJHx1uq0fZxZnY2whk_duE144DcKU38i8mKm7RuAGIoq47CSLaa75cFip0i8CGLavnionxWCcW0E_XaHOA6SEMQ_Mz9G3tMfgOM_Db57w&response-X-Checksum-Sha1=8c2c22eb5057e5f9ee5eb181d07f8c4143a9b305&response-X-Checksum-Sha2=61bf82b4b62e07589dec1fdc9eb9eb053da01565581fb18dd5df6232182238ec\n",
            "==> Downloading https://linuxbrew.bintray.com/bottles/berkeley-db-18.1.32_1.x86_64_linux.bottle.tar.gz\n",
            "==> Downloading from https://akamai.bintray.com/a6/a61c738d8e2597fe1e662c1eda22005d1c846b2dee3516c89506c16d09fd0012?__gda__=exp=1603855105~hmac=abf45ce230a1cf55262784db7ad5560cfcbcfc48453ea7f3d132f16adcdb67fe&response-content-disposition=attachment%3Bfilename%3D%22berkeley-db-18.1.32_1.x86_64_linux.bottle.tar.gz%22&response-content-type=application%2Fgzip&requestInfo=U2FsdGVkX19T4ep2oxiyyDGHeOre32UTSDrm5xvBwrHZrCwEApN2tpm9Zt0iQyeJfrNKYouEh-X8LBIulI-BjXeqLvlGKTxhbf4-iurGi10MOB8Wgxixq1rbf3lKhZkXiAIpspahYHGaIKeZ7Z_fAYIA-ps-mYQkeA_BswxFM9w&response-X-Checksum-Sha1=b0a8bbc4d2b5b6b82e7a574cabe3a990006c4f5b&response-X-Checksum-Sha2=a61c738d8e2597fe1e662c1eda22005d1c846b2dee3516c89506c16d09fd0012\n",
            "==> Downloading https://linuxbrew.bintray.com/bottles/perl-5.32.0.x86_64_linux.bottle.tar.gz\n",
            "==> Downloading from https://akamai.bintray.com/82/82ccac650bfefacad6b1ce088d3b612c16ae3677cb0d3c3ea52a2d4f786a1cd8?__gda__=exp=1603855105~hmac=6ec593e14c83d80daa4b5945d8768b702bacc1955b934adfb61c1a668a41db90&response-content-disposition=attachment%3Bfilename%3D%22perl-5.32.0.x86_64_linux.bottle.tar.gz%22&response-content-type=application%2Fgzip&requestInfo=U2FsdGVkX19zD5T7F830cZ4XX17zLtZG2ePggWzIRrXGSu5U-K4lWjyyaLO2M9Ql_qgBRj_37--Gl_O4jE06_kdWRYtTLu5F46A-cLG1FBfLHfbciytaaXOG9LpeWZWAP_f04xtCXs3r-rsYkJGk-Q&response-X-Checksum-Sha1=eddba426353fe9e4d0d74dff6293f4e8d6431185&response-X-Checksum-Sha2=82ccac650bfefacad6b1ce088d3b612c16ae3677cb0d3c3ea52a2d4f786a1cd8\n",
            "==> Downloading https://linuxbrew.bintray.com/bottles/autoconf-2.69_2.x86_64_linux.bottle.4.tar.gz\n",
            "==> Downloading from https://akamai.bintray.com/a8/a884e59c2b63ff27d2a76a7e343d7dda0464a72e88fcc8cc7b520c3e52e4d61f?__gda__=exp=1603855106~hmac=1a2df8bdd6addbb608e23c4058393937af3292f5d44485c460014eea2cf49e8c&response-content-disposition=attachment%3Bfilename%3D%22autoconf-2.69_2.x86_64_linux.bottle.4.tar.gz%22&response-content-type=application%2Fgzip&requestInfo=U2FsdGVkX18YgGNjrlWn8G2Bqn1wK3np0CK8gGWTBxSQCFwieTZckg3D3Q466YjRaaCZpaU4ewP08sbt4o0VzJz41c-pY7ZN2tKYV7pH6s92Y8-pi-xfmfNXbZSRvp8MbSZCJ9PH2SL45VC3K7oM-w&response-X-Checksum-Sha1=dc0ca0969141d7c8a531ef60d1e0f4316f8676dc&response-X-Checksum-Sha2=a884e59c2b63ff27d2a76a7e343d7dda0464a72e88fcc8cc7b520c3e52e4d61f\n",
            "==> Installing dependencies for autoconf: patchelf, m4, libbsd, expat, gdbm, openssl@1.1, berkeley-db and perl\n",
            "==> Installing autoconf dependency: patchelf\n",
            "==> Pouring patchelf-0.11.x86_64_linux.bottle.tar.gz\n",
            "🍺  /home/linuxbrew/.linuxbrew/Cellar/patchelf/0.11: 7 files, 909.2KB\n",
            "==> Installing autoconf dependency: m4\n",
            "==> Pouring m4-1.4.18.x86_64_linux.bottle.tar.gz\n",
            "🍺  /home/linuxbrew/.linuxbrew/Cellar/m4/1.4.18: 13 files, 1.1MB\n",
            "==> Installing autoconf dependency: libbsd\n",
            "==> Pouring libbsd-0.10.0.x86_64_linux.bottle.tar.gz\n",
            "🍺  /home/linuxbrew/.linuxbrew/Cellar/libbsd/0.10.0: 261 files, 961.2KB\n",
            "==> Installing autoconf dependency: expat\n",
            "==> Pouring expat-2.2.10.x86_64_linux.bottle.tar.gz\n",
            "🍺  /home/linuxbrew/.linuxbrew/Cellar/expat/2.2.10: 17 files, 747.8KB\n",
            "==> Installing autoconf dependency: gdbm\n",
            "==> Pouring gdbm-1.18.1_1.x86_64_linux.bottle.tar.gz\n",
            "🍺  /home/linuxbrew/.linuxbrew/Cellar/gdbm/1.18.1_1: 40 files, 1MB\n",
            "==> Installing autoconf dependency: openssl@1.1\n",
            "==> Pouring openssl@1.1-1.1.1h.x86_64_linux.bottle.tar.gz\n",
            "==> Downloading https://curl.haxx.se/ca/cacert-2020-01-01.pem\n",
            "==> Caveats\n",
            "A CA file has been bootstrapped using certificates from the system\n",
            "keychain. To add additional certificates, place .pem files in\n",
            "  /home/linuxbrew/.linuxbrew/etc/openssl@1.1/certs\n",
            "\n",
            "and run\n",
            "  /home/linuxbrew/.linuxbrew/opt/openssl@1.1/bin/c_rehash\n",
            "==> Summary\n",
            "🍺  /home/linuxbrew/.linuxbrew/Cellar/openssl@1.1/1.1.1h: 8,308 files, 23.4MB\n",
            "==> Installing autoconf dependency: berkeley-db\n",
            "==> Pouring berkeley-db-18.1.32_1.x86_64_linux.bottle.tar.gz\n",
            "🍺  /home/linuxbrew/.linuxbrew/Cellar/berkeley-db/18.1.32_1: 5,673 files, 128.3MB\n",
            "==> Installing autoconf dependency: perl\n",
            "==> Pouring perl-5.32.0.x86_64_linux.bottle.tar.gz\n",
            "==> /home/linuxbrew/.linuxbrew/Cellar/perl/5.32.0/bin/cpan -i XML::Parser\n",
            "==> /home/linuxbrew/.linuxbrew/Cellar/perl/5.32.0/bin/cpan -i XML::SAX\n",
            "==> Caveats\n",
            "By default non-brewed cpan modules are installed to the Cellar. If you wish\n",
            "for your modules to persist across updates we recommend using `local::lib`.\n",
            "\n",
            "You can set that up like this:\n",
            "  PERL_MM_OPT=\"INSTALL_BASE=$HOME/perl5\" cpan local::lib\n",
            "  echo 'eval \"$(perl -I$HOME/perl5/lib/perl5 -Mlocal::lib=$HOME/perl5)\"' >> ~/.profile\n",
            "==> Summary\n",
            "🍺  /home/linuxbrew/.linuxbrew/Cellar/perl/5.32.0: 2,868 files, 75.4MB\n",
            "==> Installing autoconf\n",
            "==> Pouring autoconf-2.69_2.x86_64_linux.bottle.4.tar.gz\n",
            "🍺  /home/linuxbrew/.linuxbrew/Cellar/autoconf/2.69_2: 67 files, 3MB\n",
            "==> Downloading https://linuxbrew.bintray.com/bottles/automake-1.16.2_1.x86_64_linux.bottle.tar.gz\n",
            "==> Downloading from https://akamai.bintray.com/fc/fcfa33d54ab0ad4ff392771cb5d13aa5fc38b2e57fc070cbcd5322482f0b3190?__gda__=exp=1603855314~hmac=f85e69a1ae18f67544f951fcf9dc45d54669bf293bde14982b57eb388e198d99&response-content-disposition=attachment%3Bfilename%3D%22automake-1.16.2_1.x86_64_linux.bottle.tar.gz%22&response-content-type=application%2Fgzip&requestInfo=U2FsdGVkX18PWBvPqypO2mkckJGqtcFDqY-aZxrreYjhxMmK18BfUSPArxzPBLdllNpS2rcvB1WY2W3oqYciq1Y1jkMRF_QPNm_9gImMCzww2ntY9J8UJWUTpAM6m_G-0nsyt0bY-k4mNv22fqSKiA&response-X-Checksum-Sha1=98f6604d0106c2b374ba34632afcb8b110c88d1f&response-X-Checksum-Sha2=fcfa33d54ab0ad4ff392771cb5d13aa5fc38b2e57fc070cbcd5322482f0b3190\n",
            "==> Pouring automake-1.16.2_1.x86_64_linux.bottle.tar.gz\n",
            "🍺  /home/linuxbrew/.linuxbrew/Cellar/automake/1.16.2_1: 131 files, 3.4MB\n",
            "==> Downloading https://linuxbrew.bintray.com/bottles/libtool-2.4.6_4.x86_64_linux.bottle.tar.gz\n",
            "==> Downloading from https://akamai.bintray.com/a0/a0789f8180632aff54aaf7cc276d7c4fe4e7b10f18a949256b87b111c1d8ee26?__gda__=exp=1603855315~hmac=90a3f1ee74a49e28d737a6afa820c50e860194586d67079ca1f1f515b36c8d39&response-content-disposition=attachment%3Bfilename%3D%22libtool-2.4.6_4.x86_64_linux.bottle.tar.gz%22&response-content-type=application%2Fgzip&requestInfo=U2FsdGVkX1_BQnomzsL-5zh6648HfYY5I3-Tc90wIVpw-Obpu7zPGyc9vUm9nVB1vA-JlTrfl-Tt-_uR54U9MTvaXhged-YOQqfggruFnblfAHvgeZcVvbo7xcIItAwuR6LfEPH_f-dPedTKGu0KAA&response-X-Checksum-Sha1=9a3af076268d101cd722de9ad5cfe113591b7f3c&response-X-Checksum-Sha2=a0789f8180632aff54aaf7cc276d7c4fe4e7b10f18a949256b87b111c1d8ee26\n",
            "==> Pouring libtool-2.4.6_4.x86_64_linux.bottle.tar.gz\n",
            "==> Caveats\n",
            "In order to prevent conflicts with Apple's own libtool we have prepended a \"g\"\n",
            "so, you have instead: glibtool and glibtoolize.\n",
            "==> Summary\n",
            "🍺  /home/linuxbrew/.linuxbrew/Cellar/libtool/2.4.6_4: 74 files, 3.7MB\n",
            "==> Downloading https://linuxbrew.bintray.com/bottles/gmp-6.2.0.x86_64_linux.bottle.tar.gz\n",
            "==> Downloading from https://akamai.bintray.com/8a/8a83606f4070c86ec0cc4c642817cf5bd3c6695943da85bed413d99c433e007c?__gda__=exp=1603855317~hmac=6d1228447e4e33d714ab7793802565b74585eff663c2cb884810cb553829008e&response-content-disposition=attachment%3Bfilename%3D%22gmp-6.2.0.x86_64_linux.bottle.tar.gz%22&response-content-type=application%2Fgzip&requestInfo=U2FsdGVkX1-9qBJq0GqH32PEd93VY0FFyVu5fXYe3Xwft_p7EyatGCO9tGP40El-fnUE9hSU9TAeVCjbrfJV4SUaTlXew7ddeT-Tt6OfCQbPoofd11k98Ky9fmaIR4ZV1VZD_nL-S4Zr7ORc6tJRjQ&response-X-Checksum-Sha1=61d51ba6b55889eee3d57656577ba02a968cf7f2&response-X-Checksum-Sha2=8a83606f4070c86ec0cc4c642817cf5bd3c6695943da85bed413d99c433e007c\n",
            "==> Downloading https://linuxbrew.bintray.com/bottles/mpfr-4.1.0.x86_64_linux.bottle.tar.gz\n",
            "==> Downloading from https://akamai.bintray.com/5f/5fa04c762dd682c46b3c15d2c28e89a36353717c533e7aaa12298b5202aeeba8?__gda__=exp=1603855317~hmac=951c319f18a39e829ec334f76496d8b488957b8564a955863a161bdaf7540edd&response-content-disposition=attachment%3Bfilename%3D%22mpfr-4.1.0.x86_64_linux.bottle.tar.gz%22&response-content-type=application%2Fgzip&requestInfo=U2FsdGVkX1-k8OjYrRk6N5qqd-67OjmpuRKU11-8NK8j3fF69iX65J1vrHvqDo0s7yJbz48QYoQKp1XEw08os5UqJx08elkckLLISS5f_4avbtHFxAUifFz0JYcczOIvRp_pre0ol5B6zJ2gjSEG2A&response-X-Checksum-Sha1=5ca0a73e5ed0287ee5ee50f5135da044d3fcddd5&response-X-Checksum-Sha2=5fa04c762dd682c46b3c15d2c28e89a36353717c533e7aaa12298b5202aeeba8\n",
            "==> Downloading https://linuxbrew.bintray.com/bottles/libmpc-1.2.1.x86_64_linux.bottle.tar.gz\n",
            "==> Downloading https://linuxbrew.bintray.com/bottles/zlib-1.2.11.x86_64_linux.bottle.tar.gz\n",
            "==> Downloading https://linuxbrew.bintray.com/bottles/binutils-2.34.x86_64_linux.bottle.1.tar.gz\n",
            "==> Downloading from https://akamai.bintray.com/c2/c2500eb69208e13f94dff91ee34f982db40b26f14c8a84a52eb513b8d35f5f26?__gda__=exp=1603855318~hmac=e9043d153a2df7e94f4e78cae4f1dc44ec8a2182543200aa45331962d26576cd&response-content-disposition=attachment%3Bfilename%3D%22binutils-2.34.x86_64_linux.bottle.1.tar.gz%22&response-content-type=application%2Fgzip&requestInfo=U2FsdGVkX197Mkvksapsb6GjPW36ZDyPg_3OYcK4ZL1HU1Ef-75m7Os1PpKyXe_7XYaf5YCVy2LNzbffJaIgakYwxzaDOFvEKIhLqacwFauWZs1uHiSyERzcgAwy5iG9q-JB2Sbc7tj2HblyocvBtA&response-X-Checksum-Sha1=9bc65976044143ec380f022c422e620488bf1789&response-X-Checksum-Sha2=c2500eb69208e13f94dff91ee34f982db40b26f14c8a84a52eb513b8d35f5f26\n",
            "==> Downloading https://linuxbrew.bintray.com/bottles/isl%400.18-0.18.x86_64_linux.bottle.tar.gz\n",
            "==> Downloading from https://akamai.bintray.com/3e/3ef95686496676a3c73c57db6eee32a9f039e9c2b7ccf173c3b1941124ef6f78?__gda__=exp=1603855319~hmac=04b2fdbd693a6ffb78a0ae69bcc38773260a1fb368418286bbcb9fc525d2c738&response-content-disposition=attachment%3Bfilename%3D%22isl%400.18-0.18.x86_64_linux.bottle.tar.gz%22&response-content-type=application%2Fgzip&requestInfo=U2FsdGVkX18KT_L_z93WXZoY4m1ncnDj0euzPFeXsjCfl-kwAmn4FhEevYdvMKwVjCxQljpvveQApKjjs_NBhuMHPbeaUp2xiDzfs-drLtCP8WFpUws7wtXRJmp9RVnNfQyUxPWFMPh4UjtJSopf_Q&response-X-Checksum-Sha1=a68421d87bb6e224fb8c96fd8ee193f48dce4ab2&response-X-Checksum-Sha2=3ef95686496676a3c73c57db6eee32a9f039e9c2b7ccf173c3b1941124ef6f78\n",
            "==> Downloading https://linuxbrew.bintray.com/bottles/gcc-5.5.0_7.x86_64_linux.bottle.tar.gz\n",
            "==> Downloading from https://akamai.bintray.com/8c/8cae5e1f1e2074f46bfeda826313afb7b823879d190f27dbcd6b00fbfd8daedd?__gda__=exp=1603855319~hmac=f7b20c88ed8fa4ea135420f9e2982239ff946494f80c967b2958868d4dc76abd&response-content-disposition=attachment%3Bfilename%3D%22gcc-5.5.0_7.x86_64_linux.bottle.tar.gz%22&response-content-type=application%2Fgzip&requestInfo=U2FsdGVkX1-iy-fNuo6DPKk2Hz3RYsxy8I8AeZjlWaDZBGrH7ClsdYP1RWFEUr8pwUH2IvA98uIfVlqR9s0SI8H0IIEzdsowLHm2AYAwHXXbGZVDg0nwCRQBZeGo06ZuXB1MjwMMEsPTNCqx8SlgYw&response-X-Checksum-Sha1=3e0cd0c6ebdf9cebbfb61eb557a2442ffe250a96&response-X-Checksum-Sha2=8cae5e1f1e2074f46bfeda826313afb7b823879d190f27dbcd6b00fbfd8daedd\n",
            "==> Installing dependencies for gcc: gmp, mpfr, libmpc, zlib, binutils and isl@0.18\n",
            "==> Installing gcc dependency: gmp\n",
            "==> Pouring gmp-6.2.0.x86_64_linux.bottle.tar.gz\n",
            "🍺  /home/linuxbrew/.linuxbrew/Cellar/gmp/6.2.0: 23 files, 3.9MB\n",
            "==> Installing gcc dependency: mpfr\n",
            "==> Pouring mpfr-4.1.0.x86_64_linux.bottle.tar.gz\n",
            "🍺  /home/linuxbrew/.linuxbrew/Cellar/mpfr/4.1.0: 30 files, 7.9MB\n",
            "==> Installing gcc dependency: libmpc\n",
            "==> Pouring libmpc-1.2.1.x86_64_linux.bottle.tar.gz\n",
            "🍺  /home/linuxbrew/.linuxbrew/Cellar/libmpc/1.2.1: 14 files, 549.6KB\n",
            "==> Installing gcc dependency: zlib\n",
            "==> Pouring zlib-1.2.11.x86_64_linux.bottle.tar.gz\n",
            "🍺  /home/linuxbrew/.linuxbrew/Cellar/zlib/1.2.11: 12 files, 424KB\n",
            "==> Installing gcc dependency: binutils\n",
            "==> Pouring binutils-2.34.x86_64_linux.bottle.1.tar.gz\n",
            "🍺  /home/linuxbrew/.linuxbrew/Cellar/binutils/2.34: 4,665 files, 280.3MB\n",
            "==> Installing gcc dependency: isl@0.18\n",
            "==> Pouring isl@0.18-0.18.x86_64_linux.bottle.tar.gz\n",
            "==> Caveats\n",
            "isl@0.18 is keg-only, which means it was not symlinked into /home/linuxbrew/.linuxbrew,\n",
            "because this is an alternate version of another formula.\n",
            "\n",
            "For compilers to find isl@0.18 you may need to set:\n",
            "  export LDFLAGS=\"-L/home/linuxbrew/.linuxbrew/opt/isl@0.18/lib\"\n",
            "  export CPPFLAGS=\"-I/home/linuxbrew/.linuxbrew/opt/isl@0.18/include\"\n",
            "\n",
            "For pkg-config to find isl@0.18 you may need to set:\n",
            "  export PKG_CONFIG_PATH=\"/home/linuxbrew/.linuxbrew/opt/isl@0.18/lib/pkgconfig\"\n",
            "\n",
            "==> Summary\n",
            "🍺  /home/linuxbrew/.linuxbrew/Cellar/isl@0.18/0.18: 81 files, 6.4MB\n",
            "==> Installing gcc\n",
            "==> Pouring gcc-5.5.0_7.x86_64_linux.bottle.tar.gz\n",
            "==> Creating the GCC specs file: /home/linuxbrew/.linuxbrew/Cellar/gcc/5.5.0_7/lib/gcc/x86_64-unknown-linux-gnu/5.5.0/specs\n",
            "🍺  /home/linuxbrew/.linuxbrew/Cellar/gcc/5.5.0_7: 1,350 files, 174.8MB\n",
            "==> Caveats\n",
            "==> openssl@1.1\n",
            "A CA file has been bootstrapped using certificates from the system\n",
            "keychain. To add additional certificates, place .pem files in\n",
            "  /home/linuxbrew/.linuxbrew/etc/openssl@1.1/certs\n",
            "\n",
            "and run\n",
            "  /home/linuxbrew/.linuxbrew/opt/openssl@1.1/bin/c_rehash\n",
            "==> perl\n",
            "By default non-brewed cpan modules are installed to the Cellar. If you wish\n",
            "for your modules to persist across updates we recommend using `local::lib`.\n",
            "\n",
            "You can set that up like this:\n",
            "  PERL_MM_OPT=\"INSTALL_BASE=$HOME/perl5\" cpan local::lib\n",
            "  echo 'eval \"$(perl -I$HOME/perl5/lib/perl5 -Mlocal::lib=$HOME/perl5)\"' >> ~/.profile\n",
            "==> libtool\n",
            "In order to prevent conflicts with Apple's own libtool we have prepended a \"g\"\n",
            "so, you have instead: glibtool and glibtoolize.\n",
            "==> isl@0.18\n",
            "isl@0.18 is keg-only, which means it was not symlinked into /home/linuxbrew/.linuxbrew,\n",
            "because this is an alternate version of another formula.\n",
            "\n",
            "For compilers to find isl@0.18 you may need to set:\n",
            "  export LDFLAGS=\"-L/home/linuxbrew/.linuxbrew/opt/isl@0.18/lib\"\n",
            "  export CPPFLAGS=\"-I/home/linuxbrew/.linuxbrew/opt/isl@0.18/include\"\n",
            "\n",
            "For pkg-config to find isl@0.18 you may need to set:\n",
            "  export PKG_CONFIG_PATH=\"/home/linuxbrew/.linuxbrew/opt/isl@0.18/lib/pkgconfig\"\n",
            "\n",
            "opensmile-2.3.0/\n",
            "opensmile-2.3.0/RELEASE_NOTES\n",
            "opensmile-2.3.0/buildWithInstalledPortAudio.sh\n",
            "opensmile-2.3.0/scripts/\n",
            "opensmile-2.3.0/scripts/gnuplot/\n",
            "opensmile-2.3.0/scripts/gnuplot/plotmatrix.sh\n",
            "opensmile-2.3.0/scripts/gnuplot/plotaudspec.sh\n",
            "opensmile-2.3.0/scripts/gnuplot/plotmatrix.gp\n",
            "opensmile-2.3.0/scripts/gnuplot/gpframeconvert.pl\n",
            "opensmile-2.3.0/scripts/gnuplot/transpose_lin.pl\n",
            "opensmile-2.3.0/scripts/gnuplot/plotmatrix_chroma.gp\n",
            "opensmile-2.3.0/scripts/gnuplot/plotcontour.gp\n",
            "opensmile-2.3.0/scripts/gnuplot/plotchroma.sh\n",
            "opensmile-2.3.0/scripts/gnuplot/transpose.pl\n",
            "opensmile-2.3.0/scripts/gnuplot/gpconvert.pl\n",
            "opensmile-2.3.0/scripts/gnuplot/plotframe.sh\n",
            "opensmile-2.3.0/scripts/gnuplot/plotmatrix_spec.gp\n",
            "opensmile-2.3.0/scripts/gnuplot/plotframe.gp\n",
            "opensmile-2.3.0/scripts/gnuplot/plotcontour.sh\n",
            "opensmile-2.3.0/scripts/vad/\n",
            "opensmile-2.3.0/scripts/vad/vad_segmenter.conf\n",
            "opensmile-2.3.0/scripts/vad/turnDetector.conf.inc\n",
            "opensmile-2.3.0/scripts/vad/vad_opensource.conf\n",
            "opensmile-2.3.0/scripts/vad/README.txt\n",
            "opensmile-2.3.0/scripts/vad/rplp18d_norm.dat\n",
            "opensmile-2.3.0/scripts/vad/lstmvad_rplp18d_12.net\n",
            "opensmile-2.3.0/scripts/vad/vad_opensource.conf.inc\n",
            "opensmile-2.3.0/scripts/arff_naninfzero_checker.pl\n",
            "opensmile-2.3.0/scripts/modeltrain/\n",
            "opensmile-2.3.0/scripts/modeltrain/makemodel.pl\n",
            "opensmile-2.3.0/scripts/modeltrain/fsel.pl\n",
            "opensmile-2.3.0/scripts/modeltrain/txtfile-functions.pl\n",
            "opensmile-2.3.0/scripts/modeltrain/buildmodel.pl\n",
            "opensmile-2.3.0/scripts/modeltrain/arff-standardize.c\n",
            "opensmile-2.3.0/scripts/modeltrain/libsvm-small/\n",
            "opensmile-2.3.0/scripts/modeltrain/libsvm-small/svm.h\n",
            "opensmile-2.3.0/scripts/modeltrain/libsvm-small/Makefile\n",
            "opensmile-2.3.0/scripts/modeltrain/libsvm-small/svm-train.c\n",
            "opensmile-2.3.0/scripts/modeltrain/libsvm-small/svm.cpp\n",
            "opensmile-2.3.0/scripts/modeltrain/libsvm-small/COPYRIGHT\n",
            "opensmile-2.3.0/scripts/modeltrain/libsvm-small/svm-scale.c\n",
            "opensmile-2.3.0/scripts/modeltrain/libsvm-small/Makefile.win\n",
            "opensmile-2.3.0/scripts/modeltrain/libsvm-small/README\n",
            "opensmile-2.3.0/scripts/modeltrain/libsvm-small/svm-predict.c\n",
            "opensmile-2.3.0/scripts/modeltrain/arff-functions.pl\n",
            "opensmile-2.3.0/scripts/modeltrain/arffToLsvm.pl\n",
            "opensmile-2.3.0/scripts/modeltrain/README.txt\n",
            "opensmile-2.3.0/scripts/modeltrain/stddirectory_smileextract.pl\n",
            "opensmile-2.3.0/scripts/avec2012/\n",
            "opensmile-2.3.0/scripts/avec2012/avec2011_full.conf\n",
            "opensmile-2.3.0/scripts/avec2012/README.txt\n",
            "opensmile-2.3.0/scripts/avec2012/extr.pl\n",
            "opensmile-2.3.0/scripts/avec2012/labels.inc\n",
            "opensmile-2.3.0/scripts/avec2012/avec2011_list.conf\n",
            "opensmile-2.3.0/scripts/clonecomp.pl\n",
            "opensmile-2.3.0/scripts/extract_features_batch.pl\n",
            "opensmile-2.3.0/scripts/avec2013/\n",
            "opensmile-2.3.0/scripts/avec2013/avec2013_functionals_frame_mode_short_with_last.conf\n",
            "opensmile-2.3.0/scripts/avec2013/avec2013_functionals.conf\n",
            "opensmile-2.3.0/scripts/avec2013/avec2013_functionals_frame_mode_long.conf\n",
            "opensmile-2.3.0/scripts/avec2013/extract_all_audio.pl\n",
            "opensmile-2.3.0/scripts/avec2013/extractor_script.pl\n",
            "opensmile-2.3.0/scripts/avec2013/avec2013_lld_arff.conf\n",
            "opensmile-2.3.0/scripts/avec2013/feature_set_news.txt\n",
            "opensmile-2.3.0/scripts/avec2013/avec2013_lld_core.conf\n",
            "opensmile-2.3.0/scripts/avec2013/avec2013_lld_htk_and_arff.conf\n",
            "opensmile-2.3.0/scripts/avec2013/avec2013_functionals_core.conf\n",
            "opensmile-2.3.0/scripts/avec2013/avec2013_functionals_frame_mode_short.conf\n",
            "opensmile-2.3.0/scripts/avec2013/avec2013_lld_htk.conf\n",
            "opensmile-2.3.0/scripts/avec2013/avec2013_functionals_frame_mode.conf\n",
            "opensmile-2.3.0/thirdparty/\n",
            "opensmile-2.3.0/thirdparty/portaudio.tgz\n",
            "opensmile-2.3.0/bin/\n",
            "opensmile-2.3.0/bin/linux_x64_standalone_static/\n",
            "opensmile-2.3.0/bin/linux_x64_standalone_static/SMILExtract\n",
            "opensmile-2.3.0/bin/linux_x64_standalone_libstdc6/\n",
            "opensmile-2.3.0/bin/linux_x64_standalone_libstdc6/SMILExtract\n",
            "opensmile-2.3.0/bin/android-10/\n",
            "opensmile-2.3.0/bin/android-10/SMILExtract\n",
            "opensmile-2.3.0/bin/android-10/libopensmile.a\n",
            "opensmile-2.3.0/bin/Win32/\n",
            "opensmile-2.3.0/bin/Win32/SMILExtract_ReleasePortaudio.exe\n",
            "opensmile-2.3.0/bin/Win32/wrapper.exe\n",
            "opensmile-2.3.0/bin/Win32/openSmileLib_ReleasePortaudio.dll\n",
            "opensmile-2.3.0/bin/Win32/openSmileLib_DebugPortaudio.dll\n",
            "opensmile-2.3.0/bin/Win32/openSmileLib_Release.dll\n",
            "opensmile-2.3.0/bin/Win32/SMILExtract_Debug.exe\n",
            "opensmile-2.3.0/bin/Win32/portaudio_x86Dbg.dll\n",
            "opensmile-2.3.0/bin/Win32/openSmileLib_Debug.dll\n",
            "opensmile-2.3.0/bin/Win32/portaudio_x86.dll\n",
            "opensmile-2.3.0/bin/Win32/SMILExtract_Release.exe\n",
            "opensmile-2.3.0/bin/Win32/openSMILEbatchGUI.exe\n",
            "opensmile-2.3.0/bin/Win32/SMILExtract_DebugPortaudio.exe\n",
            "opensmile-2.3.0/doc/\n",
            "opensmile-2.3.0/doc/components.txt\n",
            "opensmile-2.3.0/doc/configfile.txt\n",
            "opensmile-2.3.0/doc/knownBugs.txt\n",
            "opensmile-2.3.0/doc/logger.txt\n",
            "opensmile-2.3.0/doc/openSMILE_book.pdf\n",
            "opensmile-2.3.0/doc/developer/\n",
            "opensmile-2.3.0/doc/developer/messages.txt\n",
            "opensmile-2.3.0/doc/developer/component_configuration.txt\n",
            "opensmile-2.3.0/doc/developer/defines.txt\n",
            "opensmile-2.3.0/doc/developer/dataMemory.txt\n",
            "opensmile-2.3.0/doc/developer/classes.txt\n",
            "opensmile-2.3.0/doc/developer/implementing_components.txt\n",
            "opensmile-2.3.0/CREDITS\n",
            "opensmile-2.3.0/AUTHORS\n",
            "opensmile-2.3.0/INSTALL\n",
            "opensmile-2.3.0/buildWithJulius.sh\n",
            "opensmile-2.3.0/progsrc/\n",
            "opensmile-2.3.0/progsrc/tools/\n",
            "opensmile-2.3.0/progsrc/tools/libsvmBinaryModelconverter.cpp\n",
            "opensmile-2.3.0/progsrc/tools/convertAllLibsvmModels.sh\n",
            "opensmile-2.3.0/progsrc/tools/modelmake.c\n",
            "opensmile-2.3.0/progsrc/tools/compile_libsvmBinaryModelconverter.sh\n",
            "opensmile-2.3.0/progsrc/smilextract/\n",
            "opensmile-2.3.0/progsrc/smilextract/SMILExtract.cpp\n",
            "opensmile-2.3.0/progsrc/openSMILEbatchGUI/\n",
            "opensmile-2.3.0/progsrc/openSMILEbatchGUI/Program.cs\n",
            "opensmile-2.3.0/progsrc/openSMILEbatchGUI/Form2.Designer.cs\n",
            "opensmile-2.3.0/progsrc/openSMILEbatchGUI/bin/\n",
            "opensmile-2.3.0/progsrc/openSMILEbatchGUI/Form1.cs\n",
            "opensmile-2.3.0/progsrc/openSMILEbatchGUI/openSMILEbatchGUI.sln\n",
            "opensmile-2.3.0/progsrc/openSMILEbatchGUI/openSMILEbatchGUI.csproj\n",
            "opensmile-2.3.0/progsrc/openSMILEbatchGUI/Form1.resx\n",
            "opensmile-2.3.0/progsrc/openSMILEbatchGUI/Properties/\n",
            "opensmile-2.3.0/progsrc/openSMILEbatchGUI/Properties/Settings.Designer.cs\n",
            "opensmile-2.3.0/progsrc/openSMILEbatchGUI/Properties/Resources.resx\n",
            "opensmile-2.3.0/progsrc/openSMILEbatchGUI/Properties/Resources.Designer.cs\n",
            "opensmile-2.3.0/progsrc/openSMILEbatchGUI/Properties/AssemblyInfo.cs\n",
            "opensmile-2.3.0/progsrc/openSMILEbatchGUI/Properties/Settings.settings\n",
            "opensmile-2.3.0/progsrc/openSMILEbatchGUI/Form1.Designer.cs\n",
            "opensmile-2.3.0/progsrc/openSMILEbatchGUI/Form2.cs\n",
            "opensmile-2.3.0/progsrc/android-template/\n",
            "opensmile-2.3.0/progsrc/android-template/app/\n",
            "opensmile-2.3.0/progsrc/android-template/app/.gitignore\n",
            "opensmile-2.3.0/progsrc/android-template/app/proguard-rules.pro\n",
            "opensmile-2.3.0/progsrc/android-template/app/src/\n",
            "opensmile-2.3.0/progsrc/android-template/app/src/test/\n",
            "opensmile-2.3.0/progsrc/android-template/app/src/test/java/\n",
            "opensmile-2.3.0/progsrc/android-template/app/src/test/java/com/\n",
            "opensmile-2.3.0/progsrc/android-template/app/src/test/java/com/audeering/\n",
            "opensmile-2.3.0/progsrc/android-template/app/src/test/java/com/audeering/opensmile/\n",
            "opensmile-2.3.0/progsrc/android-template/app/src/test/java/com/audeering/opensmile/androidtemplate/\n",
            "opensmile-2.3.0/progsrc/android-template/app/src/test/java/com/audeering/opensmile/androidtemplate/ExampleUnitTest.java\n",
            "opensmile-2.3.0/progsrc/android-template/app/src/androidTest/\n",
            "opensmile-2.3.0/progsrc/android-template/app/src/androidTest/java/\n",
            "opensmile-2.3.0/progsrc/android-template/app/src/androidTest/java/com/\n",
            "opensmile-2.3.0/progsrc/android-template/app/src/androidTest/java/com/audeering/\n",
            "opensmile-2.3.0/progsrc/android-template/app/src/androidTest/java/com/audeering/opensmile/\n",
            "opensmile-2.3.0/progsrc/android-template/app/src/androidTest/java/com/audeering/opensmile/androidtemplate/\n",
            "opensmile-2.3.0/progsrc/android-template/app/src/androidTest/java/com/audeering/opensmile/androidtemplate/ApplicationTest.java\n",
            "opensmile-2.3.0/progsrc/android-template/app/src/main/\n",
            "opensmile-2.3.0/progsrc/android-template/app/src/main/scala/\n",
            "opensmile-2.3.0/progsrc/android-template/app/src/main/scala/com/\n",
            "opensmile-2.3.0/progsrc/android-template/app/src/main/scala/com/audeering/\n",
            "opensmile-2.3.0/progsrc/android-template/app/src/main/scala/com/audeering/opensmile/\n",
            "opensmile-2.3.0/progsrc/android-template/app/src/main/scala/com/audeering/opensmile/androidtemplate/\n",
            "opensmile-2.3.0/progsrc/android-template/app/src/main/scala/com/audeering/opensmile/androidtemplate/plugins/\n",
            "opensmile-2.3.0/progsrc/android-template/app/src/main/scala/com/audeering/opensmile/androidtemplate/plugins/Energy.scala\n",
            "opensmile-2.3.0/progsrc/android-template/app/src/main/scala/com/audeering/opensmile/androidtemplate/plugins/Config.scala\n",
            "opensmile-2.3.0/progsrc/android-template/app/src/main/scala/com/audeering/opensmile/androidtemplate/SmilePlugin.scala\n",
            "opensmile-2.3.0/progsrc/android-template/app/src/main/scala/com/audeering/opensmile/androidtemplate/SmileMessage.scala\n",
            "opensmile-2.3.0/progsrc/android-template/app/src/main/scala/com/audeering/opensmile/androidtemplate/MainActivity.scala\n",
            "opensmile-2.3.0/progsrc/android-template/app/src/main/res/\n",
            "opensmile-2.3.0/progsrc/android-template/app/src/main/res/drawable/\n",
            "opensmile-2.3.0/progsrc/android-template/app/src/main/res/drawable/opensmile.png\n",
            "opensmile-2.3.0/progsrc/android-template/app/src/main/res/drawable/audeering_long.png\n",
            "opensmile-2.3.0/progsrc/android-template/app/src/main/res/drawable/backg.png\n",
            "opensmile-2.3.0/progsrc/android-template/app/src/main/res/values/\n",
            "opensmile-2.3.0/progsrc/android-template/app/src/main/res/values/colors.xml\n",
            "opensmile-2.3.0/progsrc/android-template/app/src/main/res/values/strings.xml\n",
            "opensmile-2.3.0/progsrc/android-template/app/src/main/res/values/styles.xml\n",
            "opensmile-2.3.0/progsrc/android-template/app/src/main/res/mipmap-xxhdpi/\n",
            "opensmile-2.3.0/progsrc/android-template/app/src/main/res/mipmap-xxhdpi/ic_launcher.png\n",
            "opensmile-2.3.0/progsrc/android-template/app/src/main/res/drawable-xxhdpi/\n",
            "opensmile-2.3.0/progsrc/android-template/app/src/main/res/drawable-xxhdpi/ic_play_arrow_white_24dp.png\n",
            "opensmile-2.3.0/progsrc/android-template/app/src/main/res/drawable-xxhdpi/ic_stop_white_24dp.png\n",
            "opensmile-2.3.0/progsrc/android-template/app/src/main/res/drawable-xxxhdpi/\n",
            "opensmile-2.3.0/progsrc/android-template/app/src/main/res/drawable-xxxhdpi/ic_stop_white_24dp.png\n",
            "opensmile-2.3.0/progsrc/android-template/app/src/main/res/drawable-xxxhdpi/ic_play_arrow_white_24dp.png\n",
            "opensmile-2.3.0/progsrc/android-template/app/src/main/res/menu/\n",
            "opensmile-2.3.0/progsrc/android-template/app/src/main/res/menu/toolbar.xml\n",
            "opensmile-2.3.0/progsrc/android-template/app/src/main/res/mipmap-hdpi/\n",
            "opensmile-2.3.0/progsrc/android-template/app/src/main/res/mipmap-hdpi/ic_launcher.png\n",
            "opensmile-2.3.0/progsrc/android-template/app/src/main/res/mipmap-mdpi/\n",
            "opensmile-2.3.0/progsrc/android-template/app/src/main/res/mipmap-mdpi/ic_launcher.png\n",
            "opensmile-2.3.0/progsrc/android-template/app/src/main/res/layout/\n",
            "opensmile-2.3.0/progsrc/android-template/app/src/main/res/layout/main.xml\n",
            "opensmile-2.3.0/progsrc/android-template/app/src/main/res/layout/fragment_show.xml\n",
            "opensmile-2.3.0/progsrc/android-template/app/src/main/res/mipmap-xhdpi/\n",
            "opensmile-2.3.0/progsrc/android-template/app/src/main/res/mipmap-xhdpi/ic_launcher.png\n",
            "opensmile-2.3.0/progsrc/android-template/app/src/main/res/drawable-xhdpi/\n",
            "opensmile-2.3.0/progsrc/android-template/app/src/main/res/drawable-xhdpi/ic_play_arrow_white_24dp.png\n",
            "opensmile-2.3.0/progsrc/android-template/app/src/main/res/drawable-xhdpi/ic_stop_white_24dp.png\n",
            "opensmile-2.3.0/progsrc/android-template/app/src/main/res/drawable-mdpi/\n",
            "opensmile-2.3.0/progsrc/android-template/app/src/main/res/drawable-mdpi/ic_play_arrow_white_24dp.png\n",
            "opensmile-2.3.0/progsrc/android-template/app/src/main/res/drawable-mdpi/ic_stop_white_24dp.png\n",
            "opensmile-2.3.0/progsrc/android-template/app/src/main/res/mipmap-xxxhdpi/\n",
            "opensmile-2.3.0/progsrc/android-template/app/src/main/res/mipmap-xxxhdpi/ic_launcher.png\n",
            "opensmile-2.3.0/progsrc/android-template/app/src/main/res/drawable-hdpi/\n",
            "opensmile-2.3.0/progsrc/android-template/app/src/main/res/drawable-hdpi/ic_play_arrow_white_24dp.png\n",
            "opensmile-2.3.0/progsrc/android-template/app/src/main/res/drawable-hdpi/ic_stop_white_24dp.png\n",
            "opensmile-2.3.0/progsrc/android-template/app/src/main/AndroidManifest.xml\n",
            "opensmile-2.3.0/progsrc/android-template/app/src/main/assets/\n",
            "opensmile-2.3.0/progsrc/android-template/app/src/main/assets/messages.conf.inc\n",
            "opensmile-2.3.0/progsrc/android-template/app/src/main/assets/features.conf.inc\n",
            "opensmile-2.3.0/progsrc/android-template/app/src/main/assets/BufferModeRb.conf.inc\n",
            "opensmile-2.3.0/progsrc/android-template/app/src/main/assets/liveinput_android.conf\n",
            "opensmile-2.3.0/progsrc/android-template/app/src/main/jni/\n",
            "opensmile-2.3.0/progsrc/android-template/app/src/main/jni/smilextract.h\n",
            "opensmile-2.3.0/progsrc/android-template/app/src/main/jni/smile_jni.cpp\n",
            "opensmile-2.3.0/progsrc/android-template/app/src/main/jni/Application.mk\n",
            "opensmile-2.3.0/progsrc/android-template/app/src/main/jni/smile_jni.h\n",
            "opensmile-2.3.0/progsrc/android-template/app/src/main/jni/armeabi/\n",
            "opensmile-2.3.0/progsrc/android-template/app/src/main/jni/sync-build-libopensmile.sh\n",
            "opensmile-2.3.0/progsrc/android-template/app/src/main/jni/smilextract.cpp\n",
            "opensmile-2.3.0/progsrc/android-template/app/src/main/jni/Android.mk\n",
            "opensmile-2.3.0/progsrc/android-template/app/src/main/java/\n",
            "opensmile-2.3.0/progsrc/android-template/app/src/main/java/com/\n",
            "opensmile-2.3.0/progsrc/android-template/app/src/main/java/com/audeering/\n",
            "opensmile-2.3.0/progsrc/android-template/app/src/main/java/com/audeering/opensmile/\n",
            "opensmile-2.3.0/progsrc/android-template/app/src/main/java/com/audeering/opensmile/androidtemplate/\n",
            "opensmile-2.3.0/progsrc/android-template/app/src/main/java/com/audeering/opensmile/androidtemplate/SmileJNI.java\n",
            "opensmile-2.3.0/progsrc/android-template/app/libs/\n",
            "opensmile-2.3.0/progsrc/android-template/app/app.iml\n",
            "opensmile-2.3.0/progsrc/android-template/app/build.gradle\n",
            "opensmile-2.3.0/progsrc/android-template/gradle.properties\n",
            "opensmile-2.3.0/progsrc/android-template/gradlew.bat\n",
            "opensmile-2.3.0/progsrc/android-template/README_SETUP.TXT\n",
            "opensmile-2.3.0/progsrc/android-template/build.gradle\n",
            "opensmile-2.3.0/progsrc/android-template/.idea/\n",
            "opensmile-2.3.0/progsrc/android-template/.idea/vcs.xml\n",
            "opensmile-2.3.0/progsrc/android-template/.idea/.name\n",
            "opensmile-2.3.0/progsrc/android-template/.idea/compiler.xml\n",
            "opensmile-2.3.0/progsrc/android-template/.idea/copyright/\n",
            "opensmile-2.3.0/progsrc/android-template/.idea/copyright/profiles_settings.xml\n",
            "opensmile-2.3.0/progsrc/android-template/.idea/misc.xml\n",
            "opensmile-2.3.0/progsrc/android-template/.idea/encodings.xml\n",
            "opensmile-2.3.0/progsrc/android-template/.idea/runConfigurations.xml\n",
            "opensmile-2.3.0/progsrc/android-template/.idea/modules.xml\n",
            "opensmile-2.3.0/progsrc/android-template/.idea/gradle.xml\n",
            "opensmile-2.3.0/progsrc/android-template/.gitignore\n",
            "opensmile-2.3.0/progsrc/android-template/gradlew\n",
            "opensmile-2.3.0/progsrc/android-template/settings.gradle\n",
            "opensmile-2.3.0/progsrc/android-template/gradle/\n",
            "opensmile-2.3.0/progsrc/android-template/gradle/wrapper/\n",
            "opensmile-2.3.0/progsrc/android-template/gradle/wrapper/gradle-wrapper.properties\n",
            "opensmile-2.3.0/progsrc/android-template/gradle/wrapper/gradle-wrapper.jar\n",
            "opensmile-2.3.0/progsrc/include/\n",
            "opensmile-2.3.0/progsrc/include/smilextract/\n",
            "opensmile-2.3.0/progsrc/include/tools/\n",
            "opensmile-2.3.0/m4/\n",
            "opensmile-2.3.0/m4/opencv.m4\n",
            "opensmile-2.3.0/m4/find_pthread.m4\n",
            "opensmile-2.3.0/m4/portaudio.m4\n",
            "opensmile-2.3.0/m4/targets.m4\n",
            "opensmile-2.3.0/m4/android.m4\n",
            "opensmile-2.3.0/buildStandalone.sh\n",
            "opensmile-2.3.0/plugindev/\n",
            "opensmile-2.3.0/plugindev/INSTALL\n",
            "opensmile-2.3.0/plugindev/COPYING\n",
            "opensmile-2.3.0/plugindev/ChangeLog\n",
            "opensmile-2.3.0/plugindev/ClassifierResultGUI.hpp\n",
            "opensmile-2.3.0/plugindev/simpleVisualiserGUI.cpp\n",
            "opensmile-2.3.0/plugindev/exampleGuipluginSink.hpp\n",
            "opensmile-2.3.0/plugindev/ClassifierResultGUI.cpp\n",
            "opensmile-2.3.0/plugindev/plug_exampleSink.hpp\n",
            "opensmile-2.3.0/plugindev/simpleVisualiserGUI.hpp\n",
            "opensmile-2.3.0/plugindev/exampleGuipluginSink.cpp\n",
            "opensmile-2.3.0/plugindev/pluginMain.cpp\n",
            "opensmile-2.3.0/plugindev/plug_exampleSink.cpp\n",
            "opensmile-2.3.0/plugindev/configure.ac\n",
            "opensmile-2.3.0/plugindev/pluginGuiMain.cpp\n",
            "opensmile-2.3.0/plugindev/NEWS\n",
            "opensmile-2.3.0/plugindev/autogen.sh\n",
            "opensmile-2.3.0/plugindev/m4/\n",
            "opensmile-2.3.0/plugindev/m4/opensmile.m4\n",
            "opensmile-2.3.0/plugindev/m4/find_pthread.m4\n",
            "opensmile-2.3.0/plugindev/Makefile.am\n",
            "opensmile-2.3.0/plugindev/AUTHORS\n",
            "opensmile-2.3.0/plugindev/README\n",
            "opensmile-2.3.0/README\n",
            "opensmile-2.3.0/config/\n",
            "opensmile-2.3.0/config/avec2014.readme\n",
            "opensmile-2.3.0/config/MFCC12_E_D_A_Z.conf\n",
            "opensmile-2.3.0/config/IS10_paraling_core.func.conf.inc\n",
            "opensmile-2.3.0/config/IS11_speaker_state.conf\n",
            "opensmile-2.3.0/config/ComParE_2016_core.lld.conf.inc\n",
            "opensmile-2.3.0/config/demo/\n",
            "opensmile-2.3.0/config/demo/audioplayer.conf\n",
            "opensmile-2.3.0/config/demo/audiorecorder.conf\n",
            "opensmile-2.3.0/config/demo/signalGenerator.conf\n",
            "opensmile-2.3.0/config/demo/demo1_energy.conf\n",
            "opensmile-2.3.0/config/gui/\n",
            "opensmile-2.3.0/config/gui/visgui_chroma.conf\n",
            "opensmile-2.3.0/config/gui/visgui.conf\n",
            "opensmile-2.3.0/config/gui/visgui_cepstr.conf\n",
            "opensmile-2.3.0/config/gui/visgui_spect.conf\n",
            "opensmile-2.3.0/config/gui/visgui_semitone.conf\n",
            "opensmile-2.3.0/config/gui/visgui_melspec.conf\n",
            "opensmile-2.3.0/config/gui/visgui_pitch_funct.conf\n",
            "opensmile-2.3.0/config/gui/visgui_mfcc.conf\n",
            "opensmile-2.3.0/config/gui/visgui_pitch.conf\n",
            "opensmile-2.3.0/config/emo_large.conf\n",
            "opensmile-2.3.0/config/avec2013.conf\n",
            "opensmile-2.3.0/config/emobase_live4_batch_single.conf\n",
            "opensmile-2.3.0/config/audspec.conf\n",
            "opensmile-2.3.0/config/PLP_0_D_A_Z.conf\n",
            "opensmile-2.3.0/config/arff_targets.conf\n",
            "opensmile-2.3.0/config/gemaps/\n",
            "opensmile-2.3.0/config/gemaps/GeMAPSv01a_core.func.conf.inc\n",
            "opensmile-2.3.0/config/gemaps/eGeMAPSv01a.conf\n",
            "opensmile-2.3.0/config/gemaps/eGeMAPSv01a_core.func.conf.inc\n",
            "opensmile-2.3.0/config/gemaps/GeMAPSv01a.conf\n",
            "opensmile-2.3.0/config/gemaps/eGeMAPSv01a_core.lld.conf.inc\n",
            "opensmile-2.3.0/config/gemaps/GeMAPSv01a_core.lld.conf.inc\n",
            "opensmile-2.3.0/config/prosodyShsViterbiLoudness.conf\n",
            "opensmile-2.3.0/config/emobase2010.conf\n",
            "opensmile-2.3.0/config/IS13_ComParE_core.lld.conf.inc\n",
            "opensmile-2.3.0/config/shared/\n",
            "opensmile-2.3.0/config/shared/FrameModeFunctionals.conf.inc\n",
            "opensmile-2.3.0/config/shared/standard_data_output_lldonly.conf.inc\n",
            "opensmile-2.3.0/config/shared/FrameModeFunctionalsLive.conf.inc\n",
            "opensmile-2.3.0/config/shared/BufferModeLive.conf.inc\n",
            "opensmile-2.3.0/config/shared/arff_targets.conf.inc\n",
            "opensmile-2.3.0/config/shared/standard_wave_input.conf.inc\n",
            "opensmile-2.3.0/config/shared/standard_data_output.conf.inc\n",
            "opensmile-2.3.0/config/shared/BufferModeRb.conf.inc\n",
            "opensmile-2.3.0/config/shared/BufferModeRbLag.conf.inc\n",
            "opensmile-2.3.0/config/shared/BufferMode.conf.inc\n",
            "opensmile-2.3.0/config/MFCC12_0_D_A_Z.conf\n",
            "opensmile-2.3.0/config/IS10_paraling.conf\n",
            "opensmile-2.3.0/config/IS12_speaker_trait.conf\n",
            "opensmile-2.3.0/config/smileF0_mean.conf\n",
            "opensmile-2.3.0/config/avec2012.readme\n",
            "opensmile-2.3.0/config/IS09_emotion.conf\n",
            "opensmile-2.3.0/config/audiovisual/\n",
            "opensmile-2.3.0/config/audiovisual/audio.conf\n",
            "opensmile-2.3.0/config/audiovisual/audiovideo.conf\n",
            "opensmile-2.3.0/config/audiovisual/video.conf\n",
            "opensmile-2.3.0/config/audiovisual/arff_targets_age.conf\n",
            "opensmile-2.3.0/config/list_audio_devices.conf\n",
            "opensmile-2.3.0/config/avec2013_functionals_frame_mode.conf.inc\n",
            "opensmile-2.3.0/config/ComParE_2016.conf\n",
            "opensmile-2.3.0/config/IS13_ComParE_Voc.conf\n",
            "opensmile-2.3.0/config/chroma_fft.conf\n",
            "opensmile-2.3.0/config/PLP_0_D_A.conf\n",
            "opensmile-2.3.0/config/chroma_filt.conf\n",
            "opensmile-2.3.0/config/IS10_paraling_core.lld.conf.inc\n",
            "opensmile-2.3.0/config/prosodyShs.conf\n",
            "opensmile-2.3.0/config/smileF0.conf\n",
            "opensmile-2.3.0/config/avec2011.conf\n",
            "opensmile-2.3.0/config/mediaeval2012_tum_affect/\n",
            "opensmile-2.3.0/config/mediaeval2012_tum_affect/MediaEval_VideoFunctionals.conf\n",
            "opensmile-2.3.0/config/mediaeval2012_tum_affect/MediaEval_Audio_IS12based_subwin2.conf\n",
            "opensmile-2.3.0/config/mediaeval2012_tum_affect/MediaEval_VideoFunctionals_subwin.conf\n",
            "opensmile-2.3.0/config/mediaeval2012_tum_affect/MediaEval_Audio_IS12based_subwin2_step0.5.conf\n",
            "opensmile-2.3.0/config/avec2013_functionals_core.conf.inc\n",
            "opensmile-2.3.0/config/IS10_paraling_compat.conf\n",
            "opensmile-2.3.0/config/IS13_ComParE_core.func.conf.inc\n",
            "opensmile-2.3.0/config/prosodyAcf.conf\n",
            "opensmile-2.3.0/config/IS09_emotion_core.lld.conf.inc\n",
            "opensmile-2.3.0/config/emobase_live4_batch.conf\n",
            "opensmile-2.3.0/config/audspec_compat.conf\n",
            "opensmile-2.3.0/config/IS09_emotion_core.func.conf.inc\n",
            "opensmile-2.3.0/config/MFCC12_0_D_A.conf\n",
            "opensmile-2.3.0/config/liveProsodyAcf.conf\n",
            "opensmile-2.3.0/config/ComParE_2016_core.func.conf.inc\n",
            "opensmile-2.3.0/config/IS13_ComParE.conf\n",
            "opensmile-2.3.0/config/emobase_live4.conf\n",
            "opensmile-2.3.0/config/emobase.conf\n",
            "opensmile-2.3.0/config/avec2013_lld_core.conf.inc\n",
            "opensmile-2.3.0/config/IS12_speaker_trait_compat.conf\n",
            "opensmile-2.3.0/config/PLP_E_D_A.conf\n",
            "opensmile-2.3.0/config/smileF0_base.conf\n",
            "opensmile-2.3.0/config/PLP_E_D_A_Z.conf\n",
            "opensmile-2.3.0/config/MFCC12_E_D_A.conf\n",
            "opensmile-2.3.0/ChangeLog\n",
            "opensmile-2.3.0/buildAndroid.sh\n",
            "opensmile-2.3.0/example-audio/\n",
            "opensmile-2.3.0/example-audio/media-interpretation.wav\n",
            "opensmile-2.3.0/example-audio/opensmile.wav\n",
            "opensmile-2.3.0/COPYING\n",
            "opensmile-2.3.0/update_build_version.sh\n",
            "opensmile-2.3.0/configure.ac\n",
            "opensmile-2.3.0/Makefile.am\n",
            "opensmile-2.3.0/ide/\n",
            "opensmile-2.3.0/ide/vs10/\n",
            "opensmile-2.3.0/ide/vs10/generalPropsDll.props\n",
            "opensmile-2.3.0/ide/vs10/openSmile.sln\n",
            "opensmile-2.3.0/ide/vs10/lstmRnn.props\n",
            "opensmile-2.3.0/ide/vs10/openSmilePluginGUI.sln\n",
            "opensmile-2.3.0/ide/vs10/portaudio.def\n",
            "opensmile-2.3.0/ide/vs10/openSmileLibPortaudio.props\n",
            "opensmile-2.3.0/ide/vs10/openSmileLibClassif.vcxproj\n",
            "opensmile-2.3.0/ide/vs10/opencv.props\n",
            "opensmile-2.3.0/ide/vs10/generalProps.props\n",
            "opensmile-2.3.0/ide/vs10/openSmileLib.vcxproj\n",
            "opensmile-2.3.0/ide/vs10/openSmileComponents.props\n",
            "opensmile-2.3.0/ide/vs10/openSmileLibPortaudio.vcproj\n",
            "opensmile-2.3.0/ide/vs10/generalPropsDebug.props\n",
            "opensmile-2.3.0/ide/vs10/openSmilePlugin.sln\n",
            "opensmile-2.3.0/ide/vs10/openSmile.vcxproj\n",
            "opensmile-2.3.0/ide/vs10/generalPropsRelease.props\n",
            "opensmile-2.3.0/ide/vs10/openSmileLibLibsvm.vcxproj\n",
            "opensmile-2.3.0/ide/vs10/openSmile.vcproj\n",
            "opensmile-2.3.0/ide/vs10/openSmilePlugin.vcproj\n",
            "opensmile-2.3.0/ide/vs10/openSmileLibPortaudio.vcxproj\n",
            "opensmile-2.3.0/ide/vs10/portaudio.vcxproj\n",
            "opensmile-2.3.0/ide/vs10/portaudio.props\n",
            "opensmile-2.3.0/ide/vs10/openSmilePluginGUI.vcproj\n",
            "opensmile-2.3.0/ide/vs10/openSmileLibPortaudio.vsprops\n",
            "opensmile-2.3.0/JULIUS_LICENSE\n",
            "opensmile-2.3.0/NEWS\n",
            "opensmile-2.3.0/autogen.sh\n",
            "opensmile-2.3.0/buildWithPortAudio.sh\n",
            "opensmile-2.3.0/src/\n",
            "opensmile-2.3.0/src/smileutil/\n",
            "opensmile-2.3.0/src/smileutil/smileUtil.c\n",
            "opensmile-2.3.0/src/smileutil/smileUtilSpline.c\n",
            "opensmile-2.3.0/src/smileutil/zerosolve.cpp\n",
            "opensmile-2.3.0/src/dsp/\n",
            "opensmile-2.3.0/src/dsp/smileResample.cpp\n",
            "opensmile-2.3.0/src/dsp/signalGenerator.cpp\n",
            "opensmile-2.3.0/src/dsp/specScale.cpp\n",
            "opensmile-2.3.0/src/dsp/specResample.cpp\n",
            "opensmile-2.3.0/src/dsp/vadV1.cpp\n",
            "opensmile-2.3.0/src/dsp/dbA.cpp\n",
            "opensmile-2.3.0/src/lldcore/\n",
            "opensmile-2.3.0/src/lldcore/melspec.cpp\n",
            "opensmile-2.3.0/src/lldcore/plp.cpp\n",
            "opensmile-2.3.0/src/lldcore/mzcr.cpp\n",
            "opensmile-2.3.0/src/lldcore/pitchBase.cpp\n",
            "opensmile-2.3.0/src/lldcore/energy.cpp\n",
            "opensmile-2.3.0/src/lldcore/mfcc.cpp\n",
            "opensmile-2.3.0/src/lldcore/spectral.cpp\n",
            "opensmile-2.3.0/src/lldcore/pitchACF.cpp\n",
            "opensmile-2.3.0/src/lldcore/intensity.cpp\n",
            "opensmile-2.3.0/src/lldcore/pitchSmoother.cpp\n",
            "opensmile-2.3.0/src/examples/\n",
            "opensmile-2.3.0/src/examples/pitchBaseExample.cpp\n",
            "opensmile-2.3.0/src/examples/exampleProcessor.cpp\n",
            "opensmile-2.3.0/src/examples/exampleSink.cpp\n",
            "opensmile-2.3.0/src/examples/simpleMessageSender.cpp\n",
            "opensmile-2.3.0/src/examples/exampleVectorProcessor.cpp\n",
            "opensmile-2.3.0/src/examples/exampleWindowProcessor.cpp\n",
            "opensmile-2.3.0/src/examples/componentTemplate.cpp\n",
            "opensmile-2.3.0/src/examples/exampleSource.cpp\n",
            "opensmile-2.3.0/src/examples/smileComponentExample.cpp\n",
            "opensmile-2.3.0/src/rnn/\n",
            "opensmile-2.3.0/src/rnn/rnnProcessor.cpp\n",
            "opensmile-2.3.0/src/rnn/rnnSink.cpp\n",
            "opensmile-2.3.0/src/rnn/rnn.cpp\n",
            "opensmile-2.3.0/src/rnn/rnnVad2.cpp\n",
            "opensmile-2.3.0/src/core/\n",
            "opensmile-2.3.0/src/core/nullSink.cpp\n",
            "opensmile-2.3.0/src/core/winToVecProcessor.cpp\n",
            "opensmile-2.3.0/src/core/componentManager.cpp\n",
            "opensmile-2.3.0/src/core/dataSource.cpp\n",
            "opensmile-2.3.0/src/core/exceptions.cpp\n",
            "opensmile-2.3.0/src/core/dataReader.cpp\n",
            "opensmile-2.3.0/src/core/vectorProcessor.cpp\n",
            "opensmile-2.3.0/src/core/vecToWinProcessor.cpp\n",
            "opensmile-2.3.0/src/core/configManager.cpp\n",
            "opensmile-2.3.0/src/core/dataSink.cpp\n",
            "opensmile-2.3.0/src/core/dataWriter.cpp\n",
            "opensmile-2.3.0/src/core/smileComponent.cpp\n",
            "opensmile-2.3.0/src/core/commandlineParser.cpp\n",
            "opensmile-2.3.0/src/core/dataProcessor.cpp\n",
            "opensmile-2.3.0/src/core/smileCommon.cpp\n",
            "opensmile-2.3.0/src/core/windowProcessor.cpp\n",
            "opensmile-2.3.0/src/core/smileLogger.cpp\n",
            "opensmile-2.3.0/src/core/dataMemory.cpp\n",
            "opensmile-2.3.0/src/core/vectorTransform.cpp\n",
            "opensmile-2.3.0/src/core/dataSelector.cpp\n",
            "opensmile-2.3.0/src/dspcore/\n",
            "opensmile-2.3.0/src/dspcore/fftmagphase.cpp\n",
            "opensmile-2.3.0/src/dspcore/framer.cpp\n",
            "opensmile-2.3.0/src/dspcore/windower.cpp\n",
            "opensmile-2.3.0/src/dspcore/acf.cpp\n",
            "opensmile-2.3.0/src/dspcore/deltaRegression.cpp\n",
            "opensmile-2.3.0/src/dspcore/transformFftr.cpp\n",
            "opensmile-2.3.0/src/dspcore/fullturnMean.cpp\n",
            "opensmile-2.3.0/src/dspcore/vectorPreemphasis.cpp\n",
            "opensmile-2.3.0/src/dspcore/fft4g.c\n",
            "opensmile-2.3.0/src/dspcore/transformFft.cpp\n",
            "opensmile-2.3.0/src/dspcore/amdf.cpp\n",
            "opensmile-2.3.0/src/dspcore/vectorMVN.cpp\n",
            "opensmile-2.3.0/src/dspcore/fftsg.c\n",
            "opensmile-2.3.0/src/dspcore/preemphasis.cpp\n",
            "opensmile-2.3.0/src/dspcore/turnDetector.cpp\n",
            "opensmile-2.3.0/src/dspcore/contourSmoother.cpp\n",
            "opensmile-2.3.0/src/dspcore/monoMixdown.cpp\n",
            "opensmile-2.3.0/src/dspcore/fullinputMean.cpp\n",
            "opensmile-2.3.0/src/android/\n",
            "opensmile-2.3.0/src/android/openslesSource.cpp\n",
            "opensmile-2.3.0/src/android/jniMessageInterface.cpp\n",
            "opensmile-2.3.0/src/lld/\n",
            "opensmile-2.3.0/src/lld/harmonics.cpp\n",
            "opensmile-2.3.0/src/lld/pitchSmootherViterbi.cpp\n",
            "opensmile-2.3.0/src/lld/tonefilt.cpp\n",
            "opensmile-2.3.0/src/lld/pitchJitter.cpp\n",
            "opensmile-2.3.0/src/lld/formantLpc.cpp\n",
            "opensmile-2.3.0/src/lld/lsp.cpp\n",
            "opensmile-2.3.0/src/lld/chroma.cpp\n",
            "opensmile-2.3.0/src/lld/tonespec.cpp\n",
            "opensmile-2.3.0/src/lld/cens.cpp\n",
            "opensmile-2.3.0/src/lld/pitchShs.cpp\n",
            "opensmile-2.3.0/src/lld/pitchDirection.cpp\n",
            "opensmile-2.3.0/src/lld/lpc.cpp\n",
            "opensmile-2.3.0/src/lld/formantSmoother.cpp\n",
            "opensmile-2.3.0/src/other/\n",
            "opensmile-2.3.0/src/other/valbasedSelector.cpp\n",
            "opensmile-2.3.0/src/other/bowProducer.cpp\n",
            "opensmile-2.3.0/src/other/vectorOperation.cpp\n",
            "opensmile-2.3.0/src/other/vectorConcat.cpp\n",
            "opensmile-2.3.0/src/other/maxIndex.cpp\n",
            "opensmile-2.3.0/src/classifiers/\n",
            "opensmile-2.3.0/src/classifiers/julius/\n",
            "opensmile-2.3.0/src/classifiers/julius/juliusSink.cpp\n",
            "opensmile-2.3.0/src/classifiers/svmSink.cpp\n",
            "opensmile-2.3.0/src/classifiers/libsvmliveSink.cpp\n",
            "opensmile-2.3.0/src/classifiers/libsvm/\n",
            "opensmile-2.3.0/src/classifiers/libsvm/svm.cpp\n",
            "opensmile-2.3.0/src/classifiers/libsvm/COPYRIGHT\n",
            "opensmile-2.3.0/src/portaudio/\n",
            "opensmile-2.3.0/src/portaudio/portaudioSource.cpp\n",
            "opensmile-2.3.0/src/portaudio/portaudioSink.cpp\n",
            "opensmile-2.3.0/src/portaudio/portaudioDuplex.cpp\n",
            "opensmile-2.3.0/src/portaudio/portaudioWavplayer.cpp\n",
            "opensmile-2.3.0/src/iocore/\n",
            "opensmile-2.3.0/src/iocore/waveSink.cpp\n",
            "opensmile-2.3.0/src/iocore/csvSource.cpp\n",
            "opensmile-2.3.0/src/iocore/arffSource.cpp\n",
            "opensmile-2.3.0/src/iocore/htkSource.cpp\n",
            "opensmile-2.3.0/src/iocore/csvSink.cpp\n",
            "opensmile-2.3.0/src/iocore/waveSinkCut.cpp\n",
            "opensmile-2.3.0/src/iocore/arffSink.cpp\n",
            "opensmile-2.3.0/src/iocore/htkSink.cpp\n",
            "opensmile-2.3.0/src/iocore/datadumpSink.cpp\n",
            "opensmile-2.3.0/src/iocore/waveSource.cpp\n",
            "opensmile-2.3.0/src/functionals/\n",
            "opensmile-2.3.0/src/functionals/functionalMeans.cpp\n",
            "opensmile-2.3.0/src/functionals/functionalTimes.cpp\n",
            "opensmile-2.3.0/src/functionals/functionalPeaks.cpp\n",
            "opensmile-2.3.0/src/functionals/functionalPeaks2.cpp\n",
            "opensmile-2.3.0/src/functionals/functionalSegments.cpp\n",
            "opensmile-2.3.0/src/functionals/functionalSamples.cpp\n",
            "opensmile-2.3.0/src/functionals/functionals.cpp\n",
            "opensmile-2.3.0/src/functionals/functionalPercentiles.cpp\n",
            "opensmile-2.3.0/src/functionals/functionalLpc.cpp\n",
            "opensmile-2.3.0/src/functionals/functionalMoments.cpp\n",
            "opensmile-2.3.0/src/functionals/functionalCrossings.cpp\n",
            "opensmile-2.3.0/src/functionals/functionalModulation.cpp\n",
            "opensmile-2.3.0/src/functionals/functionalDCT.cpp\n",
            "opensmile-2.3.0/src/functionals/functionalOnset.cpp\n",
            "opensmile-2.3.0/src/functionals/functionalExtremes.cpp\n",
            "opensmile-2.3.0/src/functionals/functionalRegression.cpp\n",
            "opensmile-2.3.0/src/functionals/functionalComponent.cpp\n",
            "opensmile-2.3.0/src/include/\n",
            "opensmile-2.3.0/src/include/rnn/\n",
            "opensmile-2.3.0/src/include/rnn/rnnProcessor.hpp\n",
            "opensmile-2.3.0/src/include/rnn/rnn.hpp\n",
            "opensmile-2.3.0/src/include/rnn/rnnSink.hpp\n",
            "opensmile-2.3.0/src/include/rnn/rnnVad2.hpp\n",
            "opensmile-2.3.0/src/include/other/\n",
            "opensmile-2.3.0/src/include/other/bowProducer.hpp\n",
            "opensmile-2.3.0/src/include/other/vectorOperation.hpp\n",
            "opensmile-2.3.0/src/include/other/valbasedSelector.hpp\n",
            "opensmile-2.3.0/src/include/other/maxIndex.hpp\n",
            "opensmile-2.3.0/src/include/other/vectorConcat.hpp\n",
            "opensmile-2.3.0/src/include/examples/\n",
            "opensmile-2.3.0/src/include/examples/componentTemplate.hpp\n",
            "opensmile-2.3.0/src/include/examples/simpleMessageSender.hpp\n",
            "opensmile-2.3.0/src/include/examples/pitchBaseExample.hpp\n",
            "opensmile-2.3.0/src/include/examples/exampleVectorProcessor.hpp\n",
            "opensmile-2.3.0/src/include/examples/exampleProcessor.hpp\n",
            "opensmile-2.3.0/src/include/examples/exampleSink.hpp\n",
            "opensmile-2.3.0/src/include/examples/exampleSource.hpp\n",
            "opensmile-2.3.0/src/include/examples/exampleWindowProcessor.hpp\n",
            "opensmile-2.3.0/src/include/examples/smileComponentExample.hpp\n",
            "opensmile-2.3.0/src/include/iocore/\n",
            "opensmile-2.3.0/src/include/iocore/arffSink.hpp\n",
            "opensmile-2.3.0/src/include/iocore/waveSinkCut.hpp\n",
            "opensmile-2.3.0/src/include/iocore/csvSource.hpp\n",
            "opensmile-2.3.0/src/include/iocore/arffSource.hpp\n",
            "opensmile-2.3.0/src/include/iocore/waveSink.hpp\n",
            "opensmile-2.3.0/src/include/iocore/waveSource.hpp\n",
            "opensmile-2.3.0/src/include/iocore/htkSource.hpp\n",
            "opensmile-2.3.0/src/include/iocore/csvSink.hpp\n",
            "opensmile-2.3.0/src/include/iocore/htkSink.hpp\n",
            "opensmile-2.3.0/src/include/iocore/datadumpSink.hpp\n",
            "opensmile-2.3.0/src/include/rapidjson/\n",
            "opensmile-2.3.0/src/include/rapidjson/rapidjson.h\n",
            "opensmile-2.3.0/src/include/rapidjson/stringbuffer.h\n",
            "opensmile-2.3.0/src/include/rapidjson/reader.h\n",
            "opensmile-2.3.0/src/include/rapidjson/filestream.h\n",
            "opensmile-2.3.0/src/include/rapidjson/writer.h\n",
            "opensmile-2.3.0/src/include/rapidjson/prettywriter.h\n",
            "opensmile-2.3.0/src/include/rapidjson/document.h\n",
            "opensmile-2.3.0/src/include/rapidjson/internal/\n",
            "opensmile-2.3.0/src/include/rapidjson/internal/pow10.h\n",
            "opensmile-2.3.0/src/include/rapidjson/internal/stack.h\n",
            "opensmile-2.3.0/src/include/rapidjson/internal/strfunc.h\n",
            "opensmile-2.3.0/src/include/video/\n",
            "opensmile-2.3.0/src/include/video/openCVSource.hpp\n",
            "opensmile-2.3.0/src/include/video/openCV_OpticalFlow.hpp\n",
            "opensmile-2.3.0/src/include/video/openCV_LBPHistogram.hpp\n",
            "opensmile-2.3.0/src/include/video/openCV_HSVHistogram.hpp\n",
            "opensmile-2.3.0/src/include/dspcore/\n",
            "opensmile-2.3.0/src/include/dspcore/acf.hpp\n",
            "opensmile-2.3.0/src/include/dspcore/windower.hpp\n",
            "opensmile-2.3.0/src/include/dspcore/amdf.hpp\n",
            "opensmile-2.3.0/src/include/dspcore/monoMixdown.hpp\n",
            "opensmile-2.3.0/src/include/dspcore/preemphasis.hpp\n",
            "opensmile-2.3.0/src/include/dspcore/deltaRegression.hpp\n",
            "opensmile-2.3.0/src/include/dspcore/fullinputMean.hpp\n",
            "opensmile-2.3.0/src/include/dspcore/turnDetector.hpp\n",
            "opensmile-2.3.0/src/include/dspcore/vectorPreemphasis.hpp\n",
            "opensmile-2.3.0/src/include/dspcore/framer.hpp\n",
            "opensmile-2.3.0/src/include/dspcore/transformFft.hpp\n",
            "opensmile-2.3.0/src/include/dspcore/fullturnMean.hpp\n",
            "opensmile-2.3.0/src/include/dspcore/fftXg.h\n",
            "opensmile-2.3.0/src/include/dspcore/fftmagphase.hpp\n",
            "opensmile-2.3.0/src/include/dspcore/contourSmoother.hpp\n",
            "opensmile-2.3.0/src/include/dspcore/vectorMVN.hpp\n",
            "opensmile-2.3.0/src/include/smileutil/\n",
            "opensmile-2.3.0/src/include/smileutil/smileUtil.h\n",
            "opensmile-2.3.0/src/include/smileutil/zerosolve.h\n",
            "opensmile-2.3.0/src/include/smileutil/JsonClassesForward.hpp\n",
            "opensmile-2.3.0/src/include/smileutil/JsonClasses.hpp\n",
            "opensmile-2.3.0/src/include/smileutil/smileUtilSpline.h\n",
            "opensmile-2.3.0/src/include/dsp/\n",
            "opensmile-2.3.0/src/include/dsp/specResample.hpp\n",
            "opensmile-2.3.0/src/include/dsp/specScale.hpp\n",
            "opensmile-2.3.0/src/include/dsp/dbA.hpp\n",
            "opensmile-2.3.0/src/include/dsp/smileResample.hpp\n",
            "opensmile-2.3.0/src/include/dsp/vadV1.hpp\n",
            "opensmile-2.3.0/src/include/dsp/signalGenerator.hpp\n",
            "opensmile-2.3.0/src/include/portaudio/\n",
            "opensmile-2.3.0/src/include/portaudio/portaudioSink.hpp\n",
            "opensmile-2.3.0/src/include/portaudio/portaudioDuplex.hpp\n",
            "opensmile-2.3.0/src/include/portaudio/portaudioWavplayer.hpp\n",
            "opensmile-2.3.0/src/include/portaudio/portaudioSource.hpp\n",
            "opensmile-2.3.0/src/include/lld/\n",
            "opensmile-2.3.0/src/include/lld/pitchSmootherViterbi.hpp\n",
            "opensmile-2.3.0/src/include/lld/pitchDirection.hpp\n",
            "opensmile-2.3.0/src/include/lld/tonespec.hpp\n",
            "opensmile-2.3.0/src/include/lld/lsp.hpp\n",
            "opensmile-2.3.0/src/include/lld/harmonics.hpp\n",
            "opensmile-2.3.0/src/include/lld/lpc.hpp\n",
            "opensmile-2.3.0/src/include/lld/formantLpc.hpp\n",
            "opensmile-2.3.0/src/include/lld/pitchShs.hpp\n",
            "opensmile-2.3.0/src/include/lld/cens.hpp\n",
            "opensmile-2.3.0/src/include/lld/formantSmoother.hpp\n",
            "opensmile-2.3.0/src/include/lld/chroma.hpp\n",
            "opensmile-2.3.0/src/include/lld/pitchJitter.hpp\n",
            "opensmile-2.3.0/src/include/lld/tonefilt.hpp\n",
            "opensmile-2.3.0/src/include/functionals/\n",
            "opensmile-2.3.0/src/include/functionals/functionalMoments.hpp\n",
            "opensmile-2.3.0/src/include/functionals/functionalLpc.hpp\n",
            "opensmile-2.3.0/src/include/functionals/functionalOnset.hpp\n",
            "opensmile-2.3.0/src/include/functionals/functionalMeans.hpp\n",
            "opensmile-2.3.0/src/include/functionals/functionals.hpp\n",
            "opensmile-2.3.0/src/include/functionals/functionalCrossings.hpp\n",
            "opensmile-2.3.0/src/include/functionals/functionalPercentiles.hpp\n",
            "opensmile-2.3.0/src/include/functionals/functionalTimes.hpp\n",
            "opensmile-2.3.0/src/include/functionals/functionalModulation.hpp\n",
            "opensmile-2.3.0/src/include/functionals/functionalPeaks.hpp\n",
            "opensmile-2.3.0/src/include/functionals/functionalDCT.hpp\n",
            "opensmile-2.3.0/src/include/functionals/functionalPeaks2.hpp\n",
            "opensmile-2.3.0/src/include/functionals/functionalSegments.hpp\n",
            "opensmile-2.3.0/src/include/functionals/functionalComponent.hpp\n",
            "opensmile-2.3.0/src/include/functionals/functionalRegression.hpp\n",
            "opensmile-2.3.0/src/include/functionals/functionalSamples.hpp\n",
            "opensmile-2.3.0/src/include/functionals/functionalExtremes.hpp\n",
            "opensmile-2.3.0/src/include/classifiers/\n",
            "opensmile-2.3.0/src/include/classifiers/libsvmliveSink.hpp\n",
            "opensmile-2.3.0/src/include/classifiers/libsvm/\n",
            "opensmile-2.3.0/src/include/classifiers/libsvm/COPYRIGHT\n",
            "opensmile-2.3.0/src/include/classifiers/libsvm/svm.h\n",
            "opensmile-2.3.0/src/include/classifiers/svmSink.hpp\n",
            "opensmile-2.3.0/src/include/classifiers/julius/\n",
            "opensmile-2.3.0/src/include/classifiers/julius/juliusSink.hpp\n",
            "opensmile-2.3.0/src/include/classifiers/julius/kwsjKresult.h\n",
            "opensmile-2.3.0/src/include/io/\n",
            "opensmile-2.3.0/src/include/io/libsvmSink.hpp\n",
            "opensmile-2.3.0/src/include/android/\n",
            "opensmile-2.3.0/src/include/android/openslesSource.hpp\n",
            "opensmile-2.3.0/src/include/android/jniMessageInterface.hpp\n",
            "opensmile-2.3.0/src/include/lldcore/\n",
            "opensmile-2.3.0/src/include/lldcore/pitchSmoother.hpp\n",
            "opensmile-2.3.0/src/include/lldcore/mzcr.hpp\n",
            "opensmile-2.3.0/src/include/lldcore/plp.hpp\n",
            "opensmile-2.3.0/src/include/lldcore/mfcc.hpp\n",
            "opensmile-2.3.0/src/include/lldcore/pitchACF.hpp\n",
            "opensmile-2.3.0/src/include/lldcore/spectral.hpp\n",
            "opensmile-2.3.0/src/include/lldcore/intensity.hpp\n",
            "opensmile-2.3.0/src/include/lldcore/pitchBase.hpp\n",
            "opensmile-2.3.0/src/include/lldcore/melspec.hpp\n",
            "opensmile-2.3.0/src/include/lldcore/energy.hpp\n",
            "opensmile-2.3.0/src/include/core/\n",
            "opensmile-2.3.0/src/include/core/dataSink.hpp\n",
            "opensmile-2.3.0/src/include/core/versionInfo.hpp\n",
            "opensmile-2.3.0/src/include/core/vectorTransform.hpp\n",
            "opensmile-2.3.0/src/include/core/componentList.hpp\n",
            "opensmile-2.3.0/src/include/core/dataReader.hpp\n",
            "opensmile-2.3.0/src/include/core/commandlineParser.hpp\n",
            "opensmile-2.3.0/src/include/core/exceptions.hpp\n",
            "opensmile-2.3.0/src/include/core/dataSource.hpp\n",
            "opensmile-2.3.0/src/include/core/smileCommon.hpp\n",
            "opensmile-2.3.0/src/include/core/dataSelector.hpp\n",
            "opensmile-2.3.0/src/include/core/dataProcessor.hpp\n",
            "opensmile-2.3.0/src/include/core/winToVecProcessor.hpp\n",
            "opensmile-2.3.0/src/include/core/nullSink.hpp\n",
            "opensmile-2.3.0/src/include/core/smileLogger.hpp\n",
            "opensmile-2.3.0/src/include/core/configManager.hpp\n",
            "opensmile-2.3.0/src/include/core/dataMemory.hpp\n",
            "opensmile-2.3.0/src/include/core/svn_version.hpp\n",
            "opensmile-2.3.0/src/include/core/smileTypes.h\n",
            "opensmile-2.3.0/src/include/core/componentManager.hpp\n",
            "opensmile-2.3.0/src/include/core/vecToWinProcessor.hpp\n",
            "opensmile-2.3.0/src/include/core/dataWriter.hpp\n",
            "opensmile-2.3.0/src/include/core/windowProcessor.hpp\n",
            "opensmile-2.3.0/src/include/core/vectorProcessor.hpp\n",
            "opensmile-2.3.0/src/include/core/smileComponent.hpp\n",
            "opensmile-2.3.0/src/video/\n",
            "opensmile-2.3.0/src/video/openCVSource.cpp\n",
            "opensmile-2.3.0/src/io/\n",
            "opensmile-2.3.0/src/io/libsvmSink.cpp\n",
            "- aclocal.\n",
            "- autoconf.\n",
            "- autoheader.\n",
            "- automake.\n",
            "- libtoolize\n",
            "libtoolize: putting auxiliary files in '.'.\n",
            "libtoolize: linking file './ltmain.sh'\n",
            "libtoolize: putting macros in AC_CONFIG_MACRO_DIRS, 'm4'.\n",
            "libtoolize: linking file 'm4/libtool.m4'\n",
            "libtoolize: linking file 'm4/ltoptions.m4'\n",
            "libtoolize: linking file 'm4/ltsugar.m4'\n",
            "libtoolize: linking file 'm4/ltversion.m4'\n",
            "libtoolize: linking file 'm4/lt~obsolete.m4'\n"
          ],
          "name": "stdout"
        },
        {
          "output_type": "stream",
          "text": [
            "configure.ac:8: installing './compile'\n",
            "configure.ac:10: installing './config.guess'\n",
            "configure.ac:10: installing './config.sub'\n",
            "configure.ac:4: installing './install-sh'\n",
            "configure.ac:10: error: required file './ltmain.sh' not found\n",
            "configure.ac:4: installing './missing'\n",
            "Makefile.am: installing './depcomp'\n"
          ],
          "name": "stderr"
        }
      ]
    },
    {
      "cell_type": "code",
      "metadata": {
        "id": "ugE04cllMKVk",
        "outputId": "50d30dac-7851-4b63-a18f-764bd14a7be1",
        "colab": {
          "base_uri": "https://localhost:8080/",
          "height": 268
        }
      },
      "source": [
        "%%bash\n",
        "export PATH=$PATH:/home/linuxbrew/.linuxbrew/bin/\n",
        "\n",
        "brew install autoconf automake libtool m4 gcc\n",
        "cd opensmile-2.3.0\n",
        "bash autogen.sh"
      ],
      "execution_count": 6,
      "outputs": [
        {
          "output_type": "stream",
          "text": [
            "- aclocal.\n",
            "- autoconf.\n",
            "- autoheader.\n",
            "- automake.\n",
            "- libtoolize\n"
          ],
          "name": "stdout"
        },
        {
          "output_type": "stream",
          "text": [
            "Warning: autoconf 2.69_2 is already installed and up-to-date\n",
            "To reinstall 2.69_2, run `brew reinstall autoconf`\n",
            "Warning: automake 1.16.2_1 is already installed and up-to-date\n",
            "To reinstall 1.16.2_1, run `brew reinstall automake`\n",
            "Warning: libtool 2.4.6_4 is already installed and up-to-date\n",
            "To reinstall 2.4.6_4, run `brew reinstall libtool`\n",
            "Warning: m4 1.4.18 is already installed and up-to-date\n",
            "To reinstall 1.4.18, run `brew reinstall m4`\n",
            "Warning: gcc 5.5.0_7 is already installed and up-to-date\n",
            "To reinstall 5.5.0_7, run `brew reinstall gcc`\n"
          ],
          "name": "stderr"
        }
      ]
    },
    {
      "cell_type": "code",
      "metadata": {
        "id": "8EoOsBhSMEL7",
        "outputId": "5604ce85-8283-49e9-8da7-1d2a4bf6ad8f",
        "colab": {
          "base_uri": "https://localhost:8080/",
          "height": 636
        }
      },
      "source": [
        "%%bash\n",
        "\n",
        "apt-cache madison file\n",
        "\n",
        "apt-get install file=1:5.32-2ubuntu0.4 -V"
      ],
      "execution_count": 7,
      "outputs": [
        {
          "output_type": "stream",
          "text": [
            "      file | 1:5.32-2ubuntu0.4 | http://archive.ubuntu.com/ubuntu bionic-updates/main amd64 Packages\n",
            "      file | 1:5.32-2ubuntu0.4 | http://security.ubuntu.com/ubuntu bionic-security/main amd64 Packages\n",
            "      file |   1:5.32-2 | http://archive.ubuntu.com/ubuntu bionic/main amd64 Packages\n",
            "Reading package lists...\n",
            "Building dependency tree...\n",
            "Reading state information...\n",
            "The following additional packages will be installed:\n",
            "   libmagic-mgc (1:5.32-2ubuntu0.4)\n",
            "   libmagic1 (1:5.32-2ubuntu0.4)\n",
            "The following NEW packages will be installed:\n",
            "   file (1:5.32-2ubuntu0.4)\n",
            "   libmagic-mgc (1:5.32-2ubuntu0.4)\n",
            "   libmagic1 (1:5.32-2ubuntu0.4)\n",
            "0 upgraded, 3 newly installed, 0 to remove and 21 not upgraded.\n",
            "Need to get 275 kB of archives.\n",
            "After this operation, 5,297 kB of additional disk space will be used.\n",
            "Get:1 http://archive.ubuntu.com/ubuntu bionic-updates/main amd64 libmagic-mgc amd64 1:5.32-2ubuntu0.4 [184 kB]\n",
            "Get:2 http://archive.ubuntu.com/ubuntu bionic-updates/main amd64 libmagic1 amd64 1:5.32-2ubuntu0.4 [68.6 kB]\n",
            "Get:3 http://archive.ubuntu.com/ubuntu bionic-updates/main amd64 file amd64 1:5.32-2ubuntu0.4 [22.1 kB]\n",
            "Fetched 275 kB in 1s (298 kB/s)\n",
            "Selecting previously unselected package libmagic-mgc.\r\n",
            "(Reading database ... \r(Reading database ... 5%\r(Reading database ... 10%\r(Reading database ... 15%\r(Reading database ... 20%\r(Reading database ... 25%\r(Reading database ... 30%\r(Reading database ... 35%\r(Reading database ... 40%\r(Reading database ... 45%\r(Reading database ... 50%\r(Reading database ... 55%\r(Reading database ... 60%\r(Reading database ... 65%\r(Reading database ... 70%\r(Reading database ... 75%\r(Reading database ... 80%\r(Reading database ... 85%\r(Reading database ... 90%\r(Reading database ... 95%\r(Reading database ... 100%\r(Reading database ... 160555 files and directories currently installed.)\r\n",
            "Preparing to unpack .../libmagic-mgc_1%3a5.32-2ubuntu0.4_amd64.deb ...\r\n",
            "Unpacking libmagic-mgc (1:5.32-2ubuntu0.4) ...\r\n",
            "Selecting previously unselected package libmagic1:amd64.\r\n",
            "Preparing to unpack .../libmagic1_1%3a5.32-2ubuntu0.4_amd64.deb ...\r\n",
            "Unpacking libmagic1:amd64 (1:5.32-2ubuntu0.4) ...\r\n",
            "Selecting previously unselected package file.\r\n",
            "Preparing to unpack .../file_1%3a5.32-2ubuntu0.4_amd64.deb ...\r\n",
            "Unpacking file (1:5.32-2ubuntu0.4) ...\r\n",
            "Setting up libmagic-mgc (1:5.32-2ubuntu0.4) ...\r\n",
            "Setting up libmagic1:amd64 (1:5.32-2ubuntu0.4) ...\r\n",
            "Setting up file (1:5.32-2ubuntu0.4) ...\r\n",
            "Processing triggers for man-db (2.8.3-2ubuntu0.1) ...\r\n",
            "Processing triggers for libc-bin (2.27-3ubuntu1.2) ...\r\n",
            "/sbin/ldconfig.real: /usr/local/lib/python3.6/dist-packages/ideep4py/lib/libmkldnn.so.0 is not a symbolic link\r\n",
            "\r\n"
          ],
          "name": "stdout"
        }
      ]
    },
    {
      "cell_type": "code",
      "metadata": {
        "id": "GYMQYKzst5OD",
        "outputId": "3b98c03e-0b00-42c3-93d2-6dfdaabc9918",
        "colab": {
          "base_uri": "https://localhost:8080/",
          "height": 1000
        }
      },
      "source": [
        "%%bash\n",
        "export PATH=$PATH:/home/linuxbrew/.linuxbrew/bin/\n",
        "cd opensmile-2.3.0\n",
        "\n",
        "./configure"
      ],
      "execution_count": 8,
      "outputs": [
        {
          "output_type": "stream",
          "text": [
            "checking for a BSD-compatible install... /usr/bin/install -c\n",
            "checking whether build environment is sane... yes\n",
            "checking for a thread-safe mkdir -p... /bin/mkdir -p\n",
            "checking for gawk... no\n",
            "checking for mawk... mawk\n",
            "checking whether make sets $(MAKE)... yes\n",
            "checking whether make supports nested variables... yes\n",
            "checking for gcc... gcc\n",
            "checking whether the C compiler works... yes\n",
            "checking for C compiler default output file name... a.out\n",
            "checking for suffix of executables... \n",
            "checking whether we are cross compiling... no\n",
            "checking for suffix of object files... o\n",
            "checking whether we are using the GNU C compiler... yes\n",
            "checking whether gcc accepts -g... yes\n",
            "checking for gcc option to accept ISO C89... none needed\n",
            "checking whether gcc understands -c and -o together... yes\n",
            "checking whether make supports the include directive... yes (GNU style)\n",
            "checking dependency style of gcc... gcc3\n",
            "checking for g++... g++\n",
            "checking whether we are using the GNU C++ compiler... yes\n",
            "checking whether g++ accepts -g... yes\n",
            "checking dependency style of g++... gcc3\n",
            "checking build system type... x86_64-pc-linux-gnu\n",
            "checking host system type... x86_64-pc-linux-gnu\n",
            "checking how to print strings... printf\n",
            "checking for a sed that does not truncate output... /bin/sed\n",
            "checking for grep that handles long lines and -e... /bin/grep\n",
            "checking for egrep... /bin/grep -E\n",
            "checking for fgrep... /bin/grep -F\n",
            "checking for ld used by gcc... /usr/bin/ld\n",
            "checking if the linker (/usr/bin/ld) is GNU ld... yes\n",
            "checking for BSD- or MS-compatible name lister (nm)... /usr/bin/nm -B\n",
            "checking the name lister (/usr/bin/nm -B) interface... BSD nm\n",
            "checking whether ln -s works... yes\n",
            "checking the maximum length of command line arguments... 1572864\n",
            "checking how to convert x86_64-pc-linux-gnu file names to x86_64-pc-linux-gnu format... func_convert_file_noop\n",
            "checking how to convert x86_64-pc-linux-gnu file names to toolchain format... func_convert_file_noop\n",
            "checking for /usr/bin/ld option to reload object files... -r\n",
            "checking for objdump... objdump\n",
            "checking how to recognize dependent libraries... pass_all\n",
            "checking for dlltool... dlltool\n",
            "checking how to associate runtime and link libraries... printf %s\\n\n",
            "checking for ar... ar\n",
            "checking for archiver @FILE support... @\n",
            "checking for strip... strip\n",
            "checking for ranlib... ranlib\n",
            "checking command to parse /usr/bin/nm -B output from gcc object... ok\n",
            "checking for sysroot... no\n",
            "checking for a working dd... /bin/dd\n",
            "checking how to truncate binary pipes... /bin/dd bs=4096 count=1\n",
            "checking for mt... no\n",
            "checking if : is a manifest tool... no\n",
            "checking how to run the C preprocessor... gcc -E\n",
            "checking for ANSI C header files... yes\n",
            "checking for sys/types.h... yes\n",
            "checking for sys/stat.h... yes\n",
            "checking for stdlib.h... yes\n",
            "checking for string.h... yes\n",
            "checking for memory.h... yes\n",
            "checking for strings.h... yes\n",
            "checking for inttypes.h... yes\n",
            "checking for stdint.h... yes\n",
            "checking for unistd.h... yes\n",
            "checking for dlfcn.h... yes\n",
            "checking for objdir... .libs\n",
            "checking if gcc supports -fno-rtti -fno-exceptions... no\n",
            "checking for gcc option to produce PIC... -fPIC -DPIC\n",
            "checking if gcc PIC flag -fPIC -DPIC works... yes\n",
            "checking if gcc static flag -static works... yes\n",
            "checking if gcc supports -c -o file.o... yes\n",
            "checking if gcc supports -c -o file.o... (cached) yes\n",
            "checking whether the gcc linker (/usr/bin/ld -m elf_x86_64) supports shared libraries... yes\n",
            "checking whether -lc should be explicitly linked in... no\n",
            "checking dynamic linker characteristics... GNU/Linux ld.so\n",
            "checking how to hardcode library paths into programs... immediate\n",
            "checking whether stripping libraries is possible... yes\n",
            "checking if libtool supports shared libraries... yes\n",
            "checking whether to build shared libraries... yes\n",
            "checking whether to build static libraries... yes\n",
            "checking how to run the C++ preprocessor... g++ -E\n",
            "checking for ld used by g++... /usr/bin/ld -m elf_x86_64\n",
            "checking if the linker (/usr/bin/ld -m elf_x86_64) is GNU ld... yes\n",
            "checking whether the g++ linker (/usr/bin/ld -m elf_x86_64) supports shared libraries... yes\n",
            "checking for g++ option to produce PIC... -fPIC -DPIC\n",
            "checking if g++ PIC flag -fPIC -DPIC works... yes\n",
            "checking if g++ static flag -static works... yes\n",
            "checking if g++ supports -c -o file.o... yes\n",
            "checking if g++ supports -c -o file.o... (cached) yes\n",
            "checking whether the g++ linker (/usr/bin/ld -m elf_x86_64) supports shared libraries... yes\n",
            "checking dynamic linker characteristics... (cached) GNU/Linux ld.so\n",
            "checking how to hardcode library paths into programs... immediate\n",
            "checking for Pa_Initialize in -lportaudio... no\n",
            "checking for Pa_GetHostApiCount in -lportaudio... no\n",
            "checking for the pthreads library -lpthreads... no\n",
            "checking whether pthreads work without any flags... no\n",
            "checking whether pthreads work with -Kthread... no\n",
            "checking whether pthreads work with -kthread... no\n",
            "checking for the pthreads library -llthread... no\n",
            "checking for the pthreads library -lpthread... yes\n",
            "checking for joinable pthread attribute... PTHREAD_CREATE_JOINABLE\n",
            "checking if more special flags are required for pthreads... no\n",
            "checking that generated files are newer than configure... done\n",
            "configure: creating ./config.status\n",
            "config.status: creating Makefile\n",
            "config.status: creating config.h\n",
            "config.status: executing depfiles commands\n",
            "config.status: executing libtool commands\n"
          ],
          "name": "stdout"
        },
        {
          "output_type": "stream",
          "text": [
            "configure: WARNING: Compiling WITHOUT PortAudio support!! Sound recording will probably be broken!\n"
          ],
          "name": "stderr"
        }
      ]
    },
    {
      "cell_type": "code",
      "metadata": {
        "id": "47gkqEkaNOad",
        "outputId": "6fee4be3-e783-4884-929e-dc0d71af3634",
        "colab": {
          "base_uri": "https://localhost:8080/",
          "height": 1000
        }
      },
      "source": [
        "%%bash\n",
        "export PATH=$PATH:/home/linuxbrew/.linuxbrew/bin/\n",
        "cd opensmile-2.3.0\n",
        "make -j4; make"
      ],
      "execution_count": 9,
      "outputs": [
        {
          "output_type": "stream",
          "text": [
            "(CDPATH=\"${ZSH_VERSION+.}:\" && cd . && /bin/bash /content/opensmile-2.3.0/missing autoheader)\n",
            "rm -f stamp-h1\n",
            "touch config.h.in\n",
            "cd . && /bin/bash ./config.status config.h\n",
            "config.status: creating config.h\n",
            "config.status: config.h is unchanged\n",
            "make  all-am\n",
            "make[1]: Entering directory '/content/opensmile-2.3.0'\n",
            "/bin/bash ./libtool  --tag=CXX   --mode=compile g++ -DHAVE_CONFIG_H -I.  -Isrc/include -Iprogsrc/include    -ggdb    -g -O2 -MT src/dsp/libopensmile_la-specScale.lo -MD -MP -MF src/dsp/.deps/libopensmile_la-specScale.Tpo -c -o src/dsp/libopensmile_la-specScale.lo `test -f 'src/dsp/specScale.cpp' || echo './'`src/dsp/specScale.cpp\n",
            "/bin/bash ./libtool  --tag=CXX   --mode=compile g++ -DHAVE_CONFIG_H -I.  -Isrc/include -Iprogsrc/include    -ggdb    -g -O2 -MT src/lld/libopensmile_la-cens.lo -MD -MP -MF src/lld/.deps/libopensmile_la-cens.Tpo -c -o src/lld/libopensmile_la-cens.lo `test -f 'src/lld/cens.cpp' || echo './'`src/lld/cens.cpp\n",
            "/bin/bash ./libtool  --tag=CXX   --mode=compile g++ -DHAVE_CONFIG_H -I.  -Isrc/include -Iprogsrc/include    -ggdb    -g -O2 -MT src/lld/libopensmile_la-chroma.lo -MD -MP -MF src/lld/.deps/libopensmile_la-chroma.Tpo -c -o src/lld/libopensmile_la-chroma.lo `test -f 'src/lld/chroma.cpp' || echo './'`src/lld/chroma.cpp\n",
            "/bin/bash ./libtool  --tag=CXX   --mode=compile g++ -DHAVE_CONFIG_H -I.  -Isrc/include -Iprogsrc/include    -ggdb    -g -O2 -MT src/lld/libopensmile_la-harmonics.lo -MD -MP -MF src/lld/.deps/libopensmile_la-harmonics.Tpo -c -o src/lld/libopensmile_la-harmonics.lo `test -f 'src/lld/harmonics.cpp' || echo './'`src/lld/harmonics.cpp\n",
            "libtool: compile:  g++ -DHAVE_CONFIG_H -I. -Isrc/include -Iprogsrc/include -ggdb -g -O2 -MT src/lld/libopensmile_la-cens.lo -MD -MP -MF src/lld/.deps/libopensmile_la-cens.Tpo -c src/lld/cens.cpp  -fPIC -DPIC -o src/lld/.libs/libopensmile_la-cens.o\n",
            "libtool: compile:  g++ -DHAVE_CONFIG_H -I. -Isrc/include -Iprogsrc/include -ggdb -g -O2 -MT src/dsp/libopensmile_la-specScale.lo -MD -MP -MF src/dsp/.deps/libopensmile_la-specScale.Tpo -c src/dsp/specScale.cpp  -fPIC -DPIC -o src/dsp/.libs/libopensmile_la-specScale.o\n",
            "libtool: compile:  g++ -DHAVE_CONFIG_H -I. -Isrc/include -Iprogsrc/include -ggdb -g -O2 -MT src/lld/libopensmile_la-chroma.lo -MD -MP -MF src/lld/.deps/libopensmile_la-chroma.Tpo -c src/lld/chroma.cpp  -fPIC -DPIC -o src/lld/.libs/libopensmile_la-chroma.o\n",
            "libtool: compile:  g++ -DHAVE_CONFIG_H -I. -Isrc/include -Iprogsrc/include -ggdb -g -O2 -MT src/lld/libopensmile_la-harmonics.lo -MD -MP -MF src/lld/.deps/libopensmile_la-harmonics.Tpo -c src/lld/harmonics.cpp  -fPIC -DPIC -o src/lld/.libs/libopensmile_la-harmonics.o\n",
            "libtool: compile:  g++ -DHAVE_CONFIG_H -I. -Isrc/include -Iprogsrc/include -ggdb -g -O2 -MT src/lld/libopensmile_la-chroma.lo -MD -MP -MF src/lld/.deps/libopensmile_la-chroma.Tpo -c src/lld/chroma.cpp -o src/lld/libopensmile_la-chroma.o >/dev/null 2>&1\n",
            "libtool: compile:  g++ -DHAVE_CONFIG_H -I. -Isrc/include -Iprogsrc/include -ggdb -g -O2 -MT src/lld/libopensmile_la-cens.lo -MD -MP -MF src/lld/.deps/libopensmile_la-cens.Tpo -c src/lld/cens.cpp -o src/lld/libopensmile_la-cens.o >/dev/null 2>&1\n",
            "libtool: compile:  g++ -DHAVE_CONFIG_H -I. -Isrc/include -Iprogsrc/include -ggdb -g -O2 -MT src/dsp/libopensmile_la-specScale.lo -MD -MP -MF src/dsp/.deps/libopensmile_la-specScale.Tpo -c src/dsp/specScale.cpp -o src/dsp/libopensmile_la-specScale.o >/dev/null 2>&1\n",
            "mv -f src/lld/.deps/libopensmile_la-chroma.Tpo src/lld/.deps/libopensmile_la-chroma.Plo\n",
            "/bin/bash ./libtool  --tag=CXX   --mode=compile g++ -DHAVE_CONFIG_H -I.  -Isrc/include -Iprogsrc/include    -ggdb    -g -O2 -MT src/lld/libopensmile_la-formantLpc.lo -MD -MP -MF src/lld/.deps/libopensmile_la-formantLpc.Tpo -c -o src/lld/libopensmile_la-formantLpc.lo `test -f 'src/lld/formantLpc.cpp' || echo './'`src/lld/formantLpc.cpp\n",
            "libtool: compile:  g++ -DHAVE_CONFIG_H -I. -Isrc/include -Iprogsrc/include -ggdb -g -O2 -MT src/lld/libopensmile_la-formantLpc.lo -MD -MP -MF src/lld/.deps/libopensmile_la-formantLpc.Tpo -c src/lld/formantLpc.cpp  -fPIC -DPIC -o src/lld/.libs/libopensmile_la-formantLpc.o\n",
            "libtool: compile:  g++ -DHAVE_CONFIG_H -I. -Isrc/include -Iprogsrc/include -ggdb -g -O2 -MT src/lld/libopensmile_la-harmonics.lo -MD -MP -MF src/lld/.deps/libopensmile_la-harmonics.Tpo -c src/lld/harmonics.cpp -o src/lld/libopensmile_la-harmonics.o >/dev/null 2>&1\n",
            "mv -f src/lld/.deps/libopensmile_la-cens.Tpo src/lld/.deps/libopensmile_la-cens.Plo\n",
            "/bin/bash ./libtool  --tag=CXX   --mode=compile g++ -DHAVE_CONFIG_H -I.  -Isrc/include -Iprogsrc/include    -ggdb    -g -O2 -MT src/lld/libopensmile_la-formantSmoother.lo -MD -MP -MF src/lld/.deps/libopensmile_la-formantSmoother.Tpo -c -o src/lld/libopensmile_la-formantSmoother.lo `test -f 'src/lld/formantSmoother.cpp' || echo './'`src/lld/formantSmoother.cpp\n",
            "libtool: compile:  g++ -DHAVE_CONFIG_H -I. -Isrc/include -Iprogsrc/include -ggdb -g -O2 -MT src/lld/libopensmile_la-formantSmoother.lo -MD -MP -MF src/lld/.deps/libopensmile_la-formantSmoother.Tpo -c src/lld/formantSmoother.cpp  -fPIC -DPIC -o src/lld/.libs/libopensmile_la-formantSmoother.o\n",
            "mv -f src/dsp/.deps/libopensmile_la-specScale.Tpo src/dsp/.deps/libopensmile_la-specScale.Plo\n",
            "/bin/bash ./libtool  --tag=CXX   --mode=compile g++ -DHAVE_CONFIG_H -I.  -Isrc/include -Iprogsrc/include    -ggdb    -g -O2 -MT src/lld/libopensmile_la-lpc.lo -MD -MP -MF src/lld/.deps/libopensmile_la-lpc.Tpo -c -o src/lld/libopensmile_la-lpc.lo `test -f 'src/lld/lpc.cpp' || echo './'`src/lld/lpc.cpp\n",
            "libtool: compile:  g++ -DHAVE_CONFIG_H -I. -Isrc/include -Iprogsrc/include -ggdb -g -O2 -MT src/lld/libopensmile_la-lpc.lo -MD -MP -MF src/lld/.deps/libopensmile_la-lpc.Tpo -c src/lld/lpc.cpp  -fPIC -DPIC -o src/lld/.libs/libopensmile_la-lpc.o\n",
            "libtool: compile:  g++ -DHAVE_CONFIG_H -I. -Isrc/include -Iprogsrc/include -ggdb -g -O2 -MT src/lld/libopensmile_la-formantLpc.lo -MD -MP -MF src/lld/.deps/libopensmile_la-formantLpc.Tpo -c src/lld/formantLpc.cpp -o src/lld/libopensmile_la-formantLpc.o >/dev/null 2>&1\n",
            "libtool: compile:  g++ -DHAVE_CONFIG_H -I. -Isrc/include -Iprogsrc/include -ggdb -g -O2 -MT src/lld/libopensmile_la-formantSmoother.lo -MD -MP -MF src/lld/.deps/libopensmile_la-formantSmoother.Tpo -c src/lld/formantSmoother.cpp -o src/lld/libopensmile_la-formantSmoother.o >/dev/null 2>&1\n",
            "libtool: compile:  g++ -DHAVE_CONFIG_H -I. -Isrc/include -Iprogsrc/include -ggdb -g -O2 -MT src/lld/libopensmile_la-lpc.lo -MD -MP -MF src/lld/.deps/libopensmile_la-lpc.Tpo -c src/lld/lpc.cpp -o src/lld/libopensmile_la-lpc.o >/dev/null 2>&1\n",
            "mv -f src/lld/.deps/libopensmile_la-harmonics.Tpo src/lld/.deps/libopensmile_la-harmonics.Plo\n",
            "/bin/bash ./libtool  --tag=CXX   --mode=compile g++ -DHAVE_CONFIG_H -I.  -Isrc/include -Iprogsrc/include    -ggdb    -g -O2 -MT src/lld/libopensmile_la-pitchDirection.lo -MD -MP -MF src/lld/.deps/libopensmile_la-pitchDirection.Tpo -c -o src/lld/libopensmile_la-pitchDirection.lo `test -f 'src/lld/pitchDirection.cpp' || echo './'`src/lld/pitchDirection.cpp\n",
            "mv -f src/lld/.deps/libopensmile_la-formantLpc.Tpo src/lld/.deps/libopensmile_la-formantLpc.Plo\n",
            "/bin/bash ./libtool  --tag=CXX   --mode=compile g++ -DHAVE_CONFIG_H -I.  -Isrc/include -Iprogsrc/include    -ggdb    -g -O2 -MT src/lld/libopensmile_la-pitchJitter.lo -MD -MP -MF src/lld/.deps/libopensmile_la-pitchJitter.Tpo -c -o src/lld/libopensmile_la-pitchJitter.lo `test -f 'src/lld/pitchJitter.cpp' || echo './'`src/lld/pitchJitter.cpp\n",
            "libtool: compile:  g++ -DHAVE_CONFIG_H -I. -Isrc/include -Iprogsrc/include -ggdb -g -O2 -MT src/lld/libopensmile_la-pitchDirection.lo -MD -MP -MF src/lld/.deps/libopensmile_la-pitchDirection.Tpo -c src/lld/pitchDirection.cpp  -fPIC -DPIC -o src/lld/.libs/libopensmile_la-pitchDirection.o\n",
            "libtool: compile:  g++ -DHAVE_CONFIG_H -I. -Isrc/include -Iprogsrc/include -ggdb -g -O2 -MT src/lld/libopensmile_la-pitchJitter.lo -MD -MP -MF src/lld/.deps/libopensmile_la-pitchJitter.Tpo -c src/lld/pitchJitter.cpp  -fPIC -DPIC -o src/lld/.libs/libopensmile_la-pitchJitter.o\n",
            "mv -f src/lld/.deps/libopensmile_la-formantSmoother.Tpo src/lld/.deps/libopensmile_la-formantSmoother.Plo\n",
            "/bin/bash ./libtool  --tag=CXX   --mode=compile g++ -DHAVE_CONFIG_H -I.  -Isrc/include -Iprogsrc/include    -ggdb    -g -O2 -MT src/lld/libopensmile_la-pitchShs.lo -MD -MP -MF src/lld/.deps/libopensmile_la-pitchShs.Tpo -c -o src/lld/libopensmile_la-pitchShs.lo `test -f 'src/lld/pitchShs.cpp' || echo './'`src/lld/pitchShs.cpp\n",
            "libtool: compile:  g++ -DHAVE_CONFIG_H -I. -Isrc/include -Iprogsrc/include -ggdb -g -O2 -MT src/lld/libopensmile_la-pitchShs.lo -MD -MP -MF src/lld/.deps/libopensmile_la-pitchShs.Tpo -c src/lld/pitchShs.cpp  -fPIC -DPIC -o src/lld/.libs/libopensmile_la-pitchShs.o\n",
            "mv -f src/lld/.deps/libopensmile_la-lpc.Tpo src/lld/.deps/libopensmile_la-lpc.Plo\n",
            "/bin/bash ./libtool  --tag=CXX   --mode=compile g++ -DHAVE_CONFIG_H -I.  -Isrc/include -Iprogsrc/include    -ggdb    -g -O2 -MT src/lld/libopensmile_la-pitchSmootherViterbi.lo -MD -MP -MF src/lld/.deps/libopensmile_la-pitchSmootherViterbi.Tpo -c -o src/lld/libopensmile_la-pitchSmootherViterbi.lo `test -f 'src/lld/pitchSmootherViterbi.cpp' || echo './'`src/lld/pitchSmootherViterbi.cpp\n",
            "libtool: compile:  g++ -DHAVE_CONFIG_H -I. -Isrc/include -Iprogsrc/include -ggdb -g -O2 -MT src/lld/libopensmile_la-pitchSmootherViterbi.lo -MD -MP -MF src/lld/.deps/libopensmile_la-pitchSmootherViterbi.Tpo -c src/lld/pitchSmootherViterbi.cpp  -fPIC -DPIC -o src/lld/.libs/libopensmile_la-pitchSmootherViterbi.o\n",
            "libtool: compile:  g++ -DHAVE_CONFIG_H -I. -Isrc/include -Iprogsrc/include -ggdb -g -O2 -MT src/lld/libopensmile_la-pitchDirection.lo -MD -MP -MF src/lld/.deps/libopensmile_la-pitchDirection.Tpo -c src/lld/pitchDirection.cpp -o src/lld/libopensmile_la-pitchDirection.o >/dev/null 2>&1\n",
            "libtool: compile:  g++ -DHAVE_CONFIG_H -I. -Isrc/include -Iprogsrc/include -ggdb -g -O2 -MT src/lld/libopensmile_la-pitchShs.lo -MD -MP -MF src/lld/.deps/libopensmile_la-pitchShs.Tpo -c src/lld/pitchShs.cpp -o src/lld/libopensmile_la-pitchShs.o >/dev/null 2>&1\n",
            "libtool: compile:  g++ -DHAVE_CONFIG_H -I. -Isrc/include -Iprogsrc/include -ggdb -g -O2 -MT src/lld/libopensmile_la-pitchJitter.lo -MD -MP -MF src/lld/.deps/libopensmile_la-pitchJitter.Tpo -c src/lld/pitchJitter.cpp -o src/lld/libopensmile_la-pitchJitter.o >/dev/null 2>&1\n",
            "libtool: compile:  g++ -DHAVE_CONFIG_H -I. -Isrc/include -Iprogsrc/include -ggdb -g -O2 -MT src/lld/libopensmile_la-pitchSmootherViterbi.lo -MD -MP -MF src/lld/.deps/libopensmile_la-pitchSmootherViterbi.Tpo -c src/lld/pitchSmootherViterbi.cpp -o src/lld/libopensmile_la-pitchSmootherViterbi.o >/dev/null 2>&1\n",
            "mv -f src/lld/.deps/libopensmile_la-pitchDirection.Tpo src/lld/.deps/libopensmile_la-pitchDirection.Plo\n",
            "/bin/bash ./libtool  --tag=CXX   --mode=compile g++ -DHAVE_CONFIG_H -I.  -Isrc/include -Iprogsrc/include    -ggdb    -g -O2 -MT src/lld/libopensmile_la-tonefilt.lo -MD -MP -MF src/lld/.deps/libopensmile_la-tonefilt.Tpo -c -o src/lld/libopensmile_la-tonefilt.lo `test -f 'src/lld/tonefilt.cpp' || echo './'`src/lld/tonefilt.cpp\n",
            "libtool: compile:  g++ -DHAVE_CONFIG_H -I. -Isrc/include -Iprogsrc/include -ggdb -g -O2 -MT src/lld/libopensmile_la-tonefilt.lo -MD -MP -MF src/lld/.deps/libopensmile_la-tonefilt.Tpo -c src/lld/tonefilt.cpp  -fPIC -DPIC -o src/lld/.libs/libopensmile_la-tonefilt.o\n",
            "mv -f src/lld/.deps/libopensmile_la-pitchShs.Tpo src/lld/.deps/libopensmile_la-pitchShs.Plo\n",
            "/bin/bash ./libtool  --tag=CXX   --mode=compile g++ -DHAVE_CONFIG_H -I.  -Isrc/include -Iprogsrc/include    -ggdb    -g -O2 -MT src/lld/libopensmile_la-tonespec.lo -MD -MP -MF src/lld/.deps/libopensmile_la-tonespec.Tpo -c -o src/lld/libopensmile_la-tonespec.lo `test -f 'src/lld/tonespec.cpp' || echo './'`src/lld/tonespec.cpp\n",
            "libtool: compile:  g++ -DHAVE_CONFIG_H -I. -Isrc/include -Iprogsrc/include -ggdb -g -O2 -MT src/lld/libopensmile_la-tonespec.lo -MD -MP -MF src/lld/.deps/libopensmile_la-tonespec.Tpo -c src/lld/tonespec.cpp  -fPIC -DPIC -o src/lld/.libs/libopensmile_la-tonespec.o\n",
            "mv -f src/lld/.deps/libopensmile_la-pitchJitter.Tpo src/lld/.deps/libopensmile_la-pitchJitter.Plo\n",
            "mv -f src/lld/.deps/libopensmile_la-pitchSmootherViterbi.Tpo src/lld/.deps/libopensmile_la-pitchSmootherViterbi.Plo\n",
            "g++ -DHAVE_CONFIG_H -I.  -Isrc/include -Iprogsrc/include    -ggdb    -g -O2 -MT progsrc/smilextract/SMILExtract-SMILExtract.o -MD -MP -MF progsrc/smilextract/.deps/SMILExtract-SMILExtract.Tpo -c -o progsrc/smilextract/SMILExtract-SMILExtract.o `test -f 'progsrc/smilextract/SMILExtract.cpp' || echo './'`progsrc/smilextract/SMILExtract.cpp\n",
            "/bin/bash ./libtool  --tag=CXX   --mode=compile g++ -DHAVE_CONFIG_H -I.  -Isrc/include -Iprogsrc/include    -ggdb    -g -O2 -MT src/classifiers/julius/libopensmile_la-juliusSink.lo -MD -MP -MF src/classifiers/julius/.deps/libopensmile_la-juliusSink.Tpo -c -o src/classifiers/julius/libopensmile_la-juliusSink.lo `test -f 'src/classifiers/julius/juliusSink.cpp' || echo './'`src/classifiers/julius/juliusSink.cpp\n",
            "libtool: compile:  g++ -DHAVE_CONFIG_H -I. -Isrc/include -Iprogsrc/include -ggdb -g -O2 -MT src/lld/libopensmile_la-tonefilt.lo -MD -MP -MF src/lld/.deps/libopensmile_la-tonefilt.Tpo -c src/lld/tonefilt.cpp -o src/lld/libopensmile_la-tonefilt.o >/dev/null 2>&1\n",
            "libtool: compile:  g++ -DHAVE_CONFIG_H -I. -Isrc/include -Iprogsrc/include -ggdb -g -O2 -MT src/classifiers/julius/libopensmile_la-juliusSink.lo -MD -MP -MF src/classifiers/julius/.deps/libopensmile_la-juliusSink.Tpo -c src/classifiers/julius/juliusSink.cpp  -fPIC -DPIC -o src/classifiers/julius/.libs/libopensmile_la-juliusSink.o\n",
            "libtool: compile:  g++ -DHAVE_CONFIG_H -I. -Isrc/include -Iprogsrc/include -ggdb -g -O2 -MT src/classifiers/julius/libopensmile_la-juliusSink.lo -MD -MP -MF src/classifiers/julius/.deps/libopensmile_la-juliusSink.Tpo -c src/classifiers/julius/juliusSink.cpp -o src/classifiers/julius/libopensmile_la-juliusSink.o >/dev/null 2>&1\n",
            "libtool: compile:  g++ -DHAVE_CONFIG_H -I. -Isrc/include -Iprogsrc/include -ggdb -g -O2 -MT src/lld/libopensmile_la-tonespec.lo -MD -MP -MF src/lld/.deps/libopensmile_la-tonespec.Tpo -c src/lld/tonespec.cpp -o src/lld/libopensmile_la-tonespec.o >/dev/null 2>&1\n",
            "mv -f progsrc/smilextract/.deps/SMILExtract-SMILExtract.Tpo progsrc/smilextract/.deps/SMILExtract-SMILExtract.Po\n",
            "mv -f src/classifiers/julius/.deps/libopensmile_la-juliusSink.Tpo src/classifiers/julius/.deps/libopensmile_la-juliusSink.Plo\n",
            "/bin/bash ./libtool  --tag=CXX   --mode=compile g++ -DHAVE_CONFIG_H -I.  -Isrc/include -Iprogsrc/include    -ggdb    -g -O2 -MT src/classifiers/libsvm/libopensmile_la-svm.lo -MD -MP -MF src/classifiers/libsvm/.deps/libopensmile_la-svm.Tpo -c -o src/classifiers/libsvm/libopensmile_la-svm.lo `test -f 'src/classifiers/libsvm/svm.cpp' || echo './'`src/classifiers/libsvm/svm.cpp\n",
            "/bin/bash ./libtool  --tag=CXX   --mode=compile g++ -DHAVE_CONFIG_H -I.  -Isrc/include -Iprogsrc/include    -ggdb    -g -O2 -MT src/classifiers/libopensmile_la-libsvmliveSink.lo -MD -MP -MF src/classifiers/.deps/libopensmile_la-libsvmliveSink.Tpo -c -o src/classifiers/libopensmile_la-libsvmliveSink.lo `test -f 'src/classifiers/libsvmliveSink.cpp' || echo './'`src/classifiers/libsvmliveSink.cpp\n",
            "libtool: compile:  g++ -DHAVE_CONFIG_H -I. -Isrc/include -Iprogsrc/include -ggdb -g -O2 -MT src/classifiers/libsvm/libopensmile_la-svm.lo -MD -MP -MF src/classifiers/libsvm/.deps/libopensmile_la-svm.Tpo -c src/classifiers/libsvm/svm.cpp  -fPIC -DPIC -o src/classifiers/libsvm/.libs/libopensmile_la-svm.o\n",
            "libtool: compile:  g++ -DHAVE_CONFIG_H -I. -Isrc/include -Iprogsrc/include -ggdb -g -O2 -MT src/classifiers/libopensmile_la-libsvmliveSink.lo -MD -MP -MF src/classifiers/.deps/libopensmile_la-libsvmliveSink.Tpo -c src/classifiers/libsvmliveSink.cpp  -fPIC -DPIC -o src/classifiers/.libs/libopensmile_la-libsvmliveSink.o\n",
            "libtool: compile:  g++ -DHAVE_CONFIG_H -I. -Isrc/include -Iprogsrc/include -ggdb -g -O2 -MT src/classifiers/libsvm/libopensmile_la-svm.lo -MD -MP -MF src/classifiers/libsvm/.deps/libopensmile_la-svm.Tpo -c src/classifiers/libsvm/svm.cpp -o src/classifiers/libsvm/libopensmile_la-svm.o >/dev/null 2>&1\n",
            "libtool: compile:  g++ -DHAVE_CONFIG_H -I. -Isrc/include -Iprogsrc/include -ggdb -g -O2 -MT src/classifiers/libopensmile_la-libsvmliveSink.lo -MD -MP -MF src/classifiers/.deps/libopensmile_la-libsvmliveSink.Tpo -c src/classifiers/libsvmliveSink.cpp -o src/classifiers/libopensmile_la-libsvmliveSink.o >/dev/null 2>&1\n",
            "mv -f src/lld/.deps/libopensmile_la-tonefilt.Tpo src/lld/.deps/libopensmile_la-tonefilt.Plo\n",
            "mv -f src/classifiers/libsvm/.deps/libopensmile_la-svm.Tpo src/classifiers/libsvm/.deps/libopensmile_la-svm.Plo\n",
            "/bin/bash ./libtool  --tag=CXX   --mode=compile g++ -DHAVE_CONFIG_H -I.  -Isrc/include -Iprogsrc/include    -ggdb    -g -O2 -MT src/classifiers/libopensmile_la-svmSink.lo -MD -MP -MF src/classifiers/.deps/libopensmile_la-svmSink.Tpo -c -o src/classifiers/libopensmile_la-svmSink.lo `test -f 'src/classifiers/svmSink.cpp' || echo './'`src/classifiers/svmSink.cpp\n",
            "/bin/bash ./libtool  --tag=CXX   --mode=compile g++ -DHAVE_CONFIG_H -I.  -Isrc/include -Iprogsrc/include    -ggdb    -g -O2 -MT src/core/libopensmile_la-commandlineParser.lo -MD -MP -MF src/core/.deps/libopensmile_la-commandlineParser.Tpo -c -o src/core/libopensmile_la-commandlineParser.lo `test -f 'src/core/commandlineParser.cpp' || echo './'`src/core/commandlineParser.cpp\n",
            "mv -f src/classifiers/.deps/libopensmile_la-libsvmliveSink.Tpo src/classifiers/.deps/libopensmile_la-libsvmliveSink.Plo\n",
            "/bin/bash ./libtool  --tag=CXX   --mode=compile g++ -DHAVE_CONFIG_H -I.  -Isrc/include -Iprogsrc/include    -ggdb    -g -O2 -MT src/core/libopensmile_la-componentManager.lo -MD -MP -MF src/core/.deps/libopensmile_la-componentManager.Tpo -c -o src/core/libopensmile_la-componentManager.lo `test -f 'src/core/componentManager.cpp' || echo './'`src/core/componentManager.cpp\n",
            "libtool: compile:  g++ -DHAVE_CONFIG_H -I. -Isrc/include -Iprogsrc/include -ggdb -g -O2 -MT src/classifiers/libopensmile_la-svmSink.lo -MD -MP -MF src/classifiers/.deps/libopensmile_la-svmSink.Tpo -c src/classifiers/svmSink.cpp  -fPIC -DPIC -o src/classifiers/.libs/libopensmile_la-svmSink.o\n",
            "libtool: compile:  g++ -DHAVE_CONFIG_H -I. -Isrc/include -Iprogsrc/include -ggdb -g -O2 -MT src/core/libopensmile_la-commandlineParser.lo -MD -MP -MF src/core/.deps/libopensmile_la-commandlineParser.Tpo -c src/core/commandlineParser.cpp  -fPIC -DPIC -o src/core/.libs/libopensmile_la-commandlineParser.o\n",
            "libtool: compile:  g++ -DHAVE_CONFIG_H -I. -Isrc/include -Iprogsrc/include -ggdb -g -O2 -MT src/core/libopensmile_la-componentManager.lo -MD -MP -MF src/core/.deps/libopensmile_la-componentManager.Tpo -c src/core/componentManager.cpp  -fPIC -DPIC -o src/core/.libs/libopensmile_la-componentManager.o\n",
            "libtool: compile:  g++ -DHAVE_CONFIG_H -I. -Isrc/include -Iprogsrc/include -ggdb -g -O2 -MT src/classifiers/libopensmile_la-svmSink.lo -MD -MP -MF src/classifiers/.deps/libopensmile_la-svmSink.Tpo -c src/classifiers/svmSink.cpp -o src/classifiers/libopensmile_la-svmSink.o >/dev/null 2>&1\n",
            "mv -f src/lld/.deps/libopensmile_la-tonespec.Tpo src/lld/.deps/libopensmile_la-tonespec.Plo\n",
            "/bin/bash ./libtool  --tag=CXX   --mode=compile g++ -DHAVE_CONFIG_H -I.  -Isrc/include -Iprogsrc/include    -ggdb    -g -O2 -MT src/core/libopensmile_la-configManager.lo -MD -MP -MF src/core/.deps/libopensmile_la-configManager.Tpo -c -o src/core/libopensmile_la-configManager.lo `test -f 'src/core/configManager.cpp' || echo './'`src/core/configManager.cpp\n",
            "mv -f src/classifiers/.deps/libopensmile_la-svmSink.Tpo src/classifiers/.deps/libopensmile_la-svmSink.Plo\n",
            "/bin/bash ./libtool  --tag=CXX   --mode=compile g++ -DHAVE_CONFIG_H -I.  -Isrc/include -Iprogsrc/include    -ggdb    -g -O2 -MT src/core/libopensmile_la-dataMemory.lo -MD -MP -MF src/core/.deps/libopensmile_la-dataMemory.Tpo -c -o src/core/libopensmile_la-dataMemory.lo `test -f 'src/core/dataMemory.cpp' || echo './'`src/core/dataMemory.cpp\n",
            "libtool: compile:  g++ -DHAVE_CONFIG_H -I. -Isrc/include -Iprogsrc/include -ggdb -g -O2 -MT src/core/libopensmile_la-configManager.lo -MD -MP -MF src/core/.deps/libopensmile_la-configManager.Tpo -c src/core/configManager.cpp  -fPIC -DPIC -o src/core/.libs/libopensmile_la-configManager.o\n",
            "libtool: compile:  g++ -DHAVE_CONFIG_H -I. -Isrc/include -Iprogsrc/include -ggdb -g -O2 -MT src/core/libopensmile_la-dataMemory.lo -MD -MP -MF src/core/.deps/libopensmile_la-dataMemory.Tpo -c src/core/dataMemory.cpp  -fPIC -DPIC -o src/core/.libs/libopensmile_la-dataMemory.o\n",
            "libtool: compile:  g++ -DHAVE_CONFIG_H -I. -Isrc/include -Iprogsrc/include -ggdb -g -O2 -MT src/core/libopensmile_la-commandlineParser.lo -MD -MP -MF src/core/.deps/libopensmile_la-commandlineParser.Tpo -c src/core/commandlineParser.cpp -o src/core/libopensmile_la-commandlineParser.o >/dev/null 2>&1\n",
            "Makefile:1582: recipe for target 'src/core/libopensmile_la-componentManager.lo' failed\n",
            "mv -f src/core/.deps/libopensmile_la-commandlineParser.Tpo src/core/.deps/libopensmile_la-commandlineParser.Plo\n",
            "libtool: compile:  g++ -DHAVE_CONFIG_H -I. -Isrc/include -Iprogsrc/include -ggdb -g -O2 -MT src/core/libopensmile_la-dataMemory.lo -MD -MP -MF src/core/.deps/libopensmile_la-dataMemory.Tpo -c src/core/dataMemory.cpp -o src/core/libopensmile_la-dataMemory.o >/dev/null 2>&1\n",
            "libtool: compile:  g++ -DHAVE_CONFIG_H -I. -Isrc/include -Iprogsrc/include -ggdb -g -O2 -MT src/core/libopensmile_la-configManager.lo -MD -MP -MF src/core/.deps/libopensmile_la-configManager.Tpo -c src/core/configManager.cpp -o src/core/libopensmile_la-configManager.o >/dev/null 2>&1\n",
            "mv -f src/core/.deps/libopensmile_la-dataMemory.Tpo src/core/.deps/libopensmile_la-dataMemory.Plo\n",
            "mv -f src/core/.deps/libopensmile_la-configManager.Tpo src/core/.deps/libopensmile_la-configManager.Plo\n",
            "make[1]: Leaving directory '/content/opensmile-2.3.0'\n",
            "Makefile:767: recipe for target 'all' failed\n",
            "make  all-am\n",
            "make[1]: Entering directory '/content/opensmile-2.3.0'\n",
            "/bin/bash ./libtool  --tag=CXX   --mode=link g++  -g -O2   -o SMILExtract progsrc/smilextract/SMILExtract-SMILExtract.o   -lm  -lpthread -ldl -lopensmile \n",
            "libtool: link: g++ -g -O2 -o SMILExtract progsrc/smilextract/SMILExtract-SMILExtract.o  -lm -lpthread -ldl -lopensmile\n",
            "Makefile:1305: recipe for target 'SMILExtract' failed\n",
            "make[1]: Leaving directory '/content/opensmile-2.3.0'\n",
            "Makefile:767: recipe for target 'all' failed\n"
          ],
          "name": "stdout"
        },
        {
          "output_type": "stream",
          "text": [
            "src/lld/pitchJitter.cpp: In member function ‘void cPitchJitter::saveDebugPeriod(long int, double)’:\n",
            "src/lld/pitchJitter.cpp:555:58: warning: format ‘%i’ expects argument of type ‘int’, but argument 3 has type ‘long int’ [-Wformat=]\n",
            "       fprintf(filehandle, \"%i,%f\\n\", sample, sampleInterp);\n",
            "                                                          ^\n",
            "src/lld/pitchShs.cpp: In member function ‘virtual int cPitchShs::myFinaliseInstance()’:\n",
            "src/lld/pitchShs.cpp:173:14: warning: NULL used in arithmetic [-Wpointer-arith]\n",
            "   if (ret != NULL && shsSpectrumOutput != 0) {\n",
            "              ^~~~\n",
            "In file included from src/include/core/componentList.hpp:30:0,\n",
            "                 from src/core/componentManager.cpp:99:\n",
            "src/include/core/vectorTransform.hpp:117:83: error: narrowing conversion of ‘'\\37777777756'’ from ‘char’ to ‘unsigned char’ inside { } [-Wnarrowing]\n",
            " const unsigned char smileMagic[] = {(char)0xEE, (char)0x11, (char)0x11, (char)0x00};\n",
            "                                                                                   ^\n",
            "make[1]: *** [src/core/libopensmile_la-componentManager.lo] Error 1\n",
            "make[1]: *** Waiting for unfinished jobs....\n",
            "make: *** [all] Error 2\n",
            "/usr/bin/ld: cannot find -lopensmile\n",
            "collect2: error: ld returned 1 exit status\n",
            "make[1]: *** [SMILExtract] Error 1\n",
            "make: *** [all] Error 2\n"
          ],
          "name": "stderr"
        }
      ]
    },
    {
      "cell_type": "code",
      "metadata": {
        "id": "S-RkWHWQu11X"
      },
      "source": [
        "!mv ./vectorTransform.hpp opensmile-2.3.0/src/include/core/"
      ],
      "execution_count": 10,
      "outputs": []
    },
    {
      "cell_type": "code",
      "metadata": {
        "id": "JndC0pu7YVoO",
        "outputId": "f759a397-de36-4501-9642-17e8ba112f15",
        "colab": {
          "base_uri": "https://localhost:8080/",
          "height": 1000
        }
      },
      "source": [
        "%%bash\n",
        "export PATH=$PATH:/home/linuxbrew/.linuxbrew/bin/\n",
        "cd opensmile-2.3.0\n",
        "make -j4; make        # 1"
      ],
      "execution_count": 11,
      "outputs": [
        {
          "output_type": "stream",
          "text": [
            "make  all-am\n",
            "make[1]: Entering directory '/content/opensmile-2.3.0'\n",
            "/bin/bash ./libtool  --tag=CXX   --mode=compile g++ -DHAVE_CONFIG_H -I.  -Isrc/include -Iprogsrc/include    -ggdb    -g -O2 -MT src/core/libopensmile_la-componentManager.lo -MD -MP -MF src/core/.deps/libopensmile_la-componentManager.Tpo -c -o src/core/libopensmile_la-componentManager.lo `test -f 'src/core/componentManager.cpp' || echo './'`src/core/componentManager.cpp\n",
            "/bin/bash ./libtool  --tag=CXX   --mode=compile g++ -DHAVE_CONFIG_H -I.  -Isrc/include -Iprogsrc/include    -ggdb    -g -O2 -MT src/core/libopensmile_la-dataProcessor.lo -MD -MP -MF src/core/.deps/libopensmile_la-dataProcessor.Tpo -c -o src/core/libopensmile_la-dataProcessor.lo `test -f 'src/core/dataProcessor.cpp' || echo './'`src/core/dataProcessor.cpp\n",
            "/bin/bash ./libtool  --tag=CXX   --mode=compile g++ -DHAVE_CONFIG_H -I.  -Isrc/include -Iprogsrc/include    -ggdb    -g -O2 -MT src/core/libopensmile_la-dataReader.lo -MD -MP -MF src/core/.deps/libopensmile_la-dataReader.Tpo -c -o src/core/libopensmile_la-dataReader.lo `test -f 'src/core/dataReader.cpp' || echo './'`src/core/dataReader.cpp\n",
            "/bin/bash ./libtool  --tag=CXX   --mode=compile g++ -DHAVE_CONFIG_H -I.  -Isrc/include -Iprogsrc/include    -ggdb    -g -O2 -MT src/core/libopensmile_la-dataSelector.lo -MD -MP -MF src/core/.deps/libopensmile_la-dataSelector.Tpo -c -o src/core/libopensmile_la-dataSelector.lo `test -f 'src/core/dataSelector.cpp' || echo './'`src/core/dataSelector.cpp\n",
            "libtool: compile:  g++ -DHAVE_CONFIG_H -I. -Isrc/include -Iprogsrc/include -ggdb -g -O2 -MT src/core/libopensmile_la-dataSelector.lo -MD -MP -MF src/core/.deps/libopensmile_la-dataSelector.Tpo -c src/core/dataSelector.cpp  -fPIC -DPIC -o src/core/.libs/libopensmile_la-dataSelector.o\n",
            "libtool: compile:  g++ -DHAVE_CONFIG_H -I. -Isrc/include -Iprogsrc/include -ggdb -g -O2 -MT src/core/libopensmile_la-componentManager.lo -MD -MP -MF src/core/.deps/libopensmile_la-componentManager.Tpo -c src/core/componentManager.cpp  -fPIC -DPIC -o src/core/.libs/libopensmile_la-componentManager.o\n",
            "libtool: compile:  g++ -DHAVE_CONFIG_H -I. -Isrc/include -Iprogsrc/include -ggdb -g -O2 -MT src/core/libopensmile_la-dataProcessor.lo -MD -MP -MF src/core/.deps/libopensmile_la-dataProcessor.Tpo -c src/core/dataProcessor.cpp  -fPIC -DPIC -o src/core/.libs/libopensmile_la-dataProcessor.o\n",
            "libtool: compile:  g++ -DHAVE_CONFIG_H -I. -Isrc/include -Iprogsrc/include -ggdb -g -O2 -MT src/core/libopensmile_la-dataReader.lo -MD -MP -MF src/core/.deps/libopensmile_la-dataReader.Tpo -c src/core/dataReader.cpp  -fPIC -DPIC -o src/core/.libs/libopensmile_la-dataReader.o\n",
            "libtool: compile:  g++ -DHAVE_CONFIG_H -I. -Isrc/include -Iprogsrc/include -ggdb -g -O2 -MT src/core/libopensmile_la-dataProcessor.lo -MD -MP -MF src/core/.deps/libopensmile_la-dataProcessor.Tpo -c src/core/dataProcessor.cpp -o src/core/libopensmile_la-dataProcessor.o >/dev/null 2>&1\n",
            "libtool: compile:  g++ -DHAVE_CONFIG_H -I. -Isrc/include -Iprogsrc/include -ggdb -g -O2 -MT src/core/libopensmile_la-dataSelector.lo -MD -MP -MF src/core/.deps/libopensmile_la-dataSelector.Tpo -c src/core/dataSelector.cpp -o src/core/libopensmile_la-dataSelector.o >/dev/null 2>&1\n",
            "libtool: compile:  g++ -DHAVE_CONFIG_H -I. -Isrc/include -Iprogsrc/include -ggdb -g -O2 -MT src/core/libopensmile_la-dataReader.lo -MD -MP -MF src/core/.deps/libopensmile_la-dataReader.Tpo -c src/core/dataReader.cpp -o src/core/libopensmile_la-dataReader.o >/dev/null 2>&1\n",
            "libtool: compile:  g++ -DHAVE_CONFIG_H -I. -Isrc/include -Iprogsrc/include -ggdb -g -O2 -MT src/core/libopensmile_la-componentManager.lo -MD -MP -MF src/core/.deps/libopensmile_la-componentManager.Tpo -c src/core/componentManager.cpp -o src/core/libopensmile_la-componentManager.o >/dev/null 2>&1\n",
            "mv -f src/core/.deps/libopensmile_la-dataProcessor.Tpo src/core/.deps/libopensmile_la-dataProcessor.Plo\n",
            "/bin/bash ./libtool  --tag=CXX   --mode=compile g++ -DHAVE_CONFIG_H -I.  -Isrc/include -Iprogsrc/include    -ggdb    -g -O2 -MT src/core/libopensmile_la-dataSink.lo -MD -MP -MF src/core/.deps/libopensmile_la-dataSink.Tpo -c -o src/core/libopensmile_la-dataSink.lo `test -f 'src/core/dataSink.cpp' || echo './'`src/core/dataSink.cpp\n",
            "libtool: compile:  g++ -DHAVE_CONFIG_H -I. -Isrc/include -Iprogsrc/include -ggdb -g -O2 -MT src/core/libopensmile_la-dataSink.lo -MD -MP -MF src/core/.deps/libopensmile_la-dataSink.Tpo -c src/core/dataSink.cpp  -fPIC -DPIC -o src/core/.libs/libopensmile_la-dataSink.o\n",
            "mv -f src/core/.deps/libopensmile_la-dataSelector.Tpo src/core/.deps/libopensmile_la-dataSelector.Plo\n",
            "/bin/bash ./libtool  --tag=CXX   --mode=compile g++ -DHAVE_CONFIG_H -I.  -Isrc/include -Iprogsrc/include    -ggdb    -g -O2 -MT src/core/libopensmile_la-dataSource.lo -MD -MP -MF src/core/.deps/libopensmile_la-dataSource.Tpo -c -o src/core/libopensmile_la-dataSource.lo `test -f 'src/core/dataSource.cpp' || echo './'`src/core/dataSource.cpp\n",
            "libtool: compile:  g++ -DHAVE_CONFIG_H -I. -Isrc/include -Iprogsrc/include -ggdb -g -O2 -MT src/core/libopensmile_la-dataSource.lo -MD -MP -MF src/core/.deps/libopensmile_la-dataSource.Tpo -c src/core/dataSource.cpp  -fPIC -DPIC -o src/core/.libs/libopensmile_la-dataSource.o\n",
            "mv -f src/core/.deps/libopensmile_la-dataReader.Tpo src/core/.deps/libopensmile_la-dataReader.Plo\n",
            "/bin/bash ./libtool  --tag=CXX   --mode=compile g++ -DHAVE_CONFIG_H -I.  -Isrc/include -Iprogsrc/include    -ggdb    -g -O2 -MT src/core/libopensmile_la-dataWriter.lo -MD -MP -MF src/core/.deps/libopensmile_la-dataWriter.Tpo -c -o src/core/libopensmile_la-dataWriter.lo `test -f 'src/core/dataWriter.cpp' || echo './'`src/core/dataWriter.cpp\n",
            "libtool: compile:  g++ -DHAVE_CONFIG_H -I. -Isrc/include -Iprogsrc/include -ggdb -g -O2 -MT src/core/libopensmile_la-dataWriter.lo -MD -MP -MF src/core/.deps/libopensmile_la-dataWriter.Tpo -c src/core/dataWriter.cpp  -fPIC -DPIC -o src/core/.libs/libopensmile_la-dataWriter.o\n",
            "mv -f src/core/.deps/libopensmile_la-componentManager.Tpo src/core/.deps/libopensmile_la-componentManager.Plo\n",
            "libtool: compile:  g++ -DHAVE_CONFIG_H -I. -Isrc/include -Iprogsrc/include -ggdb -g -O2 -MT src/core/libopensmile_la-dataSink.lo -MD -MP -MF src/core/.deps/libopensmile_la-dataSink.Tpo -c src/core/dataSink.cpp -o src/core/libopensmile_la-dataSink.o >/dev/null 2>&1\n",
            "/bin/bash ./libtool  --tag=CXX   --mode=compile g++ -DHAVE_CONFIG_H -I.  -Isrc/include -Iprogsrc/include    -ggdb    -g -O2 -MT src/core/libopensmile_la-exceptions.lo -MD -MP -MF src/core/.deps/libopensmile_la-exceptions.Tpo -c -o src/core/libopensmile_la-exceptions.lo `test -f 'src/core/exceptions.cpp' || echo './'`src/core/exceptions.cpp\n",
            "libtool: compile:  g++ -DHAVE_CONFIG_H -I. -Isrc/include -Iprogsrc/include -ggdb -g -O2 -MT src/core/libopensmile_la-exceptions.lo -MD -MP -MF src/core/.deps/libopensmile_la-exceptions.Tpo -c src/core/exceptions.cpp  -fPIC -DPIC -o src/core/.libs/libopensmile_la-exceptions.o\n",
            "libtool: compile:  g++ -DHAVE_CONFIG_H -I. -Isrc/include -Iprogsrc/include -ggdb -g -O2 -MT src/core/libopensmile_la-dataSource.lo -MD -MP -MF src/core/.deps/libopensmile_la-dataSource.Tpo -c src/core/dataSource.cpp -o src/core/libopensmile_la-dataSource.o >/dev/null 2>&1\n",
            "libtool: compile:  g++ -DHAVE_CONFIG_H -I. -Isrc/include -Iprogsrc/include -ggdb -g -O2 -MT src/core/libopensmile_la-exceptions.lo -MD -MP -MF src/core/.deps/libopensmile_la-exceptions.Tpo -c src/core/exceptions.cpp -o src/core/libopensmile_la-exceptions.o >/dev/null 2>&1\n",
            "mv -f src/core/.deps/libopensmile_la-exceptions.Tpo src/core/.deps/libopensmile_la-exceptions.Plo\n",
            "/bin/bash ./libtool  --tag=CXX   --mode=compile g++ -DHAVE_CONFIG_H -I.  -Isrc/include -Iprogsrc/include    -ggdb    -g -O2 -MT src/core/libopensmile_la-nullSink.lo -MD -MP -MF src/core/.deps/libopensmile_la-nullSink.Tpo -c -o src/core/libopensmile_la-nullSink.lo `test -f 'src/core/nullSink.cpp' || echo './'`src/core/nullSink.cpp\n",
            "libtool: compile:  g++ -DHAVE_CONFIG_H -I. -Isrc/include -Iprogsrc/include -ggdb -g -O2 -MT src/core/libopensmile_la-nullSink.lo -MD -MP -MF src/core/.deps/libopensmile_la-nullSink.Tpo -c src/core/nullSink.cpp  -fPIC -DPIC -o src/core/.libs/libopensmile_la-nullSink.o\n",
            "libtool: compile:  g++ -DHAVE_CONFIG_H -I. -Isrc/include -Iprogsrc/include -ggdb -g -O2 -MT src/core/libopensmile_la-dataWriter.lo -MD -MP -MF src/core/.deps/libopensmile_la-dataWriter.Tpo -c src/core/dataWriter.cpp -o src/core/libopensmile_la-dataWriter.o >/dev/null 2>&1\n",
            "mv -f src/core/.deps/libopensmile_la-dataSink.Tpo src/core/.deps/libopensmile_la-dataSink.Plo\n",
            "/bin/bash ./libtool  --tag=CXX   --mode=compile g++ -DHAVE_CONFIG_H -I.  -Isrc/include -Iprogsrc/include    -ggdb    -g -O2 -MT src/core/libopensmile_la-smileCommon.lo -MD -MP -MF src/core/.deps/libopensmile_la-smileCommon.Tpo -c -o src/core/libopensmile_la-smileCommon.lo `test -f 'src/core/smileCommon.cpp' || echo './'`src/core/smileCommon.cpp\n",
            "libtool: compile:  g++ -DHAVE_CONFIG_H -I. -Isrc/include -Iprogsrc/include -ggdb -g -O2 -MT src/core/libopensmile_la-smileCommon.lo -MD -MP -MF src/core/.deps/libopensmile_la-smileCommon.Tpo -c src/core/smileCommon.cpp  -fPIC -DPIC -o src/core/.libs/libopensmile_la-smileCommon.o\n",
            "libtool: compile:  g++ -DHAVE_CONFIG_H -I. -Isrc/include -Iprogsrc/include -ggdb -g -O2 -MT src/core/libopensmile_la-nullSink.lo -MD -MP -MF src/core/.deps/libopensmile_la-nullSink.Tpo -c src/core/nullSink.cpp -o src/core/libopensmile_la-nullSink.o >/dev/null 2>&1\n",
            "mv -f src/core/.deps/libopensmile_la-dataSource.Tpo src/core/.deps/libopensmile_la-dataSource.Plo\n",
            "/bin/bash ./libtool  --tag=CXX   --mode=compile g++ -DHAVE_CONFIG_H -I.  -Isrc/include -Iprogsrc/include    -ggdb    -g -O2 -MT src/core/libopensmile_la-smileComponent.lo -MD -MP -MF src/core/.deps/libopensmile_la-smileComponent.Tpo -c -o src/core/libopensmile_la-smileComponent.lo `test -f 'src/core/smileComponent.cpp' || echo './'`src/core/smileComponent.cpp\n",
            "libtool: compile:  g++ -DHAVE_CONFIG_H -I. -Isrc/include -Iprogsrc/include -ggdb -g -O2 -MT src/core/libopensmile_la-smileCommon.lo -MD -MP -MF src/core/.deps/libopensmile_la-smileCommon.Tpo -c src/core/smileCommon.cpp -o src/core/libopensmile_la-smileCommon.o >/dev/null 2>&1\n",
            "libtool: compile:  g++ -DHAVE_CONFIG_H -I. -Isrc/include -Iprogsrc/include -ggdb -g -O2 -MT src/core/libopensmile_la-smileComponent.lo -MD -MP -MF src/core/.deps/libopensmile_la-smileComponent.Tpo -c src/core/smileComponent.cpp  -fPIC -DPIC -o src/core/.libs/libopensmile_la-smileComponent.o\n",
            "mv -f src/core/.deps/libopensmile_la-smileCommon.Tpo src/core/.deps/libopensmile_la-smileCommon.Plo\n",
            "/bin/bash ./libtool  --tag=CXX   --mode=compile g++ -DHAVE_CONFIG_H -I.  -Isrc/include -Iprogsrc/include    -ggdb    -g -O2 -MT src/core/libopensmile_la-smileLogger.lo -MD -MP -MF src/core/.deps/libopensmile_la-smileLogger.Tpo -c -o src/core/libopensmile_la-smileLogger.lo `test -f 'src/core/smileLogger.cpp' || echo './'`src/core/smileLogger.cpp\n",
            "mv -f src/core/.deps/libopensmile_la-dataWriter.Tpo src/core/.deps/libopensmile_la-dataWriter.Plo\n",
            "/bin/bash ./libtool  --tag=CXX   --mode=compile g++ -DHAVE_CONFIG_H -I.  -Isrc/include -Iprogsrc/include    -ggdb    -g -O2 -MT src/core/libopensmile_la-vecToWinProcessor.lo -MD -MP -MF src/core/.deps/libopensmile_la-vecToWinProcessor.Tpo -c -o src/core/libopensmile_la-vecToWinProcessor.lo `test -f 'src/core/vecToWinProcessor.cpp' || echo './'`src/core/vecToWinProcessor.cpp\n",
            "libtool: compile:  g++ -DHAVE_CONFIG_H -I. -Isrc/include -Iprogsrc/include -ggdb -g -O2 -MT src/core/libopensmile_la-smileLogger.lo -MD -MP -MF src/core/.deps/libopensmile_la-smileLogger.Tpo -c src/core/smileLogger.cpp  -fPIC -DPIC -o src/core/.libs/libopensmile_la-smileLogger.o\n",
            "libtool: compile:  g++ -DHAVE_CONFIG_H -I. -Isrc/include -Iprogsrc/include -ggdb -g -O2 -MT src/core/libopensmile_la-vecToWinProcessor.lo -MD -MP -MF src/core/.deps/libopensmile_la-vecToWinProcessor.Tpo -c src/core/vecToWinProcessor.cpp  -fPIC -DPIC -o src/core/.libs/libopensmile_la-vecToWinProcessor.o\n",
            "mv -f src/core/.deps/libopensmile_la-nullSink.Tpo src/core/.deps/libopensmile_la-nullSink.Plo\n",
            "/bin/bash ./libtool  --tag=CXX   --mode=compile g++ -DHAVE_CONFIG_H -I.  -Isrc/include -Iprogsrc/include    -ggdb    -g -O2 -MT src/core/libopensmile_la-vectorProcessor.lo -MD -MP -MF src/core/.deps/libopensmile_la-vectorProcessor.Tpo -c -o src/core/libopensmile_la-vectorProcessor.lo `test -f 'src/core/vectorProcessor.cpp' || echo './'`src/core/vectorProcessor.cpp\n",
            "libtool: compile:  g++ -DHAVE_CONFIG_H -I. -Isrc/include -Iprogsrc/include -ggdb -g -O2 -MT src/core/libopensmile_la-smileLogger.lo -MD -MP -MF src/core/.deps/libopensmile_la-smileLogger.Tpo -c src/core/smileLogger.cpp -o src/core/libopensmile_la-smileLogger.o >/dev/null 2>&1\n",
            "libtool: compile:  g++ -DHAVE_CONFIG_H -I. -Isrc/include -Iprogsrc/include -ggdb -g -O2 -MT src/core/libopensmile_la-vectorProcessor.lo -MD -MP -MF src/core/.deps/libopensmile_la-vectorProcessor.Tpo -c src/core/vectorProcessor.cpp  -fPIC -DPIC -o src/core/.libs/libopensmile_la-vectorProcessor.o\n",
            "libtool: compile:  g++ -DHAVE_CONFIG_H -I. -Isrc/include -Iprogsrc/include -ggdb -g -O2 -MT src/core/libopensmile_la-smileComponent.lo -MD -MP -MF src/core/.deps/libopensmile_la-smileComponent.Tpo -c src/core/smileComponent.cpp -o src/core/libopensmile_la-smileComponent.o >/dev/null 2>&1\n",
            "mv -f src/core/.deps/libopensmile_la-smileLogger.Tpo src/core/.deps/libopensmile_la-smileLogger.Plo\n",
            "/bin/bash ./libtool  --tag=CXX   --mode=compile g++ -DHAVE_CONFIG_H -I.  -Isrc/include -Iprogsrc/include    -ggdb    -g -O2 -MT src/core/libopensmile_la-vectorTransform.lo -MD -MP -MF src/core/.deps/libopensmile_la-vectorTransform.Tpo -c -o src/core/libopensmile_la-vectorTransform.lo `test -f 'src/core/vectorTransform.cpp' || echo './'`src/core/vectorTransform.cpp\n",
            "libtool: compile:  g++ -DHAVE_CONFIG_H -I. -Isrc/include -Iprogsrc/include -ggdb -g -O2 -MT src/core/libopensmile_la-vectorTransform.lo -MD -MP -MF src/core/.deps/libopensmile_la-vectorTransform.Tpo -c src/core/vectorTransform.cpp  -fPIC -DPIC -o src/core/.libs/libopensmile_la-vectorTransform.o\n",
            "mv -f src/core/.deps/libopensmile_la-smileComponent.Tpo src/core/.deps/libopensmile_la-smileComponent.Plo\n",
            "/bin/bash ./libtool  --tag=CXX   --mode=compile g++ -DHAVE_CONFIG_H -I.  -Isrc/include -Iprogsrc/include    -ggdb    -g -O2 -MT src/core/libopensmile_la-winToVecProcessor.lo -MD -MP -MF src/core/.deps/libopensmile_la-winToVecProcessor.Tpo -c -o src/core/libopensmile_la-winToVecProcessor.lo `test -f 'src/core/winToVecProcessor.cpp' || echo './'`src/core/winToVecProcessor.cpp\n",
            "libtool: compile:  g++ -DHAVE_CONFIG_H -I. -Isrc/include -Iprogsrc/include -ggdb -g -O2 -MT src/core/libopensmile_la-winToVecProcessor.lo -MD -MP -MF src/core/.deps/libopensmile_la-winToVecProcessor.Tpo -c src/core/winToVecProcessor.cpp  -fPIC -DPIC -o src/core/.libs/libopensmile_la-winToVecProcessor.o\n",
            "libtool: compile:  g++ -DHAVE_CONFIG_H -I. -Isrc/include -Iprogsrc/include -ggdb -g -O2 -MT src/core/libopensmile_la-vecToWinProcessor.lo -MD -MP -MF src/core/.deps/libopensmile_la-vecToWinProcessor.Tpo -c src/core/vecToWinProcessor.cpp -o src/core/libopensmile_la-vecToWinProcessor.o >/dev/null 2>&1\n",
            "libtool: compile:  g++ -DHAVE_CONFIG_H -I. -Isrc/include -Iprogsrc/include -ggdb -g -O2 -MT src/core/libopensmile_la-vectorProcessor.lo -MD -MP -MF src/core/.deps/libopensmile_la-vectorProcessor.Tpo -c src/core/vectorProcessor.cpp -o src/core/libopensmile_la-vectorProcessor.o >/dev/null 2>&1\n",
            "libtool: compile:  g++ -DHAVE_CONFIG_H -I. -Isrc/include -Iprogsrc/include -ggdb -g -O2 -MT src/core/libopensmile_la-vectorTransform.lo -MD -MP -MF src/core/.deps/libopensmile_la-vectorTransform.Tpo -c src/core/vectorTransform.cpp -o src/core/libopensmile_la-vectorTransform.o >/dev/null 2>&1\n",
            "mv -f src/core/.deps/libopensmile_la-vecToWinProcessor.Tpo src/core/.deps/libopensmile_la-vecToWinProcessor.Plo\n",
            "/bin/bash ./libtool  --tag=CXX   --mode=compile g++ -DHAVE_CONFIG_H -I.  -Isrc/include -Iprogsrc/include    -ggdb    -g -O2 -MT src/core/libopensmile_la-windowProcessor.lo -MD -MP -MF src/core/.deps/libopensmile_la-windowProcessor.Tpo -c -o src/core/libopensmile_la-windowProcessor.lo `test -f 'src/core/windowProcessor.cpp' || echo './'`src/core/windowProcessor.cpp\n",
            "mv -f src/core/.deps/libopensmile_la-vectorProcessor.Tpo src/core/.deps/libopensmile_la-vectorProcessor.Plo\n",
            "libtool: compile:  g++ -DHAVE_CONFIG_H -I. -Isrc/include -Iprogsrc/include -ggdb -g -O2 -MT src/core/libopensmile_la-windowProcessor.lo -MD -MP -MF src/core/.deps/libopensmile_la-windowProcessor.Tpo -c src/core/windowProcessor.cpp  -fPIC -DPIC -o src/core/.libs/libopensmile_la-windowProcessor.o\n",
            "/bin/bash ./libtool  --tag=CXX   --mode=compile g++ -DHAVE_CONFIG_H -I.  -Isrc/include -Iprogsrc/include    -ggdb    -g -O2 -MT src/dsp/libopensmile_la-dbA.lo -MD -MP -MF src/dsp/.deps/libopensmile_la-dbA.Tpo -c -o src/dsp/libopensmile_la-dbA.lo `test -f 'src/dsp/dbA.cpp' || echo './'`src/dsp/dbA.cpp\n",
            "libtool: compile:  g++ -DHAVE_CONFIG_H -I. -Isrc/include -Iprogsrc/include -ggdb -g -O2 -MT src/dsp/libopensmile_la-dbA.lo -MD -MP -MF src/dsp/.deps/libopensmile_la-dbA.Tpo -c src/dsp/dbA.cpp  -fPIC -DPIC -o src/dsp/.libs/libopensmile_la-dbA.o\n",
            "libtool: compile:  g++ -DHAVE_CONFIG_H -I. -Isrc/include -Iprogsrc/include -ggdb -g -O2 -MT src/core/libopensmile_la-winToVecProcessor.lo -MD -MP -MF src/core/.deps/libopensmile_la-winToVecProcessor.Tpo -c src/core/winToVecProcessor.cpp -o src/core/libopensmile_la-winToVecProcessor.o >/dev/null 2>&1\n",
            "mv -f src/core/.deps/libopensmile_la-vectorTransform.Tpo src/core/.deps/libopensmile_la-vectorTransform.Plo\n",
            "libtool: compile:  g++ -DHAVE_CONFIG_H -I. -Isrc/include -Iprogsrc/include -ggdb -g -O2 -MT src/core/libopensmile_la-windowProcessor.lo -MD -MP -MF src/core/.deps/libopensmile_la-windowProcessor.Tpo -c src/core/windowProcessor.cpp -o src/core/libopensmile_la-windowProcessor.o >/dev/null 2>&1\n",
            "/bin/bash ./libtool  --tag=CXX   --mode=compile g++ -DHAVE_CONFIG_H -I.  -Isrc/include -Iprogsrc/include    -ggdb    -g -O2 -MT src/dsp/libopensmile_la-signalGenerator.lo -MD -MP -MF src/dsp/.deps/libopensmile_la-signalGenerator.Tpo -c -o src/dsp/libopensmile_la-signalGenerator.lo `test -f 'src/dsp/signalGenerator.cpp' || echo './'`src/dsp/signalGenerator.cpp\n",
            "libtool: compile:  g++ -DHAVE_CONFIG_H -I. -Isrc/include -Iprogsrc/include -ggdb -g -O2 -MT src/dsp/libopensmile_la-dbA.lo -MD -MP -MF src/dsp/.deps/libopensmile_la-dbA.Tpo -c src/dsp/dbA.cpp -o src/dsp/libopensmile_la-dbA.o >/dev/null 2>&1\n",
            "libtool: compile:  g++ -DHAVE_CONFIG_H -I. -Isrc/include -Iprogsrc/include -ggdb -g -O2 -MT src/dsp/libopensmile_la-signalGenerator.lo -MD -MP -MF src/dsp/.deps/libopensmile_la-signalGenerator.Tpo -c src/dsp/signalGenerator.cpp  -fPIC -DPIC -o src/dsp/.libs/libopensmile_la-signalGenerator.o\n",
            "mv -f src/core/.deps/libopensmile_la-winToVecProcessor.Tpo src/core/.deps/libopensmile_la-winToVecProcessor.Plo\n",
            "/bin/bash ./libtool  --tag=CXX   --mode=compile g++ -DHAVE_CONFIG_H -I.  -Isrc/include -Iprogsrc/include    -ggdb    -g -O2 -MT src/dsp/libopensmile_la-smileResample.lo -MD -MP -MF src/dsp/.deps/libopensmile_la-smileResample.Tpo -c -o src/dsp/libopensmile_la-smileResample.lo `test -f 'src/dsp/smileResample.cpp' || echo './'`src/dsp/smileResample.cpp\n",
            "mv -f src/core/.deps/libopensmile_la-windowProcessor.Tpo src/core/.deps/libopensmile_la-windowProcessor.Plo\n",
            "/bin/bash ./libtool  --tag=CXX   --mode=compile g++ -DHAVE_CONFIG_H -I.  -Isrc/include -Iprogsrc/include    -ggdb    -g -O2 -MT src/dsp/libopensmile_la-specResample.lo -MD -MP -MF src/dsp/.deps/libopensmile_la-specResample.Tpo -c -o src/dsp/libopensmile_la-specResample.lo `test -f 'src/dsp/specResample.cpp' || echo './'`src/dsp/specResample.cpp\n",
            "libtool: compile:  g++ -DHAVE_CONFIG_H -I. -Isrc/include -Iprogsrc/include -ggdb -g -O2 -MT src/dsp/libopensmile_la-smileResample.lo -MD -MP -MF src/dsp/.deps/libopensmile_la-smileResample.Tpo -c src/dsp/smileResample.cpp  -fPIC -DPIC -o src/dsp/.libs/libopensmile_la-smileResample.o\n",
            "mv -f src/dsp/.deps/libopensmile_la-dbA.Tpo src/dsp/.deps/libopensmile_la-dbA.Plo\n",
            "/bin/bash ./libtool  --tag=CXX   --mode=compile g++ -DHAVE_CONFIG_H -I.  -Isrc/include -Iprogsrc/include    -ggdb    -g -O2 -MT src/dsp/libopensmile_la-vadV1.lo -MD -MP -MF src/dsp/.deps/libopensmile_la-vadV1.Tpo -c -o src/dsp/libopensmile_la-vadV1.lo `test -f 'src/dsp/vadV1.cpp' || echo './'`src/dsp/vadV1.cpp\n",
            "libtool: compile:  g++ -DHAVE_CONFIG_H -I. -Isrc/include -Iprogsrc/include -ggdb -g -O2 -MT src/dsp/libopensmile_la-specResample.lo -MD -MP -MF src/dsp/.deps/libopensmile_la-specResample.Tpo -c src/dsp/specResample.cpp  -fPIC -DPIC -o src/dsp/.libs/libopensmile_la-specResample.o\n",
            "libtool: compile:  g++ -DHAVE_CONFIG_H -I. -Isrc/include -Iprogsrc/include -ggdb -g -O2 -MT src/dsp/libopensmile_la-signalGenerator.lo -MD -MP -MF src/dsp/.deps/libopensmile_la-signalGenerator.Tpo -c src/dsp/signalGenerator.cpp -o src/dsp/libopensmile_la-signalGenerator.o >/dev/null 2>&1\n",
            "libtool: compile:  g++ -DHAVE_CONFIG_H -I. -Isrc/include -Iprogsrc/include -ggdb -g -O2 -MT src/dsp/libopensmile_la-vadV1.lo -MD -MP -MF src/dsp/.deps/libopensmile_la-vadV1.Tpo -c src/dsp/vadV1.cpp  -fPIC -DPIC -o src/dsp/.libs/libopensmile_la-vadV1.o\n",
            "libtool: compile:  g++ -DHAVE_CONFIG_H -I. -Isrc/include -Iprogsrc/include -ggdb -g -O2 -MT src/dsp/libopensmile_la-smileResample.lo -MD -MP -MF src/dsp/.deps/libopensmile_la-smileResample.Tpo -c src/dsp/smileResample.cpp -o src/dsp/libopensmile_la-smileResample.o >/dev/null 2>&1\n",
            "libtool: compile:  g++ -DHAVE_CONFIG_H -I. -Isrc/include -Iprogsrc/include -ggdb -g -O2 -MT src/dsp/libopensmile_la-specResample.lo -MD -MP -MF src/dsp/.deps/libopensmile_la-specResample.Tpo -c src/dsp/specResample.cpp -o src/dsp/libopensmile_la-specResample.o >/dev/null 2>&1\n",
            "libtool: compile:  g++ -DHAVE_CONFIG_H -I. -Isrc/include -Iprogsrc/include -ggdb -g -O2 -MT src/dsp/libopensmile_la-vadV1.lo -MD -MP -MF src/dsp/.deps/libopensmile_la-vadV1.Tpo -c src/dsp/vadV1.cpp -o src/dsp/libopensmile_la-vadV1.o >/dev/null 2>&1\n",
            "mv -f src/dsp/.deps/libopensmile_la-signalGenerator.Tpo src/dsp/.deps/libopensmile_la-signalGenerator.Plo\n",
            "/bin/bash ./libtool  --tag=CXX   --mode=compile g++ -DHAVE_CONFIG_H -I.  -Isrc/include -Iprogsrc/include    -ggdb    -g -O2 -MT src/dspcore/libopensmile_la-acf.lo -MD -MP -MF src/dspcore/.deps/libopensmile_la-acf.Tpo -c -o src/dspcore/libopensmile_la-acf.lo `test -f 'src/dspcore/acf.cpp' || echo './'`src/dspcore/acf.cpp\n",
            "libtool: compile:  g++ -DHAVE_CONFIG_H -I. -Isrc/include -Iprogsrc/include -ggdb -g -O2 -MT src/dspcore/libopensmile_la-acf.lo -MD -MP -MF src/dspcore/.deps/libopensmile_la-acf.Tpo -c src/dspcore/acf.cpp  -fPIC -DPIC -o src/dspcore/.libs/libopensmile_la-acf.o\n",
            "mv -f src/dsp/.deps/libopensmile_la-specResample.Tpo src/dsp/.deps/libopensmile_la-specResample.Plo\n",
            "/bin/bash ./libtool  --tag=CXX   --mode=compile g++ -DHAVE_CONFIG_H -I.  -Isrc/include -Iprogsrc/include    -ggdb    -g -O2 -MT src/dspcore/libopensmile_la-amdf.lo -MD -MP -MF src/dspcore/.deps/libopensmile_la-amdf.Tpo -c -o src/dspcore/libopensmile_la-amdf.lo `test -f 'src/dspcore/amdf.cpp' || echo './'`src/dspcore/amdf.cpp\n",
            "libtool: compile:  g++ -DHAVE_CONFIG_H -I. -Isrc/include -Iprogsrc/include -ggdb -g -O2 -MT src/dspcore/libopensmile_la-amdf.lo -MD -MP -MF src/dspcore/.deps/libopensmile_la-amdf.Tpo -c src/dspcore/amdf.cpp  -fPIC -DPIC -o src/dspcore/.libs/libopensmile_la-amdf.o\n",
            "mv -f src/dsp/.deps/libopensmile_la-smileResample.Tpo src/dsp/.deps/libopensmile_la-smileResample.Plo\n",
            "/bin/bash ./libtool  --tag=CXX   --mode=compile g++ -DHAVE_CONFIG_H -I.  -Isrc/include -Iprogsrc/include    -ggdb    -g -O2 -MT src/dspcore/libopensmile_la-contourSmoother.lo -MD -MP -MF src/dspcore/.deps/libopensmile_la-contourSmoother.Tpo -c -o src/dspcore/libopensmile_la-contourSmoother.lo `test -f 'src/dspcore/contourSmoother.cpp' || echo './'`src/dspcore/contourSmoother.cpp\n",
            "mv -f src/dsp/.deps/libopensmile_la-vadV1.Tpo src/dsp/.deps/libopensmile_la-vadV1.Plo\n",
            "libtool: compile:  g++ -DHAVE_CONFIG_H -I. -Isrc/include -Iprogsrc/include -ggdb -g -O2 -MT src/dspcore/libopensmile_la-contourSmoother.lo -MD -MP -MF src/dspcore/.deps/libopensmile_la-contourSmoother.Tpo -c src/dspcore/contourSmoother.cpp  -fPIC -DPIC -o src/dspcore/.libs/libopensmile_la-contourSmoother.o\n",
            "/bin/bash ./libtool  --tag=CXX   --mode=compile g++ -DHAVE_CONFIG_H -I.  -Isrc/include -Iprogsrc/include    -ggdb    -g -O2 -MT src/dspcore/libopensmile_la-deltaRegression.lo -MD -MP -MF src/dspcore/.deps/libopensmile_la-deltaRegression.Tpo -c -o src/dspcore/libopensmile_la-deltaRegression.lo `test -f 'src/dspcore/deltaRegression.cpp' || echo './'`src/dspcore/deltaRegression.cpp\n",
            "libtool: compile:  g++ -DHAVE_CONFIG_H -I. -Isrc/include -Iprogsrc/include -ggdb -g -O2 -MT src/dspcore/libopensmile_la-deltaRegression.lo -MD -MP -MF src/dspcore/.deps/libopensmile_la-deltaRegression.Tpo -c src/dspcore/deltaRegression.cpp  -fPIC -DPIC -o src/dspcore/.libs/libopensmile_la-deltaRegression.o\n",
            "libtool: compile:  g++ -DHAVE_CONFIG_H -I. -Isrc/include -Iprogsrc/include -ggdb -g -O2 -MT src/dspcore/libopensmile_la-acf.lo -MD -MP -MF src/dspcore/.deps/libopensmile_la-acf.Tpo -c src/dspcore/acf.cpp -o src/dspcore/libopensmile_la-acf.o >/dev/null 2>&1\n",
            "libtool: compile:  g++ -DHAVE_CONFIG_H -I. -Isrc/include -Iprogsrc/include -ggdb -g -O2 -MT src/dspcore/libopensmile_la-amdf.lo -MD -MP -MF src/dspcore/.deps/libopensmile_la-amdf.Tpo -c src/dspcore/amdf.cpp -o src/dspcore/libopensmile_la-amdf.o >/dev/null 2>&1\n",
            "libtool: compile:  g++ -DHAVE_CONFIG_H -I. -Isrc/include -Iprogsrc/include -ggdb -g -O2 -MT src/dspcore/libopensmile_la-contourSmoother.lo -MD -MP -MF src/dspcore/.deps/libopensmile_la-contourSmoother.Tpo -c src/dspcore/contourSmoother.cpp -o src/dspcore/libopensmile_la-contourSmoother.o >/dev/null 2>&1\n",
            "libtool: compile:  g++ -DHAVE_CONFIG_H -I. -Isrc/include -Iprogsrc/include -ggdb -g -O2 -MT src/dspcore/libopensmile_la-deltaRegression.lo -MD -MP -MF src/dspcore/.deps/libopensmile_la-deltaRegression.Tpo -c src/dspcore/deltaRegression.cpp -o src/dspcore/libopensmile_la-deltaRegression.o >/dev/null 2>&1\n",
            "mv -f src/dspcore/.deps/libopensmile_la-acf.Tpo src/dspcore/.deps/libopensmile_la-acf.Plo\n",
            "/bin/bash ./libtool  --tag=CXX   --mode=compile g++ -DHAVE_CONFIG_H -I.  -Isrc/include -Iprogsrc/include    -ggdb    -g -O2 -MT src/dspcore/libopensmile_la-fftmagphase.lo -MD -MP -MF src/dspcore/.deps/libopensmile_la-fftmagphase.Tpo -c -o src/dspcore/libopensmile_la-fftmagphase.lo `test -f 'src/dspcore/fftmagphase.cpp' || echo './'`src/dspcore/fftmagphase.cpp\n",
            "libtool: compile:  g++ -DHAVE_CONFIG_H -I. -Isrc/include -Iprogsrc/include -ggdb -g -O2 -MT src/dspcore/libopensmile_la-fftmagphase.lo -MD -MP -MF src/dspcore/.deps/libopensmile_la-fftmagphase.Tpo -c src/dspcore/fftmagphase.cpp  -fPIC -DPIC -o src/dspcore/.libs/libopensmile_la-fftmagphase.o\n",
            "mv -f src/dspcore/.deps/libopensmile_la-amdf.Tpo src/dspcore/.deps/libopensmile_la-amdf.Plo\n",
            "/bin/bash ./libtool  --tag=CC   --mode=compile gcc -DHAVE_CONFIG_H -I.  -Isrc/include -Iprogsrc/include    -ggdb    -g -O2 -MT src/dspcore/libopensmile_la-fftsg.lo -MD -MP -MF src/dspcore/.deps/libopensmile_la-fftsg.Tpo -c -o src/dspcore/libopensmile_la-fftsg.lo `test -f 'src/dspcore/fftsg.c' || echo './'`src/dspcore/fftsg.c\n",
            "mv -f src/dspcore/.deps/libopensmile_la-contourSmoother.Tpo src/dspcore/.deps/libopensmile_la-contourSmoother.Plo\n",
            "/bin/bash ./libtool  --tag=CXX   --mode=compile g++ -DHAVE_CONFIG_H -I.  -Isrc/include -Iprogsrc/include    -ggdb    -g -O2 -MT src/dspcore/libopensmile_la-framer.lo -MD -MP -MF src/dspcore/.deps/libopensmile_la-framer.Tpo -c -o src/dspcore/libopensmile_la-framer.lo `test -f 'src/dspcore/framer.cpp' || echo './'`src/dspcore/framer.cpp\n",
            "libtool: compile:  gcc -DHAVE_CONFIG_H -I. -Isrc/include -Iprogsrc/include -ggdb -g -O2 -MT src/dspcore/libopensmile_la-fftsg.lo -MD -MP -MF src/dspcore/.deps/libopensmile_la-fftsg.Tpo -c src/dspcore/fftsg.c  -fPIC -DPIC -o src/dspcore/.libs/libopensmile_la-fftsg.o\n",
            "libtool: compile:  g++ -DHAVE_CONFIG_H -I. -Isrc/include -Iprogsrc/include -ggdb -g -O2 -MT src/dspcore/libopensmile_la-framer.lo -MD -MP -MF src/dspcore/.deps/libopensmile_la-framer.Tpo -c src/dspcore/framer.cpp  -fPIC -DPIC -o src/dspcore/.libs/libopensmile_la-framer.o\n",
            "mv -f src/dspcore/.deps/libopensmile_la-deltaRegression.Tpo src/dspcore/.deps/libopensmile_la-deltaRegression.Plo\n",
            "/bin/bash ./libtool  --tag=CXX   --mode=compile g++ -DHAVE_CONFIG_H -I.  -Isrc/include -Iprogsrc/include    -ggdb    -g -O2 -MT src/dspcore/libopensmile_la-fullinputMean.lo -MD -MP -MF src/dspcore/.deps/libopensmile_la-fullinputMean.Tpo -c -o src/dspcore/libopensmile_la-fullinputMean.lo `test -f 'src/dspcore/fullinputMean.cpp' || echo './'`src/dspcore/fullinputMean.cpp\n",
            "libtool: compile:  g++ -DHAVE_CONFIG_H -I. -Isrc/include -Iprogsrc/include -ggdb -g -O2 -MT src/dspcore/libopensmile_la-fullinputMean.lo -MD -MP -MF src/dspcore/.deps/libopensmile_la-fullinputMean.Tpo -c src/dspcore/fullinputMean.cpp  -fPIC -DPIC -o src/dspcore/.libs/libopensmile_la-fullinputMean.o\n",
            "libtool: compile:  g++ -DHAVE_CONFIG_H -I. -Isrc/include -Iprogsrc/include -ggdb -g -O2 -MT src/dspcore/libopensmile_la-framer.lo -MD -MP -MF src/dspcore/.deps/libopensmile_la-framer.Tpo -c src/dspcore/framer.cpp -o src/dspcore/libopensmile_la-framer.o >/dev/null 2>&1\n",
            "libtool: compile:  g++ -DHAVE_CONFIG_H -I. -Isrc/include -Iprogsrc/include -ggdb -g -O2 -MT src/dspcore/libopensmile_la-fftmagphase.lo -MD -MP -MF src/dspcore/.deps/libopensmile_la-fftmagphase.Tpo -c src/dspcore/fftmagphase.cpp -o src/dspcore/libopensmile_la-fftmagphase.o >/dev/null 2>&1\n",
            "mv -f src/dspcore/.deps/libopensmile_la-framer.Tpo src/dspcore/.deps/libopensmile_la-framer.Plo\n",
            "/bin/bash ./libtool  --tag=CXX   --mode=compile g++ -DHAVE_CONFIG_H -I.  -Isrc/include -Iprogsrc/include    -ggdb    -g -O2 -MT src/dspcore/libopensmile_la-fullturnMean.lo -MD -MP -MF src/dspcore/.deps/libopensmile_la-fullturnMean.Tpo -c -o src/dspcore/libopensmile_la-fullturnMean.lo `test -f 'src/dspcore/fullturnMean.cpp' || echo './'`src/dspcore/fullturnMean.cpp\n",
            "libtool: compile:  g++ -DHAVE_CONFIG_H -I. -Isrc/include -Iprogsrc/include -ggdb -g -O2 -MT src/dspcore/libopensmile_la-fullinputMean.lo -MD -MP -MF src/dspcore/.deps/libopensmile_la-fullinputMean.Tpo -c src/dspcore/fullinputMean.cpp -o src/dspcore/libopensmile_la-fullinputMean.o >/dev/null 2>&1\n",
            "libtool: compile:  g++ -DHAVE_CONFIG_H -I. -Isrc/include -Iprogsrc/include -ggdb -g -O2 -MT src/dspcore/libopensmile_la-fullturnMean.lo -MD -MP -MF src/dspcore/.deps/libopensmile_la-fullturnMean.Tpo -c src/dspcore/fullturnMean.cpp  -fPIC -DPIC -o src/dspcore/.libs/libopensmile_la-fullturnMean.o\n",
            "libtool: compile:  gcc -DHAVE_CONFIG_H -I. -Isrc/include -Iprogsrc/include -ggdb -g -O2 -MT src/dspcore/libopensmile_la-fftsg.lo -MD -MP -MF src/dspcore/.deps/libopensmile_la-fftsg.Tpo -c src/dspcore/fftsg.c -o src/dspcore/libopensmile_la-fftsg.o >/dev/null 2>&1\n",
            "mv -f src/dspcore/.deps/libopensmile_la-fftmagphase.Tpo src/dspcore/.deps/libopensmile_la-fftmagphase.Plo\n",
            "/bin/bash ./libtool  --tag=CXX   --mode=compile g++ -DHAVE_CONFIG_H -I.  -Isrc/include -Iprogsrc/include    -ggdb    -g -O2 -MT src/dspcore/libopensmile_la-monoMixdown.lo -MD -MP -MF src/dspcore/.deps/libopensmile_la-monoMixdown.Tpo -c -o src/dspcore/libopensmile_la-monoMixdown.lo `test -f 'src/dspcore/monoMixdown.cpp' || echo './'`src/dspcore/monoMixdown.cpp\n",
            "libtool: compile:  g++ -DHAVE_CONFIG_H -I. -Isrc/include -Iprogsrc/include -ggdb -g -O2 -MT src/dspcore/libopensmile_la-monoMixdown.lo -MD -MP -MF src/dspcore/.deps/libopensmile_la-monoMixdown.Tpo -c src/dspcore/monoMixdown.cpp  -fPIC -DPIC -o src/dspcore/.libs/libopensmile_la-monoMixdown.o\n",
            "mv -f src/dspcore/.deps/libopensmile_la-fullinputMean.Tpo src/dspcore/.deps/libopensmile_la-fullinputMean.Plo\n",
            "/bin/bash ./libtool  --tag=CXX   --mode=compile g++ -DHAVE_CONFIG_H -I.  -Isrc/include -Iprogsrc/include    -ggdb    -g -O2 -MT src/dspcore/libopensmile_la-preemphasis.lo -MD -MP -MF src/dspcore/.deps/libopensmile_la-preemphasis.Tpo -c -o src/dspcore/libopensmile_la-preemphasis.lo `test -f 'src/dspcore/preemphasis.cpp' || echo './'`src/dspcore/preemphasis.cpp\n",
            "libtool: compile:  g++ -DHAVE_CONFIG_H -I. -Isrc/include -Iprogsrc/include -ggdb -g -O2 -MT src/dspcore/libopensmile_la-fullturnMean.lo -MD -MP -MF src/dspcore/.deps/libopensmile_la-fullturnMean.Tpo -c src/dspcore/fullturnMean.cpp -o src/dspcore/libopensmile_la-fullturnMean.o >/dev/null 2>&1\n",
            "libtool: compile:  g++ -DHAVE_CONFIG_H -I. -Isrc/include -Iprogsrc/include -ggdb -g -O2 -MT src/dspcore/libopensmile_la-preemphasis.lo -MD -MP -MF src/dspcore/.deps/libopensmile_la-preemphasis.Tpo -c src/dspcore/preemphasis.cpp  -fPIC -DPIC -o src/dspcore/.libs/libopensmile_la-preemphasis.o\n",
            "libtool: compile:  g++ -DHAVE_CONFIG_H -I. -Isrc/include -Iprogsrc/include -ggdb -g -O2 -MT src/dspcore/libopensmile_la-monoMixdown.lo -MD -MP -MF src/dspcore/.deps/libopensmile_la-monoMixdown.Tpo -c src/dspcore/monoMixdown.cpp -o src/dspcore/libopensmile_la-monoMixdown.o >/dev/null 2>&1\n",
            "mv -f src/dspcore/.deps/libopensmile_la-fftsg.Tpo src/dspcore/.deps/libopensmile_la-fftsg.Plo\n",
            "/bin/bash ./libtool  --tag=CXX   --mode=compile g++ -DHAVE_CONFIG_H -I.  -Isrc/include -Iprogsrc/include    -ggdb    -g -O2 -MT src/dspcore/libopensmile_la-transformFft.lo -MD -MP -MF src/dspcore/.deps/libopensmile_la-transformFft.Tpo -c -o src/dspcore/libopensmile_la-transformFft.lo `test -f 'src/dspcore/transformFft.cpp' || echo './'`src/dspcore/transformFft.cpp\n",
            "libtool: compile:  g++ -DHAVE_CONFIG_H -I. -Isrc/include -Iprogsrc/include -ggdb -g -O2 -MT src/dspcore/libopensmile_la-transformFft.lo -MD -MP -MF src/dspcore/.deps/libopensmile_la-transformFft.Tpo -c src/dspcore/transformFft.cpp  -fPIC -DPIC -o src/dspcore/.libs/libopensmile_la-transformFft.o\n",
            "libtool: compile:  g++ -DHAVE_CONFIG_H -I. -Isrc/include -Iprogsrc/include -ggdb -g -O2 -MT src/dspcore/libopensmile_la-preemphasis.lo -MD -MP -MF src/dspcore/.deps/libopensmile_la-preemphasis.Tpo -c src/dspcore/preemphasis.cpp -o src/dspcore/libopensmile_la-preemphasis.o >/dev/null 2>&1\n",
            "mv -f src/dspcore/.deps/libopensmile_la-monoMixdown.Tpo src/dspcore/.deps/libopensmile_la-monoMixdown.Plo\n",
            "/bin/bash ./libtool  --tag=CXX   --mode=compile g++ -DHAVE_CONFIG_H -I.  -Isrc/include -Iprogsrc/include    -ggdb    -g -O2 -MT src/dspcore/libopensmile_la-turnDetector.lo -MD -MP -MF src/dspcore/.deps/libopensmile_la-turnDetector.Tpo -c -o src/dspcore/libopensmile_la-turnDetector.lo `test -f 'src/dspcore/turnDetector.cpp' || echo './'`src/dspcore/turnDetector.cpp\n",
            "mv -f src/dspcore/.deps/libopensmile_la-fullturnMean.Tpo src/dspcore/.deps/libopensmile_la-fullturnMean.Plo\n",
            "/bin/bash ./libtool  --tag=CXX   --mode=compile g++ -DHAVE_CONFIG_H -I.  -Isrc/include -Iprogsrc/include    -ggdb    -g -O2 -MT src/dspcore/libopensmile_la-vectorMVN.lo -MD -MP -MF src/dspcore/.deps/libopensmile_la-vectorMVN.Tpo -c -o src/dspcore/libopensmile_la-vectorMVN.lo `test -f 'src/dspcore/vectorMVN.cpp' || echo './'`src/dspcore/vectorMVN.cpp\n",
            "libtool: compile:  g++ -DHAVE_CONFIG_H -I. -Isrc/include -Iprogsrc/include -ggdb -g -O2 -MT src/dspcore/libopensmile_la-turnDetector.lo -MD -MP -MF src/dspcore/.deps/libopensmile_la-turnDetector.Tpo -c src/dspcore/turnDetector.cpp  -fPIC -DPIC -o src/dspcore/.libs/libopensmile_la-turnDetector.o\n",
            "libtool: compile:  g++ -DHAVE_CONFIG_H -I. -Isrc/include -Iprogsrc/include -ggdb -g -O2 -MT src/dspcore/libopensmile_la-vectorMVN.lo -MD -MP -MF src/dspcore/.deps/libopensmile_la-vectorMVN.Tpo -c src/dspcore/vectorMVN.cpp  -fPIC -DPIC -o src/dspcore/.libs/libopensmile_la-vectorMVN.o\n",
            "libtool: compile:  g++ -DHAVE_CONFIG_H -I. -Isrc/include -Iprogsrc/include -ggdb -g -O2 -MT src/dspcore/libopensmile_la-transformFft.lo -MD -MP -MF src/dspcore/.deps/libopensmile_la-transformFft.Tpo -c src/dspcore/transformFft.cpp -o src/dspcore/libopensmile_la-transformFft.o >/dev/null 2>&1\n",
            "mv -f src/dspcore/.deps/libopensmile_la-preemphasis.Tpo src/dspcore/.deps/libopensmile_la-preemphasis.Plo\n",
            "/bin/bash ./libtool  --tag=CXX   --mode=compile g++ -DHAVE_CONFIG_H -I.  -Isrc/include -Iprogsrc/include    -ggdb    -g -O2 -MT src/dspcore/libopensmile_la-vectorPreemphasis.lo -MD -MP -MF src/dspcore/.deps/libopensmile_la-vectorPreemphasis.Tpo -c -o src/dspcore/libopensmile_la-vectorPreemphasis.lo `test -f 'src/dspcore/vectorPreemphasis.cpp' || echo './'`src/dspcore/vectorPreemphasis.cpp\n",
            "libtool: compile:  g++ -DHAVE_CONFIG_H -I. -Isrc/include -Iprogsrc/include -ggdb -g -O2 -MT src/dspcore/libopensmile_la-vectorPreemphasis.lo -MD -MP -MF src/dspcore/.deps/libopensmile_la-vectorPreemphasis.Tpo -c src/dspcore/vectorPreemphasis.cpp  -fPIC -DPIC -o src/dspcore/.libs/libopensmile_la-vectorPreemphasis.o\n",
            "libtool: compile:  g++ -DHAVE_CONFIG_H -I. -Isrc/include -Iprogsrc/include -ggdb -g -O2 -MT src/dspcore/libopensmile_la-vectorMVN.lo -MD -MP -MF src/dspcore/.deps/libopensmile_la-vectorMVN.Tpo -c src/dspcore/vectorMVN.cpp -o src/dspcore/libopensmile_la-vectorMVN.o >/dev/null 2>&1\n",
            "mv -f src/dspcore/.deps/libopensmile_la-transformFft.Tpo src/dspcore/.deps/libopensmile_la-transformFft.Plo\n",
            "/bin/bash ./libtool  --tag=CXX   --mode=compile g++ -DHAVE_CONFIG_H -I.  -Isrc/include -Iprogsrc/include    -ggdb    -g -O2 -MT src/dspcore/libopensmile_la-windower.lo -MD -MP -MF src/dspcore/.deps/libopensmile_la-windower.Tpo -c -o src/dspcore/libopensmile_la-windower.lo `test -f 'src/dspcore/windower.cpp' || echo './'`src/dspcore/windower.cpp\n",
            "libtool: compile:  g++ -DHAVE_CONFIG_H -I. -Isrc/include -Iprogsrc/include -ggdb -g -O2 -MT src/dspcore/libopensmile_la-windower.lo -MD -MP -MF src/dspcore/.deps/libopensmile_la-windower.Tpo -c src/dspcore/windower.cpp  -fPIC -DPIC -o src/dspcore/.libs/libopensmile_la-windower.o\n",
            "libtool: compile:  g++ -DHAVE_CONFIG_H -I. -Isrc/include -Iprogsrc/include -ggdb -g -O2 -MT src/dspcore/libopensmile_la-turnDetector.lo -MD -MP -MF src/dspcore/.deps/libopensmile_la-turnDetector.Tpo -c src/dspcore/turnDetector.cpp -o src/dspcore/libopensmile_la-turnDetector.o >/dev/null 2>&1\n",
            "libtool: compile:  g++ -DHAVE_CONFIG_H -I. -Isrc/include -Iprogsrc/include -ggdb -g -O2 -MT src/dspcore/libopensmile_la-vectorPreemphasis.lo -MD -MP -MF src/dspcore/.deps/libopensmile_la-vectorPreemphasis.Tpo -c src/dspcore/vectorPreemphasis.cpp -o src/dspcore/libopensmile_la-vectorPreemphasis.o >/dev/null 2>&1\n",
            "mv -f src/dspcore/.deps/libopensmile_la-vectorMVN.Tpo src/dspcore/.deps/libopensmile_la-vectorMVN.Plo\n",
            "/bin/bash ./libtool  --tag=CXX   --mode=compile g++ -DHAVE_CONFIG_H -I.  -Isrc/include -Iprogsrc/include    -ggdb    -g -O2 -MT src/examples/libopensmile_la-exampleSink.lo -MD -MP -MF src/examples/.deps/libopensmile_la-exampleSink.Tpo -c -o src/examples/libopensmile_la-exampleSink.lo `test -f 'src/examples/exampleSink.cpp' || echo './'`src/examples/exampleSink.cpp\n",
            "libtool: compile:  g++ -DHAVE_CONFIG_H -I. -Isrc/include -Iprogsrc/include -ggdb -g -O2 -MT src/examples/libopensmile_la-exampleSink.lo -MD -MP -MF src/examples/.deps/libopensmile_la-exampleSink.Tpo -c src/examples/exampleSink.cpp  -fPIC -DPIC -o src/examples/.libs/libopensmile_la-exampleSink.o\n",
            "mv -f src/dspcore/.deps/libopensmile_la-vectorPreemphasis.Tpo src/dspcore/.deps/libopensmile_la-vectorPreemphasis.Plo\n",
            "/bin/bash ./libtool  --tag=CXX   --mode=compile g++ -DHAVE_CONFIG_H -I.  -Isrc/include -Iprogsrc/include    -ggdb    -g -O2 -MT src/examples/libopensmile_la-exampleSource.lo -MD -MP -MF src/examples/.deps/libopensmile_la-exampleSource.Tpo -c -o src/examples/libopensmile_la-exampleSource.lo `test -f 'src/examples/exampleSource.cpp' || echo './'`src/examples/exampleSource.cpp\n",
            "libtool: compile:  g++ -DHAVE_CONFIG_H -I. -Isrc/include -Iprogsrc/include -ggdb -g -O2 -MT src/examples/libopensmile_la-exampleSource.lo -MD -MP -MF src/examples/.deps/libopensmile_la-exampleSource.Tpo -c src/examples/exampleSource.cpp  -fPIC -DPIC -o src/examples/.libs/libopensmile_la-exampleSource.o\n",
            "libtool: compile:  g++ -DHAVE_CONFIG_H -I. -Isrc/include -Iprogsrc/include -ggdb -g -O2 -MT src/dspcore/libopensmile_la-windower.lo -MD -MP -MF src/dspcore/.deps/libopensmile_la-windower.Tpo -c src/dspcore/windower.cpp -o src/dspcore/libopensmile_la-windower.o >/dev/null 2>&1\n",
            "mv -f src/dspcore/.deps/libopensmile_la-turnDetector.Tpo src/dspcore/.deps/libopensmile_la-turnDetector.Plo\n",
            "/bin/bash ./libtool  --tag=CXX   --mode=compile g++ -DHAVE_CONFIG_H -I.  -Isrc/include -Iprogsrc/include    -ggdb    -g -O2 -MT src/examples/libopensmile_la-simpleMessageSender.lo -MD -MP -MF src/examples/.deps/libopensmile_la-simpleMessageSender.Tpo -c -o src/examples/libopensmile_la-simpleMessageSender.lo `test -f 'src/examples/simpleMessageSender.cpp' || echo './'`src/examples/simpleMessageSender.cpp\n",
            "libtool: compile:  g++ -DHAVE_CONFIG_H -I. -Isrc/include -Iprogsrc/include -ggdb -g -O2 -MT src/examples/libopensmile_la-exampleSink.lo -MD -MP -MF src/examples/.deps/libopensmile_la-exampleSink.Tpo -c src/examples/exampleSink.cpp -o src/examples/libopensmile_la-exampleSink.o >/dev/null 2>&1\n",
            "libtool: compile:  g++ -DHAVE_CONFIG_H -I. -Isrc/include -Iprogsrc/include -ggdb -g -O2 -MT src/examples/libopensmile_la-simpleMessageSender.lo -MD -MP -MF src/examples/.deps/libopensmile_la-simpleMessageSender.Tpo -c src/examples/simpleMessageSender.cpp  -fPIC -DPIC -o src/examples/.libs/libopensmile_la-simpleMessageSender.o\n",
            "libtool: compile:  g++ -DHAVE_CONFIG_H -I. -Isrc/include -Iprogsrc/include -ggdb -g -O2 -MT src/examples/libopensmile_la-exampleSource.lo -MD -MP -MF src/examples/.deps/libopensmile_la-exampleSource.Tpo -c src/examples/exampleSource.cpp -o src/examples/libopensmile_la-exampleSource.o >/dev/null 2>&1\n",
            "mv -f src/dspcore/.deps/libopensmile_la-windower.Tpo src/dspcore/.deps/libopensmile_la-windower.Plo\n",
            "/bin/bash ./libtool  --tag=CXX   --mode=compile g++ -DHAVE_CONFIG_H -I.  -Isrc/include -Iprogsrc/include    -ggdb    -g -O2 -MT src/functionals/libopensmile_la-functionalComponent.lo -MD -MP -MF src/functionals/.deps/libopensmile_la-functionalComponent.Tpo -c -o src/functionals/libopensmile_la-functionalComponent.lo `test -f 'src/functionals/functionalComponent.cpp' || echo './'`src/functionals/functionalComponent.cpp\n",
            "mv -f src/examples/.deps/libopensmile_la-exampleSink.Tpo src/examples/.deps/libopensmile_la-exampleSink.Plo\n",
            "/bin/bash ./libtool  --tag=CXX   --mode=compile g++ -DHAVE_CONFIG_H -I.  -Isrc/include -Iprogsrc/include    -ggdb    -g -O2 -MT src/functionals/libopensmile_la-functionalCrossings.lo -MD -MP -MF src/functionals/.deps/libopensmile_la-functionalCrossings.Tpo -c -o src/functionals/libopensmile_la-functionalCrossings.lo `test -f 'src/functionals/functionalCrossings.cpp' || echo './'`src/functionals/functionalCrossings.cpp\n",
            "libtool: compile:  g++ -DHAVE_CONFIG_H -I. -Isrc/include -Iprogsrc/include -ggdb -g -O2 -MT src/functionals/libopensmile_la-functionalComponent.lo -MD -MP -MF src/functionals/.deps/libopensmile_la-functionalComponent.Tpo -c src/functionals/functionalComponent.cpp  -fPIC -DPIC -o src/functionals/.libs/libopensmile_la-functionalComponent.o\n",
            "libtool: compile:  g++ -DHAVE_CONFIG_H -I. -Isrc/include -Iprogsrc/include -ggdb -g -O2 -MT src/functionals/libopensmile_la-functionalCrossings.lo -MD -MP -MF src/functionals/.deps/libopensmile_la-functionalCrossings.Tpo -c src/functionals/functionalCrossings.cpp  -fPIC -DPIC -o src/functionals/.libs/libopensmile_la-functionalCrossings.o\n",
            "libtool: compile:  g++ -DHAVE_CONFIG_H -I. -Isrc/include -Iprogsrc/include -ggdb -g -O2 -MT src/examples/libopensmile_la-simpleMessageSender.lo -MD -MP -MF src/examples/.deps/libopensmile_la-simpleMessageSender.Tpo -c src/examples/simpleMessageSender.cpp -o src/examples/libopensmile_la-simpleMessageSender.o >/dev/null 2>&1\n",
            "mv -f src/examples/.deps/libopensmile_la-exampleSource.Tpo src/examples/.deps/libopensmile_la-exampleSource.Plo\n",
            "/bin/bash ./libtool  --tag=CXX   --mode=compile g++ -DHAVE_CONFIG_H -I.  -Isrc/include -Iprogsrc/include    -ggdb    -g -O2 -MT src/functionals/libopensmile_la-functionalDCT.lo -MD -MP -MF src/functionals/.deps/libopensmile_la-functionalDCT.Tpo -c -o src/functionals/libopensmile_la-functionalDCT.lo `test -f 'src/functionals/functionalDCT.cpp' || echo './'`src/functionals/functionalDCT.cpp\n",
            "libtool: compile:  g++ -DHAVE_CONFIG_H -I. -Isrc/include -Iprogsrc/include -ggdb -g -O2 -MT src/functionals/libopensmile_la-functionalDCT.lo -MD -MP -MF src/functionals/.deps/libopensmile_la-functionalDCT.Tpo -c src/functionals/functionalDCT.cpp  -fPIC -DPIC -o src/functionals/.libs/libopensmile_la-functionalDCT.o\n",
            "libtool: compile:  g++ -DHAVE_CONFIG_H -I. -Isrc/include -Iprogsrc/include -ggdb -g -O2 -MT src/functionals/libopensmile_la-functionalComponent.lo -MD -MP -MF src/functionals/.deps/libopensmile_la-functionalComponent.Tpo -c src/functionals/functionalComponent.cpp -o src/functionals/libopensmile_la-functionalComponent.o >/dev/null 2>&1\n",
            "libtool: compile:  g++ -DHAVE_CONFIG_H -I. -Isrc/include -Iprogsrc/include -ggdb -g -O2 -MT src/functionals/libopensmile_la-functionalCrossings.lo -MD -MP -MF src/functionals/.deps/libopensmile_la-functionalCrossings.Tpo -c src/functionals/functionalCrossings.cpp -o src/functionals/libopensmile_la-functionalCrossings.o >/dev/null 2>&1\n",
            "mv -f src/examples/.deps/libopensmile_la-simpleMessageSender.Tpo src/examples/.deps/libopensmile_la-simpleMessageSender.Plo\n",
            "/bin/bash ./libtool  --tag=CXX   --mode=compile g++ -DHAVE_CONFIG_H -I.  -Isrc/include -Iprogsrc/include    -ggdb    -g -O2 -MT src/functionals/libopensmile_la-functionalExtremes.lo -MD -MP -MF src/functionals/.deps/libopensmile_la-functionalExtremes.Tpo -c -o src/functionals/libopensmile_la-functionalExtremes.lo `test -f 'src/functionals/functionalExtremes.cpp' || echo './'`src/functionals/functionalExtremes.cpp\n",
            "libtool: compile:  g++ -DHAVE_CONFIG_H -I. -Isrc/include -Iprogsrc/include -ggdb -g -O2 -MT src/functionals/libopensmile_la-functionalDCT.lo -MD -MP -MF src/functionals/.deps/libopensmile_la-functionalDCT.Tpo -c src/functionals/functionalDCT.cpp -o src/functionals/libopensmile_la-functionalDCT.o >/dev/null 2>&1\n",
            "mv -f src/functionals/.deps/libopensmile_la-functionalComponent.Tpo src/functionals/.deps/libopensmile_la-functionalComponent.Plo\n",
            "libtool: compile:  g++ -DHAVE_CONFIG_H -I. -Isrc/include -Iprogsrc/include -ggdb -g -O2 -MT src/functionals/libopensmile_la-functionalExtremes.lo -MD -MP -MF src/functionals/.deps/libopensmile_la-functionalExtremes.Tpo -c src/functionals/functionalExtremes.cpp  -fPIC -DPIC -o src/functionals/.libs/libopensmile_la-functionalExtremes.o\n",
            "/bin/bash ./libtool  --tag=CXX   --mode=compile g++ -DHAVE_CONFIG_H -I.  -Isrc/include -Iprogsrc/include    -ggdb    -g -O2 -MT src/functionals/libopensmile_la-functionalLpc.lo -MD -MP -MF src/functionals/.deps/libopensmile_la-functionalLpc.Tpo -c -o src/functionals/libopensmile_la-functionalLpc.lo `test -f 'src/functionals/functionalLpc.cpp' || echo './'`src/functionals/functionalLpc.cpp\n",
            "libtool: compile:  g++ -DHAVE_CONFIG_H -I. -Isrc/include -Iprogsrc/include -ggdb -g -O2 -MT src/functionals/libopensmile_la-functionalLpc.lo -MD -MP -MF src/functionals/.deps/libopensmile_la-functionalLpc.Tpo -c src/functionals/functionalLpc.cpp  -fPIC -DPIC -o src/functionals/.libs/libopensmile_la-functionalLpc.o\n",
            "mv -f src/functionals/.deps/libopensmile_la-functionalCrossings.Tpo src/functionals/.deps/libopensmile_la-functionalCrossings.Plo\n",
            "/bin/bash ./libtool  --tag=CXX   --mode=compile g++ -DHAVE_CONFIG_H -I.  -Isrc/include -Iprogsrc/include    -ggdb    -g -O2 -MT src/functionals/libopensmile_la-functionalMeans.lo -MD -MP -MF src/functionals/.deps/libopensmile_la-functionalMeans.Tpo -c -o src/functionals/libopensmile_la-functionalMeans.lo `test -f 'src/functionals/functionalMeans.cpp' || echo './'`src/functionals/functionalMeans.cpp\n",
            "libtool: compile:  g++ -DHAVE_CONFIG_H -I. -Isrc/include -Iprogsrc/include -ggdb -g -O2 -MT src/functionals/libopensmile_la-functionalMeans.lo -MD -MP -MF src/functionals/.deps/libopensmile_la-functionalMeans.Tpo -c src/functionals/functionalMeans.cpp  -fPIC -DPIC -o src/functionals/.libs/libopensmile_la-functionalMeans.o\n",
            "mv -f src/functionals/.deps/libopensmile_la-functionalDCT.Tpo src/functionals/.deps/libopensmile_la-functionalDCT.Plo\n",
            "/bin/bash ./libtool  --tag=CXX   --mode=compile g++ -DHAVE_CONFIG_H -I.  -Isrc/include -Iprogsrc/include    -ggdb    -g -O2 -MT src/functionals/libopensmile_la-functionalMoments.lo -MD -MP -MF src/functionals/.deps/libopensmile_la-functionalMoments.Tpo -c -o src/functionals/libopensmile_la-functionalMoments.lo `test -f 'src/functionals/functionalMoments.cpp' || echo './'`src/functionals/functionalMoments.cpp\n",
            "libtool: compile:  g++ -DHAVE_CONFIG_H -I. -Isrc/include -Iprogsrc/include -ggdb -g -O2 -MT src/functionals/libopensmile_la-functionalExtremes.lo -MD -MP -MF src/functionals/.deps/libopensmile_la-functionalExtremes.Tpo -c src/functionals/functionalExtremes.cpp -o src/functionals/libopensmile_la-functionalExtremes.o >/dev/null 2>&1\n",
            "libtool: compile:  g++ -DHAVE_CONFIG_H -I. -Isrc/include -Iprogsrc/include -ggdb -g -O2 -MT src/functionals/libopensmile_la-functionalMoments.lo -MD -MP -MF src/functionals/.deps/libopensmile_la-functionalMoments.Tpo -c src/functionals/functionalMoments.cpp  -fPIC -DPIC -o src/functionals/.libs/libopensmile_la-functionalMoments.o\n",
            "libtool: compile:  g++ -DHAVE_CONFIG_H -I. -Isrc/include -Iprogsrc/include -ggdb -g -O2 -MT src/functionals/libopensmile_la-functionalLpc.lo -MD -MP -MF src/functionals/.deps/libopensmile_la-functionalLpc.Tpo -c src/functionals/functionalLpc.cpp -o src/functionals/libopensmile_la-functionalLpc.o >/dev/null 2>&1\n",
            "mv -f src/functionals/.deps/libopensmile_la-functionalExtremes.Tpo src/functionals/.deps/libopensmile_la-functionalExtremes.Plo\n",
            "/bin/bash ./libtool  --tag=CXX   --mode=compile g++ -DHAVE_CONFIG_H -I.  -Isrc/include -Iprogsrc/include    -ggdb    -g -O2 -MT src/functionals/libopensmile_la-functionalOnset.lo -MD -MP -MF src/functionals/.deps/libopensmile_la-functionalOnset.Tpo -c -o src/functionals/libopensmile_la-functionalOnset.lo `test -f 'src/functionals/functionalOnset.cpp' || echo './'`src/functionals/functionalOnset.cpp\n",
            "libtool: compile:  g++ -DHAVE_CONFIG_H -I. -Isrc/include -Iprogsrc/include -ggdb -g -O2 -MT src/functionals/libopensmile_la-functionalMeans.lo -MD -MP -MF src/functionals/.deps/libopensmile_la-functionalMeans.Tpo -c src/functionals/functionalMeans.cpp -o src/functionals/libopensmile_la-functionalMeans.o >/dev/null 2>&1\n",
            "libtool: compile:  g++ -DHAVE_CONFIG_H -I. -Isrc/include -Iprogsrc/include -ggdb -g -O2 -MT src/functionals/libopensmile_la-functionalOnset.lo -MD -MP -MF src/functionals/.deps/libopensmile_la-functionalOnset.Tpo -c src/functionals/functionalOnset.cpp  -fPIC -DPIC -o src/functionals/.libs/libopensmile_la-functionalOnset.o\n",
            "libtool: compile:  g++ -DHAVE_CONFIG_H -I. -Isrc/include -Iprogsrc/include -ggdb -g -O2 -MT src/functionals/libopensmile_la-functionalMoments.lo -MD -MP -MF src/functionals/.deps/libopensmile_la-functionalMoments.Tpo -c src/functionals/functionalMoments.cpp -o src/functionals/libopensmile_la-functionalMoments.o >/dev/null 2>&1\n",
            "mv -f src/functionals/.deps/libopensmile_la-functionalLpc.Tpo src/functionals/.deps/libopensmile_la-functionalLpc.Plo\n",
            "/bin/bash ./libtool  --tag=CXX   --mode=compile g++ -DHAVE_CONFIG_H -I.  -Isrc/include -Iprogsrc/include    -ggdb    -g -O2 -MT src/functionals/libopensmile_la-functionalPeaks.lo -MD -MP -MF src/functionals/.deps/libopensmile_la-functionalPeaks.Tpo -c -o src/functionals/libopensmile_la-functionalPeaks.lo `test -f 'src/functionals/functionalPeaks.cpp' || echo './'`src/functionals/functionalPeaks.cpp\n",
            "libtool: compile:  g++ -DHAVE_CONFIG_H -I. -Isrc/include -Iprogsrc/include -ggdb -g -O2 -MT src/functionals/libopensmile_la-functionalPeaks.lo -MD -MP -MF src/functionals/.deps/libopensmile_la-functionalPeaks.Tpo -c src/functionals/functionalPeaks.cpp  -fPIC -DPIC -o src/functionals/.libs/libopensmile_la-functionalPeaks.o\n",
            "libtool: compile:  g++ -DHAVE_CONFIG_H -I. -Isrc/include -Iprogsrc/include -ggdb -g -O2 -MT src/functionals/libopensmile_la-functionalOnset.lo -MD -MP -MF src/functionals/.deps/libopensmile_la-functionalOnset.Tpo -c src/functionals/functionalOnset.cpp -o src/functionals/libopensmile_la-functionalOnset.o >/dev/null 2>&1\n",
            "mv -f src/functionals/.deps/libopensmile_la-functionalMoments.Tpo src/functionals/.deps/libopensmile_la-functionalMoments.Plo\n",
            "/bin/bash ./libtool  --tag=CXX   --mode=compile g++ -DHAVE_CONFIG_H -I.  -Isrc/include -Iprogsrc/include    -ggdb    -g -O2 -MT src/functionals/libopensmile_la-functionalPeaks2.lo -MD -MP -MF src/functionals/.deps/libopensmile_la-functionalPeaks2.Tpo -c -o src/functionals/libopensmile_la-functionalPeaks2.lo `test -f 'src/functionals/functionalPeaks2.cpp' || echo './'`src/functionals/functionalPeaks2.cpp\n",
            "mv -f src/functionals/.deps/libopensmile_la-functionalMeans.Tpo src/functionals/.deps/libopensmile_la-functionalMeans.Plo\n",
            "/bin/bash ./libtool  --tag=CXX   --mode=compile g++ -DHAVE_CONFIG_H -I.  -Isrc/include -Iprogsrc/include    -ggdb    -g -O2 -MT src/functionals/libopensmile_la-functionalPercentiles.lo -MD -MP -MF src/functionals/.deps/libopensmile_la-functionalPercentiles.Tpo -c -o src/functionals/libopensmile_la-functionalPercentiles.lo `test -f 'src/functionals/functionalPercentiles.cpp' || echo './'`src/functionals/functionalPercentiles.cpp\n",
            "libtool: compile:  g++ -DHAVE_CONFIG_H -I. -Isrc/include -Iprogsrc/include -ggdb -g -O2 -MT src/functionals/libopensmile_la-functionalPeaks2.lo -MD -MP -MF src/functionals/.deps/libopensmile_la-functionalPeaks2.Tpo -c src/functionals/functionalPeaks2.cpp  -fPIC -DPIC -o src/functionals/.libs/libopensmile_la-functionalPeaks2.o\n",
            "libtool: compile:  g++ -DHAVE_CONFIG_H -I. -Isrc/include -Iprogsrc/include -ggdb -g -O2 -MT src/functionals/libopensmile_la-functionalPercentiles.lo -MD -MP -MF src/functionals/.deps/libopensmile_la-functionalPercentiles.Tpo -c src/functionals/functionalPercentiles.cpp  -fPIC -DPIC -o src/functionals/.libs/libopensmile_la-functionalPercentiles.o\n",
            "libtool: compile:  g++ -DHAVE_CONFIG_H -I. -Isrc/include -Iprogsrc/include -ggdb -g -O2 -MT src/functionals/libopensmile_la-functionalPeaks.lo -MD -MP -MF src/functionals/.deps/libopensmile_la-functionalPeaks.Tpo -c src/functionals/functionalPeaks.cpp -o src/functionals/libopensmile_la-functionalPeaks.o >/dev/null 2>&1\n",
            "mv -f src/functionals/.deps/libopensmile_la-functionalOnset.Tpo src/functionals/.deps/libopensmile_la-functionalOnset.Plo\n",
            "/bin/bash ./libtool  --tag=CXX   --mode=compile g++ -DHAVE_CONFIG_H -I.  -Isrc/include -Iprogsrc/include    -ggdb    -g -O2 -MT src/functionals/libopensmile_la-functionalRegression.lo -MD -MP -MF src/functionals/.deps/libopensmile_la-functionalRegression.Tpo -c -o src/functionals/libopensmile_la-functionalRegression.lo `test -f 'src/functionals/functionalRegression.cpp' || echo './'`src/functionals/functionalRegression.cpp\n",
            "libtool: compile:  g++ -DHAVE_CONFIG_H -I. -Isrc/include -Iprogsrc/include -ggdb -g -O2 -MT src/functionals/libopensmile_la-functionalRegression.lo -MD -MP -MF src/functionals/.deps/libopensmile_la-functionalRegression.Tpo -c src/functionals/functionalRegression.cpp  -fPIC -DPIC -o src/functionals/.libs/libopensmile_la-functionalRegression.o\n",
            "mv -f src/functionals/.deps/libopensmile_la-functionalPeaks.Tpo src/functionals/.deps/libopensmile_la-functionalPeaks.Plo\n",
            "/bin/bash ./libtool  --tag=CXX   --mode=compile g++ -DHAVE_CONFIG_H -I.  -Isrc/include -Iprogsrc/include    -ggdb    -g -O2 -MT src/functionals/libopensmile_la-functionalSamples.lo -MD -MP -MF src/functionals/.deps/libopensmile_la-functionalSamples.Tpo -c -o src/functionals/libopensmile_la-functionalSamples.lo `test -f 'src/functionals/functionalSamples.cpp' || echo './'`src/functionals/functionalSamples.cpp\n",
            "libtool: compile:  g++ -DHAVE_CONFIG_H -I. -Isrc/include -Iprogsrc/include -ggdb -g -O2 -MT src/functionals/libopensmile_la-functionalSamples.lo -MD -MP -MF src/functionals/.deps/libopensmile_la-functionalSamples.Tpo -c src/functionals/functionalSamples.cpp  -fPIC -DPIC -o src/functionals/.libs/libopensmile_la-functionalSamples.o\n",
            "libtool: compile:  g++ -DHAVE_CONFIG_H -I. -Isrc/include -Iprogsrc/include -ggdb -g -O2 -MT src/functionals/libopensmile_la-functionalPercentiles.lo -MD -MP -MF src/functionals/.deps/libopensmile_la-functionalPercentiles.Tpo -c src/functionals/functionalPercentiles.cpp -o src/functionals/libopensmile_la-functionalPercentiles.o >/dev/null 2>&1\n",
            "libtool: compile:  g++ -DHAVE_CONFIG_H -I. -Isrc/include -Iprogsrc/include -ggdb -g -O2 -MT src/functionals/libopensmile_la-functionalPeaks2.lo -MD -MP -MF src/functionals/.deps/libopensmile_la-functionalPeaks2.Tpo -c src/functionals/functionalPeaks2.cpp -o src/functionals/libopensmile_la-functionalPeaks2.o >/dev/null 2>&1\n",
            "libtool: compile:  g++ -DHAVE_CONFIG_H -I. -Isrc/include -Iprogsrc/include -ggdb -g -O2 -MT src/functionals/libopensmile_la-functionalRegression.lo -MD -MP -MF src/functionals/.deps/libopensmile_la-functionalRegression.Tpo -c src/functionals/functionalRegression.cpp -o src/functionals/libopensmile_la-functionalRegression.o >/dev/null 2>&1\n",
            "libtool: compile:  g++ -DHAVE_CONFIG_H -I. -Isrc/include -Iprogsrc/include -ggdb -g -O2 -MT src/functionals/libopensmile_la-functionalSamples.lo -MD -MP -MF src/functionals/.deps/libopensmile_la-functionalSamples.Tpo -c src/functionals/functionalSamples.cpp -o src/functionals/libopensmile_la-functionalSamples.o >/dev/null 2>&1\n",
            "mv -f src/functionals/.deps/libopensmile_la-functionalPercentiles.Tpo src/functionals/.deps/libopensmile_la-functionalPercentiles.Plo\n",
            "/bin/bash ./libtool  --tag=CXX   --mode=compile g++ -DHAVE_CONFIG_H -I.  -Isrc/include -Iprogsrc/include    -ggdb    -g -O2 -MT src/functionals/libopensmile_la-functionalSegments.lo -MD -MP -MF src/functionals/.deps/libopensmile_la-functionalSegments.Tpo -c -o src/functionals/libopensmile_la-functionalSegments.lo `test -f 'src/functionals/functionalSegments.cpp' || echo './'`src/functionals/functionalSegments.cpp\n",
            "libtool: compile:  g++ -DHAVE_CONFIG_H -I. -Isrc/include -Iprogsrc/include -ggdb -g -O2 -MT src/functionals/libopensmile_la-functionalSegments.lo -MD -MP -MF src/functionals/.deps/libopensmile_la-functionalSegments.Tpo -c src/functionals/functionalSegments.cpp  -fPIC -DPIC -o src/functionals/.libs/libopensmile_la-functionalSegments.o\n",
            "mv -f src/functionals/.deps/libopensmile_la-functionalSamples.Tpo src/functionals/.deps/libopensmile_la-functionalSamples.Plo\n",
            "/bin/bash ./libtool  --tag=CXX   --mode=compile g++ -DHAVE_CONFIG_H -I.  -Isrc/include -Iprogsrc/include    -ggdb    -g -O2 -MT src/functionals/libopensmile_la-functionalTimes.lo -MD -MP -MF src/functionals/.deps/libopensmile_la-functionalTimes.Tpo -c -o src/functionals/libopensmile_la-functionalTimes.lo `test -f 'src/functionals/functionalTimes.cpp' || echo './'`src/functionals/functionalTimes.cpp\n",
            "mv -f src/functionals/.deps/libopensmile_la-functionalRegression.Tpo src/functionals/.deps/libopensmile_la-functionalRegression.Plo\n",
            "/bin/bash ./libtool  --tag=CXX   --mode=compile g++ -DHAVE_CONFIG_H -I.  -Isrc/include -Iprogsrc/include    -ggdb    -g -O2 -MT src/functionals/libopensmile_la-functionals.lo -MD -MP -MF src/functionals/.deps/libopensmile_la-functionals.Tpo -c -o src/functionals/libopensmile_la-functionals.lo `test -f 'src/functionals/functionals.cpp' || echo './'`src/functionals/functionals.cpp\n",
            "libtool: compile:  g++ -DHAVE_CONFIG_H -I. -Isrc/include -Iprogsrc/include -ggdb -g -O2 -MT src/functionals/libopensmile_la-functionalTimes.lo -MD -MP -MF src/functionals/.deps/libopensmile_la-functionalTimes.Tpo -c src/functionals/functionalTimes.cpp  -fPIC -DPIC -o src/functionals/.libs/libopensmile_la-functionalTimes.o\n",
            "libtool: compile:  g++ -DHAVE_CONFIG_H -I. -Isrc/include -Iprogsrc/include -ggdb -g -O2 -MT src/functionals/libopensmile_la-functionals.lo -MD -MP -MF src/functionals/.deps/libopensmile_la-functionals.Tpo -c src/functionals/functionals.cpp  -fPIC -DPIC -o src/functionals/.libs/libopensmile_la-functionals.o\n",
            "mv -f src/functionals/.deps/libopensmile_la-functionalPeaks2.Tpo src/functionals/.deps/libopensmile_la-functionalPeaks2.Plo\n",
            "/bin/bash ./libtool  --tag=CXX   --mode=compile g++ -DHAVE_CONFIG_H -I.  -Isrc/include -Iprogsrc/include    -ggdb    -g -O2 -MT src/lld/libopensmile_la-lsp.lo -MD -MP -MF src/lld/.deps/libopensmile_la-lsp.Tpo -c -o src/lld/libopensmile_la-lsp.lo `test -f 'src/lld/lsp.cpp' || echo './'`src/lld/lsp.cpp\n",
            "libtool: compile:  g++ -DHAVE_CONFIG_H -I. -Isrc/include -Iprogsrc/include -ggdb -g -O2 -MT src/lld/libopensmile_la-lsp.lo -MD -MP -MF src/lld/.deps/libopensmile_la-lsp.Tpo -c src/lld/lsp.cpp  -fPIC -DPIC -o src/lld/.libs/libopensmile_la-lsp.o\n",
            "libtool: compile:  g++ -DHAVE_CONFIG_H -I. -Isrc/include -Iprogsrc/include -ggdb -g -O2 -MT src/functionals/libopensmile_la-functionalSegments.lo -MD -MP -MF src/functionals/.deps/libopensmile_la-functionalSegments.Tpo -c src/functionals/functionalSegments.cpp -o src/functionals/libopensmile_la-functionalSegments.o >/dev/null 2>&1\n",
            "libtool: compile:  g++ -DHAVE_CONFIG_H -I. -Isrc/include -Iprogsrc/include -ggdb -g -O2 -MT src/functionals/libopensmile_la-functionals.lo -MD -MP -MF src/functionals/.deps/libopensmile_la-functionals.Tpo -c src/functionals/functionals.cpp -o src/functionals/libopensmile_la-functionals.o >/dev/null 2>&1\n",
            "libtool: compile:  g++ -DHAVE_CONFIG_H -I. -Isrc/include -Iprogsrc/include -ggdb -g -O2 -MT src/functionals/libopensmile_la-functionalTimes.lo -MD -MP -MF src/functionals/.deps/libopensmile_la-functionalTimes.Tpo -c src/functionals/functionalTimes.cpp -o src/functionals/libopensmile_la-functionalTimes.o >/dev/null 2>&1\n",
            "libtool: compile:  g++ -DHAVE_CONFIG_H -I. -Isrc/include -Iprogsrc/include -ggdb -g -O2 -MT src/lld/libopensmile_la-lsp.lo -MD -MP -MF src/lld/.deps/libopensmile_la-lsp.Tpo -c src/lld/lsp.cpp -o src/lld/libopensmile_la-lsp.o >/dev/null 2>&1\n",
            "mv -f src/lld/.deps/libopensmile_la-lsp.Tpo src/lld/.deps/libopensmile_la-lsp.Plo\n",
            "/bin/bash ./libtool  --tag=CXX   --mode=compile g++ -DHAVE_CONFIG_H -I.  -Isrc/include -Iprogsrc/include    -ggdb    -g -O2 -MT src/io/libopensmile_la-libsvmSink.lo -MD -MP -MF src/io/.deps/libopensmile_la-libsvmSink.Tpo -c -o src/io/libopensmile_la-libsvmSink.lo `test -f 'src/io/libsvmSink.cpp' || echo './'`src/io/libsvmSink.cpp\n",
            "libtool: compile:  g++ -DHAVE_CONFIG_H -I. -Isrc/include -Iprogsrc/include -ggdb -g -O2 -MT src/io/libopensmile_la-libsvmSink.lo -MD -MP -MF src/io/.deps/libopensmile_la-libsvmSink.Tpo -c src/io/libsvmSink.cpp  -fPIC -DPIC -o src/io/.libs/libopensmile_la-libsvmSink.o\n",
            "mv -f src/functionals/.deps/libopensmile_la-functionals.Tpo src/functionals/.deps/libopensmile_la-functionals.Plo\n",
            "/bin/bash ./libtool  --tag=CXX   --mode=compile g++ -DHAVE_CONFIG_H -I.  -Isrc/include -Iprogsrc/include    -ggdb    -g -O2 -MT src/iocore/libopensmile_la-arffSink.lo -MD -MP -MF src/iocore/.deps/libopensmile_la-arffSink.Tpo -c -o src/iocore/libopensmile_la-arffSink.lo `test -f 'src/iocore/arffSink.cpp' || echo './'`src/iocore/arffSink.cpp\n",
            "mv -f src/functionals/.deps/libopensmile_la-functionalTimes.Tpo src/functionals/.deps/libopensmile_la-functionalTimes.Plo\n",
            "/bin/bash ./libtool  --tag=CXX   --mode=compile g++ -DHAVE_CONFIG_H -I.  -Isrc/include -Iprogsrc/include    -ggdb    -g -O2 -MT src/iocore/libopensmile_la-arffSource.lo -MD -MP -MF src/iocore/.deps/libopensmile_la-arffSource.Tpo -c -o src/iocore/libopensmile_la-arffSource.lo `test -f 'src/iocore/arffSource.cpp' || echo './'`src/iocore/arffSource.cpp\n",
            "mv -f src/functionals/.deps/libopensmile_la-functionalSegments.Tpo src/functionals/.deps/libopensmile_la-functionalSegments.Plo\n",
            "/bin/bash ./libtool  --tag=CXX   --mode=compile g++ -DHAVE_CONFIG_H -I.  -Isrc/include -Iprogsrc/include    -ggdb    -g -O2 -MT src/iocore/libopensmile_la-csvSink.lo -MD -MP -MF src/iocore/.deps/libopensmile_la-csvSink.Tpo -c -o src/iocore/libopensmile_la-csvSink.lo `test -f 'src/iocore/csvSink.cpp' || echo './'`src/iocore/csvSink.cpp\n",
            "libtool: compile:  g++ -DHAVE_CONFIG_H -I. -Isrc/include -Iprogsrc/include -ggdb -g -O2 -MT src/iocore/libopensmile_la-arffSink.lo -MD -MP -MF src/iocore/.deps/libopensmile_la-arffSink.Tpo -c src/iocore/arffSink.cpp  -fPIC -DPIC -o src/iocore/.libs/libopensmile_la-arffSink.o\n",
            "libtool: compile:  g++ -DHAVE_CONFIG_H -I. -Isrc/include -Iprogsrc/include -ggdb -g -O2 -MT src/iocore/libopensmile_la-arffSource.lo -MD -MP -MF src/iocore/.deps/libopensmile_la-arffSource.Tpo -c src/iocore/arffSource.cpp  -fPIC -DPIC -o src/iocore/.libs/libopensmile_la-arffSource.o\n",
            "libtool: compile:  g++ -DHAVE_CONFIG_H -I. -Isrc/include -Iprogsrc/include -ggdb -g -O2 -MT src/iocore/libopensmile_la-csvSink.lo -MD -MP -MF src/iocore/.deps/libopensmile_la-csvSink.Tpo -c src/iocore/csvSink.cpp  -fPIC -DPIC -o src/iocore/.libs/libopensmile_la-csvSink.o\n",
            "libtool: compile:  g++ -DHAVE_CONFIG_H -I. -Isrc/include -Iprogsrc/include -ggdb -g -O2 -MT src/io/libopensmile_la-libsvmSink.lo -MD -MP -MF src/io/.deps/libopensmile_la-libsvmSink.Tpo -c src/io/libsvmSink.cpp -o src/io/libopensmile_la-libsvmSink.o >/dev/null 2>&1\n",
            "libtool: compile:  g++ -DHAVE_CONFIG_H -I. -Isrc/include -Iprogsrc/include -ggdb -g -O2 -MT src/iocore/libopensmile_la-arffSource.lo -MD -MP -MF src/iocore/.deps/libopensmile_la-arffSource.Tpo -c src/iocore/arffSource.cpp -o src/iocore/libopensmile_la-arffSource.o >/dev/null 2>&1\n",
            "libtool: compile:  g++ -DHAVE_CONFIG_H -I. -Isrc/include -Iprogsrc/include -ggdb -g -O2 -MT src/iocore/libopensmile_la-csvSink.lo -MD -MP -MF src/iocore/.deps/libopensmile_la-csvSink.Tpo -c src/iocore/csvSink.cpp -o src/iocore/libopensmile_la-csvSink.o >/dev/null 2>&1\n",
            "libtool: compile:  g++ -DHAVE_CONFIG_H -I. -Isrc/include -Iprogsrc/include -ggdb -g -O2 -MT src/iocore/libopensmile_la-arffSink.lo -MD -MP -MF src/iocore/.deps/libopensmile_la-arffSink.Tpo -c src/iocore/arffSink.cpp -o src/iocore/libopensmile_la-arffSink.o >/dev/null 2>&1\n",
            "mv -f src/io/.deps/libopensmile_la-libsvmSink.Tpo src/io/.deps/libopensmile_la-libsvmSink.Plo\n",
            "/bin/bash ./libtool  --tag=CXX   --mode=compile g++ -DHAVE_CONFIG_H -I.  -Isrc/include -Iprogsrc/include    -ggdb    -g -O2 -MT src/iocore/libopensmile_la-csvSource.lo -MD -MP -MF src/iocore/.deps/libopensmile_la-csvSource.Tpo -c -o src/iocore/libopensmile_la-csvSource.lo `test -f 'src/iocore/csvSource.cpp' || echo './'`src/iocore/csvSource.cpp\n",
            "mv -f src/iocore/.deps/libopensmile_la-arffSource.Tpo src/iocore/.deps/libopensmile_la-arffSource.Plo\n",
            "/bin/bash ./libtool  --tag=CXX   --mode=compile g++ -DHAVE_CONFIG_H -I.  -Isrc/include -Iprogsrc/include    -ggdb    -g -O2 -MT src/iocore/libopensmile_la-datadumpSink.lo -MD -MP -MF src/iocore/.deps/libopensmile_la-datadumpSink.Tpo -c -o src/iocore/libopensmile_la-datadumpSink.lo `test -f 'src/iocore/datadumpSink.cpp' || echo './'`src/iocore/datadumpSink.cpp\n",
            "libtool: compile:  g++ -DHAVE_CONFIG_H -I. -Isrc/include -Iprogsrc/include -ggdb -g -O2 -MT src/iocore/libopensmile_la-csvSource.lo -MD -MP -MF src/iocore/.deps/libopensmile_la-csvSource.Tpo -c src/iocore/csvSource.cpp  -fPIC -DPIC -o src/iocore/.libs/libopensmile_la-csvSource.o\n",
            "libtool: compile:  g++ -DHAVE_CONFIG_H -I. -Isrc/include -Iprogsrc/include -ggdb -g -O2 -MT src/iocore/libopensmile_la-datadumpSink.lo -MD -MP -MF src/iocore/.deps/libopensmile_la-datadumpSink.Tpo -c src/iocore/datadumpSink.cpp  -fPIC -DPIC -o src/iocore/.libs/libopensmile_la-datadumpSink.o\n",
            "mv -f src/iocore/.deps/libopensmile_la-csvSink.Tpo src/iocore/.deps/libopensmile_la-csvSink.Plo\n",
            "/bin/bash ./libtool  --tag=CXX   --mode=compile g++ -DHAVE_CONFIG_H -I.  -Isrc/include -Iprogsrc/include    -ggdb    -g -O2 -MT src/iocore/libopensmile_la-htkSink.lo -MD -MP -MF src/iocore/.deps/libopensmile_la-htkSink.Tpo -c -o src/iocore/libopensmile_la-htkSink.lo `test -f 'src/iocore/htkSink.cpp' || echo './'`src/iocore/htkSink.cpp\n",
            "libtool: compile:  g++ -DHAVE_CONFIG_H -I. -Isrc/include -Iprogsrc/include -ggdb -g -O2 -MT src/iocore/libopensmile_la-htkSink.lo -MD -MP -MF src/iocore/.deps/libopensmile_la-htkSink.Tpo -c src/iocore/htkSink.cpp  -fPIC -DPIC -o src/iocore/.libs/libopensmile_la-htkSink.o\n",
            "mv -f src/iocore/.deps/libopensmile_la-arffSink.Tpo src/iocore/.deps/libopensmile_la-arffSink.Plo\n",
            "/bin/bash ./libtool  --tag=CXX   --mode=compile g++ -DHAVE_CONFIG_H -I.  -Isrc/include -Iprogsrc/include    -ggdb    -g -O2 -MT src/iocore/libopensmile_la-htkSource.lo -MD -MP -MF src/iocore/.deps/libopensmile_la-htkSource.Tpo -c -o src/iocore/libopensmile_la-htkSource.lo `test -f 'src/iocore/htkSource.cpp' || echo './'`src/iocore/htkSource.cpp\n",
            "libtool: compile:  g++ -DHAVE_CONFIG_H -I. -Isrc/include -Iprogsrc/include -ggdb -g -O2 -MT src/iocore/libopensmile_la-htkSource.lo -MD -MP -MF src/iocore/.deps/libopensmile_la-htkSource.Tpo -c src/iocore/htkSource.cpp  -fPIC -DPIC -o src/iocore/.libs/libopensmile_la-htkSource.o\n",
            "libtool: compile:  g++ -DHAVE_CONFIG_H -I. -Isrc/include -Iprogsrc/include -ggdb -g -O2 -MT src/iocore/libopensmile_la-csvSource.lo -MD -MP -MF src/iocore/.deps/libopensmile_la-csvSource.Tpo -c src/iocore/csvSource.cpp -o src/iocore/libopensmile_la-csvSource.o >/dev/null 2>&1\n",
            "libtool: compile:  g++ -DHAVE_CONFIG_H -I. -Isrc/include -Iprogsrc/include -ggdb -g -O2 -MT src/iocore/libopensmile_la-datadumpSink.lo -MD -MP -MF src/iocore/.deps/libopensmile_la-datadumpSink.Tpo -c src/iocore/datadumpSink.cpp -o src/iocore/libopensmile_la-datadumpSink.o >/dev/null 2>&1\n",
            "libtool: compile:  g++ -DHAVE_CONFIG_H -I. -Isrc/include -Iprogsrc/include -ggdb -g -O2 -MT src/iocore/libopensmile_la-htkSink.lo -MD -MP -MF src/iocore/.deps/libopensmile_la-htkSink.Tpo -c src/iocore/htkSink.cpp -o src/iocore/libopensmile_la-htkSink.o >/dev/null 2>&1\n",
            "libtool: compile:  g++ -DHAVE_CONFIG_H -I. -Isrc/include -Iprogsrc/include -ggdb -g -O2 -MT src/iocore/libopensmile_la-htkSource.lo -MD -MP -MF src/iocore/.deps/libopensmile_la-htkSource.Tpo -c src/iocore/htkSource.cpp -o src/iocore/libopensmile_la-htkSource.o >/dev/null 2>&1\n",
            "mv -f src/iocore/.deps/libopensmile_la-datadumpSink.Tpo src/iocore/.deps/libopensmile_la-datadumpSink.Plo\n",
            "/bin/bash ./libtool  --tag=CXX   --mode=compile g++ -DHAVE_CONFIG_H -I.  -Isrc/include -Iprogsrc/include    -ggdb    -g -O2 -MT src/iocore/libopensmile_la-waveSink.lo -MD -MP -MF src/iocore/.deps/libopensmile_la-waveSink.Tpo -c -o src/iocore/libopensmile_la-waveSink.lo `test -f 'src/iocore/waveSink.cpp' || echo './'`src/iocore/waveSink.cpp\n",
            "mv -f src/iocore/.deps/libopensmile_la-csvSource.Tpo src/iocore/.deps/libopensmile_la-csvSource.Plo\n",
            "/bin/bash ./libtool  --tag=CXX   --mode=compile g++ -DHAVE_CONFIG_H -I.  -Isrc/include -Iprogsrc/include    -ggdb    -g -O2 -MT src/iocore/libopensmile_la-waveSinkCut.lo -MD -MP -MF src/iocore/.deps/libopensmile_la-waveSinkCut.Tpo -c -o src/iocore/libopensmile_la-waveSinkCut.lo `test -f 'src/iocore/waveSinkCut.cpp' || echo './'`src/iocore/waveSinkCut.cpp\n",
            "libtool: compile:  g++ -DHAVE_CONFIG_H -I. -Isrc/include -Iprogsrc/include -ggdb -g -O2 -MT src/iocore/libopensmile_la-waveSink.lo -MD -MP -MF src/iocore/.deps/libopensmile_la-waveSink.Tpo -c src/iocore/waveSink.cpp  -fPIC -DPIC -o src/iocore/.libs/libopensmile_la-waveSink.o\n",
            "libtool: compile:  g++ -DHAVE_CONFIG_H -I. -Isrc/include -Iprogsrc/include -ggdb -g -O2 -MT src/iocore/libopensmile_la-waveSinkCut.lo -MD -MP -MF src/iocore/.deps/libopensmile_la-waveSinkCut.Tpo -c src/iocore/waveSinkCut.cpp  -fPIC -DPIC -o src/iocore/.libs/libopensmile_la-waveSinkCut.o\n",
            "mv -f src/iocore/.deps/libopensmile_la-htkSink.Tpo src/iocore/.deps/libopensmile_la-htkSink.Plo\n",
            "/bin/bash ./libtool  --tag=CXX   --mode=compile g++ -DHAVE_CONFIG_H -I.  -Isrc/include -Iprogsrc/include    -ggdb    -g -O2 -MT src/iocore/libopensmile_la-waveSource.lo -MD -MP -MF src/iocore/.deps/libopensmile_la-waveSource.Tpo -c -o src/iocore/libopensmile_la-waveSource.lo `test -f 'src/iocore/waveSource.cpp' || echo './'`src/iocore/waveSource.cpp\n",
            "libtool: compile:  g++ -DHAVE_CONFIG_H -I. -Isrc/include -Iprogsrc/include -ggdb -g -O2 -MT src/iocore/libopensmile_la-waveSource.lo -MD -MP -MF src/iocore/.deps/libopensmile_la-waveSource.Tpo -c src/iocore/waveSource.cpp  -fPIC -DPIC -o src/iocore/.libs/libopensmile_la-waveSource.o\n",
            "mv -f src/iocore/.deps/libopensmile_la-htkSource.Tpo src/iocore/.deps/libopensmile_la-htkSource.Plo\n",
            "/bin/bash ./libtool  --tag=CXX   --mode=compile g++ -DHAVE_CONFIG_H -I.  -Isrc/include -Iprogsrc/include    -ggdb    -g -O2 -MT src/lldcore/libopensmile_la-energy.lo -MD -MP -MF src/lldcore/.deps/libopensmile_la-energy.Tpo -c -o src/lldcore/libopensmile_la-energy.lo `test -f 'src/lldcore/energy.cpp' || echo './'`src/lldcore/energy.cpp\n",
            "libtool: compile:  g++ -DHAVE_CONFIG_H -I. -Isrc/include -Iprogsrc/include -ggdb -g -O2 -MT src/lldcore/libopensmile_la-energy.lo -MD -MP -MF src/lldcore/.deps/libopensmile_la-energy.Tpo -c src/lldcore/energy.cpp  -fPIC -DPIC -o src/lldcore/.libs/libopensmile_la-energy.o\n",
            "libtool: compile:  g++ -DHAVE_CONFIG_H -I. -Isrc/include -Iprogsrc/include -ggdb -g -O2 -MT src/iocore/libopensmile_la-waveSink.lo -MD -MP -MF src/iocore/.deps/libopensmile_la-waveSink.Tpo -c src/iocore/waveSink.cpp -o src/iocore/libopensmile_la-waveSink.o >/dev/null 2>&1\n",
            "libtool: compile:  g++ -DHAVE_CONFIG_H -I. -Isrc/include -Iprogsrc/include -ggdb -g -O2 -MT src/iocore/libopensmile_la-waveSinkCut.lo -MD -MP -MF src/iocore/.deps/libopensmile_la-waveSinkCut.Tpo -c src/iocore/waveSinkCut.cpp -o src/iocore/libopensmile_la-waveSinkCut.o >/dev/null 2>&1\n",
            "libtool: compile:  g++ -DHAVE_CONFIG_H -I. -Isrc/include -Iprogsrc/include -ggdb -g -O2 -MT src/iocore/libopensmile_la-waveSource.lo -MD -MP -MF src/iocore/.deps/libopensmile_la-waveSource.Tpo -c src/iocore/waveSource.cpp -o src/iocore/libopensmile_la-waveSource.o >/dev/null 2>&1\n",
            "libtool: compile:  g++ -DHAVE_CONFIG_H -I. -Isrc/include -Iprogsrc/include -ggdb -g -O2 -MT src/lldcore/libopensmile_la-energy.lo -MD -MP -MF src/lldcore/.deps/libopensmile_la-energy.Tpo -c src/lldcore/energy.cpp -o src/lldcore/libopensmile_la-energy.o >/dev/null 2>&1\n",
            "mv -f src/iocore/.deps/libopensmile_la-waveSink.Tpo src/iocore/.deps/libopensmile_la-waveSink.Plo\n",
            "/bin/bash ./libtool  --tag=CXX   --mode=compile g++ -DHAVE_CONFIG_H -I.  -Isrc/include -Iprogsrc/include    -ggdb    -g -O2 -MT src/lldcore/libopensmile_la-intensity.lo -MD -MP -MF src/lldcore/.deps/libopensmile_la-intensity.Tpo -c -o src/lldcore/libopensmile_la-intensity.lo `test -f 'src/lldcore/intensity.cpp' || echo './'`src/lldcore/intensity.cpp\n",
            "libtool: compile:  g++ -DHAVE_CONFIG_H -I. -Isrc/include -Iprogsrc/include -ggdb -g -O2 -MT src/lldcore/libopensmile_la-intensity.lo -MD -MP -MF src/lldcore/.deps/libopensmile_la-intensity.Tpo -c src/lldcore/intensity.cpp  -fPIC -DPIC -o src/lldcore/.libs/libopensmile_la-intensity.o\n",
            "mv -f src/iocore/.deps/libopensmile_la-waveSinkCut.Tpo src/iocore/.deps/libopensmile_la-waveSinkCut.Plo\n",
            "/bin/bash ./libtool  --tag=CXX   --mode=compile g++ -DHAVE_CONFIG_H -I.  -Isrc/include -Iprogsrc/include    -ggdb    -g -O2 -MT src/lldcore/libopensmile_la-melspec.lo -MD -MP -MF src/lldcore/.deps/libopensmile_la-melspec.Tpo -c -o src/lldcore/libopensmile_la-melspec.lo `test -f 'src/lldcore/melspec.cpp' || echo './'`src/lldcore/melspec.cpp\n",
            "libtool: compile:  g++ -DHAVE_CONFIG_H -I. -Isrc/include -Iprogsrc/include -ggdb -g -O2 -MT src/lldcore/libopensmile_la-melspec.lo -MD -MP -MF src/lldcore/.deps/libopensmile_la-melspec.Tpo -c src/lldcore/melspec.cpp  -fPIC -DPIC -o src/lldcore/.libs/libopensmile_la-melspec.o\n",
            "mv -f src/lldcore/.deps/libopensmile_la-energy.Tpo src/lldcore/.deps/libopensmile_la-energy.Plo\n",
            "/bin/bash ./libtool  --tag=CXX   --mode=compile g++ -DHAVE_CONFIG_H -I.  -Isrc/include -Iprogsrc/include    -ggdb    -g -O2 -MT src/lldcore/libopensmile_la-mfcc.lo -MD -MP -MF src/lldcore/.deps/libopensmile_la-mfcc.Tpo -c -o src/lldcore/libopensmile_la-mfcc.lo `test -f 'src/lldcore/mfcc.cpp' || echo './'`src/lldcore/mfcc.cpp\n",
            "mv -f src/iocore/.deps/libopensmile_la-waveSource.Tpo src/iocore/.deps/libopensmile_la-waveSource.Plo\n",
            "/bin/bash ./libtool  --tag=CXX   --mode=compile g++ -DHAVE_CONFIG_H -I.  -Isrc/include -Iprogsrc/include    -ggdb    -g -O2 -MT src/lldcore/libopensmile_la-mzcr.lo -MD -MP -MF src/lldcore/.deps/libopensmile_la-mzcr.Tpo -c -o src/lldcore/libopensmile_la-mzcr.lo `test -f 'src/lldcore/mzcr.cpp' || echo './'`src/lldcore/mzcr.cpp\n",
            "libtool: compile:  g++ -DHAVE_CONFIG_H -I. -Isrc/include -Iprogsrc/include -ggdb -g -O2 -MT src/lldcore/libopensmile_la-intensity.lo -MD -MP -MF src/lldcore/.deps/libopensmile_la-intensity.Tpo -c src/lldcore/intensity.cpp -o src/lldcore/libopensmile_la-intensity.o >/dev/null 2>&1\n",
            "libtool: compile:  g++ -DHAVE_CONFIG_H -I. -Isrc/include -Iprogsrc/include -ggdb -g -O2 -MT src/lldcore/libopensmile_la-mfcc.lo -MD -MP -MF src/lldcore/.deps/libopensmile_la-mfcc.Tpo -c src/lldcore/mfcc.cpp  -fPIC -DPIC -o src/lldcore/.libs/libopensmile_la-mfcc.o\n",
            "libtool: compile:  g++ -DHAVE_CONFIG_H -I. -Isrc/include -Iprogsrc/include -ggdb -g -O2 -MT src/lldcore/libopensmile_la-mzcr.lo -MD -MP -MF src/lldcore/.deps/libopensmile_la-mzcr.Tpo -c src/lldcore/mzcr.cpp  -fPIC -DPIC -o src/lldcore/.libs/libopensmile_la-mzcr.o\n",
            "mv -f src/lldcore/.deps/libopensmile_la-intensity.Tpo src/lldcore/.deps/libopensmile_la-intensity.Plo\n",
            "/bin/bash ./libtool  --tag=CXX   --mode=compile g++ -DHAVE_CONFIG_H -I.  -Isrc/include -Iprogsrc/include    -ggdb    -g -O2 -MT src/lldcore/libopensmile_la-pitchACF.lo -MD -MP -MF src/lldcore/.deps/libopensmile_la-pitchACF.Tpo -c -o src/lldcore/libopensmile_la-pitchACF.lo `test -f 'src/lldcore/pitchACF.cpp' || echo './'`src/lldcore/pitchACF.cpp\n",
            "libtool: compile:  g++ -DHAVE_CONFIG_H -I. -Isrc/include -Iprogsrc/include -ggdb -g -O2 -MT src/lldcore/libopensmile_la-pitchACF.lo -MD -MP -MF src/lldcore/.deps/libopensmile_la-pitchACF.Tpo -c src/lldcore/pitchACF.cpp  -fPIC -DPIC -o src/lldcore/.libs/libopensmile_la-pitchACF.o\n",
            "libtool: compile:  g++ -DHAVE_CONFIG_H -I. -Isrc/include -Iprogsrc/include -ggdb -g -O2 -MT src/lldcore/libopensmile_la-mzcr.lo -MD -MP -MF src/lldcore/.deps/libopensmile_la-mzcr.Tpo -c src/lldcore/mzcr.cpp -o src/lldcore/libopensmile_la-mzcr.o >/dev/null 2>&1\n",
            "libtool: compile:  g++ -DHAVE_CONFIG_H -I. -Isrc/include -Iprogsrc/include -ggdb -g -O2 -MT src/lldcore/libopensmile_la-mfcc.lo -MD -MP -MF src/lldcore/.deps/libopensmile_la-mfcc.Tpo -c src/lldcore/mfcc.cpp -o src/lldcore/libopensmile_la-mfcc.o >/dev/null 2>&1\n",
            "libtool: compile:  g++ -DHAVE_CONFIG_H -I. -Isrc/include -Iprogsrc/include -ggdb -g -O2 -MT src/lldcore/libopensmile_la-melspec.lo -MD -MP -MF src/lldcore/.deps/libopensmile_la-melspec.Tpo -c src/lldcore/melspec.cpp -o src/lldcore/libopensmile_la-melspec.o >/dev/null 2>&1\n",
            "mv -f src/lldcore/.deps/libopensmile_la-mzcr.Tpo src/lldcore/.deps/libopensmile_la-mzcr.Plo\n",
            "libtool: compile:  g++ -DHAVE_CONFIG_H -I. -Isrc/include -Iprogsrc/include -ggdb -g -O2 -MT src/lldcore/libopensmile_la-pitchACF.lo -MD -MP -MF src/lldcore/.deps/libopensmile_la-pitchACF.Tpo -c src/lldcore/pitchACF.cpp -o src/lldcore/libopensmile_la-pitchACF.o >/dev/null 2>&1\n",
            "/bin/bash ./libtool  --tag=CXX   --mode=compile g++ -DHAVE_CONFIG_H -I.  -Isrc/include -Iprogsrc/include    -ggdb    -g -O2 -MT src/lldcore/libopensmile_la-pitchBase.lo -MD -MP -MF src/lldcore/.deps/libopensmile_la-pitchBase.Tpo -c -o src/lldcore/libopensmile_la-pitchBase.lo `test -f 'src/lldcore/pitchBase.cpp' || echo './'`src/lldcore/pitchBase.cpp\n",
            "libtool: compile:  g++ -DHAVE_CONFIG_H -I. -Isrc/include -Iprogsrc/include -ggdb -g -O2 -MT src/lldcore/libopensmile_la-pitchBase.lo -MD -MP -MF src/lldcore/.deps/libopensmile_la-pitchBase.Tpo -c src/lldcore/pitchBase.cpp  -fPIC -DPIC -o src/lldcore/.libs/libopensmile_la-pitchBase.o\n",
            "mv -f src/lldcore/.deps/libopensmile_la-mfcc.Tpo src/lldcore/.deps/libopensmile_la-mfcc.Plo\n",
            "/bin/bash ./libtool  --tag=CXX   --mode=compile g++ -DHAVE_CONFIG_H -I.  -Isrc/include -Iprogsrc/include    -ggdb    -g -O2 -MT src/lldcore/libopensmile_la-pitchSmoother.lo -MD -MP -MF src/lldcore/.deps/libopensmile_la-pitchSmoother.Tpo -c -o src/lldcore/libopensmile_la-pitchSmoother.lo `test -f 'src/lldcore/pitchSmoother.cpp' || echo './'`src/lldcore/pitchSmoother.cpp\n",
            "libtool: compile:  g++ -DHAVE_CONFIG_H -I. -Isrc/include -Iprogsrc/include -ggdb -g -O2 -MT src/lldcore/libopensmile_la-pitchSmoother.lo -MD -MP -MF src/lldcore/.deps/libopensmile_la-pitchSmoother.Tpo -c src/lldcore/pitchSmoother.cpp  -fPIC -DPIC -o src/lldcore/.libs/libopensmile_la-pitchSmoother.o\n",
            "mv -f src/lldcore/.deps/libopensmile_la-melspec.Tpo src/lldcore/.deps/libopensmile_la-melspec.Plo\n",
            "/bin/bash ./libtool  --tag=CXX   --mode=compile g++ -DHAVE_CONFIG_H -I.  -Isrc/include -Iprogsrc/include    -ggdb    -g -O2 -MT src/lldcore/libopensmile_la-plp.lo -MD -MP -MF src/lldcore/.deps/libopensmile_la-plp.Tpo -c -o src/lldcore/libopensmile_la-plp.lo `test -f 'src/lldcore/plp.cpp' || echo './'`src/lldcore/plp.cpp\n",
            "libtool: compile:  g++ -DHAVE_CONFIG_H -I. -Isrc/include -Iprogsrc/include -ggdb -g -O2 -MT src/lldcore/libopensmile_la-pitchBase.lo -MD -MP -MF src/lldcore/.deps/libopensmile_la-pitchBase.Tpo -c src/lldcore/pitchBase.cpp -o src/lldcore/libopensmile_la-pitchBase.o >/dev/null 2>&1\n",
            "mv -f src/lldcore/.deps/libopensmile_la-pitchACF.Tpo src/lldcore/.deps/libopensmile_la-pitchACF.Plo\n",
            "/bin/bash ./libtool  --tag=CXX   --mode=compile g++ -DHAVE_CONFIG_H -I.  -Isrc/include -Iprogsrc/include    -ggdb    -g -O2 -MT src/lldcore/libopensmile_la-spectral.lo -MD -MP -MF src/lldcore/.deps/libopensmile_la-spectral.Tpo -c -o src/lldcore/libopensmile_la-spectral.lo `test -f 'src/lldcore/spectral.cpp' || echo './'`src/lldcore/spectral.cpp\n",
            "libtool: compile:  g++ -DHAVE_CONFIG_H -I. -Isrc/include -Iprogsrc/include -ggdb -g -O2 -MT src/lldcore/libopensmile_la-plp.lo -MD -MP -MF src/lldcore/.deps/libopensmile_la-plp.Tpo -c src/lldcore/plp.cpp  -fPIC -DPIC -o src/lldcore/.libs/libopensmile_la-plp.o\n",
            "libtool: compile:  g++ -DHAVE_CONFIG_H -I. -Isrc/include -Iprogsrc/include -ggdb -g -O2 -MT src/lldcore/libopensmile_la-spectral.lo -MD -MP -MF src/lldcore/.deps/libopensmile_la-spectral.Tpo -c src/lldcore/spectral.cpp  -fPIC -DPIC -o src/lldcore/.libs/libopensmile_la-spectral.o\n",
            "libtool: compile:  g++ -DHAVE_CONFIG_H -I. -Isrc/include -Iprogsrc/include -ggdb -g -O2 -MT src/lldcore/libopensmile_la-pitchSmoother.lo -MD -MP -MF src/lldcore/.deps/libopensmile_la-pitchSmoother.Tpo -c src/lldcore/pitchSmoother.cpp -o src/lldcore/libopensmile_la-pitchSmoother.o >/dev/null 2>&1\n",
            "mv -f src/lldcore/.deps/libopensmile_la-pitchBase.Tpo src/lldcore/.deps/libopensmile_la-pitchBase.Plo\n",
            "/bin/bash ./libtool  --tag=CXX   --mode=compile g++ -DHAVE_CONFIG_H -I.  -Isrc/include -Iprogsrc/include    -ggdb    -g -O2 -MT src/other/libopensmile_la-bowProducer.lo -MD -MP -MF src/other/.deps/libopensmile_la-bowProducer.Tpo -c -o src/other/libopensmile_la-bowProducer.lo `test -f 'src/other/bowProducer.cpp' || echo './'`src/other/bowProducer.cpp\n",
            "libtool: compile:  g++ -DHAVE_CONFIG_H -I. -Isrc/include -Iprogsrc/include -ggdb -g -O2 -MT src/other/libopensmile_la-bowProducer.lo -MD -MP -MF src/other/.deps/libopensmile_la-bowProducer.Tpo -c src/other/bowProducer.cpp  -fPIC -DPIC -o src/other/.libs/libopensmile_la-bowProducer.o\n",
            "libtool: compile:  g++ -DHAVE_CONFIG_H -I. -Isrc/include -Iprogsrc/include -ggdb -g -O2 -MT src/lldcore/libopensmile_la-plp.lo -MD -MP -MF src/lldcore/.deps/libopensmile_la-plp.Tpo -c src/lldcore/plp.cpp -o src/lldcore/libopensmile_la-plp.o >/dev/null 2>&1\n",
            "mv -f src/lldcore/.deps/libopensmile_la-pitchSmoother.Tpo src/lldcore/.deps/libopensmile_la-pitchSmoother.Plo\n",
            "/bin/bash ./libtool  --tag=CXX   --mode=compile g++ -DHAVE_CONFIG_H -I.  -Isrc/include -Iprogsrc/include    -ggdb    -g -O2 -MT src/other/libopensmile_la-maxIndex.lo -MD -MP -MF src/other/.deps/libopensmile_la-maxIndex.Tpo -c -o src/other/libopensmile_la-maxIndex.lo `test -f 'src/other/maxIndex.cpp' || echo './'`src/other/maxIndex.cpp\n",
            "libtool: compile:  g++ -DHAVE_CONFIG_H -I. -Isrc/include -Iprogsrc/include -ggdb -g -O2 -MT src/other/libopensmile_la-maxIndex.lo -MD -MP -MF src/other/.deps/libopensmile_la-maxIndex.Tpo -c src/other/maxIndex.cpp  -fPIC -DPIC -o src/other/.libs/libopensmile_la-maxIndex.o\n",
            "libtool: compile:  g++ -DHAVE_CONFIG_H -I. -Isrc/include -Iprogsrc/include -ggdb -g -O2 -MT src/lldcore/libopensmile_la-spectral.lo -MD -MP -MF src/lldcore/.deps/libopensmile_la-spectral.Tpo -c src/lldcore/spectral.cpp -o src/lldcore/libopensmile_la-spectral.o >/dev/null 2>&1\n",
            "libtool: compile:  g++ -DHAVE_CONFIG_H -I. -Isrc/include -Iprogsrc/include -ggdb -g -O2 -MT src/other/libopensmile_la-bowProducer.lo -MD -MP -MF src/other/.deps/libopensmile_la-bowProducer.Tpo -c src/other/bowProducer.cpp -o src/other/libopensmile_la-bowProducer.o >/dev/null 2>&1\n",
            "mv -f src/lldcore/.deps/libopensmile_la-plp.Tpo src/lldcore/.deps/libopensmile_la-plp.Plo\n",
            "/bin/bash ./libtool  --tag=CXX   --mode=compile g++ -DHAVE_CONFIG_H -I.  -Isrc/include -Iprogsrc/include    -ggdb    -g -O2 -MT src/other/libopensmile_la-valbasedSelector.lo -MD -MP -MF src/other/.deps/libopensmile_la-valbasedSelector.Tpo -c -o src/other/libopensmile_la-valbasedSelector.lo `test -f 'src/other/valbasedSelector.cpp' || echo './'`src/other/valbasedSelector.cpp\n",
            "libtool: compile:  g++ -DHAVE_CONFIG_H -I. -Isrc/include -Iprogsrc/include -ggdb -g -O2 -MT src/other/libopensmile_la-maxIndex.lo -MD -MP -MF src/other/.deps/libopensmile_la-maxIndex.Tpo -c src/other/maxIndex.cpp -o src/other/libopensmile_la-maxIndex.o >/dev/null 2>&1\n",
            "libtool: compile:  g++ -DHAVE_CONFIG_H -I. -Isrc/include -Iprogsrc/include -ggdb -g -O2 -MT src/other/libopensmile_la-valbasedSelector.lo -MD -MP -MF src/other/.deps/libopensmile_la-valbasedSelector.Tpo -c src/other/valbasedSelector.cpp  -fPIC -DPIC -o src/other/.libs/libopensmile_la-valbasedSelector.o\n",
            "mv -f src/other/.deps/libopensmile_la-bowProducer.Tpo src/other/.deps/libopensmile_la-bowProducer.Plo\n",
            "/bin/bash ./libtool  --tag=CXX   --mode=compile g++ -DHAVE_CONFIG_H -I.  -Isrc/include -Iprogsrc/include    -ggdb    -g -O2 -MT src/other/libopensmile_la-vectorConcat.lo -MD -MP -MF src/other/.deps/libopensmile_la-vectorConcat.Tpo -c -o src/other/libopensmile_la-vectorConcat.lo `test -f 'src/other/vectorConcat.cpp' || echo './'`src/other/vectorConcat.cpp\n",
            "mv -f src/other/.deps/libopensmile_la-maxIndex.Tpo src/other/.deps/libopensmile_la-maxIndex.Plo\n",
            "libtool: compile:  g++ -DHAVE_CONFIG_H -I. -Isrc/include -Iprogsrc/include -ggdb -g -O2 -MT src/other/libopensmile_la-vectorConcat.lo -MD -MP -MF src/other/.deps/libopensmile_la-vectorConcat.Tpo -c src/other/vectorConcat.cpp  -fPIC -DPIC -o src/other/.libs/libopensmile_la-vectorConcat.o\n",
            "/bin/bash ./libtool  --tag=CXX   --mode=compile g++ -DHAVE_CONFIG_H -I.  -Isrc/include -Iprogsrc/include    -ggdb    -g -O2 -MT src/other/libopensmile_la-vectorOperation.lo -MD -MP -MF src/other/.deps/libopensmile_la-vectorOperation.Tpo -c -o src/other/libopensmile_la-vectorOperation.lo `test -f 'src/other/vectorOperation.cpp' || echo './'`src/other/vectorOperation.cpp\n",
            "libtool: compile:  g++ -DHAVE_CONFIG_H -I. -Isrc/include -Iprogsrc/include -ggdb -g -O2 -MT src/other/libopensmile_la-vectorOperation.lo -MD -MP -MF src/other/.deps/libopensmile_la-vectorOperation.Tpo -c src/other/vectorOperation.cpp  -fPIC -DPIC -o src/other/.libs/libopensmile_la-vectorOperation.o\n",
            "mv -f src/lldcore/.deps/libopensmile_la-spectral.Tpo src/lldcore/.deps/libopensmile_la-spectral.Plo\n",
            "/bin/bash ./libtool  --tag=CXX   --mode=compile g++ -DHAVE_CONFIG_H -I.  -Isrc/include -Iprogsrc/include    -ggdb    -g -O2 -MT src/portaudio/libopensmile_la-portaudioDuplex.lo -MD -MP -MF src/portaudio/.deps/libopensmile_la-portaudioDuplex.Tpo -c -o src/portaudio/libopensmile_la-portaudioDuplex.lo `test -f 'src/portaudio/portaudioDuplex.cpp' || echo './'`src/portaudio/portaudioDuplex.cpp\n",
            "libtool: compile:  g++ -DHAVE_CONFIG_H -I. -Isrc/include -Iprogsrc/include -ggdb -g -O2 -MT src/other/libopensmile_la-valbasedSelector.lo -MD -MP -MF src/other/.deps/libopensmile_la-valbasedSelector.Tpo -c src/other/valbasedSelector.cpp -o src/other/libopensmile_la-valbasedSelector.o >/dev/null 2>&1\n",
            "libtool: compile:  g++ -DHAVE_CONFIG_H -I. -Isrc/include -Iprogsrc/include -ggdb -g -O2 -MT src/portaudio/libopensmile_la-portaudioDuplex.lo -MD -MP -MF src/portaudio/.deps/libopensmile_la-portaudioDuplex.Tpo -c src/portaudio/portaudioDuplex.cpp  -fPIC -DPIC -o src/portaudio/.libs/libopensmile_la-portaudioDuplex.o\n",
            "libtool: compile:  g++ -DHAVE_CONFIG_H -I. -Isrc/include -Iprogsrc/include -ggdb -g -O2 -MT src/other/libopensmile_la-vectorConcat.lo -MD -MP -MF src/other/.deps/libopensmile_la-vectorConcat.Tpo -c src/other/vectorConcat.cpp -o src/other/libopensmile_la-vectorConcat.o >/dev/null 2>&1\n",
            "libtool: compile:  g++ -DHAVE_CONFIG_H -I. -Isrc/include -Iprogsrc/include -ggdb -g -O2 -MT src/portaudio/libopensmile_la-portaudioDuplex.lo -MD -MP -MF src/portaudio/.deps/libopensmile_la-portaudioDuplex.Tpo -c src/portaudio/portaudioDuplex.cpp -o src/portaudio/libopensmile_la-portaudioDuplex.o >/dev/null 2>&1\n",
            "libtool: compile:  g++ -DHAVE_CONFIG_H -I. -Isrc/include -Iprogsrc/include -ggdb -g -O2 -MT src/other/libopensmile_la-vectorOperation.lo -MD -MP -MF src/other/.deps/libopensmile_la-vectorOperation.Tpo -c src/other/vectorOperation.cpp -o src/other/libopensmile_la-vectorOperation.o >/dev/null 2>&1\n",
            "mv -f src/other/.deps/libopensmile_la-vectorConcat.Tpo src/other/.deps/libopensmile_la-vectorConcat.Plo\n",
            "/bin/bash ./libtool  --tag=CXX   --mode=compile g++ -DHAVE_CONFIG_H -I.  -Isrc/include -Iprogsrc/include    -ggdb    -g -O2 -MT src/portaudio/libopensmile_la-portaudioSink.lo -MD -MP -MF src/portaudio/.deps/libopensmile_la-portaudioSink.Tpo -c -o src/portaudio/libopensmile_la-portaudioSink.lo `test -f 'src/portaudio/portaudioSink.cpp' || echo './'`src/portaudio/portaudioSink.cpp\n",
            "mv -f src/other/.deps/libopensmile_la-valbasedSelector.Tpo src/other/.deps/libopensmile_la-valbasedSelector.Plo\n",
            "/bin/bash ./libtool  --tag=CXX   --mode=compile g++ -DHAVE_CONFIG_H -I.  -Isrc/include -Iprogsrc/include    -ggdb    -g -O2 -MT src/portaudio/libopensmile_la-portaudioSource.lo -MD -MP -MF src/portaudio/.deps/libopensmile_la-portaudioSource.Tpo -c -o src/portaudio/libopensmile_la-portaudioSource.lo `test -f 'src/portaudio/portaudioSource.cpp' || echo './'`src/portaudio/portaudioSource.cpp\n",
            "libtool: compile:  g++ -DHAVE_CONFIG_H -I. -Isrc/include -Iprogsrc/include -ggdb -g -O2 -MT src/portaudio/libopensmile_la-portaudioSink.lo -MD -MP -MF src/portaudio/.deps/libopensmile_la-portaudioSink.Tpo -c src/portaudio/portaudioSink.cpp  -fPIC -DPIC -o src/portaudio/.libs/libopensmile_la-portaudioSink.o\n",
            "libtool: compile:  g++ -DHAVE_CONFIG_H -I. -Isrc/include -Iprogsrc/include -ggdb -g -O2 -MT src/portaudio/libopensmile_la-portaudioSource.lo -MD -MP -MF src/portaudio/.deps/libopensmile_la-portaudioSource.Tpo -c src/portaudio/portaudioSource.cpp  -fPIC -DPIC -o src/portaudio/.libs/libopensmile_la-portaudioSource.o\n",
            "mv -f src/portaudio/.deps/libopensmile_la-portaudioDuplex.Tpo src/portaudio/.deps/libopensmile_la-portaudioDuplex.Plo\n",
            "/bin/bash ./libtool  --tag=CXX   --mode=compile g++ -DHAVE_CONFIG_H -I.  -Isrc/include -Iprogsrc/include    -ggdb    -g -O2 -MT src/portaudio/libopensmile_la-portaudioWavplayer.lo -MD -MP -MF src/portaudio/.deps/libopensmile_la-portaudioWavplayer.Tpo -c -o src/portaudio/libopensmile_la-portaudioWavplayer.lo `test -f 'src/portaudio/portaudioWavplayer.cpp' || echo './'`src/portaudio/portaudioWavplayer.cpp\n",
            "libtool: compile:  g++ -DHAVE_CONFIG_H -I. -Isrc/include -Iprogsrc/include -ggdb -g -O2 -MT src/portaudio/libopensmile_la-portaudioWavplayer.lo -MD -MP -MF src/portaudio/.deps/libopensmile_la-portaudioWavplayer.Tpo -c src/portaudio/portaudioWavplayer.cpp  -fPIC -DPIC -o src/portaudio/.libs/libopensmile_la-portaudioWavplayer.o\n",
            "libtool: compile:  g++ -DHAVE_CONFIG_H -I. -Isrc/include -Iprogsrc/include -ggdb -g -O2 -MT src/portaudio/libopensmile_la-portaudioSink.lo -MD -MP -MF src/portaudio/.deps/libopensmile_la-portaudioSink.Tpo -c src/portaudio/portaudioSink.cpp -o src/portaudio/libopensmile_la-portaudioSink.o >/dev/null 2>&1\n",
            "libtool: compile:  g++ -DHAVE_CONFIG_H -I. -Isrc/include -Iprogsrc/include -ggdb -g -O2 -MT src/portaudio/libopensmile_la-portaudioSource.lo -MD -MP -MF src/portaudio/.deps/libopensmile_la-portaudioSource.Tpo -c src/portaudio/portaudioSource.cpp -o src/portaudio/libopensmile_la-portaudioSource.o >/dev/null 2>&1\n",
            "libtool: compile:  g++ -DHAVE_CONFIG_H -I. -Isrc/include -Iprogsrc/include -ggdb -g -O2 -MT src/portaudio/libopensmile_la-portaudioWavplayer.lo -MD -MP -MF src/portaudio/.deps/libopensmile_la-portaudioWavplayer.Tpo -c src/portaudio/portaudioWavplayer.cpp -o src/portaudio/libopensmile_la-portaudioWavplayer.o >/dev/null 2>&1\n",
            "mv -f src/other/.deps/libopensmile_la-vectorOperation.Tpo src/other/.deps/libopensmile_la-vectorOperation.Plo\n",
            "/bin/bash ./libtool  --tag=CXX   --mode=compile g++ -DHAVE_CONFIG_H -I.  -Isrc/include -Iprogsrc/include    -ggdb    -g -O2 -MT src/android/libopensmile_la-openslesSource.lo -MD -MP -MF src/android/.deps/libopensmile_la-openslesSource.Tpo -c -o src/android/libopensmile_la-openslesSource.lo `test -f 'src/android/openslesSource.cpp' || echo './'`src/android/openslesSource.cpp\n",
            "mv -f src/portaudio/.deps/libopensmile_la-portaudioSink.Tpo src/portaudio/.deps/libopensmile_la-portaudioSink.Plo\n",
            "/bin/bash ./libtool  --tag=CXX   --mode=compile g++ -DHAVE_CONFIG_H -I.  -Isrc/include -Iprogsrc/include    -ggdb    -g -O2 -MT src/android/libopensmile_la-jniMessageInterface.lo -MD -MP -MF src/android/.deps/libopensmile_la-jniMessageInterface.Tpo -c -o src/android/libopensmile_la-jniMessageInterface.lo `test -f 'src/android/jniMessageInterface.cpp' || echo './'`src/android/jniMessageInterface.cpp\n",
            "libtool: compile:  g++ -DHAVE_CONFIG_H -I. -Isrc/include -Iprogsrc/include -ggdb -g -O2 -MT src/android/libopensmile_la-openslesSource.lo -MD -MP -MF src/android/.deps/libopensmile_la-openslesSource.Tpo -c src/android/openslesSource.cpp  -fPIC -DPIC -o src/android/.libs/libopensmile_la-openslesSource.o\n",
            "libtool: compile:  g++ -DHAVE_CONFIG_H -I. -Isrc/include -Iprogsrc/include -ggdb -g -O2 -MT src/android/libopensmile_la-jniMessageInterface.lo -MD -MP -MF src/android/.deps/libopensmile_la-jniMessageInterface.Tpo -c src/android/jniMessageInterface.cpp  -fPIC -DPIC -o src/android/.libs/libopensmile_la-jniMessageInterface.o\n",
            "mv -f src/portaudio/.deps/libopensmile_la-portaudioSource.Tpo src/portaudio/.deps/libopensmile_la-portaudioSource.Plo\n",
            "/bin/bash ./libtool  --tag=CXX   --mode=compile g++ -DHAVE_CONFIG_H -I.  -Isrc/include -Iprogsrc/include    -ggdb    -g -O2 -MT src/rnn/libopensmile_la-rnn.lo -MD -MP -MF src/rnn/.deps/libopensmile_la-rnn.Tpo -c -o src/rnn/libopensmile_la-rnn.lo `test -f 'src/rnn/rnn.cpp' || echo './'`src/rnn/rnn.cpp\n",
            "libtool: compile:  g++ -DHAVE_CONFIG_H -I. -Isrc/include -Iprogsrc/include -ggdb -g -O2 -MT src/android/libopensmile_la-jniMessageInterface.lo -MD -MP -MF src/android/.deps/libopensmile_la-jniMessageInterface.Tpo -c src/android/jniMessageInterface.cpp -o src/android/libopensmile_la-jniMessageInterface.o >/dev/null 2>&1\n",
            "mv -f src/portaudio/.deps/libopensmile_la-portaudioWavplayer.Tpo src/portaudio/.deps/libopensmile_la-portaudioWavplayer.Plo\n",
            "/bin/bash ./libtool  --tag=CXX   --mode=compile g++ -DHAVE_CONFIG_H -I.  -Isrc/include -Iprogsrc/include    -ggdb    -g -O2 -MT src/rnn/libopensmile_la-rnnProcessor.lo -MD -MP -MF src/rnn/.deps/libopensmile_la-rnnProcessor.Tpo -c -o src/rnn/libopensmile_la-rnnProcessor.lo `test -f 'src/rnn/rnnProcessor.cpp' || echo './'`src/rnn/rnnProcessor.cpp\n",
            "libtool: compile:  g++ -DHAVE_CONFIG_H -I. -Isrc/include -Iprogsrc/include -ggdb -g -O2 -MT src/rnn/libopensmile_la-rnn.lo -MD -MP -MF src/rnn/.deps/libopensmile_la-rnn.Tpo -c src/rnn/rnn.cpp  -fPIC -DPIC -o src/rnn/.libs/libopensmile_la-rnn.o\n",
            "mv -f src/android/.deps/libopensmile_la-jniMessageInterface.Tpo src/android/.deps/libopensmile_la-jniMessageInterface.Plo\n",
            "/bin/bash ./libtool  --tag=CXX   --mode=compile g++ -DHAVE_CONFIG_H -I.  -Isrc/include -Iprogsrc/include    -ggdb    -g -O2 -MT src/rnn/libopensmile_la-rnnSink.lo -MD -MP -MF src/rnn/.deps/libopensmile_la-rnnSink.Tpo -c -o src/rnn/libopensmile_la-rnnSink.lo `test -f 'src/rnn/rnnSink.cpp' || echo './'`src/rnn/rnnSink.cpp\n",
            "libtool: compile:  g++ -DHAVE_CONFIG_H -I. -Isrc/include -Iprogsrc/include -ggdb -g -O2 -MT src/rnn/libopensmile_la-rnnProcessor.lo -MD -MP -MF src/rnn/.deps/libopensmile_la-rnnProcessor.Tpo -c src/rnn/rnnProcessor.cpp  -fPIC -DPIC -o src/rnn/.libs/libopensmile_la-rnnProcessor.o\n",
            "libtool: compile:  g++ -DHAVE_CONFIG_H -I. -Isrc/include -Iprogsrc/include -ggdb -g -O2 -MT src/rnn/libopensmile_la-rnnProcessor.lo -MD -MP -MF src/rnn/.deps/libopensmile_la-rnnProcessor.Tpo -c src/rnn/rnnProcessor.cpp -o src/rnn/libopensmile_la-rnnProcessor.o >/dev/null 2>&1\n",
            "libtool: compile:  g++ -DHAVE_CONFIG_H -I. -Isrc/include -Iprogsrc/include -ggdb -g -O2 -MT src/rnn/libopensmile_la-rnnSink.lo -MD -MP -MF src/rnn/.deps/libopensmile_la-rnnSink.Tpo -c src/rnn/rnnSink.cpp  -fPIC -DPIC -o src/rnn/.libs/libopensmile_la-rnnSink.o\n",
            "libtool: compile:  g++ -DHAVE_CONFIG_H -I. -Isrc/include -Iprogsrc/include -ggdb -g -O2 -MT src/android/libopensmile_la-openslesSource.lo -MD -MP -MF src/android/.deps/libopensmile_la-openslesSource.Tpo -c src/android/openslesSource.cpp -o src/android/libopensmile_la-openslesSource.o >/dev/null 2>&1\n",
            "libtool: compile:  g++ -DHAVE_CONFIG_H -I. -Isrc/include -Iprogsrc/include -ggdb -g -O2 -MT src/rnn/libopensmile_la-rnnSink.lo -MD -MP -MF src/rnn/.deps/libopensmile_la-rnnSink.Tpo -c src/rnn/rnnSink.cpp -o src/rnn/libopensmile_la-rnnSink.o >/dev/null 2>&1\n",
            "mv -f src/rnn/.deps/libopensmile_la-rnnProcessor.Tpo src/rnn/.deps/libopensmile_la-rnnProcessor.Plo\n",
            "/bin/bash ./libtool  --tag=CXX   --mode=compile g++ -DHAVE_CONFIG_H -I.  -Isrc/include -Iprogsrc/include    -ggdb    -g -O2 -MT src/rnn/libopensmile_la-rnnVad2.lo -MD -MP -MF src/rnn/.deps/libopensmile_la-rnnVad2.Tpo -c -o src/rnn/libopensmile_la-rnnVad2.lo `test -f 'src/rnn/rnnVad2.cpp' || echo './'`src/rnn/rnnVad2.cpp\n",
            "mv -f src/rnn/.deps/libopensmile_la-rnnSink.Tpo src/rnn/.deps/libopensmile_la-rnnSink.Plo\n",
            "/bin/bash ./libtool  --tag=CC   --mode=compile gcc -DHAVE_CONFIG_H -I.  -Isrc/include -Iprogsrc/include    -ggdb    -g -O2 -MT src/smileutil/libopensmile_la-smileUtil.lo -MD -MP -MF src/smileutil/.deps/libopensmile_la-smileUtil.Tpo -c -o src/smileutil/libopensmile_la-smileUtil.lo `test -f 'src/smileutil/smileUtil.c' || echo './'`src/smileutil/smileUtil.c\n",
            "libtool: compile:  g++ -DHAVE_CONFIG_H -I. -Isrc/include -Iprogsrc/include -ggdb -g -O2 -MT src/rnn/libopensmile_la-rnn.lo -MD -MP -MF src/rnn/.deps/libopensmile_la-rnn.Tpo -c src/rnn/rnn.cpp -o src/rnn/libopensmile_la-rnn.o >/dev/null 2>&1\n",
            "libtool: compile:  g++ -DHAVE_CONFIG_H -I. -Isrc/include -Iprogsrc/include -ggdb -g -O2 -MT src/rnn/libopensmile_la-rnnVad2.lo -MD -MP -MF src/rnn/.deps/libopensmile_la-rnnVad2.Tpo -c src/rnn/rnnVad2.cpp  -fPIC -DPIC -o src/rnn/.libs/libopensmile_la-rnnVad2.o\n",
            "libtool: compile:  gcc -DHAVE_CONFIG_H -I. -Isrc/include -Iprogsrc/include -ggdb -g -O2 -MT src/smileutil/libopensmile_la-smileUtil.lo -MD -MP -MF src/smileutil/.deps/libopensmile_la-smileUtil.Tpo -c src/smileutil/smileUtil.c  -fPIC -DPIC -o src/smileutil/.libs/libopensmile_la-smileUtil.o\n",
            "mv -f src/android/.deps/libopensmile_la-openslesSource.Tpo src/android/.deps/libopensmile_la-openslesSource.Plo\n",
            "/bin/bash ./libtool  --tag=CC   --mode=compile gcc -DHAVE_CONFIG_H -I.  -Isrc/include -Iprogsrc/include    -ggdb    -g -O2 -MT src/smileutil/libopensmile_la-smileUtilSpline.lo -MD -MP -MF src/smileutil/.deps/libopensmile_la-smileUtilSpline.Tpo -c -o src/smileutil/libopensmile_la-smileUtilSpline.lo `test -f 'src/smileutil/smileUtilSpline.c' || echo './'`src/smileutil/smileUtilSpline.c\n",
            "libtool: compile:  gcc -DHAVE_CONFIG_H -I. -Isrc/include -Iprogsrc/include -ggdb -g -O2 -MT src/smileutil/libopensmile_la-smileUtilSpline.lo -MD -MP -MF src/smileutil/.deps/libopensmile_la-smileUtilSpline.Tpo -c src/smileutil/smileUtilSpline.c  -fPIC -DPIC -o src/smileutil/.libs/libopensmile_la-smileUtilSpline.o\n",
            "libtool: compile:  gcc -DHAVE_CONFIG_H -I. -Isrc/include -Iprogsrc/include -ggdb -g -O2 -MT src/smileutil/libopensmile_la-smileUtilSpline.lo -MD -MP -MF src/smileutil/.deps/libopensmile_la-smileUtilSpline.Tpo -c src/smileutil/smileUtilSpline.c -o src/smileutil/libopensmile_la-smileUtilSpline.o >/dev/null 2>&1\n",
            "mv -f src/rnn/.deps/libopensmile_la-rnn.Tpo src/rnn/.deps/libopensmile_la-rnn.Plo\n",
            "/bin/bash ./libtool  --tag=CXX   --mode=compile g++ -DHAVE_CONFIG_H -I.  -Isrc/include -Iprogsrc/include    -ggdb    -g -O2 -MT src/smileutil/libopensmile_la-zerosolve.lo -MD -MP -MF src/smileutil/.deps/libopensmile_la-zerosolve.Tpo -c -o src/smileutil/libopensmile_la-zerosolve.lo `test -f 'src/smileutil/zerosolve.cpp' || echo './'`src/smileutil/zerosolve.cpp\n",
            "mv -f src/smileutil/.deps/libopensmile_la-smileUtilSpline.Tpo src/smileutil/.deps/libopensmile_la-smileUtilSpline.Plo\n",
            "libtool: compile:  g++ -DHAVE_CONFIG_H -I. -Isrc/include -Iprogsrc/include -ggdb -g -O2 -MT src/smileutil/libopensmile_la-zerosolve.lo -MD -MP -MF src/smileutil/.deps/libopensmile_la-zerosolve.Tpo -c src/smileutil/zerosolve.cpp  -fPIC -DPIC -o src/smileutil/.libs/libopensmile_la-zerosolve.o\n",
            "/bin/bash ./libtool  --tag=CXX   --mode=compile g++ -DHAVE_CONFIG_H -I.  -Isrc/include -Iprogsrc/include    -ggdb    -g -O2 -MT src/video/libopensmile_la-openCVSource.lo -MD -MP -MF src/video/.deps/libopensmile_la-openCVSource.Tpo -c -o src/video/libopensmile_la-openCVSource.lo `test -f 'src/video/openCVSource.cpp' || echo './'`src/video/openCVSource.cpp\n",
            "libtool: compile:  g++ -DHAVE_CONFIG_H -I. -Isrc/include -Iprogsrc/include -ggdb -g -O2 -MT src/rnn/libopensmile_la-rnnVad2.lo -MD -MP -MF src/rnn/.deps/libopensmile_la-rnnVad2.Tpo -c src/rnn/rnnVad2.cpp -o src/rnn/libopensmile_la-rnnVad2.o >/dev/null 2>&1\n",
            "libtool: compile:  g++ -DHAVE_CONFIG_H -I. -Isrc/include -Iprogsrc/include -ggdb -g -O2 -MT src/video/libopensmile_la-openCVSource.lo -MD -MP -MF src/video/.deps/libopensmile_la-openCVSource.Tpo -c src/video/openCVSource.cpp  -fPIC -DPIC -o src/video/.libs/libopensmile_la-openCVSource.o\n",
            "libtool: compile:  g++ -DHAVE_CONFIG_H -I. -Isrc/include -Iprogsrc/include -ggdb -g -O2 -MT src/smileutil/libopensmile_la-zerosolve.lo -MD -MP -MF src/smileutil/.deps/libopensmile_la-zerosolve.Tpo -c src/smileutil/zerosolve.cpp -o src/smileutil/libopensmile_la-zerosolve.o >/dev/null 2>&1\n",
            "libtool: compile:  gcc -DHAVE_CONFIG_H -I. -Isrc/include -Iprogsrc/include -ggdb -g -O2 -MT src/smileutil/libopensmile_la-smileUtil.lo -MD -MP -MF src/smileutil/.deps/libopensmile_la-smileUtil.Tpo -c src/smileutil/smileUtil.c -o src/smileutil/libopensmile_la-smileUtil.o >/dev/null 2>&1\n",
            "libtool: compile:  g++ -DHAVE_CONFIG_H -I. -Isrc/include -Iprogsrc/include -ggdb -g -O2 -MT src/video/libopensmile_la-openCVSource.lo -MD -MP -MF src/video/.deps/libopensmile_la-openCVSource.Tpo -c src/video/openCVSource.cpp -o src/video/libopensmile_la-openCVSource.o >/dev/null 2>&1\n",
            "mv -f src/smileutil/.deps/libopensmile_la-zerosolve.Tpo src/smileutil/.deps/libopensmile_la-zerosolve.Plo\n",
            "/bin/bash ./libtool  --tag=CXX   --mode=link g++  -g -O2   -o SMILExtract progsrc/smilextract/SMILExtract-SMILExtract.o   -lm  -lpthread -ldl -lopensmile \n",
            "mv -f src/rnn/.deps/libopensmile_la-rnnVad2.Tpo src/rnn/.deps/libopensmile_la-rnnVad2.Plo\n",
            "libtool: link: g++ -g -O2 -o SMILExtract progsrc/smilextract/SMILExtract-SMILExtract.o  -lm -lpthread -ldl -lopensmile\n",
            "mv -f src/video/.deps/libopensmile_la-openCVSource.Tpo src/video/.deps/libopensmile_la-openCVSource.Plo\n",
            "Makefile:1305: recipe for target 'SMILExtract' failed\n",
            "mv -f src/smileutil/.deps/libopensmile_la-smileUtil.Tpo src/smileutil/.deps/libopensmile_la-smileUtil.Plo\n",
            "make[1]: Leaving directory '/content/opensmile-2.3.0'\n",
            "Makefile:767: recipe for target 'all' failed\n",
            "make  all-am\n",
            "make[1]: Entering directory '/content/opensmile-2.3.0'\n",
            "/bin/bash ./libtool  --tag=CXX   --mode=link g++  -g -O2   -o SMILExtract progsrc/smilextract/SMILExtract-SMILExtract.o   -lm  -lpthread -ldl -lopensmile \n",
            "libtool: link: g++ -g -O2 -o SMILExtract progsrc/smilextract/SMILExtract-SMILExtract.o  -lm -lpthread -ldl -lopensmile\n",
            "Makefile:1305: recipe for target 'SMILExtract' failed\n",
            "make[1]: Leaving directory '/content/opensmile-2.3.0'\n",
            "Makefile:767: recipe for target 'all' failed\n"
          ],
          "name": "stdout"
        },
        {
          "output_type": "stream",
          "text": [
            "src/core/dataSelector.cpp: In member function ‘int cDataSelector::loadSelection()’:\n",
            "src/core/dataSelector.cpp:121:31: warning: format ‘%u’ expects argument of type ‘unsigned int*’, but argument 3 has type ‘long int*’ [-Wformat=]\n",
            "       fscanf( f, \"%u\\n\", &nStr);\n",
            "                          ~~~~~^\n",
            "src/core/dataSelector.cpp:116:10: warning: ignoring return value of ‘char* fgets(char*, int, FILE*)’, declared with attribute warn_unused_result [-Wunused-result]\n",
            "     fgets( line, 5, f);\n",
            "     ~~~~~^~~~~~~~~~~~~\n",
            "src/core/dataSelector.cpp:121:13: warning: ignoring return value of ‘int fscanf(FILE*, const char*, ...)’, declared with attribute warn_unused_result [-Wunused-result]\n",
            "       fscanf( f, \"%u\\n\", &nStr);\n",
            "       ~~~~~~^~~~~~~~~~~~~~~~~~~\n",
            "src/core/vectorTransform.cpp: In member function ‘int cVectorTransform::loadHTKCMNdata(const char*, sTfData*)’:\n",
            "src/core/vectorTransform.cpp:301:11: warning: ignoring return value of ‘int fscanf(FILE*, const char*, ...)’, declared with attribute warn_unused_result [-Wunused-result]\n",
            "     fscanf(f,\"<MEAN> %i\\n\",&n);\n",
            "     ~~~~~~^~~~~~~~~~~~~~~~~~~~\n",
            "src/core/vectorTransform.cpp: In member function ‘int cVectorTransform::loadMVNtextdata(const char*, sTfData*)’:\n",
            "src/core/vectorTransform.cpp:385:11: warning: ignoring return value of ‘int fscanf(FILE*, const char*, ...)’, declared with attribute warn_unused_result [-Wunused-result]\n",
            "     fscanf(f,\"<MVN> %i\\n\",&n);\n",
            "     ~~~~~~^~~~~~~~~~~~~~~~~~~\n",
            "src/core/vectorTransform.cpp: In member function ‘int cVectorTransform::loadTransformData(const char*, sTfData*)’:\n",
            "src/core/vectorTransform.cpp:536:10: warning: ignoring return value of ‘size_t fread(void*, size_t, size_t, FILE*)’, declared with attribute warn_unused_result [-Wunused-result]\n",
            "     fread(magic, 4, 1, f);\n",
            "     ~~~~~^~~~~~~~~~~~~~~~\n",
            "src/core/vectorTransform.cpp:560:14: warning: ignoring return value of ‘size_t fread(void*, size_t, size_t, FILE*)’, declared with attribute warn_unused_result [-Wunused-result]\n",
            "         fread(&(magic[4-i]),i,1,f);\n",
            "         ~~~~~^~~~~~~~~~~~~~~~~~~~~\n",
            "src/functionals/functionalPeaks2.cpp: In member function ‘void cFunctionalPeaks2::dbgPrintMinMaxList(peakMinMaxListEl*)’:\n",
            "src/functionals/functionalPeaks2.cpp:311:66: warning: format ‘%lld’ expects argument of type ‘long long int’, but argument 3 has type ‘long int’ [-Wformat=]\n",
            "         fprintf(dbg,\"XXXX_MAX: x=%lld y=%f\\n\",listEl->x,listEl->y);\n",
            "                                               ~~~~~~~~~          ^\n",
            "src/functionals/functionalPeaks2.cpp:313:66: warning: format ‘%lld’ expects argument of type ‘long long int’, but argument 3 has type ‘long int’ [-Wformat=]\n",
            "         fprintf(dbg,\"XXXX_MIN: x=%lld y=%f\\n\",listEl->x,listEl->y);\n",
            "                                               ~~~~~~~~~          ^\n",
            "src/functionals/functionalPeaks2.cpp:320:59: warning: format ‘%i’ expects argument of type ‘int’, but argument 2 has type ‘long int’ [-Wformat=]\n",
            "         printf(\"XXXX_MAX: x=%i y=%f\\n\",listEl->x,listEl->y);\n",
            "                                        ~~~~~~~~~          ^\n",
            "src/functionals/functionalPeaks2.cpp:322:59: warning: format ‘%i’ expects argument of type ‘int’, but argument 2 has type ‘long int’ [-Wformat=]\n",
            "         printf(\"XXXX_MIN: x=%i y=%f\\n\",listEl->x,listEl->y);\n",
            "                                        ~~~~~~~~~          ^\n",
            "src/io/libsvmSink.cpp: In member function ‘virtual int cLibsvmSink::myTick(long long int)’:\n",
            "src/io/libsvmSink.cpp:252:54: warning: format ‘%i’ expects argument of type ‘int’, but argument 3 has type ‘long int’ [-Wformat=]\n",
            "   if (timestamp) fprintf(filehandle,\"%i:%f \",idx++,tm);\n",
            "                                              ~~~~~   ^\n",
            "src/io/libsvmSink.cpp:257:50: warning: format ‘%i’ expects argument of type ‘int’, but argument 3 has type ‘long int’ [-Wformat=]\n",
            "   fprintf(filehandle,\"%i:%e \",idx++,vec->dataF[0]);\n",
            "                               ~~~~~              ^\n",
            "src/io/libsvmSink.cpp:259:52: warning: format ‘%i’ expects argument of type ‘int’, but argument 3 has type ‘long int’ [-Wformat=]\n",
            "     fprintf(filehandle,\"%i:%e \",idx++,vec->dataF[i]);\n",
            "                                 ~~~~~              ^\n",
            "src/iocore/arffSink.cpp: In member function ‘virtual int cArffSink::myTick(long long int)’:\n",
            "src/iocore/arffSink.cpp:342:52: warning: format ‘%i’ expects argument of type ‘int’, but argument 4 has type ‘long int’ [-Wformat=]\n",
            "       fprintf(filehandle,\"'%s_%i',\",instanceBase,vi);\n",
            "                                                    ^\n",
            "src/iocore/arffSink.cpp:346:42: warning: format ‘%i’ expects argument of type ‘int’, but argument 3 has type ‘long int’ [-Wformat=]\n",
            "   if (number) fprintf(filehandle,\"%i,\",vi);\n",
            "                                          ^\n",
            "src/iocore/csvSink.cpp: In member function ‘virtual int cCsvSink::myTick(long long int)’:\n",
            "src/iocore/csvSink.cpp:238:65: warning: format ‘%i’ expects argument of type ‘int’, but argument 4 has type ‘long int’ [-Wformat=]\n",
            "     fprintf(filehandle, \"'%s_%i'%c\", instanceBase, vi, delimChar);\n",
            "                                                                 ^\n",
            "src/iocore/csvSink.cpp:242:43: warning: format ‘%i’ expects argument of type ‘int’, but argument 3 has type ‘long int’ [-Wformat=]\n",
            "     fprintf(filehandle,\"%i%c\",vi,delimChar);\n",
            "                                           ^\n",
            "src/iocore/waveSink.cpp: In constructor ‘cWaveSink::cWaveSink(const char*)’:\n",
            "src/iocore/waveSink.cpp:110:23: warning: converting to non-pointer type ‘long int’ from NULL [-Wconversion-null]\n",
            "   sampleBufferLen(NULL)\n",
            "                       ^\n",
            "src/lldcore/pitchSmoother.cpp: In constructor ‘cPitchSmoother::cPitchSmoother(const char*)’:\n",
            "src/lldcore/pitchSmoother.cpp:117:48: warning: converting to non-pointer type ‘FLOAT_DMEM {aka float}’ from NULL [-Wconversion-null]\n",
            "   lastVoice(NULL), lastFinalF0(0), pitchEnv(0.0)\n",
            "                                                ^\n",
            "src/smileutil/smileUtil.c: In function ‘smilePcm_parseWaveHeader’:\n",
            "src/smileutil/smileUtil.c:2305:40: warning: format ‘%i’ expects argument of type ‘int’, but argument 2 has type ‘long unsigned int’ [-Wformat=]\n",
            "       printf(\"smilePcm: Error reading %i bytes (header) from beginning of wave data! The given array is too short (N=%i)!\",sizeof(sRiffPcmWaveHeader),(long)N);\n",
            "                                       ~^\n",
            "                                       %li\n",
            "src/smileutil/smileUtil.c:2305:119: warning: format ‘%i’ expects argument of type ‘int’, but argument 3 has type ‘long int’ [-Wformat=]\n",
            "       printf(\"smilePcm: Error reading %i bytes (header) from beginning of wave data! The given array is too short (N=%i)!\",sizeof(sRiffPcmWaveHeader),(long)N);\n",
            "                                                                                                                      ~^                               ~~~~~~~\n",
            "                                                                                                                      %li\n",
            "src/smileutil/smileUtil.c:2345:89: warning: format ‘%i’ expects argument of type ‘int’, but argument 3 has type ‘long unsigned int’ [-Wformat=]\n",
            "         fprintf(stderr,\"smilePcm: less bytes read from wave data than there should be (%i) while reading sub-chunk header! File seems broken!\\n\",sizeof(sRiffChunkHeader));\n",
            "                                                                                        ~^\n",
            "                                                                                        %li\n",
            "src/smileutil/smileUtil.c: In function ‘smilePcm_readWaveHeader’:\n",
            "src/smileutil/smileUtil.c:2389:40: warning: format ‘%i’ expects argument of type ‘int’, but argument 2 has type ‘long unsigned int’ [-Wformat=]\n",
            "       printf(\"smilePcm: Error reading %i bytes (header) from beginning of wave file '%s'! File too short??\",sizeof(head),filename);\n",
            "                                       ~^\n",
            "                                       %li\n",
            "src/smileutil/smileUtil.c:2422:99: warning: format ‘%i’ expects argument of type ‘int’, but argument 5 has type ‘long unsigned int’ [-Wformat=]\n",
            "         fprintf(stderr,\"smilePcm: less bytes read (%i) from wave file '%s' than there should be (%i) while reading sub-chunk header! File seems broken!\\n\",nRead,filename,sizeof(chunkhead));\n",
            "                                                                                                  ~^\n",
            "                                                                                                  %li\n",
            "/usr/bin/ld: cannot find -lopensmile\n",
            "collect2: error: ld returned 1 exit status\n",
            "make[1]: *** [SMILExtract] Error 1\n",
            "make[1]: *** Waiting for unfinished jobs....\n",
            "make: *** [all] Error 2\n",
            "/usr/bin/ld: cannot find -lopensmile\n",
            "collect2: error: ld returned 1 exit status\n",
            "make[1]: *** [SMILExtract] Error 1\n",
            "make: *** [all] Error 2\n"
          ],
          "name": "stderr"
        }
      ]
    },
    {
      "cell_type": "code",
      "metadata": {
        "id": "To_VBeSc4DJ8",
        "outputId": "0406cda5-aec9-44f3-8933-11e43d4bf862",
        "colab": {
          "base_uri": "https://localhost:8080/",
          "height": 371
        }
      },
      "source": [
        "%%bash\n",
        "export PATH=$PATH:/home/linuxbrew/.linuxbrew/bin/\n",
        "cd opensmile-2.3.0\n",
        "make -j4            "
      ],
      "execution_count": 12,
      "outputs": [
        {
          "output_type": "stream",
          "text": [
            "make  all-am\n",
            "make[1]: Entering directory '/content/opensmile-2.3.0'\n",
            "/bin/bash ./libtool  --tag=CXX   --mode=link g++  -g -O2 --no-undefined  -o libopensmile.la -rpath /usr/local/lib src/classifiers/julius/libopensmile_la-juliusSink.lo src/classifiers/libsvm/libopensmile_la-svm.lo src/classifiers/libopensmile_la-libsvmliveSink.lo src/classifiers/libopensmile_la-svmSink.lo src/core/libopensmile_la-commandlineParser.lo src/core/libopensmile_la-componentManager.lo src/core/libopensmile_la-configManager.lo src/core/libopensmile_la-dataMemory.lo src/core/libopensmile_la-dataProcessor.lo src/core/libopensmile_la-dataReader.lo src/core/libopensmile_la-dataSelector.lo src/core/libopensmile_la-dataSink.lo src/core/libopensmile_la-dataSource.lo src/core/libopensmile_la-dataWriter.lo src/core/libopensmile_la-exceptions.lo src/core/libopensmile_la-nullSink.lo src/core/libopensmile_la-smileCommon.lo src/core/libopensmile_la-smileComponent.lo src/core/libopensmile_la-smileLogger.lo src/core/libopensmile_la-vecToWinProcessor.lo src/core/libopensmile_la-vectorProcessor.lo src/core/libopensmile_la-vectorTransform.lo src/core/libopensmile_la-winToVecProcessor.lo src/core/libopensmile_la-windowProcessor.lo src/dsp/libopensmile_la-dbA.lo src/dsp/libopensmile_la-signalGenerator.lo src/dsp/libopensmile_la-smileResample.lo src/dsp/libopensmile_la-specResample.lo src/dsp/libopensmile_la-vadV1.lo src/dspcore/libopensmile_la-acf.lo src/dspcore/libopensmile_la-amdf.lo src/dspcore/libopensmile_la-contourSmoother.lo src/dspcore/libopensmile_la-deltaRegression.lo src/dspcore/libopensmile_la-fftmagphase.lo src/dspcore/libopensmile_la-fftsg.lo src/dspcore/libopensmile_la-framer.lo src/dspcore/libopensmile_la-fullinputMean.lo src/dspcore/libopensmile_la-fullturnMean.lo src/dspcore/libopensmile_la-monoMixdown.lo src/dspcore/libopensmile_la-preemphasis.lo src/dspcore/libopensmile_la-transformFft.lo src/dspcore/libopensmile_la-turnDetector.lo src/dspcore/libopensmile_la-vectorMVN.lo src/dspcore/libopensmile_la-vectorPreemphasis.lo src/dspcore/libopensmile_la-windower.lo src/examples/libopensmile_la-exampleSink.lo src/examples/libopensmile_la-exampleSource.lo src/examples/libopensmile_la-simpleMessageSender.lo src/functionals/libopensmile_la-functionalComponent.lo src/functionals/libopensmile_la-functionalCrossings.lo src/functionals/libopensmile_la-functionalDCT.lo src/functionals/libopensmile_la-functionalExtremes.lo src/functionals/libopensmile_la-functionalLpc.lo src/functionals/libopensmile_la-functionalMeans.lo src/functionals/libopensmile_la-functionalMoments.lo src/functionals/libopensmile_la-functionalOnset.lo src/functionals/libopensmile_la-functionalPeaks.lo src/functionals/libopensmile_la-functionalPeaks2.lo src/functionals/libopensmile_la-functionalPercentiles.lo src/functionals/libopensmile_la-functionalRegression.lo src/functionals/libopensmile_la-functionalSamples.lo src/functionals/libopensmile_la-functionalSegments.lo src/functionals/libopensmile_la-functionalTimes.lo src/functionals/libopensmile_la-functionals.lo src/lld/libopensmile_la-lsp.lo src/dsp/libopensmile_la-specScale.lo src/io/libopensmile_la-libsvmSink.lo src/iocore/libopensmile_la-arffSink.lo src/iocore/libopensmile_la-arffSource.lo src/iocore/libopensmile_la-csvSink.lo src/iocore/libopensmile_la-csvSource.lo src/iocore/libopensmile_la-datadumpSink.lo src/iocore/libopensmile_la-htkSink.lo src/iocore/libopensmile_la-htkSource.lo src/iocore/libopensmile_la-waveSink.lo src/iocore/libopensmile_la-waveSinkCut.lo src/iocore/libopensmile_la-waveSource.lo src/lld/libopensmile_la-cens.lo src/lld/libopensmile_la-chroma.lo src/lld/libopensmile_la-harmonics.lo src/lld/libopensmile_la-formantLpc.lo src/lld/libopensmile_la-formantSmoother.lo src/lld/libopensmile_la-lpc.lo src/lld/libopensmile_la-pitchDirection.lo src/lld/libopensmile_la-pitchJitter.lo src/lld/libopensmile_la-pitchShs.lo src/lld/libopensmile_la-pitchSmootherViterbi.lo src/lld/libopensmile_la-tonefilt.lo src/lld/libopensmile_la-tonespec.lo src/lldcore/libopensmile_la-energy.lo src/lldcore/libopensmile_la-intensity.lo src/lldcore/libopensmile_la-melspec.lo src/lldcore/libopensmile_la-mfcc.lo src/lldcore/libopensmile_la-mzcr.lo src/lldcore/libopensmile_la-pitchACF.lo src/lldcore/libopensmile_la-pitchBase.lo src/lldcore/libopensmile_la-pitchSmoother.lo src/lldcore/libopensmile_la-plp.lo src/lldcore/libopensmile_la-spectral.lo src/other/libopensmile_la-bowProducer.lo src/other/libopensmile_la-maxIndex.lo src/other/libopensmile_la-valbasedSelector.lo src/other/libopensmile_la-vectorConcat.lo src/other/libopensmile_la-vectorOperation.lo src/portaudio/libopensmile_la-portaudioDuplex.lo src/portaudio/libopensmile_la-portaudioSink.lo src/portaudio/libopensmile_la-portaudioSource.lo src/portaudio/libopensmile_la-portaudioWavplayer.lo src/android/libopensmile_la-openslesSource.lo src/android/libopensmile_la-jniMessageInterface.lo src/rnn/libopensmile_la-rnn.lo src/rnn/libopensmile_la-rnnProcessor.lo src/rnn/libopensmile_la-rnnSink.lo src/rnn/libopensmile_la-rnnVad2.lo src/smileutil/libopensmile_la-smileUtil.lo src/smileutil/libopensmile_la-smileUtilSpline.lo src/smileutil/libopensmile_la-zerosolve.lo src/video/libopensmile_la-openCVSource.lo   -lm  -lpthread -ldl \n",
            "/bin/bash ./libtool  --tag=CXX   --mode=link g++  -g -O2   -o SMILExtract progsrc/smilextract/SMILExtract-SMILExtract.o   -lm  -lpthread -ldl -lopensmile \n",
            "libtool: link: g++ -g -O2 -o SMILExtract progsrc/smilextract/SMILExtract-SMILExtract.o  -lm -lpthread -ldl -lopensmile\n",
            "Makefile:1305: recipe for target 'SMILExtract' failed\n",
            "libtool: link: g++  -fPIC -DPIC -shared -nostdlib /usr/lib/gcc/x86_64-linux-gnu/7/../../../x86_64-linux-gnu/crti.o /usr/lib/gcc/x86_64-linux-gnu/7/crtbeginS.o  src/classifiers/julius/.libs/libopensmile_la-juliusSink.o src/classifiers/libsvm/.libs/libopensmile_la-svm.o src/classifiers/.libs/libopensmile_la-libsvmliveSink.o src/classifiers/.libs/libopensmile_la-svmSink.o src/core/.libs/libopensmile_la-commandlineParser.o src/core/.libs/libopensmile_la-componentManager.o src/core/.libs/libopensmile_la-configManager.o src/core/.libs/libopensmile_la-dataMemory.o src/core/.libs/libopensmile_la-dataProcessor.o src/core/.libs/libopensmile_la-dataReader.o src/core/.libs/libopensmile_la-dataSelector.o src/core/.libs/libopensmile_la-dataSink.o src/core/.libs/libopensmile_la-dataSource.o src/core/.libs/libopensmile_la-dataWriter.o src/core/.libs/libopensmile_la-exceptions.o src/core/.libs/libopensmile_la-nullSink.o src/core/.libs/libopensmile_la-smileCommon.o src/core/.libs/libopensmile_la-smileComponent.o src/core/.libs/libopensmile_la-smileLogger.o src/core/.libs/libopensmile_la-vecToWinProcessor.o src/core/.libs/libopensmile_la-vectorProcessor.o src/core/.libs/libopensmile_la-vectorTransform.o src/core/.libs/libopensmile_la-winToVecProcessor.o src/core/.libs/libopensmile_la-windowProcessor.o src/dsp/.libs/libopensmile_la-dbA.o src/dsp/.libs/libopensmile_la-signalGenerator.o src/dsp/.libs/libopensmile_la-smileResample.o src/dsp/.libs/libopensmile_la-specResample.o src/dsp/.libs/libopensmile_la-vadV1.o src/dspcore/.libs/libopensmile_la-acf.o src/dspcore/.libs/libopensmile_la-amdf.o src/dspcore/.libs/libopensmile_la-contourSmoother.o src/dspcore/.libs/libopensmile_la-deltaRegression.o src/dspcore/.libs/libopensmile_la-fftmagphase.o src/dspcore/.libs/libopensmile_la-fftsg.o src/dspcore/.libs/libopensmile_la-framer.o src/dspcore/.libs/libopensmile_la-fullinputMean.o src/dspcore/.libs/libopensmile_la-fullturnMean.o src/dspcore/.libs/libopensmile_la-monoMixdown.o src/dspcore/.libs/libopensmile_la-preemphasis.o src/dspcore/.libs/libopensmile_la-transformFft.o src/dspcore/.libs/libopensmile_la-turnDetector.o src/dspcore/.libs/libopensmile_la-vectorMVN.o src/dspcore/.libs/libopensmile_la-vectorPreemphasis.o src/dspcore/.libs/libopensmile_la-windower.o src/examples/.libs/libopensmile_la-exampleSink.o src/examples/.libs/libopensmile_la-exampleSource.o src/examples/.libs/libopensmile_la-simpleMessageSender.o src/functionals/.libs/libopensmile_la-functionalComponent.o src/functionals/.libs/libopensmile_la-functionalCrossings.o src/functionals/.libs/libopensmile_la-functionalDCT.o src/functionals/.libs/libopensmile_la-functionalExtremes.o src/functionals/.libs/libopensmile_la-functionalLpc.o src/functionals/.libs/libopensmile_la-functionalMeans.o src/functionals/.libs/libopensmile_la-functionalMoments.o src/functionals/.libs/libopensmile_la-functionalOnset.o src/functionals/.libs/libopensmile_la-functionalPeaks.o src/functionals/.libs/libopensmile_la-functionalPeaks2.o src/functionals/.libs/libopensmile_la-functionalPercentiles.o src/functionals/.libs/libopensmile_la-functionalRegression.o src/functionals/.libs/libopensmile_la-functionalSamples.o src/functionals/.libs/libopensmile_la-functionalSegments.o src/functionals/.libs/libopensmile_la-functionalTimes.o src/functionals/.libs/libopensmile_la-functionals.o src/lld/.libs/libopensmile_la-lsp.o src/dsp/.libs/libopensmile_la-specScale.o src/io/.libs/libopensmile_la-libsvmSink.o src/iocore/.libs/libopensmile_la-arffSink.o src/iocore/.libs/libopensmile_la-arffSource.o src/iocore/.libs/libopensmile_la-csvSink.o src/iocore/.libs/libopensmile_la-csvSource.o src/iocore/.libs/libopensmile_la-datadumpSink.o src/iocore/.libs/libopensmile_la-htkSink.o src/iocore/.libs/libopensmile_la-htkSource.o src/iocore/.libs/libopensmile_la-waveSink.o src/iocore/.libs/libopensmile_la-waveSinkCut.o src/iocore/.libs/libopensmile_la-waveSource.o src/lld/.libs/libopensmile_la-cens.o src/lld/.libs/libopensmile_la-chroma.o src/lld/.libs/libopensmile_la-harmonics.o src/lld/.libs/libopensmile_la-formantLpc.o src/lld/.libs/libopensmile_la-formantSmoother.o src/lld/.libs/libopensmile_la-lpc.o src/lld/.libs/libopensmile_la-pitchDirection.o src/lld/.libs/libopensmile_la-pitchJitter.o src/lld/.libs/libopensmile_la-pitchShs.o src/lld/.libs/libopensmile_la-pitchSmootherViterbi.o src/lld/.libs/libopensmile_la-tonefilt.o src/lld/.libs/libopensmile_la-tonespec.o src/lldcore/.libs/libopensmile_la-energy.o src/lldcore/.libs/libopensmile_la-intensity.o src/lldcore/.libs/libopensmile_la-melspec.o src/lldcore/.libs/libopensmile_la-mfcc.o src/lldcore/.libs/libopensmile_la-mzcr.o src/lldcore/.libs/libopensmile_la-pitchACF.o src/lldcore/.libs/libopensmile_la-pitchBase.o src/lldcore/.libs/libopensmile_la-pitchSmoother.o src/lldcore/.libs/libopensmile_la-plp.o src/lldcore/.libs/libopensmile_la-spectral.o src/other/.libs/libopensmile_la-bowProducer.o src/other/.libs/libopensmile_la-maxIndex.o src/other/.libs/libopensmile_la-valbasedSelector.o src/other/.libs/libopensmile_la-vectorConcat.o src/other/.libs/libopensmile_la-vectorOperation.o src/portaudio/.libs/libopensmile_la-portaudioDuplex.o src/portaudio/.libs/libopensmile_la-portaudioSink.o src/portaudio/.libs/libopensmile_la-portaudioSource.o src/portaudio/.libs/libopensmile_la-portaudioWavplayer.o src/android/.libs/libopensmile_la-openslesSource.o src/android/.libs/libopensmile_la-jniMessageInterface.o src/rnn/.libs/libopensmile_la-rnn.o src/rnn/.libs/libopensmile_la-rnnProcessor.o src/rnn/.libs/libopensmile_la-rnnSink.o src/rnn/.libs/libopensmile_la-rnnVad2.o src/smileutil/.libs/libopensmile_la-smileUtil.o src/smileutil/.libs/libopensmile_la-smileUtilSpline.o src/smileutil/.libs/libopensmile_la-zerosolve.o src/video/.libs/libopensmile_la-openCVSource.o   -lpthread -ldl -L/usr/lib/gcc/x86_64-linux-gnu/7 -L/usr/lib/gcc/x86_64-linux-gnu/7/../../../x86_64-linux-gnu -L/usr/lib/gcc/x86_64-linux-gnu/7/../../../../lib -L/lib/x86_64-linux-gnu -L/lib/../lib -L/usr/lib/x86_64-linux-gnu -L/usr/lib/../lib -L/usr/local/cuda/lib64/stubs -L/usr/lib/gcc/x86_64-linux-gnu/7/../../.. -lstdc++ -lm -lc -lgcc_s /usr/lib/gcc/x86_64-linux-gnu/7/crtendS.o /usr/lib/gcc/x86_64-linux-gnu/7/../../../x86_64-linux-gnu/crtn.o  -g -O2   -Wl,-soname -Wl,libopensmile.so.0 -o .libs/libopensmile.so.0.0.0\n",
            "libtool: link: (cd \".libs\" && rm -f \"libopensmile.so.0\" && ln -s \"libopensmile.so.0.0.0\" \"libopensmile.so.0\")\n",
            "libtool: link: (cd \".libs\" && rm -f \"libopensmile.so\" && ln -s \"libopensmile.so.0.0.0\" \"libopensmile.so\")\n",
            "libtool: link: ar cru .libs/libopensmile.a  src/classifiers/julius/libopensmile_la-juliusSink.o src/classifiers/libsvm/libopensmile_la-svm.o src/classifiers/libopensmile_la-libsvmliveSink.o src/classifiers/libopensmile_la-svmSink.o src/core/libopensmile_la-commandlineParser.o src/core/libopensmile_la-componentManager.o src/core/libopensmile_la-configManager.o src/core/libopensmile_la-dataMemory.o src/core/libopensmile_la-dataProcessor.o src/core/libopensmile_la-dataReader.o src/core/libopensmile_la-dataSelector.o src/core/libopensmile_la-dataSink.o src/core/libopensmile_la-dataSource.o src/core/libopensmile_la-dataWriter.o src/core/libopensmile_la-exceptions.o src/core/libopensmile_la-nullSink.o src/core/libopensmile_la-smileCommon.o src/core/libopensmile_la-smileComponent.o src/core/libopensmile_la-smileLogger.o src/core/libopensmile_la-vecToWinProcessor.o src/core/libopensmile_la-vectorProcessor.o src/core/libopensmile_la-vectorTransform.o src/core/libopensmile_la-winToVecProcessor.o src/core/libopensmile_la-windowProcessor.o src/dsp/libopensmile_la-dbA.o src/dsp/libopensmile_la-signalGenerator.o src/dsp/libopensmile_la-smileResample.o src/dsp/libopensmile_la-specResample.o src/dsp/libopensmile_la-vadV1.o src/dspcore/libopensmile_la-acf.o src/dspcore/libopensmile_la-amdf.o src/dspcore/libopensmile_la-contourSmoother.o src/dspcore/libopensmile_la-deltaRegression.o src/dspcore/libopensmile_la-fftmagphase.o src/dspcore/libopensmile_la-fftsg.o src/dspcore/libopensmile_la-framer.o src/dspcore/libopensmile_la-fullinputMean.o src/dspcore/libopensmile_la-fullturnMean.o src/dspcore/libopensmile_la-monoMixdown.o src/dspcore/libopensmile_la-preemphasis.o src/dspcore/libopensmile_la-transformFft.o src/dspcore/libopensmile_la-turnDetector.o src/dspcore/libopensmile_la-vectorMVN.o src/dspcore/libopensmile_la-vectorPreemphasis.o src/dspcore/libopensmile_la-windower.o src/examples/libopensmile_la-exampleSink.o src/examples/libopensmile_la-exampleSource.o src/examples/libopensmile_la-simpleMessageSender.o src/functionals/libopensmile_la-functionalComponent.o src/functionals/libopensmile_la-functionalCrossings.o src/functionals/libopensmile_la-functionalDCT.o src/functionals/libopensmile_la-functionalExtremes.o src/functionals/libopensmile_la-functionalLpc.o src/functionals/libopensmile_la-functionalMeans.o src/functionals/libopensmile_la-functionalMoments.o src/functionals/libopensmile_la-functionalOnset.o src/functionals/libopensmile_la-functionalPeaks.o src/functionals/libopensmile_la-functionalPeaks2.o src/functionals/libopensmile_la-functionalPercentiles.o src/functionals/libopensmile_la-functionalRegression.o src/functionals/libopensmile_la-functionalSamples.o src/functionals/libopensmile_la-functionalSegments.o src/functionals/libopensmile_la-functionalTimes.o src/functionals/libopensmile_la-functionals.o src/lld/libopensmile_la-lsp.o src/dsp/libopensmile_la-specScale.o src/io/libopensmile_la-libsvmSink.o src/iocore/libopensmile_la-arffSink.o src/iocore/libopensmile_la-arffSource.o src/iocore/libopensmile_la-csvSink.o src/iocore/libopensmile_la-csvSource.o src/iocore/libopensmile_la-datadumpSink.o src/iocore/libopensmile_la-htkSink.o src/iocore/libopensmile_la-htkSource.o src/iocore/libopensmile_la-waveSink.o src/iocore/libopensmile_la-waveSinkCut.o src/iocore/libopensmile_la-waveSource.o src/lld/libopensmile_la-cens.o src/lld/libopensmile_la-chroma.o src/lld/libopensmile_la-harmonics.o src/lld/libopensmile_la-formantLpc.o src/lld/libopensmile_la-formantSmoother.o src/lld/libopensmile_la-lpc.o src/lld/libopensmile_la-pitchDirection.o src/lld/libopensmile_la-pitchJitter.o src/lld/libopensmile_la-pitchShs.o src/lld/libopensmile_la-pitchSmootherViterbi.o src/lld/libopensmile_la-tonefilt.o src/lld/libopensmile_la-tonespec.o src/lldcore/libopensmile_la-energy.o src/lldcore/libopensmile_la-intensity.o src/lldcore/libopensmile_la-melspec.o src/lldcore/libopensmile_la-mfcc.o src/lldcore/libopensmile_la-mzcr.o src/lldcore/libopensmile_la-pitchACF.o src/lldcore/libopensmile_la-pitchBase.o src/lldcore/libopensmile_la-pitchSmoother.o src/lldcore/libopensmile_la-plp.o src/lldcore/libopensmile_la-spectral.o src/other/libopensmile_la-bowProducer.o src/other/libopensmile_la-maxIndex.o src/other/libopensmile_la-valbasedSelector.o src/other/libopensmile_la-vectorConcat.o src/other/libopensmile_la-vectorOperation.o src/portaudio/libopensmile_la-portaudioDuplex.o src/portaudio/libopensmile_la-portaudioSink.o src/portaudio/libopensmile_la-portaudioSource.o src/portaudio/libopensmile_la-portaudioWavplayer.o src/android/libopensmile_la-openslesSource.o src/android/libopensmile_la-jniMessageInterface.o src/rnn/libopensmile_la-rnn.o src/rnn/libopensmile_la-rnnProcessor.o src/rnn/libopensmile_la-rnnSink.o src/rnn/libopensmile_la-rnnVad2.o src/smileutil/libopensmile_la-smileUtil.o src/smileutil/libopensmile_la-smileUtilSpline.o src/smileutil/libopensmile_la-zerosolve.o src/video/libopensmile_la-openCVSource.o\n",
            "libtool: link: ranlib .libs/libopensmile.a\n",
            "libtool: link: ( cd \".libs\" && rm -f \"libopensmile.la\" && ln -s \"../libopensmile.la\" \"libopensmile.la\" )\n",
            "make[1]: Leaving directory '/content/opensmile-2.3.0'\n",
            "Makefile:767: recipe for target 'all' failed\n"
          ],
          "name": "stdout"
        },
        {
          "output_type": "stream",
          "text": [
            "/usr/bin/ld: cannot find -lopensmile\n",
            "collect2: error: ld returned 1 exit status\n",
            "make[1]: *** [SMILExtract] Error 1\n",
            "make[1]: *** Waiting for unfinished jobs....\n",
            "ar: `u' modifier ignored since `D' is the default (see `U')\n",
            "make: *** [all] Error 2\n"
          ],
          "name": "stderr"
        }
      ]
    },
    {
      "cell_type": "code",
      "metadata": {
        "id": "eE5k5RIi4MpW",
        "outputId": "208067bb-81ed-4ea9-c813-f168c90558df",
        "colab": {
          "base_uri": "https://localhost:8080/",
          "height": 120
        }
      },
      "source": [
        "%%bash\n",
        "export PATH=$PATH:/home/linuxbrew/.linuxbrew/bin/\n",
        "cd opensmile-2.3.0\n",
        "make            "
      ],
      "execution_count": 13,
      "outputs": [
        {
          "output_type": "stream",
          "text": [
            "make  all-am\n",
            "make[1]: Entering directory '/content/opensmile-2.3.0'\n",
            "/bin/bash ./libtool  --tag=CXX   --mode=link g++  -g -O2   -o SMILExtract progsrc/smilextract/SMILExtract-SMILExtract.o   -lm  -lpthread -ldl -lopensmile \n",
            "libtool: link: g++ -g -O2 -o .libs/SMILExtract progsrc/smilextract/SMILExtract-SMILExtract.o  -lm /content/opensmile-2.3.0/.libs/libopensmile.so -lpthread -ldl\n",
            "make[1]: Leaving directory '/content/opensmile-2.3.0'\n"
          ],
          "name": "stdout"
        }
      ]
    },
    {
      "cell_type": "code",
      "metadata": {
        "id": "Pw48rF324QTW",
        "outputId": "f25bfe1f-65fc-418d-fb53-61d4c8132650",
        "colab": {
          "base_uri": "https://localhost:8080/",
          "height": 605
        }
      },
      "source": [
        "%%bash\n",
        "export PATH=$PATH:/home/linuxbrew/.linuxbrew/bin/\n",
        "cd opensmile-2.3.0\n",
        "make check           \n",
        "make install         "
      ],
      "execution_count": 14,
      "outputs": [
        {
          "output_type": "stream",
          "text": [
            "make[1]: Entering directory '/content/opensmile-2.3.0'\n",
            " /bin/mkdir -p '/usr/local/lib'\n",
            " /bin/bash ./libtool   --mode=install /usr/bin/install -c   libopensmile.la '/usr/local/lib'\n",
            "libtool: install: /usr/bin/install -c .libs/libopensmile.so.0.0.0 /usr/local/lib/libopensmile.so.0.0.0\n",
            "libtool: install: (cd /usr/local/lib && { ln -s -f libopensmile.so.0.0.0 libopensmile.so.0 || { rm -f libopensmile.so.0 && ln -s libopensmile.so.0.0.0 libopensmile.so.0; }; })\n",
            "libtool: install: (cd /usr/local/lib && { ln -s -f libopensmile.so.0.0.0 libopensmile.so || { rm -f libopensmile.so && ln -s libopensmile.so.0.0.0 libopensmile.so; }; })\n",
            "libtool: install: /usr/bin/install -c .libs/libopensmile.lai /usr/local/lib/libopensmile.la\n",
            "libtool: install: /usr/bin/install -c .libs/libopensmile.a /usr/local/lib/libopensmile.a\n",
            "libtool: install: chmod 644 /usr/local/lib/libopensmile.a\n",
            "libtool: install: ranlib /usr/local/lib/libopensmile.a\n",
            "libtool: finish: PATH=\"/usr/local/nvidia/bin:/usr/local/cuda/bin:/usr/local/sbin:/usr/local/bin:/usr/sbin:/usr/bin:/sbin:/bin:/tools/node/bin:/tools/google-cloud-sdk/bin:/opt/bin:/home/linuxbrew/.linuxbrew/bin/:/sbin\" ldconfig -n /usr/local/lib\n",
            "----------------------------------------------------------------------\n",
            "Libraries have been installed in:\n",
            "   /usr/local/lib\n",
            "\n",
            "If you ever happen to want to link against installed libraries\n",
            "in a given directory, LIBDIR, you must either use libtool, and\n",
            "specify the full pathname of the library, or use the '-LLIBDIR'\n",
            "flag during linking and do at least one of the following:\n",
            "   - add LIBDIR to the 'LD_LIBRARY_PATH' environment variable\n",
            "     during execution\n",
            "   - add LIBDIR to the 'LD_RUN_PATH' environment variable\n",
            "     during linking\n",
            "   - use the '-Wl,-rpath -Wl,LIBDIR' linker flag\n",
            "   - have your system administrator add LIBDIR to '/etc/ld.so.conf'\n",
            "\n",
            "See any operating system documentation about shared libraries for\n",
            "more information, such as the ld(1) and ld.so(8) manual pages.\n",
            "----------------------------------------------------------------------\n",
            " /bin/mkdir -p '/usr/local/bin'\n",
            "  /bin/bash ./libtool   --mode=install /usr/bin/install -c SMILExtract '/usr/local/bin'\n",
            "libtool: install: /usr/bin/install -c .libs/SMILExtract /usr/local/bin/SMILExtract\n",
            "make[1]: Nothing to be done for 'install-data-am'.\n",
            "make[1]: Leaving directory '/content/opensmile-2.3.0'\n"
          ],
          "name": "stdout"
        }
      ]
    },
    {
      "cell_type": "code",
      "metadata": {
        "id": "UU-L4FXjP7RT",
        "outputId": "2bcacbe6-6c38-425c-eff6-a9c3ed16b139",
        "colab": {
          "base_uri": "https://localhost:8080/",
          "height": 1000
        }
      },
      "source": [
        "%%bash\n",
        "\n",
        "cd opensmile-2.3.0/\n",
        "\n",
        "./SMILExtract -h"
      ],
      "execution_count": 15,
      "outputs": [
        {
          "output_type": "stream",
          "text": [
            " \n",
            " =============================================================== \n",
            "   openSMILE version 2.3.0 (Rev. 2014:2043)\n",
            "   Build date: Oct 28 2020 (UNKNOWN-BUILD-DATE)\n",
            "   Build branch: 'opensmile-2.3.0'\n",
            "   (c) 2014-2016 by audEERING GmbH\n",
            "   All rights reserved. See the file COPYING for license terms.\n",
            "   Lead author: Florian Eyben\n",
            " =============================================================== \n",
            " \n",
            "Usage: SMILExtract [-option (value)] ...\n",
            " \n",
            " -h    Show this usage information\n",
            " \n",
            " -C, -configfile  \t <string>\n",
            "     Path to openSMILE config file\n",
            "     {{ default = 'smile.conf' }}\n",
            " \n",
            " -l, -loglevel  \t <integer value>\n",
            "     Verbosity level (0-9)\n",
            "     {{ default = 2 }}\n",
            " \n",
            " -t, -nticks  \t <integer value>\n",
            "     Number of ticks to process (-1 = infinite) (only works for single thread processing, i.e. nThreads=1)\n",
            "     {{ default = -1 }}\n",
            " \n",
            " -L, -components  \t [boolean 0/1]\n",
            "     Show component list\n",
            "     {{ default = 0 }}\n",
            " \n",
            " -H, -configHelp  \t [string]\n",
            "     Show documentation of registered config types (on/off/argument) (if an argument is given, show only documentation for config types beginning with the name given in the argument)\n",
            "     {{ default = '(null)' }}\n",
            " \n",
            " -configDflt      \t [string]\n",
            "     Show default config section templates for each config type (on/off/argument) (if an argument is given, show only documentation for config types beginning with the name given in the argument, OR for a list of components in conjunctions with the 'cfgFileTemplate' option enabled)\n",
            "     {{ default = '(null)' }}\n",
            " \n",
            " -cfgFileTemplate      \t [boolean 0/1]\n",
            "     Print a complete template config file for a configuration containing the components specified in a comma separated string as argument to the 'configDflt' option\n",
            "     {{ default = 0 }}\n",
            " \n",
            " -cfgFileDescriptions      \t [boolean 0/1]\n",
            "     Include description in config file templates.\n",
            "     {{ default = 0 }}\n",
            " \n",
            " -c, -ccmdHelp  \t [boolean 0/1]\n",
            "     Show custom commandline option help (those specified in config file)\n",
            "     {{ default = 0 }}\n",
            " \n",
            " -logfile      \t <string>\n",
            "     set log file\n",
            "     {{ default = 'smile.log' }}\n",
            " \n",
            " -nologfile      \t [boolean 0/1]\n",
            "     don't write to a log file (e.g. on a read-only filesystem)\n",
            "     {{ default = 0 }}\n",
            " \n",
            " -noconsoleoutput      \t [boolean 0/1]\n",
            "     don't output any messages to the console (log file is not affected by this option)\n",
            "     {{ default = 0 }}\n",
            " \n",
            " -appendLogfile      \t [boolean 0/1]\n",
            "     append log messages to an existing logfile instead of overwriting the logfile at every start\n",
            "     {{ default = 0 }}\n",
            " \n"
          ],
          "name": "stderr"
        }
      ]
    },
    {
      "cell_type": "markdown",
      "metadata": {
        "id": "LH4WMHZ4SgK3"
      },
      "source": [
        "## 01 MFCC / PROSODY / EMOBASE"
      ]
    },
    {
      "cell_type": "markdown",
      "metadata": {
        "id": "xaraF3OaMef8"
      },
      "source": [
        "#### 01-1 MFCC EDA"
      ]
    },
    {
      "cell_type": "code",
      "metadata": {
        "id": "kBG08oia1JO8"
      },
      "source": [
        "!cp -r '$root_path/multimodal-speech-emotion-master/opensmile-config/'* .\n",
        "!mv *.conf '/content/opensmile-2.3.0/config/'\n",
        "!mv *.inc '/content/opensmile-2.3.0/config/shared/'"
      ],
      "execution_count": 16,
      "outputs": []
    },
    {
      "cell_type": "code",
      "metadata": {
        "id": "ed4XSAlLYYM-",
        "outputId": "d46f558e-de15-4093-f98e-278a97865f04",
        "colab": {
          "base_uri": "https://localhost:8080/",
          "height": 50
        }
      },
      "source": [
        "# MFCC E D A Z\n",
        "# OPENSMILE_CONFIG_PATH = '/home/dato/program/opensmile-2.3.0/config/modified_MFCC12_E_D_A_Z.conf'   # normalized \n",
        "# out_file = '../data/processed/IEMOCAP/MFCC12EDAZ.csv'\n",
        "    \n",
        "# MFCC E D A    \n",
        "OPENSMILE_CONFIG_PATH = '/content/opensmile-2.3.0/config/modified_MFCC12_E_D_A.conf'   \n",
        "#out_file = '/content/MFCC12EDA.csv'\n",
        "#out_file_mfcc = root_path + '/youtube_data/youtube_MFCC12EDA.csv'\n",
        "out_file_mfcc = root_path + '/TESS/TESS_MFCC12EDA.csv'\n",
        "    \n",
        "print OPENSMILE_CONFIG_PATH, \"\\n\", out_file_mfcc"
      ],
      "execution_count": 17,
      "outputs": [
        {
          "output_type": "stream",
          "text": [
            "/content/opensmile-2.3.0/config/modified_MFCC12_E_D_A.conf \n",
            "gdrive/My Drive/Macquarie_University/Units/COMP8240_ApplicationsOfDataScience/PROJECT/TESS/TESS_MFCC12EDA.csv\n"
          ],
          "name": "stdout"
        }
      ]
    },
    {
      "cell_type": "code",
      "metadata": {
        "id": "cxJr3dVMihX9"
      },
      "source": [
        "########################\n",
        "####    JAN CODE    ####\n",
        "########################\n",
        "import subprocess\n",
        "\n",
        "def extract_feature( list_in_file, out_file ) :\n",
        "    print out_file\n",
        "    \n",
        "    cnt = 0    \n",
        "    for in_file in list_in_file:        \n",
        "#         cmd = 'SMILExtract -C ' + OPENSMILE_CONFIG_PATH + ' -I ' + in_file + ' -O ' + out_file + ' -headercsv 0'  #MFCC12EDAZ, prosody\n",
        "#        cmd = 'SMILExtract -C ' + OPENSMILE_CONFIG_PATH + ' -I ' + in_file + ' -csvoutput ' + out_file + ' -headercsv 0'   # MFCC12EDA\n",
        "#         cmd = 'SMILExtract -C ' + OPENSMILE_CONFIG_PATH + ' -I ' + in_file + ' -csvoutput ' + out_file + ' -headercsv 0'   # emobase2010\n",
        "#        os.system(cmd)\n",
        "        subprocess.call(['/content/opensmile-2.3.0/SMILExtract', '-C', OPENSMILE_CONFIG_PATH, '-I', in_file, '-csvoutput', out_file, '-headercsv', '0'])\n",
        "        \n",
        "        cnt += 1\n",
        "        if cnt % 1000 == 0:\n",
        "            print str(cnt) + \" / \" + str( len(list_in_file) )\n",
        "            sys.stdout.flush()"
      ],
      "execution_count": 18,
      "outputs": []
    },
    {
      "cell_type": "code",
      "metadata": {
        "id": "_tFWJsHjfcV4",
        "outputId": "a9e607a3-b39b-4e9e-a1f0-6393bfe6ff07",
        "colab": {
          "base_uri": "https://localhost:8080/",
          "height": 201
        }
      },
      "source": [
        "# [schema] ID, transcriptions [csv]\n",
        "\n",
        "list_files = []\n",
        "#folder_list = ['DY', 'RO', 'RP']                       # youtube_data\n",
        "folder_list = ['angry', 'happy', 'neutral', 'sad']      # TESS\n",
        "TESS_person = ['OAF', 'YAF']                            # TESS\n",
        "\n",
        "#for x in xrange(5):                                                           ## IEMOCAP\n",
        "#    sess_name = 'Session' + str(x+1)                                          ## IEMOCAP\n",
        "#    path = root_path + '/data/' + sess_name + '/sentences/wav/'               ## IEMOCAP\n",
        "#for x in folder_list:                                                         ## YOUTUBE\n",
        "    #path = root_path + '/youtube_data/' + x + '/audio/'                       ## YOUTUBE\n",
        "for p in TESS_person:                                                          ## TESS\n",
        "  for x in folder_list:                                                        ## TESS\n",
        "    path = root_path + '/TESS/' + p + '_' + x + '/'                            ## TESS\n",
        "    file_search(path, list_files)\n",
        "    list_files = sorted(list_files)\n",
        "\n",
        "    #print sess_name + \", #sum files: \" + str(len(list_files))                 ## IEMOCAP\n",
        "    #print x + \", #sum files: \" + str(len(list_files))                         ## YOUTUBE \n",
        "    print p + '_' + x + \", #sum files: \" + str(len(list_files))                ## TESS\n",
        "    \n",
        "#extract_feature( list_files, out_file )\n",
        "\n",
        "# gets clean file (only .wav) -- ALYSSA CODE\n",
        "list_files_clean = [files for files in list_files if re.match('.*\\\\.wav\\\\Z(?ms)', files)]\n",
        "print \"TOTAL : \" + str(len(list_files_clean))\n",
        "extract_feature( list_files_clean, out_file_mfcc )"
      ],
      "execution_count": 19,
      "outputs": [
        {
          "output_type": "stream",
          "text": [
            "OAF_angry, #sum files: 200\n",
            "OAF_happy, #sum files: 400\n",
            "OAF_neutral, #sum files: 600\n",
            "OAF_sad, #sum files: 800\n",
            "YAF_angry, #sum files: 1000\n",
            "YAF_happy, #sum files: 1200\n",
            "YAF_neutral, #sum files: 1400\n",
            "YAF_sad, #sum files: 1600\n",
            "TOTAL : 1600\n",
            "gdrive/My Drive/Macquarie_University/Units/COMP8240_ApplicationsOfDataScience/PROJECT/TESS/TESS_MFCC12EDA.csv\n",
            "1000 / 1600\n"
          ],
          "name": "stdout"
        }
      ]
    },
    {
      "cell_type": "code",
      "metadata": {
        "id": "LU5tO4TGQokH",
        "outputId": "87e38626-3db6-4ccf-deaf-e7287425828f",
        "colab": {
          "base_uri": "https://localhost:8080/",
          "height": 67
        }
      },
      "source": [
        "with open(out_file_mfcc) as f:\n",
        "    data = f.readlines()\n",
        "print out_file_mfcc + '\\n' + str(len(data)) + '\\n' + str(np.shape(data))"
      ],
      "execution_count": 20,
      "outputs": [
        {
          "output_type": "stream",
          "text": [
            "gdrive/My Drive/Macquarie_University/Units/COMP8240_ApplicationsOfDataScience/PROJECT/TESS/TESS_MFCC12EDA.csv\n",
            "327630\n",
            "(327630,)\n"
          ],
          "name": "stdout"
        }
      ]
    },
    {
      "cell_type": "code",
      "metadata": {
        "id": "yHgHtfEjv0rn",
        "outputId": "b69b2487-2a33-4d3b-9c12-2e3d3fc33399",
        "colab": {
          "base_uri": "https://localhost:8080/",
          "height": 102
        }
      },
      "source": [
        "data[0]"
      ],
      "execution_count": 21,
      "outputs": [
        {
          "output_type": "execute_result",
          "data": {
            "application/vnd.google.colaboratory.intrinsic+json": {
              "type": "string"
            },
            "text/plain": [
              "\"'unknown';0.000000;-1.691787e+01;1.249068e+01;7.332986e+00;1.294612e+01;5.464911e+00;8.652012e+00;1.161660e+01;2.967120e+01;1.030943e+01;2.012290e+01;2.070980e+01;1.206308e+01;1.299919e+01;-7.175399e+00;7.624149e-03;2.039217e+00;-5.616606e+00;5.899154e-01;-3.473634e-01;-2.416322e+00;-2.111307e+00;5.589813e+00;5.580067e+00;2.092255e-01;1.344810e-01;4.510688e-01;-5.102881e-01;1.413741e-01;-1.034537e+00;-6.419005e-01;7.475538e-01;-3.807177e-01;1.446953e-01;2.309044e-01;-1.867497e+00;-1.831585e+00;3.336100e-02;2.634046e-01;7.653826e-02\\n\""
            ]
          },
          "metadata": {
            "tags": []
          },
          "execution_count": 21
        }
      ]
    },
    {
      "cell_type": "markdown",
      "metadata": {
        "id": "X-djfranMlvT"
      },
      "source": [
        "#### 01-2 PROSODY"
      ]
    },
    {
      "cell_type": "code",
      "metadata": {
        "id": "4SThz5R00_6-",
        "outputId": "97820ee5-c3e2-4e44-da05-7fc4b80bb6c0",
        "colab": {
          "base_uri": "https://localhost:8080/",
          "height": 50
        }
      },
      "source": [
        "from csv import writer\n",
        "# prosody\n",
        "OPENSMILE_CONFIG_PATH = '/content/opensmile-2.3.0/config/modified_prosodyShsViterbiLoudness.conf'\n",
        "#out_file = '/content/prosody.csv'\n",
        "#out_file_prosody = root_path + '/youtube_data/youtube_prosody.csv'\n",
        "out_file_prosody = root_path + '/TESS/TESS_prosody.csv'\n",
        "\n",
        "print OPENSMILE_CONFIG_PATH, \"\\n\", out_file_prosody  "
      ],
      "execution_count": 22,
      "outputs": [
        {
          "output_type": "stream",
          "text": [
            "/content/opensmile-2.3.0/config/modified_prosodyShsViterbiLoudness.conf \n",
            "gdrive/My Drive/Macquarie_University/Units/COMP8240_ApplicationsOfDataScience/PROJECT/TESS/TESS_prosody.csv\n"
          ],
          "name": "stdout"
        }
      ]
    },
    {
      "cell_type": "code",
      "metadata": {
        "id": "J5gV471K1tj4"
      },
      "source": [
        "def extract_feature( list_in_file, out_file ) :\n",
        "    print out_file\n",
        "    \n",
        "    cnt = 0    \n",
        "    for in_file in list_in_file:        \n",
        "#        cmd = 'SMILExtract -C ' + OPENSMILE_CONFIG_PATH + ' -I ' + in_file + ' -O ' + out_file + ' -headercsv 0'  #MFCC12EDAZ, prosody\n",
        "#         cmd = 'SMILExtract -C ' + OPENSMILE_CONFIG_PATH + ' -I ' + in_file + ' -csvoutput ' + out_file + ' -headercsv 0'   # MFCC12EDA\n",
        "#         cmd = 'SMILExtract -C ' + OPENSMILE_CONFIG_PATH + ' -I ' + in_file + ' -csvoutput ' + out_file + ' -headercsv 0'   # emobase2010\n",
        "#        os.system(cmd)\n",
        "        subprocess.call(['/content/opensmile-2.3.0/SMILExtract', '-C', OPENSMILE_CONFIG_PATH, '-I', in_file, '-O', out_file, '-headercsv', '0'])\n",
        "        \n",
        "        #with open(out_file, 'a') as counter:\n",
        "        #  csv_writer = writer(counter)\n",
        "        #  csv_writer.writerow(in_file)\n",
        "\n",
        "        cnt += 1\n",
        "        if cnt % 1000 == 0:\n",
        "            print str(cnt) + \" / \" + str( len(list_in_file) )\n",
        "            sys.stdout.flush()"
      ],
      "execution_count": 23,
      "outputs": []
    },
    {
      "cell_type": "code",
      "metadata": {
        "id": "t1RMCuK22IUh",
        "outputId": "b285eb96-ea4c-4fc8-d98b-b650af9dc455",
        "colab": {
          "base_uri": "https://localhost:8080/",
          "height": 201
        }
      },
      "source": [
        "# [schema] ID, transcriptions [csv]\n",
        "\n",
        "list_files = []\n",
        "#folder_list = ['DY', 'RO', 'RP']                       # youtube_data\n",
        "folder_list = ['angry', 'happy', 'neutral', 'sad']      # TESS\n",
        "TESS_person = ['OAF', 'YAF']                            # TESS\n",
        "\n",
        "#for x in xrange(5):                                                           ## IEMOCAP\n",
        "#    sess_name = 'Session' + str(x+1)                                          ## IEMOCAP\n",
        "#    path = root_path + '/data/' + sess_name + '/sentences/wav/'               ## IEMOCAP\n",
        "#for x in folder_list:                                                         ## YOUTUBE\n",
        "    #path = root_path + '/youtube_data/' + x + '/audio/'                       ## YOUTUBE\n",
        "for p in TESS_person:                                                          ## TESS\n",
        "  for x in folder_list:                                                        ## TESS\n",
        "    path = root_path + '/TESS/' + p + '_' + x + '/'                            ## TESS\n",
        "    file_search(path, list_files)\n",
        "    list_files = sorted(list_files)\n",
        "\n",
        "    #print sess_name + \", #sum files: \" + str(len(list_files))                 ## IEMOCAP\n",
        "    #print x + \", #sum files: \" + str(len(list_files))                         ## YOUTUBE \n",
        "    print p + '_' + x + \", #sum files: \" + str(len(list_files))                ## TESS\n",
        "    \n",
        "#extract_feature( list_files, out_file )\n",
        "\n",
        "# gets clean file (only .wav) -- ALYSSA CODE\n",
        "list_files_clean = [files for files in list_files if re.match('.*\\\\.wav\\\\Z(?ms)', files)]\n",
        "print \"TOTAL : \" + str(len(list_files_clean))\n",
        "extract_feature( list_files_clean, out_file_prosody )"
      ],
      "execution_count": 24,
      "outputs": [
        {
          "output_type": "stream",
          "text": [
            "OAF_angry, #sum files: 200\n",
            "OAF_happy, #sum files: 400\n",
            "OAF_neutral, #sum files: 600\n",
            "OAF_sad, #sum files: 800\n",
            "YAF_angry, #sum files: 1000\n",
            "YAF_happy, #sum files: 1200\n",
            "YAF_neutral, #sum files: 1400\n",
            "YAF_sad, #sum files: 1600\n",
            "TOTAL : 1600\n",
            "gdrive/My Drive/Macquarie_University/Units/COMP8240_ApplicationsOfDataScience/PROJECT/TESS/TESS_prosody.csv\n",
            "1000 / 1600\n"
          ],
          "name": "stdout"
        }
      ]
    },
    {
      "cell_type": "code",
      "metadata": {
        "id": "Q6fUB6n-tWMa",
        "outputId": "f58260d4-5976-4b1b-a3cf-6918bea4a21c",
        "colab": {
          "base_uri": "https://localhost:8080/",
          "height": 67
        }
      },
      "source": [
        "with open(out_file_prosody) as f:\n",
        "    data = f.readlines()\n",
        "print out_file_prosody + '\\n' + str(len(data)) + '\\n' + str(np.shape(data))"
      ],
      "execution_count": 25,
      "outputs": [
        {
          "output_type": "stream",
          "text": [
            "gdrive/My Drive/Macquarie_University/Units/COMP8240_ApplicationsOfDataScience/PROJECT/TESS/TESS_prosody.csv\n",
            "1641\n",
            "(1641,)\n"
          ],
          "name": "stdout"
        }
      ]
    },
    {
      "cell_type": "markdown",
      "metadata": {
        "id": "tqj0jBPiQKiQ"
      },
      "source": [
        "#### 01-3 EMOBASE"
      ]
    },
    {
      "cell_type": "code",
      "metadata": {
        "id": "4S0l1aAsPl2c",
        "outputId": "a0abdf66-edda-4507-abd9-64b774a47f02",
        "colab": {
          "base_uri": "https://localhost:8080/",
          "height": 50
        }
      },
      "source": [
        "# emobase2010\n",
        "OPENSMILE_CONFIG_PATH = '/content/opensmile-2.3.0/config/modified_emobase2010.conf'    \n",
        "#out_file = '/content/emobase2010.csv'\n",
        "#out_file_emobase = root_path + '/youtube_data/youtube_emobase2010.csv'\n",
        "out_file_emobase = root_path + '/TESS/TESS_emobase2010.csv'\n",
        "\n",
        "print OPENSMILE_CONFIG_PATH, \"\\n\", out_file_emobase"
      ],
      "execution_count": 26,
      "outputs": [
        {
          "output_type": "stream",
          "text": [
            "/content/opensmile-2.3.0/config/modified_emobase2010.conf \n",
            "gdrive/My Drive/Macquarie_University/Units/COMP8240_ApplicationsOfDataScience/PROJECT/TESS/TESS_emobase2010.csv\n"
          ],
          "name": "stdout"
        }
      ]
    },
    {
      "cell_type": "code",
      "metadata": {
        "id": "nkkKIHYKPyT1"
      },
      "source": [
        "def extract_feature( list_in_file, out_file ) :\n",
        "    print out_file\n",
        "    \n",
        "    cnt = 0    \n",
        "    for in_file in list_in_file:        \n",
        "#         cmd = 'SMILExtract -C ' + OPENSMILE_CONFIG_PATH + ' -I ' + in_file + ' -O ' + out_file + ' -headercsv 0'  #MFCC12EDAZ, prosody\n",
        "#         cmd = 'SMILExtract -C ' + OPENSMILE_CONFIG_PATH + ' -I ' + in_file + ' -csvoutput ' + out_file + ' -headercsv 0'   # MFCC12EDA\n",
        "#        cmd = 'SMILExtract -C ' + OPENSMILE_CONFIG_PATH + ' -I ' + in_file + ' -csvoutput ' + out_file + ' -headercsv 0'   # emobase2010\n",
        "#        os.system(cmd)\n",
        "        subprocess.call(['/content/opensmile-2.3.0/SMILExtract', '-C', OPENSMILE_CONFIG_PATH, '-I', in_file, '-csvoutput', out_file, '-headercsv', '0'])\n",
        "        \n",
        "        cnt += 1\n",
        "        if cnt % 1000 == 0:\n",
        "            print str(cnt) + \" / \" + str( len(list_in_file) )\n",
        "            sys.stdout.flush()"
      ],
      "execution_count": 27,
      "outputs": []
    },
    {
      "cell_type": "code",
      "metadata": {
        "id": "mF74huBfP6If",
        "outputId": "0a8bb809-da72-46d6-b9f7-84ff4279e249",
        "colab": {
          "base_uri": "https://localhost:8080/",
          "height": 201
        }
      },
      "source": [
        "# [schema] ID, transcriptions [csv]\n",
        "\n",
        "list_files = []\n",
        "#folder_list = ['DY', 'RO', 'RP']                       # youtube_data\n",
        "folder_list = ['angry', 'happy', 'neutral', 'sad']      # TESS\n",
        "TESS_person = ['OAF', 'YAF']                            # TESS\n",
        "\n",
        "#for x in xrange(5):                                                           ## IEMOCAP\n",
        "#    sess_name = 'Session' + str(x+1)                                          ## IEMOCAP\n",
        "#    path = root_path + '/data/' + sess_name + '/sentences/wav/'               ## IEMOCAP\n",
        "#for x in folder_list:                                                         ## YOUTUBE\n",
        "    #path = root_path + '/youtube_data/' + x + '/audio/'                       ## YOUTUBE\n",
        "for p in TESS_person:                                                          ## TESS\n",
        "  for x in folder_list:                                                        ## TESS\n",
        "    path = root_path + '/TESS/' + p + '_' + x + '/'                            ## TESS\n",
        "    file_search(path, list_files)\n",
        "    list_files = sorted(list_files)\n",
        "\n",
        "    #print sess_name + \", #sum files: \" + str(len(list_files))                 ## IEMOCAP\n",
        "    #print x + \", #sum files: \" + str(len(list_files))                         ## YOUTUBE \n",
        "    print p + '_' + x + \", #sum files: \" + str(len(list_files))                ## TESS\n",
        "    \n",
        "#extract_feature( list_files, out_file )\n",
        "\n",
        "# gets clean file (only .wav) -- ALYSSA CODE\n",
        "list_files_clean = [files for files in list_files if re.match('.*\\\\.wav\\\\Z(?ms)', files)]\n",
        "print \"TOTAL : \" + str(len(list_files_clean))\n",
        "extract_feature( list_files_clean, out_file_emobase )"
      ],
      "execution_count": 28,
      "outputs": [
        {
          "output_type": "stream",
          "text": [
            "OAF_angry, #sum files: 200\n",
            "OAF_happy, #sum files: 400\n",
            "OAF_neutral, #sum files: 600\n",
            "OAF_sad, #sum files: 800\n",
            "YAF_angry, #sum files: 1000\n",
            "YAF_happy, #sum files: 1200\n",
            "YAF_neutral, #sum files: 1400\n",
            "YAF_sad, #sum files: 1600\n",
            "TOTAL : 1600\n",
            "gdrive/My Drive/Macquarie_University/Units/COMP8240_ApplicationsOfDataScience/PROJECT/TESS/TESS_emobase2010.csv\n",
            "1000 / 1600\n"
          ],
          "name": "stdout"
        }
      ]
    },
    {
      "cell_type": "code",
      "metadata": {
        "id": "wsH87R7ht3VY",
        "outputId": "f6385c74-9a25-4975-e405-806d24a390bf",
        "colab": {
          "base_uri": "https://localhost:8080/",
          "height": 67
        }
      },
      "source": [
        "with open(out_file_emobase) as f:\n",
        "    data = f.readlines()\n",
        "print out_file_emobase + '\\n' + str(len(data)) + '\\n' + str(np.shape(data))"
      ],
      "execution_count": 29,
      "outputs": [
        {
          "output_type": "stream",
          "text": [
            "gdrive/My Drive/Macquarie_University/Units/COMP8240_ApplicationsOfDataScience/PROJECT/TESS/TESS_emobase2010.csv\n",
            "1599\n",
            "(1599,)\n"
          ],
          "name": "stdout"
        }
      ]
    },
    {
      "cell_type": "markdown",
      "metadata": {
        "id": "x-yx4TW1StdC"
      },
      "source": [
        "## 02 VERIFY"
      ]
    },
    {
      "cell_type": "code",
      "metadata": {
        "id": "ctw74qSMnQOG"
      },
      "source": [
        "import csv\n",
        "from file_util import *\n",
        "\n",
        "import re"
      ],
      "execution_count": 30,
      "outputs": []
    },
    {
      "cell_type": "code",
      "metadata": {
        "id": "4u_glDsDnVpd"
      },
      "source": [
        "#in_file = '/content/gdrive/My Drive/Macquarie_University/Units/COMP8240_ApplicationsOfDataScience/PROJECT/processed/YouTube/label.csv'\n",
        "in_file = root_path + '/processed/YouTube/label.csv'\n",
        "label = []                            # filenames + categories\n",
        "with open( in_file, 'r') as f:\n",
        "    csv_reader = csv.reader( f )\n",
        "    label = [x for x in csv_reader]\n",
        "    \n",
        "label_id = [ x[0] for x in label]     # filenames"
      ],
      "execution_count": null,
      "outputs": []
    },
    {
      "cell_type": "code",
      "metadata": {
        "id": "n-zbazL7nXjv",
        "outputId": "90c3e930-d4b8-4e89-b993-546bef8602db",
        "colab": {
          "base_uri": "https://localhost:8080/",
          "height": 67
        }
      },
      "source": [
        "list_files = []\n",
        "\n",
        "#for x in xrange(5):\n",
        "    #sess_name = 'Session' + str(x+1)\n",
        "    #path = '/content/gdrive/My Drive/Macquarie_University/Units/COMP8240_ApplicationsOfDataScience/PROJECT/data/' + sess_name + '/sentences/wav/'\n",
        "folder_list = ['DY', 'RO', 'RP']\n",
        "\n",
        "for x in folder_list:\n",
        "    path = root_path + '/youtube_data/' + x + '/audio/'\n",
        "    file_search(path, list_files)\n",
        "    list_files = sorted(list_files)\n",
        "\n",
        "    print sess_name + \", #sum files: \" + str(len(list_files))\n",
        "    \n",
        "#ids = [ x.split('/')[-1].split('.')[0] for x in list_files ]"
      ],
      "execution_count": null,
      "outputs": [
        {
          "output_type": "stream",
          "text": [
            "Session1, #sum files: 24\n",
            "Session1, #sum files: 213\n",
            "Session1, #sum files: 285\n"
          ],
          "name": "stdout"
        }
      ]
    },
    {
      "cell_type": "code",
      "metadata": {
        "id": "7dIw1oLuNuMe"
      },
      "source": [
        "# gets clean file (only .wav) -- ALYSSA CODE\n",
        "list_files_clean = [files for files in list_files if re.match('.*\\\\.wav\\\\Z(?ms)', files)]\n",
        "ids = [ x.split('/')[-1].split('.')[0] for x in list_files_clean ]"
      ],
      "execution_count": null,
      "outputs": []
    },
    {
      "cell_type": "code",
      "metadata": {
        "id": "z9J76HcEnaur",
        "outputId": "c0c4423b-6e17-4658-d609-89eff5ed2e8f",
        "colab": {
          "base_uri": "https://localhost:8080/",
          "height": 33
        }
      },
      "source": [
        "for l, t in zip(label_id, ids):\n",
        "    if l != t:\n",
        "        print ' ERROR ' + l + ' ' + t "
      ],
      "execution_count": null,
      "outputs": [
        {
          "output_type": "stream",
          "text": [
            " ERROR ﻿DY001 DY001\n"
          ],
          "name": "stdout"
        }
      ]
    },
    {
      "cell_type": "markdown",
      "metadata": {
        "id": "_5SoDjUzRoNv"
      },
      "source": [
        "### DUPLICATE CHECKER\n",
        "  If ERROR was encountered, check duplicates."
      ]
    },
    {
      "cell_type": "code",
      "metadata": {
        "id": "zOYzTaUIrMqP",
        "outputId": "0d6b2cb9-f6aa-4397-ad8c-5c589ef550f8",
        "colab": {
          "base_uri": "https://localhost:8080/",
          "height": 84
        }
      },
      "source": [
        "for t in ids:\n",
        "  if t in label_id:\n",
        "    ;\n",
        "  else:\n",
        "    print t\n",
        "print \"Number of files fetched: \" + str(len(ids)) + \" \\n Number of labels: \" + str(len(label_id)) + ' \\n Remove duplicate: ' + str(len(set(ids)))"
      ],
      "execution_count": null,
      "outputs": [
        {
          "output_type": "stream",
          "text": [
            "DY001\n",
            "Number of files fetched: 285 \n",
            " Number of labels: 285 \n",
            " Remove duplicate: 285\n"
          ],
          "name": "stdout"
        }
      ]
    },
    {
      "cell_type": "code",
      "metadata": {
        "id": "CotXa1WpLw4y"
      },
      "source": [
        "import collections\n",
        "\n",
        "# output filenames with duplicate\n",
        "print [id for id, count in collections.Counter(ids).items() if count > 1]"
      ],
      "execution_count": null,
      "outputs": []
    },
    {
      "cell_type": "markdown",
      "metadata": {
        "id": "4kaBYJduexst"
      },
      "source": [
        "## 03 A MFCC post-process\n",
        "- each row has MFCC feature information (41 dimesion) * audio length --> can be different according to its length\n",
        "- [0]frameIndex; [1]frameTime; were removed from processed feature\n",
        "- (10039, 750, 39)"
      ]
    },
    {
      "cell_type": "code",
      "metadata": {
        "id": "05QuRndtexsv"
      },
      "source": [
        "import csv\n",
        "import cPickle\n",
        "import numpy as np"
      ],
      "execution_count": 31,
      "outputs": []
    },
    {
      "cell_type": "markdown",
      "metadata": {
        "id": "oXU-bh-7exs2"
      },
      "source": [
        "#### 03-A load MFCC feature"
      ]
    },
    {
      "cell_type": "code",
      "metadata": {
        "id": "VSFhknaJexs4"
      },
      "source": [
        "lines = []\n",
        "# with open('../data/processed/IEMOCAP/MFCC12EDAZ.csv') as f:\n",
        "#with open('/content/MFCC12EDA.csv') as f:\n",
        "#with open(root_path + '/youtube_data/youtube_MFCC12EDA.csv') as f:\n",
        "with open(root_path + '/TESS/TESS_MFCC12EDA.csv') as f:\n",
        "    csv_reader = csv.reader(f)\n",
        "    lines = [x for x in csv_reader]"
      ],
      "execution_count": 32,
      "outputs": []
    },
    {
      "cell_type": "code",
      "metadata": {
        "id": "n8ptN6_KTGZU",
        "outputId": "50068e13-a1ea-4ee9-f51f-120597408ac0",
        "colab": {
          "base_uri": "https://localhost:8080/",
          "height": 33
        }
      },
      "source": [
        "len(lines)"
      ],
      "execution_count": 33,
      "outputs": [
        {
          "output_type": "execute_result",
          "data": {
            "text/plain": [
              "327630"
            ]
          },
          "metadata": {
            "tags": []
          },
          "execution_count": 33
        }
      ]
    },
    {
      "cell_type": "markdown",
      "metadata": {
        "id": "aRwnb1fvextQ"
      },
      "source": [
        "#### 03-B MFCC feature -> float value"
      ]
    },
    {
      "cell_type": "code",
      "metadata": {
        "id": "HXypCH9bTcx_"
      },
      "source": [
        "lines = [x[0] for x in lines]"
      ],
      "execution_count": 34,
      "outputs": []
    },
    {
      "cell_type": "code",
      "metadata": {
        "id": "dLdpzPJrTdX6"
      },
      "source": [
        "lines = [x.split(';') for x in lines]"
      ],
      "execution_count": 35,
      "outputs": []
    },
    {
      "cell_type": "code",
      "metadata": {
        "id": "10WROlKJTg6r"
      },
      "source": [
        "float_lines = [ [float(i) for i in x[1:]] for x in lines ]   # do not care the first element"
      ],
      "execution_count": 36,
      "outputs": []
    },
    {
      "cell_type": "code",
      "metadata": {
        "id": "zVwfTRh3Thmu"
      },
      "source": [
        "# mark the index of each chunk \n",
        "\n",
        "chunk_index = []\n",
        "for i, line in enumerate(float_lines):\n",
        "    if line[0] == 0:\n",
        "        chunk_index.append(i)"
      ],
      "execution_count": 37,
      "outputs": []
    },
    {
      "cell_type": "code",
      "metadata": {
        "id": "5bBIlbiCTmuH"
      },
      "source": [
        "no_index_float_linex = [ x[2:] for x in lines ]   # remove first two element (sequence index)"
      ],
      "execution_count": 38,
      "outputs": []
    },
    {
      "cell_type": "code",
      "metadata": {
        "id": "m7fL7kHhTohc"
      },
      "source": [
        "# merge sequence \n",
        "\n",
        "list_MFCC = []\n",
        "\n",
        "for i in xrange( len(chunk_index) ):\n",
        "    \n",
        "    if i == len(chunk_index) -1:        # last case\n",
        "        list_MFCC.append( no_index_float_linex[ chunk_index[i]: ] )\n",
        "    else :\n",
        "        list_MFCC.append( no_index_float_linex[ chunk_index[i]:chunk_index[i+1] ] )"
      ],
      "execution_count": 39,
      "outputs": []
    },
    {
      "cell_type": "markdown",
      "metadata": {
        "id": "QLF8AEk3exub"
      },
      "source": [
        "#### 03-C numpy save  7.5s cut"
      ]
    },
    {
      "cell_type": "code",
      "metadata": {
        "id": "WeXjd7TqT4yG",
        "outputId": "3ed60c50-8d45-4a2f-fd87-b3a006deed0e",
        "colab": {
          "base_uri": "https://localhost:8080/",
          "height": 84
        }
      },
      "source": [
        "stat = [ len(x) for x in list_MFCC ]\n",
        "print np.mean(stat)\n",
        "print np.std(stat)\n",
        "print np.max(stat)\n",
        "print np.min(stat)"
      ],
      "execution_count": 40,
      "outputs": [
        {
          "output_type": "stream",
          "text": [
            "204.8968105065666\n",
            "28.599015251916484\n",
            "297\n",
            "127\n"
          ],
          "name": "stdout"
        }
      ]
    },
    {
      "cell_type": "code",
      "metadata": {
        "id": "6d9z66HaJU1p"
      },
      "source": [
        "# np.save('../data/processed/IEMOCAP/processed_MFCC12EDAZ_sequenceN.npy', np.asarray(stat))\n",
        "#np.save('/content/processed_MFCC12EDA_sequenceN.npy', np.asarray(stat))\n",
        "#np.save(root_path + '/youtube_data/youtube_processed_MFCC12EDA_sequenceN.npy', np.asarray(stat))\n",
        "np.save(root_path + '/TESS/TESS_processed_MFCC12EDA_sequenceN.npy', np.asarray(stat))"
      ],
      "execution_count": 41,
      "outputs": []
    },
    {
      "cell_type": "code",
      "metadata": {
        "id": "0QjWRLyyJXIz"
      },
      "source": [
        "# with open('../data/processed/IEMOCAP/processed_MFCC12EDAZ_sequenceN.txt', 'w') as f:\n",
        "#with open('/content/processed_MFCC12EDA_sequenceN.txt', 'w') as f:\n",
        "#with open(root_path + '/youtube_data/youtube_processed_MFCC12EDA_sequenceN.txt', 'w') as f:\n",
        "with open(root_path + '/TESS/TESS_processed_MFCC12EDA_sequenceN.txt', 'w') as f:\n",
        "    for data in stat:\n",
        "        f.write( str(data) + '\\n' )"
      ],
      "execution_count": 42,
      "outputs": []
    },
    {
      "cell_type": "code",
      "metadata": {
        "id": "z0NBSBiqJZer",
        "outputId": "c0558ffe-7369-4ec9-f092-2d4c6c0f2a8a",
        "colab": {
          "base_uri": "https://localhost:8080/",
          "height": 33
        }
      },
      "source": [
        "#np_MFCC = np.zeros( [10039, 750, 39], dtype=np.float)\n",
        "#np_MFCC = np.zeros( [285, 750, 39], dtype=np.float)\n",
        "np_MFCC = np.zeros( [1600, 750, 39], dtype=np.float)\n",
        "np.shape(np_MFCC)"
      ],
      "execution_count": 43,
      "outputs": [
        {
          "output_type": "execute_result",
          "data": {
            "text/plain": [
              "(1600, 750, 39)"
            ]
          },
          "metadata": {
            "tags": []
          },
          "execution_count": 43
        }
      ]
    },
    {
      "cell_type": "code",
      "metadata": {
        "id": "BKZG1crdJcGG"
      },
      "source": [
        "for i in xrange( len(list_MFCC) ):\n",
        "    \n",
        "    if len( list_MFCC[i] ) > 750:\n",
        "        np_MFCC[i][:] = list_MFCC[i][:750]\n",
        "    else:\n",
        "        np_MFCC[i][:len(list_MFCC[i])] = list_MFCC[i][:]"
      ],
      "execution_count": 44,
      "outputs": []
    },
    {
      "cell_type": "code",
      "metadata": {
        "id": "Sfjm8JKHJeTy"
      },
      "source": [
        "# np.save('../data/processed/IEMOCAP/processed_MFCC12EDAZ.npy', np_MFCC)\n",
        "#np.save(root_path + '/youtube_data/youtube_processed_MFCC12EDA.npy', np_MFCC)\n",
        "np.save(root_path + '/TESS/TESS_processed_MFCC12EDA.npy', np_MFCC)"
      ],
      "execution_count": 45,
      "outputs": []
    },
    {
      "cell_type": "markdown",
      "metadata": {
        "id": "NHitkFgQJ_Hl"
      },
      "source": [
        "## 04 PROSODY POST PROCESS"
      ]
    },
    {
      "cell_type": "markdown",
      "metadata": {
        "id": "N06J3KDtexvZ"
      },
      "source": [
        "#### 04-A load prosody feature  &  conver to np format"
      ]
    },
    {
      "cell_type": "code",
      "metadata": {
        "id": "P74XqFcFJjSI",
        "outputId": "795ee43e-6a47-4a01-dd56-f1fa0294eb8e",
        "colab": {
          "base_uri": "https://localhost:8080/",
          "height": 33
        }
      },
      "source": [
        "lines = []\n",
        "#with open('/content/prosody.csv') as f:\n",
        "#with open(root_path + '/youtube_data/youtube_prosody.csv') as f:\n",
        "with open(root_path + '/TESS/TESS_prosody.csv') as f:\n",
        "    csv_reader = csv.reader(f)\n",
        "    lines = [x for x in csv_reader][42:]\n",
        "\n",
        "len(lines)\n",
        "np.shape(lines)"
      ],
      "execution_count": 46,
      "outputs": [
        {
          "output_type": "execute_result",
          "data": {
            "text/plain": [
              "(1599, 37)"
            ]
          },
          "metadata": {
            "tags": []
          },
          "execution_count": 46
        }
      ]
    },
    {
      "cell_type": "code",
      "metadata": {
        "id": "xhKIxEE-KQP9",
        "outputId": "4517c66a-bdd3-416e-c5f2-62e3f7e6877a",
        "colab": {
          "base_uri": "https://localhost:8080/",
          "height": 33
        }
      },
      "source": [
        "#np_prosody = np.zeros( [10039, 35], dtype=np.float)\n",
        "#np_prosody = np.zeros( [285, 35], dtype=np.float)\n",
        "np_prosody = np.zeros( [1599, 35], dtype=np.float)\n",
        "np.shape(np_prosody)"
      ],
      "execution_count": 49,
      "outputs": [
        {
          "output_type": "execute_result",
          "data": {
            "text/plain": [
              "(1599, 35)"
            ]
          },
          "metadata": {
            "tags": []
          },
          "execution_count": 49
        }
      ]
    },
    {
      "cell_type": "code",
      "metadata": {
        "id": "kM_Sx_KLKSlj"
      },
      "source": [
        "for i in xrange( len(np_prosody) ):\n",
        "  np_prosody[i] = lines[i][1:-1]    "
      ],
      "execution_count": 50,
      "outputs": []
    },
    {
      "cell_type": "markdown",
      "metadata": {
        "id": "-pclIvk2KYtS"
      },
      "source": [
        "#### 04-B numpy save"
      ]
    },
    {
      "cell_type": "code",
      "metadata": {
        "id": "sgdevac4KgyR"
      },
      "source": [
        "#np.save('/content/processed_prosody.npy', np_prosody)\n",
        "#np.save(root_path + '/youtube_data/youtube_processed_prosody.npy', np_prosody)\n",
        "np.save(root_path + '/TESS/TESS_processed_prosody.npy', np_prosody)"
      ],
      "execution_count": 51,
      "outputs": []
    },
    {
      "cell_type": "markdown",
      "metadata": {
        "id": "Zg3VXbLjKlCF"
      },
      "source": [
        "## 05 EMOBASE"
      ]
    },
    {
      "cell_type": "markdown",
      "metadata": {
        "id": "iOwdlBnTK57_"
      },
      "source": [
        "#### 05-A load emobase2010 feature & conver to np format"
      ]
    },
    {
      "cell_type": "code",
      "metadata": {
        "id": "_6miauOxKhyT",
        "outputId": "495673e2-79e5-43e0-fd98-91bb70a56e33",
        "colab": {
          "base_uri": "https://localhost:8080/",
          "height": 33
        }
      },
      "source": [
        "lines = []\n",
        "#with open('/content/emobase2010.csv') as f:\n",
        "#with open(root_path + '/youtube_data/youtube_emobase2010.csv') as f:\n",
        "with open(root_path + '/TESS/TESS_emobase2010.csv') as f:\n",
        "    csv_reader = csv.reader(f)\n",
        "    lines = [x for x in csv_reader]\n",
        "\n",
        "lines = [x[0].split(';') for x in lines]\n",
        "lines = [ [float(t) for t in x] for x in lines]\n",
        "len(lines)"
      ],
      "execution_count": 52,
      "outputs": [
        {
          "output_type": "execute_result",
          "data": {
            "text/plain": [
              "1599"
            ]
          },
          "metadata": {
            "tags": []
          },
          "execution_count": 52
        }
      ]
    },
    {
      "cell_type": "code",
      "metadata": {
        "id": "EtR7McytK9aJ",
        "outputId": "b422a35d-6555-481b-a948-b5b5d9d6ed63",
        "colab": {
          "base_uri": "https://localhost:8080/",
          "height": 33
        }
      },
      "source": [
        "#np_emobase = np.zeros( [285, 1582], dtype=np.float)\n",
        "np_emobase = np.zeros( [1599, 1582], dtype=np.float)\n",
        "np.shape(np_emobase)"
      ],
      "execution_count": 53,
      "outputs": [
        {
          "output_type": "execute_result",
          "data": {
            "text/plain": [
              "(1599, 1582)"
            ]
          },
          "metadata": {
            "tags": []
          },
          "execution_count": 53
        }
      ]
    },
    {
      "cell_type": "code",
      "metadata": {
        "id": "wGBz_Q5UK-_9"
      },
      "source": [
        "for i in xrange( len(np_emobase) ):\n",
        "    np_emobase[i] = lines[i][1:]    "
      ],
      "execution_count": 54,
      "outputs": []
    },
    {
      "cell_type": "markdown",
      "metadata": {
        "id": "tMW3vxXoK_1d"
      },
      "source": [
        "#### 04-B numpy save"
      ]
    },
    {
      "cell_type": "code",
      "metadata": {
        "id": "l2AHmznhLCm6"
      },
      "source": [
        "#np.save('/content/processed_emobase2010.npy', np_emobase)\n",
        "#np.save(root_path + '/youtube_data/youtube_processed_emobase2010.npy', np_emobase)\n",
        "np.save(root_path + '/TESS/TESS_processed_emobase2010.npy', np_emobase)"
      ],
      "execution_count": 55,
      "outputs": []
    },
    {
      "cell_type": "code",
      "metadata": {
        "id": "LBa8Ff0RLF7W",
        "outputId": "14530a9f-ae35-4f5f-a37e-d8acf1270b68",
        "colab": {
          "base_uri": "https://localhost:8080/",
          "height": 33
        }
      },
      "source": [
        "#tmp = np.load( '/content/processed_emobase2010.npy')\n",
        "#tmp = np.load( root_path + '/youtube_data/youtube_processed_emobase2010.npy')\n",
        "tmp = np.load( root_path + '/TESS/TESS_processed_emobase2010.npy')\n",
        "np.shape(tmp)"
      ],
      "execution_count": 56,
      "outputs": [
        {
          "output_type": "execute_result",
          "data": {
            "text/plain": [
              "(1599, 1582)"
            ]
          },
          "metadata": {
            "tags": []
          },
          "execution_count": 56
        }
      ]
    },
    {
      "cell_type": "markdown",
      "metadata": {
        "id": "cPSCRKEFHjpw"
      },
      "source": [
        "## 06 COPY PROCESSED FILES TO PROCESSED DIR"
      ]
    },
    {
      "cell_type": "code",
      "metadata": {
        "id": "K3bed_ZsHib3"
      },
      "source": [
        "#!cp '$root_path/youtube_data/'*.npy '$root_path/processed/YouTube/'\n",
        "#!cp '$root_path/youtube_data/'*.txt '$root_path/processed/YouTube/'\n",
        "#!cp '$root_path/youtube_data/'*.csv '$root_path/processed/YouTube/'\n",
        "\n",
        "!cp '$root_path/TESS/'*.npy '$root_path/processed/TESS/'\n",
        "!cp '$root_path/TESS/'*.txt '$root_path/processed/TESS/'\n",
        "!cp '$root_path/TESS/'*.csv '$root_path/processed/TESS/'"
      ],
      "execution_count": 57,
      "outputs": []
    }
  ]
}