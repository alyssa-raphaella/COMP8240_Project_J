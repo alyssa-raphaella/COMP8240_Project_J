{
  "nbformat": 4,
  "nbformat_minor": 0,
  "metadata": {
    "colab": {
      "name": "OS_IEMOCAP_02_to_four_category_.ipynb",
      "provenance": [],
      "collapsed_sections": [],
      "toc_visible": true
    },
    "kernelspec": {
      "name": "python2",
      "display_name": "Python 2"
    },
    "accelerator": "GPU"
  },
  "cells": [
    {
      "cell_type": "markdown",
      "metadata": {
        "id": "uIRJ0D3mApOF"
      },
      "source": [
        "# YOUTUBE DATA"
      ]
    },
    {
      "cell_type": "markdown",
      "metadata": {
        "id": "_tXIZ9elApOI"
      },
      "source": [
        "## extract data --> four category\n",
        "### remove other category data\n",
        "- angry : 0        ang(1103)\n",
        "- happy : 1       exc(1041), hap(595)\n",
        "- sad : 2          sad(1084)   \n",
        "- neutral : 3     neu(1708)"
      ]
    },
    {
      "cell_type": "code",
      "metadata": {
        "id": "4UTKQD6fApOK",
        "outputId": "be83766b-4d7c-42bf-f1ac-30dd5f97833f",
        "colab": {
          "base_uri": "https://localhost:8080/",
          "height": 33
        }
      },
      "source": [
        "from google.colab import drive\n",
        "from google.colab import files\n",
        "\n",
        "drive.mount('/content/gdrive', force_remount=True)\n",
        "root_path = 'gdrive/My Drive/Macquarie_University/Units/COMP8240_ApplicationsOfDataScience/PROJECT'"
      ],
      "execution_count": null,
      "outputs": [
        {
          "output_type": "stream",
          "text": [
            "Mounted at /content/gdrive\n"
          ],
          "name": "stdout"
        }
      ]
    },
    {
      "cell_type": "code",
      "metadata": {
        "id": "RW3F5WVDApOZ"
      },
      "source": [
        "target_path = 'four_category'\n",
        "youtube_path = root_path + '/processed/YouTube'"
      ],
      "execution_count": null,
      "outputs": []
    },
    {
      "cell_type": "code",
      "metadata": {
        "id": "EJSkdo6XApOg"
      },
      "source": [
        "full_label = []\n",
        "in_plabel = youtube_path + '/processed_label.txt'\n",
        "with open(in_plabel) as f:\n",
        "    full_label = f.readlines()\n",
        "full_label = [ x.strip() for x in full_label]    "
      ],
      "execution_count": null,
      "outputs": []
    },
    {
      "cell_type": "markdown",
      "metadata": {
        "id": "zo1vx3TZApOk"
      },
      "source": [
        "### 01 ids"
      ]
    },
    {
      "cell_type": "code",
      "metadata": {
        "id": "SxT-tF0kApOl"
      },
      "source": [
        "import csv\n",
        "tmp_ids = []\n",
        "in_label = youtube_path + '/label.csv'\n",
        "\n",
        "with open(in_label) as f:\n",
        "    csv_reader = csv.reader(f)\n",
        "    tmp_ids = [x for x in csv_reader]\n",
        "    tmp_ids = [x[0] for x in tmp_ids]"
      ],
      "execution_count": null,
      "outputs": []
    },
    {
      "cell_type": "code",
      "metadata": {
        "id": "f7oS8_I3ApOo"
      },
      "source": [
        "out_order = youtube_path + '/ordered_ids.txt'\n",
        "with open(out_order, 'w') as f:\n",
        "    for _id in tmp_ids:\n",
        "        f.write(_id+'\\n')"
      ],
      "execution_count": null,
      "outputs": []
    },
    {
      "cell_type": "code",
      "metadata": {
        "id": "CydYSZEDApOr"
      },
      "source": [
        "data = []\n",
        "with open(out_order) as f:\n",
        "    data = f.readlines()"
      ],
      "execution_count": null,
      "outputs": []
    },
    {
      "cell_type": "code",
      "metadata": {
        "id": "NO7gbTvlApOt"
      },
      "source": [
        "!cp '$root_path/multimodal-speech-emotion-master/util/file_util.py' ."
      ],
      "execution_count": null,
      "outputs": []
    },
    {
      "cell_type": "code",
      "metadata": {
        "id": "isE5P2ZPApOv"
      },
      "source": [
        "from file_util import *\n",
        "create_folder(youtube_path + '/' + target_path)"
      ],
      "execution_count": null,
      "outputs": []
    },
    {
      "cell_type": "code",
      "metadata": {
        "id": "BgHZVf7AApO0"
      },
      "source": [
        "with open(youtube_path + '/' + target_path + '/FC_ordered_ids.txt', 'w') as f:\n",
        "    for i, label in enumerate(full_label):\n",
        "        if label != '-1':\n",
        "            f.write( data[i] )"
      ],
      "execution_count": null,
      "outputs": []
    },
    {
      "cell_type": "markdown",
      "metadata": {
        "id": "dx4-IxUJApO2"
      },
      "source": [
        "### 02 label"
      ]
    },
    {
      "cell_type": "code",
      "metadata": {
        "id": "PlfdAaQiApO2"
      },
      "source": [
        "data = []\n",
        "with open(in_plabel) as f:\n",
        "    data = f.readlines()"
      ],
      "execution_count": null,
      "outputs": []
    },
    {
      "cell_type": "code",
      "metadata": {
        "id": "fidVMv5VApO4"
      },
      "source": [
        "with open(youtube_path + '/' + target_path + '/FC_label.txt', 'w') as f:\n",
        "    for i, label in enumerate(full_label):\n",
        "        if label != '-1':            \n",
        "            f.write( data[i] )"
      ],
      "execution_count": null,
      "outputs": []
    },
    {
      "cell_type": "markdown",
      "metadata": {
        "id": "6c9srdOrApO6"
      },
      "source": [
        "### 03 MFCC_sequenceN"
      ]
    },
    {
      "cell_type": "code",
      "metadata": {
        "id": "da5Q0j0LApO6"
      },
      "source": [
        "data = []\n",
        "# with open('../data/processed/IEMOCAP/processed_MFCC12EDAZ_sequenceN.txt') as f:\n",
        "with open(youtube_path + '/youtube_processed_MFCC12EDA_sequenceN.txt') as f:\n",
        "    data = f.readlines()"
      ],
      "execution_count": null,
      "outputs": []
    },
    {
      "cell_type": "code",
      "metadata": {
        "id": "kBO-rTi5ApO7",
        "outputId": "ecb89715-78a4-4869-ffa9-a9754e24457e",
        "colab": {
          "base_uri": "https://localhost:8080/",
          "height": 33
        }
      },
      "source": [
        "len(data)"
      ],
      "execution_count": null,
      "outputs": [
        {
          "output_type": "execute_result",
          "data": {
            "text/plain": [
              "285"
            ]
          },
          "metadata": {
            "tags": []
          },
          "execution_count": 15
        }
      ]
    },
    {
      "cell_type": "code",
      "metadata": {
        "id": "0AoeooScApO-"
      },
      "source": [
        "# with open('../data/processed/IEMOCAP/four_category/FC_MFCC12EDAZ_sequenceN.txt', 'w') as f:\n",
        "with open(youtube_path + '/' +target_path + '/FC_MFCC12EDA_sequenceN.txt', 'w') as f:\n",
        "    for i, label in enumerate(full_label):\n",
        "        if label != '-1':\n",
        "            f.write( data[i] )"
      ],
      "execution_count": null,
      "outputs": []
    },
    {
      "cell_type": "markdown",
      "metadata": {
        "id": "i6aOhK0zApPA"
      },
      "source": [
        "### 04 prodody"
      ]
    },
    {
      "cell_type": "code",
      "metadata": {
        "id": "Sxpgvv96ApPA",
        "outputId": "6aafe81f-117a-4e7c-b3be-bf2e66aae33d",
        "colab": {
          "base_uri": "https://localhost:8080/",
          "height": 33
        }
      },
      "source": [
        "import numpy as np\n",
        "\n",
        "data = np.load(youtube_path + '/youtube_processed_prosody.npy')\n",
        "np.shape(data)"
      ],
      "execution_count": null,
      "outputs": [
        {
          "output_type": "execute_result",
          "data": {
            "text/plain": [
              "(285, 35)"
            ]
          },
          "metadata": {
            "tags": []
          },
          "execution_count": 17
        }
      ]
    },
    {
      "cell_type": "code",
      "metadata": {
        "id": "kO0rS7-WApPC"
      },
      "source": [
        "total_num = 5531\n",
        "new_data = np.zeros([5531, 35], dtype=np.float)"
      ],
      "execution_count": null,
      "outputs": []
    },
    {
      "cell_type": "code",
      "metadata": {
        "id": "sZxy7vOTApPE"
      },
      "source": [
        "index = 0\n",
        "for i, label in enumerate(full_label):\n",
        "    if label != '-1':\n",
        "        new_data[index] = data[i]\n",
        "        index += 1"
      ],
      "execution_count": null,
      "outputs": []
    },
    {
      "cell_type": "code",
      "metadata": {
        "id": "EGqfq1OAApPG"
      },
      "source": [
        "np.save(youtube_path + '/' + target_path + '/FC_prosody.npy', new_data)"
      ],
      "execution_count": null,
      "outputs": []
    },
    {
      "cell_type": "markdown",
      "metadata": {
        "collapsed": true,
        "id": "songLtz7ApPI"
      },
      "source": [
        "### 05 emobase2010"
      ]
    },
    {
      "cell_type": "code",
      "metadata": {
        "id": "si4PvxFbApPJ",
        "outputId": "d3787cd7-9ed5-458e-919f-a6f76c32e3a7",
        "colab": {
          "base_uri": "https://localhost:8080/",
          "height": 33
        }
      },
      "source": [
        "import numpy as np\n",
        "\n",
        "data = np.load(youtube_path + '/youtube_processed_emobase2010.npy')\n",
        "np.shape(data)"
      ],
      "execution_count": null,
      "outputs": [
        {
          "output_type": "execute_result",
          "data": {
            "text/plain": [
              "(285, 1582)"
            ]
          },
          "metadata": {
            "tags": []
          },
          "execution_count": 21
        }
      ]
    },
    {
      "cell_type": "code",
      "metadata": {
        "id": "AUEzJOniApPK"
      },
      "source": [
        "total_num = 5531\n",
        "new_data = np.zeros([5531, 1582], dtype=np.float)"
      ],
      "execution_count": null,
      "outputs": []
    },
    {
      "cell_type": "code",
      "metadata": {
        "id": "l6t4qz3cApPN"
      },
      "source": [
        "index = 0\n",
        "for i, label in enumerate(full_label):\n",
        "    if label != '-1':\n",
        "        new_data[index] = data[i]\n",
        "        index += 1"
      ],
      "execution_count": null,
      "outputs": []
    },
    {
      "cell_type": "code",
      "metadata": {
        "id": "YvvVgdSHApPP"
      },
      "source": [
        "np.save(youtube_path + '/four_category/FC_emobase2010.npy', new_data)"
      ],
      "execution_count": null,
      "outputs": []
    },
    {
      "cell_type": "markdown",
      "metadata": {
        "id": "rwzmXhB5ApPR"
      },
      "source": [
        "### 06 MFCC"
      ]
    },
    {
      "cell_type": "code",
      "metadata": {
        "id": "niVIod4TApPS",
        "outputId": "f4964548-b13a-423f-f24c-7787e8360563",
        "colab": {
          "base_uri": "https://localhost:8080/",
          "height": 33
        }
      },
      "source": [
        "import numpy as np\n",
        "\n",
        "# data = np.load('../data/processed/IEMOCAP/processed_MFCC12EDAZ.npy')\n",
        "data = np.load(youtube_path + '/youtube_processed_MFCC12EDA.npy')\n",
        "np.shape(data)"
      ],
      "execution_count": null,
      "outputs": [
        {
          "output_type": "execute_result",
          "data": {
            "text/plain": [
              "(285, 750, 39)"
            ]
          },
          "metadata": {
            "tags": []
          },
          "execution_count": 25
        }
      ]
    },
    {
      "cell_type": "code",
      "metadata": {
        "id": "k5cUiS8PApPU"
      },
      "source": [
        "total_num = 5531\n",
        "new_data = np.zeros([5531, 750, 39], dtype=np.float)"
      ],
      "execution_count": null,
      "outputs": []
    },
    {
      "cell_type": "code",
      "metadata": {
        "id": "SLDgQxWRApPW"
      },
      "source": [
        "index = 0\n",
        "for i, label in enumerate(full_label):\n",
        "    if label != '-1':\n",
        "        new_data[index] = data[i]\n",
        "        index += 1"
      ],
      "execution_count": null,
      "outputs": []
    },
    {
      "cell_type": "code",
      "metadata": {
        "id": "S2CEYtQoApPZ"
      },
      "source": [
        "# np.save('../data/processed/IEMOCAP/four_category/FC_MFCC12EDAZ.npy', new_data)\n",
        "np.save(youtube_path + '/' + target_path + '/FC_MFCC12EDA.npy', new_data)"
      ],
      "execution_count": null,
      "outputs": []
    },
    {
      "cell_type": "markdown",
      "metadata": {
        "collapsed": true,
        "id": "CG-s-0dOApPb"
      },
      "source": [
        "### 06-A transcription"
      ]
    },
    {
      "cell_type": "code",
      "metadata": {
        "id": "0Wafu11QApPb",
        "outputId": "ece6b81f-6613-4202-d3b2-5444d2ba600d",
        "colab": {
          "base_uri": "https://localhost:8080/",
          "height": 33
        }
      },
      "source": [
        "import csv\n",
        "\n",
        "data = []\n",
        "with open(youtube_path + '/processed_trans.csv') as f:\n",
        "    csv_reader = csv.reader(f)\n",
        "    data = [ x[1] for x in csv_reader ]\n",
        "len(data)    "
      ],
      "execution_count": null,
      "outputs": [
        {
          "output_type": "execute_result",
          "data": {
            "text/plain": [
              "284"
            ]
          },
          "metadata": {
            "tags": []
          },
          "execution_count": 30
        }
      ]
    },
    {
      "cell_type": "code",
      "metadata": {
        "id": "shzG58EiApPd"
      },
      "source": [
        "with open(youtube_path + '/' + target_path + '/FC_trans.txt', 'w') as f:\n",
        "    for i, label in enumerate(full_label):\n",
        "        if label != '-1':\n",
        "            f.write( data[i] + '\\n')"
      ],
      "execution_count": null,
      "outputs": []
    },
    {
      "cell_type": "markdown",
      "metadata": {
        "collapsed": true,
        "id": "5clBDVkKApPe"
      },
      "source": [
        "### 06-B transcription - google speech api  - use it when ready"
      ]
    },
    {
      "cell_type": "code",
      "metadata": {
        "id": "yWqhkGvGApPe"
      },
      "source": [
        "# import csv\n",
        "\n",
        "# data = []\n",
        "# with open('../data/processed/IEMOCAP/processed_tran_fromG.csv') as f:\n",
        "#     csv_reader = csv.reader(f)\n",
        "#     data = [ x[1] for x in csv_reader ]\n",
        "# len(data)    "
      ],
      "execution_count": null,
      "outputs": []
    },
    {
      "cell_type": "code",
      "metadata": {
        "id": "s_Tu1LDFApPg"
      },
      "source": [
        "# with open('../data/processed/IEMOCAP/' + target_path + '/FC_trans.txt', 'w') as f:\n",
        "#     for i, label in enumerate(data):\n",
        "#         f.write( data[i] + '\\n')"
      ],
      "execution_count": null,
      "outputs": []
    },
    {
      "cell_type": "code",
      "metadata": {
        "id": "IZ_cV8o0ApPh"
      },
      "source": [
        ""
      ],
      "execution_count": null,
      "outputs": []
    },
    {
      "cell_type": "code",
      "metadata": {
        "id": "NNXNHl5fApPi"
      },
      "source": [
        ""
      ],
      "execution_count": null,
      "outputs": []
    },
    {
      "cell_type": "markdown",
      "metadata": {
        "collapsed": true,
        "id": "03ZlsYYXApPk"
      },
      "source": [
        "### 07-A transcription NUMPY"
      ]
    },
    {
      "cell_type": "code",
      "metadata": {
        "id": "kmQfKrpJApPk"
      },
      "source": [
        "!cp '$root_path/multimodal-speech-emotion-master/util/nlp_util.py' ."
      ],
      "execution_count": null,
      "outputs": []
    },
    {
      "cell_type": "code",
      "metadata": {
        "id": "ZGf4xn25ApPl",
        "outputId": "ca082b80-42b8-4095-e000-fe025e151202",
        "colab": {
          "base_uri": "https://localhost:8080/",
          "height": 33
        }
      },
      "source": [
        "import numpy as np\n",
        "from nlp_util import *\n",
        "import pickle\n",
        "\n",
        "data = np.load(youtube_path + '/processed_trans.npy')\n",
        "np.shape(data)"
      ],
      "execution_count": null,
      "outputs": [
        {
          "output_type": "execute_result",
          "data": {
            "text/plain": [
              "(284, 128)"
            ]
          },
          "metadata": {
            "tags": []
          },
          "execution_count": 35
        }
      ]
    },
    {
      "cell_type": "code",
      "metadata": {
        "id": "KNfHXyuqApPo"
      },
      "source": [
        "total_num = 5531\n",
        "new_data = np.zeros([5531, 128], dtype=np.int)"
      ],
      "execution_count": null,
      "outputs": []
    },
    {
      "cell_type": "code",
      "metadata": {
        "id": "965x83X9ApPq"
      },
      "source": [
        "index = 0\n",
        "for i, label in enumerate(full_label):\n",
        "    if label != '-1':\n",
        "        new_data[index] = data[i]\n",
        "        index += 1"
      ],
      "execution_count": null,
      "outputs": []
    },
    {
      "cell_type": "code",
      "metadata": {
        "id": "cm2IPfqzApPr"
      },
      "source": [
        "np.save(youtube_path + '/four_category/FC_trans.npy', new_data)"
      ],
      "execution_count": null,
      "outputs": []
    },
    {
      "cell_type": "code",
      "metadata": {
        "id": "iqTWXcFwApPs"
      },
      "source": [
        ""
      ],
      "execution_count": null,
      "outputs": []
    },
    {
      "cell_type": "code",
      "metadata": {
        "id": "PdLkaqMUApPu"
      },
      "source": [
        "# let's test\n",
        "dic = {}\n",
        "with open(youtube_path + '/dic.pkl') as f:\n",
        "    dic = pickle.load(f)"
      ],
      "execution_count": null,
      "outputs": []
    },
    {
      "cell_type": "code",
      "metadata": {
        "id": "-z9hpvmZApPw",
        "outputId": "8b6b5bef-21d1-40a5-e083-a67f9b1a5651",
        "colab": {
          "base_uri": "https://localhost:8080/",
          "height": 53
        }
      },
      "source": [
        "inv_dic = create_invert_dic(dic)\n",
        "index_to_sentence(inv_dic, new_data[4999])"
      ],
      "execution_count": null,
      "outputs": [
        {
          "output_type": "stream",
          "text": [
            "[u'_PAD_', u'_PAD_', u'_PAD_', u'_PAD_', u'_PAD_', u'_PAD_', u'_PAD_', u'_PAD_', u'_PAD_', u'_PAD_', u'_PAD_', u'_PAD_', u'_PAD_', u'_PAD_', u'_PAD_', u'_PAD_', u'_PAD_', u'_PAD_', u'_PAD_', u'_PAD_', u'_PAD_', u'_PAD_', u'_PAD_', u'_PAD_', u'_PAD_', u'_PAD_', u'_PAD_', u'_PAD_', u'_PAD_', u'_PAD_', u'_PAD_', u'_PAD_', u'_PAD_', u'_PAD_', u'_PAD_', u'_PAD_', u'_PAD_', u'_PAD_', u'_PAD_', u'_PAD_', u'_PAD_', u'_PAD_', u'_PAD_', u'_PAD_', u'_PAD_', u'_PAD_', u'_PAD_', u'_PAD_', u'_PAD_', u'_PAD_', u'_PAD_', u'_PAD_', u'_PAD_', u'_PAD_', u'_PAD_', u'_PAD_', u'_PAD_', u'_PAD_', u'_PAD_', u'_PAD_', u'_PAD_', u'_PAD_', u'_PAD_', u'_PAD_', u'_PAD_', u'_PAD_', u'_PAD_', u'_PAD_', u'_PAD_', u'_PAD_', u'_PAD_', u'_PAD_', u'_PAD_', u'_PAD_', u'_PAD_', u'_PAD_', u'_PAD_', u'_PAD_', u'_PAD_', u'_PAD_', u'_PAD_', u'_PAD_', u'_PAD_', u'_PAD_', u'_PAD_', u'_PAD_', u'_PAD_', u'_PAD_', u'_PAD_', u'_PAD_', u'_PAD_', u'_PAD_', u'_PAD_', u'_PAD_', u'_PAD_', u'_PAD_', u'_PAD_', u'_PAD_', u'_PAD_', u'_PAD_', u'_PAD_', u'_PAD_', u'_PAD_', u'_PAD_', u'_PAD_', u'_PAD_', u'_PAD_', u'_PAD_', u'_PAD_', u'_PAD_', u'_PAD_', u'_PAD_', u'_PAD_', u'_PAD_', u'_PAD_', u'_PAD_', u'_PAD_', u'_PAD_', u'_PAD_', u'_PAD_', u'_PAD_', u'_PAD_', u'_PAD_', u'_PAD_', u'_PAD_', u'_PAD_', u'_PAD_', u'_PAD_']\n"
          ],
          "name": "stdout"
        }
      ]
    },
    {
      "cell_type": "code",
      "metadata": {
        "id": "gKgALkbaApPy"
      },
      "source": [
        ""
      ],
      "execution_count": null,
      "outputs": []
    },
    {
      "cell_type": "code",
      "metadata": {
        "id": "jEUj9e4VApPz"
      },
      "source": [
        ""
      ],
      "execution_count": null,
      "outputs": []
    },
    {
      "cell_type": "markdown",
      "metadata": {
        "collapsed": true,
        "id": "LMyqWbepApP1"
      },
      "source": [
        "### 07-B transcription NUMPY - use it when ASR-trans is ready"
      ]
    },
    {
      "cell_type": "code",
      "metadata": {
        "id": "RhYyAcxmApP1"
      },
      "source": [
        "# import numpy as np\n",
        "# from nlp_util import *\n",
        "# import pickle\n",
        "\n",
        "# data = np.load('../data/processed/IEMOCAP/processed_trans_G.npy')\n",
        "# np.shape(data)"
      ],
      "execution_count": null,
      "outputs": []
    },
    {
      "cell_type": "code",
      "metadata": {
        "id": "93GltuBJApP3"
      },
      "source": [
        "# total_num = 5531\n",
        "# new_data = np.zeros([5531, 128], dtype=np.int)\n",
        "\n",
        "# for i, label in enumerate(data):\n",
        "#     new_data[i] = data[i]"
      ],
      "execution_count": null,
      "outputs": []
    },
    {
      "cell_type": "code",
      "metadata": {
        "id": "1yFENJgeApP5"
      },
      "source": [
        "# np.save('../data/processed/IEMOCAP/' + target_path + '/FC_trans.npy', new_data)"
      ],
      "execution_count": null,
      "outputs": []
    },
    {
      "cell_type": "code",
      "metadata": {
        "id": "GBfPt5fkApP6"
      },
      "source": [
        ""
      ],
      "execution_count": null,
      "outputs": []
    },
    {
      "cell_type": "code",
      "metadata": {
        "id": "c4_fqmrnApP7"
      },
      "source": [
        "# # let's test\n",
        "# dic = {}\n",
        "# with open('../data/processed/IEMOCAP/dic_G.pkl') as f:\n",
        "#     dic = pickle.load(f)"
      ],
      "execution_count": null,
      "outputs": []
    },
    {
      "cell_type": "code",
      "metadata": {
        "id": "ubEsTEaUApP-"
      },
      "source": [
        "# inv_dic = create_invert_dic(dic)\n",
        "# index_to_sentence(inv_dic, new_data[4999])"
      ],
      "execution_count": null,
      "outputs": []
    },
    {
      "cell_type": "code",
      "metadata": {
        "id": "2wQLPxtuApQA"
      },
      "source": [
        ""
      ],
      "execution_count": null,
      "outputs": []
    },
    {
      "cell_type": "markdown",
      "metadata": {
        "id": "4Rr6RZoOApQB"
      },
      "source": [
        "## TEST DATA GENERATION\n",
        "substitute for IEMOCAP_03_generate_train_dev_test_data.ipynb"
      ]
    },
    {
      "cell_type": "code",
      "metadata": {
        "id": "OVm4QAYkApQB"
      },
      "source": [
        "!cp '$youtube_path/$target_path/FC_MFCC12EDA.npy' '$youtube_path/$target_path/test_audio_mfcc.npy'\n",
        "!cp '$youtube_path/$target_path/FC_prosody.npy' '$youtube_path/$target_path/test_audio_prosody.npy' "
      ],
      "execution_count": null,
      "outputs": []
    },
    {
      "cell_type": "code",
      "metadata": {
        "id": "01RPt_q9ApQE"
      },
      "source": [
        "def extract_data_with_ids( npy_data, ids ) :\n",
        "    npy_data_select = npy_data[ids][:][:]\n",
        "    print np.shape(npy_data_select)\n",
        "    return npy_data_select"
      ],
      "execution_count": null,
      "outputs": []
    },
    {
      "cell_type": "code",
      "metadata": {
        "id": "kPHhyNegApQG"
      },
      "source": [
        "seqN_npy = []\n",
        "with open(youtube_path + '/' + target_path+ '/FC_MFCC12EDA_sequenceN.txt') as f :\n",
        "    seqN = [ int(x.strip()) for x in f.readlines() ]\n",
        "    seqN_npy = np.asarray(seqN)\n",
        "\n",
        "np.save( youtube_path + '/' + target_path + '/test_seqN.npy', seqN_npy)"
      ],
      "execution_count": null,
      "outputs": []
    },
    {
      "cell_type": "code",
      "metadata": {
        "id": "rN-cT0kZApQH",
        "outputId": "bc0bbdd8-90ff-472d-b360-0162ba476fd9",
        "colab": {
          "base_uri": "https://localhost:8080/",
          "height": 452
        }
      },
      "source": [
        "np.load(youtube_path + '/' + target_path + '/test_seqN.npy')"
      ],
      "execution_count": null,
      "outputs": [
        {
          "output_type": "execute_result",
          "data": {
            "text/plain": [
              "array([ 467,  181,  130,  672,  616,  424,  230,  702,  545,  189,  260,\n",
              "        208,  343,  103,  194,  523,  168,  140,   90,  659,  252,  473,\n",
              "        402,  719,  234,   45,  235,  203,  205,  398,  284,  458,  325,\n",
              "        137,  356,  184,  169,  108,  120,  286,  222,  315,  844,  338,\n",
              "         73,  137,   64,  177,  288,  154,  542,  212,  484, 1159,   73,\n",
              "        240,  703,   63,  749,  338,  231,  418,  154,  115,  294,   94,\n",
              "        235,  141,  288,  186,  186,  130,   83,  393,  279,  564,  519,\n",
              "        437,   43,  250,  602,  964,  221,   75,  407,  348,  203,  482,\n",
              "        343,  257,  205,  182,  248,  209,  619,  403,  329,  102,  241,\n",
              "        216,  285,  303,  226,  120,  122,  248,  128,  294,  216,  412,\n",
              "        149,  196,   69,   98,  376,  589,  218,  120,  120,  188,  193,\n",
              "        329,  160, 1172,  240,  176,  203,  735,  357,  127,  225,  119,\n",
              "        242,  157,  135,  412,  153,   72,   96,  166,  394,   57,  267,\n",
              "         64,  115,  373,  340,  194,  112,  119,  150,  199,  248,  348,\n",
              "        286,  192,  158,  311,   84,  297,  367,  157,  127,  130,  134,\n",
              "        208,  131,  242,  468,   79,  121,  136,  481,  160,  105,  211,\n",
              "        177,   86,  321,  423,   59,  218,  283,  140,  160,   99,  121,\n",
              "        134,  191,  126,  361,  118,   94,  115,  100,  266,  361,  163,\n",
              "        104,  113,  150,  257,  243,  363,  457,  200,  461,  130,  322,\n",
              "        334, 1290,  544,  324,  615,  610,  866, 1646,  440,  416,  420,\n",
              "        304,  759,  568,  410,  184,  670,  291,  987,  323,  151,  154,\n",
              "        203,  357,  279,  228,  341,  335, 1012,   79,  389,  212,  539,\n",
              "        357,  161,  179,  443,  320,  151,   69,  477,  192,  801,  277,\n",
              "        467,  349,  446,  557,  192,  213,  187,  172,  220,  171,  399,\n",
              "        868,  838,  292,  631,  410,  553,  215,  203,  325,  718,  229,\n",
              "        560,  345])"
            ]
          },
          "metadata": {
            "tags": []
          },
          "execution_count": 61
        }
      ]
    },
    {
      "cell_type": "markdown",
      "metadata": {
        "id": "zK7NAqqXAjbb"
      },
      "source": [
        "# TESS DATA"
      ]
    },
    {
      "cell_type": "markdown",
      "metadata": {
        "id": "7xB1asrJIXde"
      },
      "source": [
        "## extract data --> four category\n",
        "### remove other category data\n",
        "- angry : 0        ang(1103)\n",
        "- happy : 1       exc(1041), hap(595)\n",
        "- sad : 2          sad(1084)   \n",
        "- neutral : 3     neu(1708)"
      ]
    },
    {
      "cell_type": "code",
      "metadata": {
        "id": "tcXfgSsTQZCq",
        "outputId": "be83766b-4d7c-42bf-f1ac-30dd5f97833f",
        "colab": {
          "base_uri": "https://localhost:8080/",
          "height": 33
        }
      },
      "source": [
        "from google.colab import drive\n",
        "from google.colab import files\n",
        "\n",
        "drive.mount('/content/gdrive', force_remount=True)\n",
        "root_path = 'gdrive/My Drive/Macquarie_University/Units/COMP8240_ApplicationsOfDataScience/PROJECT'"
      ],
      "execution_count": 44,
      "outputs": [
        {
          "output_type": "stream",
          "text": [
            "Mounted at /content/gdrive\n"
          ],
          "name": "stdout"
        }
      ]
    },
    {
      "cell_type": "code",
      "metadata": {
        "id": "0FTcEqXGR-ba"
      },
      "source": [
        "target_path = 'four_category'\n",
        "youtube_path = root_path + '/processed/YouTube'"
      ],
      "execution_count": 45,
      "outputs": []
    },
    {
      "cell_type": "code",
      "metadata": {
        "id": "fEDq3f8AIXdv"
      },
      "source": [
        "full_label = []\n",
        "in_plabel = youtube_path + '/processed_label.txt'\n",
        "with open(in_plabel) as f:\n",
        "    full_label = f.readlines()\n",
        "full_label = [ x.strip() for x in full_label]    "
      ],
      "execution_count": 3,
      "outputs": []
    },
    {
      "cell_type": "markdown",
      "metadata": {
        "id": "Zij8aFO9IXd5"
      },
      "source": [
        "### 01 ids"
      ]
    },
    {
      "cell_type": "code",
      "metadata": {
        "id": "htY-wYuxIXd5"
      },
      "source": [
        "import csv\n",
        "tmp_ids = []\n",
        "in_label = youtube_path + '/label.csv'\n",
        "\n",
        "with open(in_label) as f:\n",
        "    csv_reader = csv.reader(f)\n",
        "    tmp_ids = [x for x in csv_reader]\n",
        "    tmp_ids = [x[0] for x in tmp_ids]"
      ],
      "execution_count": 4,
      "outputs": []
    },
    {
      "cell_type": "code",
      "metadata": {
        "id": "PT9pgHHfIXd9"
      },
      "source": [
        "out_order = youtube_path + '/ordered_ids.txt'\n",
        "with open(out_order, 'w') as f:\n",
        "    for _id in tmp_ids:\n",
        "        f.write(_id+'\\n')"
      ],
      "execution_count": 5,
      "outputs": []
    },
    {
      "cell_type": "code",
      "metadata": {
        "id": "bTlJuaqtIXeA"
      },
      "source": [
        "data = []\n",
        "with open(out_order) as f:\n",
        "    data = f.readlines()"
      ],
      "execution_count": 6,
      "outputs": []
    },
    {
      "cell_type": "code",
      "metadata": {
        "id": "_v07Bf3KSP3F"
      },
      "source": [
        "!cp '$root_path/multimodal-speech-emotion-master/util/file_util.py' ."
      ],
      "execution_count": 7,
      "outputs": []
    },
    {
      "cell_type": "code",
      "metadata": {
        "id": "__dQKDKnIXeD"
      },
      "source": [
        "from file_util import *\n",
        "create_folder(youtube_path + '/' + target_path)"
      ],
      "execution_count": 10,
      "outputs": []
    },
    {
      "cell_type": "code",
      "metadata": {
        "id": "-6pJMTuGIXeG"
      },
      "source": [
        "with open(youtube_path + '/' + target_path + '/FC_ordered_ids.txt', 'w') as f:\n",
        "    for i, label in enumerate(full_label):\n",
        "        if label != '-1':\n",
        "            f.write( data[i] )"
      ],
      "execution_count": 11,
      "outputs": []
    },
    {
      "cell_type": "markdown",
      "metadata": {
        "id": "3Xpcnr1BIXeK"
      },
      "source": [
        "### 02 label"
      ]
    },
    {
      "cell_type": "code",
      "metadata": {
        "id": "cd9_fCfdIXeL"
      },
      "source": [
        "data = []\n",
        "with open(in_plabel) as f:\n",
        "    data = f.readlines()"
      ],
      "execution_count": 12,
      "outputs": []
    },
    {
      "cell_type": "code",
      "metadata": {
        "id": "f6M2tey2IXeN"
      },
      "source": [
        "with open(youtube_path + '/' + target_path + '/FC_label.txt', 'w') as f:\n",
        "    for i, label in enumerate(full_label):\n",
        "        if label != '-1':            \n",
        "            f.write( data[i] )"
      ],
      "execution_count": 13,
      "outputs": []
    },
    {
      "cell_type": "markdown",
      "metadata": {
        "id": "_8YakEsPIXeU"
      },
      "source": [
        "### 03 MFCC_sequenceN"
      ]
    },
    {
      "cell_type": "code",
      "metadata": {
        "id": "hqvOpZ0-IXeU"
      },
      "source": [
        "data = []\n",
        "# with open('../data/processed/IEMOCAP/processed_MFCC12EDAZ_sequenceN.txt') as f:\n",
        "with open(youtube_path + '/youtube_processed_MFCC12EDA_sequenceN.txt') as f:\n",
        "    data = f.readlines()"
      ],
      "execution_count": 14,
      "outputs": []
    },
    {
      "cell_type": "code",
      "metadata": {
        "id": "UcWeqmwhVHRf",
        "outputId": "ecb89715-78a4-4869-ffa9-a9754e24457e",
        "colab": {
          "base_uri": "https://localhost:8080/",
          "height": 33
        }
      },
      "source": [
        "len(data)"
      ],
      "execution_count": 15,
      "outputs": [
        {
          "output_type": "execute_result",
          "data": {
            "text/plain": [
              "285"
            ]
          },
          "metadata": {
            "tags": []
          },
          "execution_count": 15
        }
      ]
    },
    {
      "cell_type": "code",
      "metadata": {
        "id": "WqieVhUVIXeW"
      },
      "source": [
        "# with open('../data/processed/IEMOCAP/four_category/FC_MFCC12EDAZ_sequenceN.txt', 'w') as f:\n",
        "with open(youtube_path + '/' +target_path + '/FC_MFCC12EDA_sequenceN.txt', 'w') as f:\n",
        "    for i, label in enumerate(full_label):\n",
        "        if label != '-1':\n",
        "            f.write( data[i] )"
      ],
      "execution_count": 16,
      "outputs": []
    },
    {
      "cell_type": "markdown",
      "metadata": {
        "id": "E2Pa1v_IIXea"
      },
      "source": [
        "### 04 prodody"
      ]
    },
    {
      "cell_type": "code",
      "metadata": {
        "id": "gNj5nNDeIXea",
        "outputId": "6aafe81f-117a-4e7c-b3be-bf2e66aae33d",
        "colab": {
          "base_uri": "https://localhost:8080/",
          "height": 33
        }
      },
      "source": [
        "import numpy as np\n",
        "\n",
        "data = np.load(youtube_path + '/youtube_processed_prosody.npy')\n",
        "np.shape(data)"
      ],
      "execution_count": 17,
      "outputs": [
        {
          "output_type": "execute_result",
          "data": {
            "text/plain": [
              "(285, 35)"
            ]
          },
          "metadata": {
            "tags": []
          },
          "execution_count": 17
        }
      ]
    },
    {
      "cell_type": "code",
      "metadata": {
        "id": "2xsgg4PRIXed"
      },
      "source": [
        "total_num = 5531\n",
        "new_data = np.zeros([5531, 35], dtype=np.float)"
      ],
      "execution_count": 18,
      "outputs": []
    },
    {
      "cell_type": "code",
      "metadata": {
        "id": "CjsfpWVbIXef"
      },
      "source": [
        "index = 0\n",
        "for i, label in enumerate(full_label):\n",
        "    if label != '-1':\n",
        "        new_data[index] = data[i]\n",
        "        index += 1"
      ],
      "execution_count": 19,
      "outputs": []
    },
    {
      "cell_type": "code",
      "metadata": {
        "id": "9E1o-Q9uIXeh"
      },
      "source": [
        "np.save(youtube_path + '/' + target_path + '/FC_prosody.npy', new_data)"
      ],
      "execution_count": 20,
      "outputs": []
    },
    {
      "cell_type": "markdown",
      "metadata": {
        "collapsed": true,
        "id": "zDIkMOk2IXem"
      },
      "source": [
        "### 05 emobase2010"
      ]
    },
    {
      "cell_type": "code",
      "metadata": {
        "id": "WBAMD5ReIXem",
        "outputId": "d3787cd7-9ed5-458e-919f-a6f76c32e3a7",
        "colab": {
          "base_uri": "https://localhost:8080/",
          "height": 33
        }
      },
      "source": [
        "import numpy as np\n",
        "\n",
        "data = np.load(youtube_path + '/youtube_processed_emobase2010.npy')\n",
        "np.shape(data)"
      ],
      "execution_count": 21,
      "outputs": [
        {
          "output_type": "execute_result",
          "data": {
            "text/plain": [
              "(285, 1582)"
            ]
          },
          "metadata": {
            "tags": []
          },
          "execution_count": 21
        }
      ]
    },
    {
      "cell_type": "code",
      "metadata": {
        "id": "f2tCEz7VIXeo"
      },
      "source": [
        "total_num = 5531\n",
        "new_data = np.zeros([5531, 1582], dtype=np.float)"
      ],
      "execution_count": 22,
      "outputs": []
    },
    {
      "cell_type": "code",
      "metadata": {
        "id": "ErIbuE8LIXeq"
      },
      "source": [
        "index = 0\n",
        "for i, label in enumerate(full_label):\n",
        "    if label != '-1':\n",
        "        new_data[index] = data[i]\n",
        "        index += 1"
      ],
      "execution_count": 23,
      "outputs": []
    },
    {
      "cell_type": "code",
      "metadata": {
        "id": "NSj_8mxYIXes"
      },
      "source": [
        "np.save(youtube_path + '/four_category/FC_emobase2010.npy', new_data)"
      ],
      "execution_count": 24,
      "outputs": []
    },
    {
      "cell_type": "markdown",
      "metadata": {
        "id": "_bz16bKMIXew"
      },
      "source": [
        "### 06 MFCC"
      ]
    },
    {
      "cell_type": "code",
      "metadata": {
        "id": "VBr8zb2lIXew",
        "outputId": "f4964548-b13a-423f-f24c-7787e8360563",
        "colab": {
          "base_uri": "https://localhost:8080/",
          "height": 33
        }
      },
      "source": [
        "import numpy as np\n",
        "\n",
        "# data = np.load('../data/processed/IEMOCAP/processed_MFCC12EDAZ.npy')\n",
        "data = np.load(youtube_path + '/youtube_processed_MFCC12EDA.npy')\n",
        "np.shape(data)"
      ],
      "execution_count": 25,
      "outputs": [
        {
          "output_type": "execute_result",
          "data": {
            "text/plain": [
              "(285, 750, 39)"
            ]
          },
          "metadata": {
            "tags": []
          },
          "execution_count": 25
        }
      ]
    },
    {
      "cell_type": "code",
      "metadata": {
        "id": "wsWGYFGEIXey"
      },
      "source": [
        "total_num = 5531\n",
        "new_data = np.zeros([5531, 750, 39], dtype=np.float)"
      ],
      "execution_count": 26,
      "outputs": []
    },
    {
      "cell_type": "code",
      "metadata": {
        "id": "-0GLuULOIXez"
      },
      "source": [
        "index = 0\n",
        "for i, label in enumerate(full_label):\n",
        "    if label != '-1':\n",
        "        new_data[index] = data[i]\n",
        "        index += 1"
      ],
      "execution_count": 27,
      "outputs": []
    },
    {
      "cell_type": "code",
      "metadata": {
        "id": "mKB_DU5iIXe1"
      },
      "source": [
        "# np.save('../data/processed/IEMOCAP/four_category/FC_MFCC12EDAZ.npy', new_data)\n",
        "np.save(youtube_path + '/' + target_path + '/FC_MFCC12EDA.npy', new_data)"
      ],
      "execution_count": 28,
      "outputs": []
    },
    {
      "cell_type": "markdown",
      "metadata": {
        "collapsed": true,
        "id": "c-dnMiSfIXe5"
      },
      "source": [
        "### 06-A transcription"
      ]
    },
    {
      "cell_type": "code",
      "metadata": {
        "id": "jdOunYugIXe5",
        "outputId": "ece6b81f-6613-4202-d3b2-5444d2ba600d",
        "colab": {
          "base_uri": "https://localhost:8080/",
          "height": 33
        }
      },
      "source": [
        "import csv\n",
        "\n",
        "data = []\n",
        "with open(youtube_path + '/processed_trans.csv') as f:\n",
        "    csv_reader = csv.reader(f)\n",
        "    data = [ x[1] for x in csv_reader ]\n",
        "len(data)    "
      ],
      "execution_count": 30,
      "outputs": [
        {
          "output_type": "execute_result",
          "data": {
            "text/plain": [
              "284"
            ]
          },
          "metadata": {
            "tags": []
          },
          "execution_count": 30
        }
      ]
    },
    {
      "cell_type": "code",
      "metadata": {
        "id": "5U2KWIifIXe7"
      },
      "source": [
        "with open(youtube_path + '/' + target_path + '/FC_trans.txt', 'w') as f:\n",
        "    for i, label in enumerate(full_label):\n",
        "        if label != '-1':\n",
        "            f.write( data[i] + '\\n')"
      ],
      "execution_count": 31,
      "outputs": []
    },
    {
      "cell_type": "markdown",
      "metadata": {
        "collapsed": true,
        "id": "mlYuVJTdIXe-"
      },
      "source": [
        "### 06-B transcription - google speech api  - use it when ready"
      ]
    },
    {
      "cell_type": "code",
      "metadata": {
        "id": "F7ZVgUT_IXe-"
      },
      "source": [
        "# import csv\n",
        "\n",
        "# data = []\n",
        "# with open('../data/processed/IEMOCAP/processed_tran_fromG.csv') as f:\n",
        "#     csv_reader = csv.reader(f)\n",
        "#     data = [ x[1] for x in csv_reader ]\n",
        "# len(data)    "
      ],
      "execution_count": null,
      "outputs": []
    },
    {
      "cell_type": "code",
      "metadata": {
        "id": "T-DPQK77IXfA"
      },
      "source": [
        "# with open('../data/processed/IEMOCAP/' + target_path + '/FC_trans.txt', 'w') as f:\n",
        "#     for i, label in enumerate(data):\n",
        "#         f.write( data[i] + '\\n')"
      ],
      "execution_count": null,
      "outputs": []
    },
    {
      "cell_type": "code",
      "metadata": {
        "id": "MMgYQSnNIXfC"
      },
      "source": [
        ""
      ],
      "execution_count": null,
      "outputs": []
    },
    {
      "cell_type": "code",
      "metadata": {
        "id": "h-0OngGvIXfD"
      },
      "source": [
        ""
      ],
      "execution_count": null,
      "outputs": []
    },
    {
      "cell_type": "markdown",
      "metadata": {
        "collapsed": true,
        "id": "FxxXQypQIXfF"
      },
      "source": [
        "### 07-A transcription NUMPY"
      ]
    },
    {
      "cell_type": "code",
      "metadata": {
        "id": "qrNBaGFArDxY"
      },
      "source": [
        "!cp '$root_path/multimodal-speech-emotion-master/util/nlp_util.py' ."
      ],
      "execution_count": 34,
      "outputs": []
    },
    {
      "cell_type": "code",
      "metadata": {
        "id": "v8bGTjaCIXfG",
        "outputId": "ca082b80-42b8-4095-e000-fe025e151202",
        "colab": {
          "base_uri": "https://localhost:8080/",
          "height": 33
        }
      },
      "source": [
        "import numpy as np\n",
        "from nlp_util import *\n",
        "import pickle\n",
        "\n",
        "data = np.load(youtube_path + '/processed_trans.npy')\n",
        "np.shape(data)"
      ],
      "execution_count": 35,
      "outputs": [
        {
          "output_type": "execute_result",
          "data": {
            "text/plain": [
              "(284, 128)"
            ]
          },
          "metadata": {
            "tags": []
          },
          "execution_count": 35
        }
      ]
    },
    {
      "cell_type": "code",
      "metadata": {
        "id": "ZvgfeWSjIXfJ"
      },
      "source": [
        "total_num = 5531\n",
        "new_data = np.zeros([5531, 128], dtype=np.int)"
      ],
      "execution_count": 36,
      "outputs": []
    },
    {
      "cell_type": "code",
      "metadata": {
        "id": "e2Hs9oNFIXfL"
      },
      "source": [
        "index = 0\n",
        "for i, label in enumerate(full_label):\n",
        "    if label != '-1':\n",
        "        new_data[index] = data[i]\n",
        "        index += 1"
      ],
      "execution_count": 37,
      "outputs": []
    },
    {
      "cell_type": "code",
      "metadata": {
        "id": "OVpWYrDwIXfO"
      },
      "source": [
        "np.save(youtube_path + '/four_category/FC_trans.npy', new_data)"
      ],
      "execution_count": 38,
      "outputs": []
    },
    {
      "cell_type": "code",
      "metadata": {
        "id": "vlahCTUXIXfQ"
      },
      "source": [
        ""
      ],
      "execution_count": null,
      "outputs": []
    },
    {
      "cell_type": "code",
      "metadata": {
        "id": "_nWJRrulIXfR"
      },
      "source": [
        "# let's test\n",
        "dic = {}\n",
        "with open(youtube_path + '/dic.pkl') as f:\n",
        "    dic = pickle.load(f)"
      ],
      "execution_count": 39,
      "outputs": []
    },
    {
      "cell_type": "code",
      "metadata": {
        "id": "z_gIns7gIXfT",
        "outputId": "8b6b5bef-21d1-40a5-e083-a67f9b1a5651",
        "colab": {
          "base_uri": "https://localhost:8080/",
          "height": 53
        }
      },
      "source": [
        "inv_dic = create_invert_dic(dic)\n",
        "index_to_sentence(inv_dic, new_data[4999])"
      ],
      "execution_count": 40,
      "outputs": [
        {
          "output_type": "stream",
          "text": [
            "[u'_PAD_', u'_PAD_', u'_PAD_', u'_PAD_', u'_PAD_', u'_PAD_', u'_PAD_', u'_PAD_', u'_PAD_', u'_PAD_', u'_PAD_', u'_PAD_', u'_PAD_', u'_PAD_', u'_PAD_', u'_PAD_', u'_PAD_', u'_PAD_', u'_PAD_', u'_PAD_', u'_PAD_', u'_PAD_', u'_PAD_', u'_PAD_', u'_PAD_', u'_PAD_', u'_PAD_', u'_PAD_', u'_PAD_', u'_PAD_', u'_PAD_', u'_PAD_', u'_PAD_', u'_PAD_', u'_PAD_', u'_PAD_', u'_PAD_', u'_PAD_', u'_PAD_', u'_PAD_', u'_PAD_', u'_PAD_', u'_PAD_', u'_PAD_', u'_PAD_', u'_PAD_', u'_PAD_', u'_PAD_', u'_PAD_', u'_PAD_', u'_PAD_', u'_PAD_', u'_PAD_', u'_PAD_', u'_PAD_', u'_PAD_', u'_PAD_', u'_PAD_', u'_PAD_', u'_PAD_', u'_PAD_', u'_PAD_', u'_PAD_', u'_PAD_', u'_PAD_', u'_PAD_', u'_PAD_', u'_PAD_', u'_PAD_', u'_PAD_', u'_PAD_', u'_PAD_', u'_PAD_', u'_PAD_', u'_PAD_', u'_PAD_', u'_PAD_', u'_PAD_', u'_PAD_', u'_PAD_', u'_PAD_', u'_PAD_', u'_PAD_', u'_PAD_', u'_PAD_', u'_PAD_', u'_PAD_', u'_PAD_', u'_PAD_', u'_PAD_', u'_PAD_', u'_PAD_', u'_PAD_', u'_PAD_', u'_PAD_', u'_PAD_', u'_PAD_', u'_PAD_', u'_PAD_', u'_PAD_', u'_PAD_', u'_PAD_', u'_PAD_', u'_PAD_', u'_PAD_', u'_PAD_', u'_PAD_', u'_PAD_', u'_PAD_', u'_PAD_', u'_PAD_', u'_PAD_', u'_PAD_', u'_PAD_', u'_PAD_', u'_PAD_', u'_PAD_', u'_PAD_', u'_PAD_', u'_PAD_', u'_PAD_', u'_PAD_', u'_PAD_', u'_PAD_', u'_PAD_', u'_PAD_', u'_PAD_', u'_PAD_']\n"
          ],
          "name": "stdout"
        }
      ]
    },
    {
      "cell_type": "code",
      "metadata": {
        "id": "MHN7-3lGIXfV"
      },
      "source": [
        ""
      ],
      "execution_count": null,
      "outputs": []
    },
    {
      "cell_type": "code",
      "metadata": {
        "id": "T-MmaMgvIXfW"
      },
      "source": [
        ""
      ],
      "execution_count": null,
      "outputs": []
    },
    {
      "cell_type": "markdown",
      "metadata": {
        "collapsed": true,
        "id": "osPzH-yTIXfY"
      },
      "source": [
        "### 07-B transcription NUMPY - use it when ASR-trans is ready"
      ]
    },
    {
      "cell_type": "code",
      "metadata": {
        "id": "RAPnGg1cIXfY"
      },
      "source": [
        "# import numpy as np\n",
        "# from nlp_util import *\n",
        "# import pickle\n",
        "\n",
        "# data = np.load('../data/processed/IEMOCAP/processed_trans_G.npy')\n",
        "# np.shape(data)"
      ],
      "execution_count": null,
      "outputs": []
    },
    {
      "cell_type": "code",
      "metadata": {
        "id": "TmJqwqynIXfb"
      },
      "source": [
        "# total_num = 5531\n",
        "# new_data = np.zeros([5531, 128], dtype=np.int)\n",
        "\n",
        "# for i, label in enumerate(data):\n",
        "#     new_data[i] = data[i]"
      ],
      "execution_count": null,
      "outputs": []
    },
    {
      "cell_type": "code",
      "metadata": {
        "id": "wVTLSXkDIXfc"
      },
      "source": [
        "# np.save('../data/processed/IEMOCAP/' + target_path + '/FC_trans.npy', new_data)"
      ],
      "execution_count": null,
      "outputs": []
    },
    {
      "cell_type": "code",
      "metadata": {
        "id": "hdd06ZKaIXff"
      },
      "source": [
        ""
      ],
      "execution_count": null,
      "outputs": []
    },
    {
      "cell_type": "code",
      "metadata": {
        "id": "LegzM1CyIXfg"
      },
      "source": [
        "# # let's test\n",
        "# dic = {}\n",
        "# with open('../data/processed/IEMOCAP/dic_G.pkl') as f:\n",
        "#     dic = pickle.load(f)"
      ],
      "execution_count": null,
      "outputs": []
    },
    {
      "cell_type": "code",
      "metadata": {
        "id": "EFv77OLlIXfi"
      },
      "source": [
        "# inv_dic = create_invert_dic(dic)\n",
        "# index_to_sentence(inv_dic, new_data[4999])"
      ],
      "execution_count": null,
      "outputs": []
    },
    {
      "cell_type": "code",
      "metadata": {
        "id": "QDBcu7BpIXfk"
      },
      "source": [
        ""
      ],
      "execution_count": null,
      "outputs": []
    },
    {
      "cell_type": "markdown",
      "metadata": {
        "id": "vX1BvanumcyY"
      },
      "source": [
        "## TEST DATA GENERATION\n",
        "substitute for IEMOCAP_03_generate_train_dev_test_data.ipynb"
      ]
    },
    {
      "cell_type": "code",
      "metadata": {
        "id": "ycBPJNL7nXcT"
      },
      "source": [
        "!cp '$youtube_path/$target_path/FC_MFCC12EDA.npy' '$youtube_path/$target_path/test_audio_mfcc.npy'\n",
        "!cp '$youtube_path/$target_path/FC_prosody.npy' '$youtube_path/$target_path/test_audio_prosody.npy' "
      ],
      "execution_count": null,
      "outputs": []
    },
    {
      "cell_type": "code",
      "metadata": {
        "id": "vq2JN251UHwa"
      },
      "source": [
        "def extract_data_with_ids( npy_data, ids ) :\n",
        "    npy_data_select = npy_data[ids][:][:]\n",
        "    print np.shape(npy_data_select)\n",
        "    return npy_data_select"
      ],
      "execution_count": 52,
      "outputs": []
    },
    {
      "cell_type": "code",
      "metadata": {
        "id": "e93PfloAIXfl"
      },
      "source": [
        "seqN_npy = []\n",
        "with open(youtube_path + '/' + target_path+ '/FC_MFCC12EDA_sequenceN.txt') as f :\n",
        "    seqN = [ int(x.strip()) for x in f.readlines() ]\n",
        "    seqN_npy = np.asarray(seqN)\n",
        "\n",
        "np.save( youtube_path + '/' + target_path + '/test_seqN.npy', seqN_npy)"
      ],
      "execution_count": 60,
      "outputs": []
    },
    {
      "cell_type": "code",
      "metadata": {
        "id": "90NPc1skVPFV",
        "outputId": "bc0bbdd8-90ff-472d-b360-0162ba476fd9",
        "colab": {
          "base_uri": "https://localhost:8080/",
          "height": 452
        }
      },
      "source": [
        "np.load(youtube_path + '/' + target_path + '/test_seqN.npy')"
      ],
      "execution_count": 61,
      "outputs": [
        {
          "output_type": "execute_result",
          "data": {
            "text/plain": [
              "array([ 467,  181,  130,  672,  616,  424,  230,  702,  545,  189,  260,\n",
              "        208,  343,  103,  194,  523,  168,  140,   90,  659,  252,  473,\n",
              "        402,  719,  234,   45,  235,  203,  205,  398,  284,  458,  325,\n",
              "        137,  356,  184,  169,  108,  120,  286,  222,  315,  844,  338,\n",
              "         73,  137,   64,  177,  288,  154,  542,  212,  484, 1159,   73,\n",
              "        240,  703,   63,  749,  338,  231,  418,  154,  115,  294,   94,\n",
              "        235,  141,  288,  186,  186,  130,   83,  393,  279,  564,  519,\n",
              "        437,   43,  250,  602,  964,  221,   75,  407,  348,  203,  482,\n",
              "        343,  257,  205,  182,  248,  209,  619,  403,  329,  102,  241,\n",
              "        216,  285,  303,  226,  120,  122,  248,  128,  294,  216,  412,\n",
              "        149,  196,   69,   98,  376,  589,  218,  120,  120,  188,  193,\n",
              "        329,  160, 1172,  240,  176,  203,  735,  357,  127,  225,  119,\n",
              "        242,  157,  135,  412,  153,   72,   96,  166,  394,   57,  267,\n",
              "         64,  115,  373,  340,  194,  112,  119,  150,  199,  248,  348,\n",
              "        286,  192,  158,  311,   84,  297,  367,  157,  127,  130,  134,\n",
              "        208,  131,  242,  468,   79,  121,  136,  481,  160,  105,  211,\n",
              "        177,   86,  321,  423,   59,  218,  283,  140,  160,   99,  121,\n",
              "        134,  191,  126,  361,  118,   94,  115,  100,  266,  361,  163,\n",
              "        104,  113,  150,  257,  243,  363,  457,  200,  461,  130,  322,\n",
              "        334, 1290,  544,  324,  615,  610,  866, 1646,  440,  416,  420,\n",
              "        304,  759,  568,  410,  184,  670,  291,  987,  323,  151,  154,\n",
              "        203,  357,  279,  228,  341,  335, 1012,   79,  389,  212,  539,\n",
              "        357,  161,  179,  443,  320,  151,   69,  477,  192,  801,  277,\n",
              "        467,  349,  446,  557,  192,  213,  187,  172,  220,  171,  399,\n",
              "        868,  838,  292,  631,  410,  553,  215,  203,  325,  718,  229,\n",
              "        560,  345])"
            ]
          },
          "metadata": {
            "tags": []
          },
          "execution_count": 61
        }
      ]
    }
  ]
}