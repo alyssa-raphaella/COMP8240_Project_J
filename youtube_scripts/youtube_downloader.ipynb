{
  "nbformat": 4,
  "nbformat_minor": 0,
  "metadata": {
    "colab": {
      "name": "youtube_downloader.ipynb",
      "provenance": [],
      "collapsed_sections": []
    },
    "kernelspec": {
      "name": "python3",
      "display_name": "Python 3"
    }
  },
  "cells": [
    {
      "cell_type": "markdown",
      "metadata": {
        "id": "318vjc4HkLVs"
      },
      "source": [
        "code source: https://stackoverflow.com/questions/27473526/download-only-audio-from-youtube-video-using-youtube-dl-in-python-script"
      ]
    },
    {
      "cell_type": "code",
      "metadata": {
        "id": "IXsZSoy7jzRi",
        "outputId": "d212be32-0992-46e9-84ef-2f2d843b90c2",
        "colab": {
          "base_uri": "https://localhost:8080/",
          "height": 34
        }
      },
      "source": [
        "!pip install -q youtube_dl\n",
        "\n",
        "from __future__ import unicode_literals\n",
        "import youtube_dl"
      ],
      "execution_count": 4,
      "outputs": [
        {
          "output_type": "stream",
          "text": [
            "\u001b[K     |████████████████████████████████| 1.8MB 2.8MB/s \n",
            "\u001b[?25h"
          ],
          "name": "stdout"
        }
      ]
    },
    {
      "cell_type": "markdown",
      "metadata": {
        "id": "nZGOfw80kRcr"
      },
      "source": [
        "Video 1:\n",
        " * Title : the Ups, Downs & In-betweens | Since Then Ep. 2\n",
        " * Owner: Hannah Kathleen\n",
        " * URL: https://www.youtube.com/watch?v=wslrgl_Wsk0&t=27s\n",
        "\n",
        "Video 2:\n",
        " * Title: Enola Holmes | Official Trailer | Netflix\n",
        " * Owner: Netflix\n",
        " * URL: https://www.youtube.com/watch?v=1d0Zf9sXlHk&t=3s\n",
        "\n",
        "Video 3:\n",
        " * Title : Puppyhood\n",
        " * Owner : BuzzFeedVideo\n",
        " * URL : https://www.youtube.com/watch?v=L3MtFGWRXAA&t=86s"
      ]
    },
    {
      "cell_type": "code",
      "metadata": {
        "id": "pzCi-EPDiQsC",
        "outputId": "7da37510-aeb1-4efe-f56c-55817544b158",
        "colab": {
          "base_uri": "https://localhost:8080/",
          "height": 193
        }
      },
      "source": [
        "ydl_opts = {\n",
        "    'format': 'bestaudio/best',\n",
        "    'postprocessors': [{\n",
        "        'key': 'FFmpegExtractAudio',\n",
        "        'preferredcodec': 'mp3',\n",
        "        'preferredquality': '192',\n",
        "    }],\n",
        "}\n",
        "\n",
        "videos = [\"https://www.youtube.com/watch?v=wslrgl_Wsk0&t=27s\", \n",
        "          \"https://www.youtube.com/watch?v=1d0Zf9sXlHk&t=3s\", \n",
        "          \"https://www.youtube.com/watch?v=L3MtFGWRXAA&t=86\"]\n",
        "\n",
        "with youtube_dl.YoutubeDL(ydl_opts) as ydl:\n",
        "  for vid in videos:\n",
        "    ydl.download([vid])"
      ],
      "execution_count": 6,
      "outputs": [
        {
          "output_type": "stream",
          "text": [
            "[youtube] wslrgl_Wsk0: Downloading webpage\n",
            "[download] Destination: the Ups, Downs & In-betweens _ Since Then Ep. 2-wslrgl_Wsk0.webm\n",
            "[download] 100% of 8.49MiB in 00:00\n",
            "[ffmpeg] Destination: the Ups, Downs & In-betweens _ Since Then Ep. 2-wslrgl_Wsk0.mp3\n",
            "Deleting original file the Ups, Downs & In-betweens _ Since Then Ep. 2-wslrgl_Wsk0.webm (pass -k to keep)\n",
            "[youtube] 1d0Zf9sXlHk: Downloading webpage\n",
            "[download] Destination: Enola Holmes _ Official Trailer _ Netflix-1d0Zf9sXlHk.webm\n",
            "[download] 100% of 2.24MiB in 00:00\n",
            "[ffmpeg] Destination: Enola Holmes _ Official Trailer _ Netflix-1d0Zf9sXlHk.mp3\n",
            "Deleting original file Enola Holmes _ Official Trailer _ Netflix-1d0Zf9sXlHk.webm (pass -k to keep)\n"
          ],
          "name": "stdout"
        }
      ]
    }
  ]
}